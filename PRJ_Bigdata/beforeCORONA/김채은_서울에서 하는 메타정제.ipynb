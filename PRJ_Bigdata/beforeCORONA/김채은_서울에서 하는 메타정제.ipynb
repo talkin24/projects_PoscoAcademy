{
 "cells": [
  {
   "cell_type": "code",
   "execution_count": 1,
   "metadata": {},
   "outputs": [],
   "source": [
    "import pandas as pd"
   ]
  },
  {
   "cell_type": "code",
   "execution_count": 3,
   "metadata": {},
   "outputs": [],
   "source": [
    "df_meta_last = pd.read_csv(\"./raw/movie_meta_last.csv\", engine= \"python\")"
   ]
  },
  {
   "cell_type": "markdown",
   "metadata": {},
   "source": [
    "최초 행개수 5552개"
   ]
  },
  {
   "cell_type": "code",
   "execution_count": 4,
   "metadata": {},
   "outputs": [
    {
     "data": {
      "text/html": [
       "<div>\n",
       "<style scoped>\n",
       "    .dataframe tbody tr th:only-of-type {\n",
       "        vertical-align: middle;\n",
       "    }\n",
       "\n",
       "    .dataframe tbody tr th {\n",
       "        vertical-align: top;\n",
       "    }\n",
       "\n",
       "    .dataframe thead th {\n",
       "        text-align: right;\n",
       "    }\n",
       "</style>\n",
       "<table border=\"1\" class=\"dataframe\">\n",
       "  <thead>\n",
       "    <tr style=\"text-align: right;\">\n",
       "      <th></th>\n",
       "      <th>movie_id</th>\n",
       "      <th>title</th>\n",
       "      <th>release_year</th>\n",
       "      <th>release_date</th>\n",
       "      <th>runtime</th>\n",
       "      <th>mpa_rating</th>\n",
       "      <th>mpa_rating_origin</th>\n",
       "      <th>imdb_score</th>\n",
       "      <th>votes</th>\n",
       "      <th>budget</th>\n",
       "      <th>...</th>\n",
       "      <th>contract_price</th>\n",
       "      <th>studio_score</th>\n",
       "      <th>price_class</th>\n",
       "      <th>language</th>\n",
       "      <th>awards</th>\n",
       "      <th>poster</th>\n",
       "      <th>metascore</th>\n",
       "      <th>release_dvd</th>\n",
       "      <th>reviews_users</th>\n",
       "      <th>reviews_critics</th>\n",
       "    </tr>\n",
       "  </thead>\n",
       "  <tbody>\n",
       "    <tr>\n",
       "      <th>0</th>\n",
       "      <td>tt4154796</td>\n",
       "      <td>Avengers: Endgame</td>\n",
       "      <td>2019</td>\n",
       "      <td>26 Apr 2019</td>\n",
       "      <td>181.0</td>\n",
       "      <td>PG-13</td>\n",
       "      <td>.</td>\n",
       "      <td>8.5</td>\n",
       "      <td>661,719</td>\n",
       "      <td>400000000</td>\n",
       "      <td>...</td>\n",
       "      <td>.</td>\n",
       "      <td>.</td>\n",
       "      <td>.</td>\n",
       "      <td>english</td>\n",
       "      <td>Nominated for 1 Oscar. Another 46 wins &amp; 97 no...</td>\n",
       "      <td>https://m.media-amazon.com/images/M/MV5BMTc5MD...</td>\n",
       "      <td>78.0</td>\n",
       "      <td>30 Jul 2019</td>\n",
       "      <td>8538</td>\n",
       "      <td>543</td>\n",
       "    </tr>\n",
       "    <tr>\n",
       "      <th>1</th>\n",
       "      <td>tt1298650</td>\n",
       "      <td>Pirates of the Caribbean: On Stranger Tides</td>\n",
       "      <td>2011</td>\n",
       "      <td>20 May 2011</td>\n",
       "      <td>136.0</td>\n",
       "      <td>PG-13</td>\n",
       "      <td>.</td>\n",
       "      <td>6.6</td>\n",
       "      <td>460,865</td>\n",
       "      <td>379000000</td>\n",
       "      <td>...</td>\n",
       "      <td>.</td>\n",
       "      <td>.</td>\n",
       "      <td>.</td>\n",
       "      <td>english</td>\n",
       "      <td>3 wins &amp; 31 nominations.</td>\n",
       "      <td>https://m.media-amazon.com/images/M/MV5BMjE5Mj...</td>\n",
       "      <td>45.0</td>\n",
       "      <td>18 Oct 2011</td>\n",
       "      <td>524</td>\n",
       "      <td>465</td>\n",
       "    </tr>\n",
       "    <tr>\n",
       "      <th>2</th>\n",
       "      <td>tt2395427</td>\n",
       "      <td>Avengers: Age of Ultron</td>\n",
       "      <td>2015</td>\n",
       "      <td>01 May 2015</td>\n",
       "      <td>141.0</td>\n",
       "      <td>PG-13</td>\n",
       "      <td>.</td>\n",
       "      <td>7.3</td>\n",
       "      <td>697,604</td>\n",
       "      <td>365000000</td>\n",
       "      <td>...</td>\n",
       "      <td>.</td>\n",
       "      <td>.</td>\n",
       "      <td>.</td>\n",
       "      <td>english</td>\n",
       "      <td>8 wins &amp; 47 nominations.</td>\n",
       "      <td>https://m.media-amazon.com/images/M/MV5BMTM4OG...</td>\n",
       "      <td>66.0</td>\n",
       "      <td>02 Oct 2015</td>\n",
       "      <td>1276</td>\n",
       "      <td>688</td>\n",
       "    </tr>\n",
       "    <tr>\n",
       "      <th>3</th>\n",
       "      <td>tt4154756</td>\n",
       "      <td>Avengers: Infinity War</td>\n",
       "      <td>2018</td>\n",
       "      <td>27 Apr 2018</td>\n",
       "      <td>156.0</td>\n",
       "      <td>PG-13</td>\n",
       "      <td>.</td>\n",
       "      <td>8.5</td>\n",
       "      <td>748,996</td>\n",
       "      <td>300000000</td>\n",
       "      <td>...</td>\n",
       "      <td>.</td>\n",
       "      <td>.</td>\n",
       "      <td>.</td>\n",
       "      <td>english</td>\n",
       "      <td>Nominated for 1 Oscar. Another 44 wins &amp; 70 no...</td>\n",
       "      <td>https://m.media-amazon.com/images/M/MV5BMjMxNj...</td>\n",
       "      <td>68.0</td>\n",
       "      <td>14 Aug 2018</td>\n",
       "      <td>4158</td>\n",
       "      <td>601</td>\n",
       "    </tr>\n",
       "    <tr>\n",
       "      <th>4</th>\n",
       "      <td>tt0449088</td>\n",
       "      <td>Pirates of the Caribbean: At World's End</td>\n",
       "      <td>2007</td>\n",
       "      <td>25 May 2007</td>\n",
       "      <td>167.0</td>\n",
       "      <td>PG-13</td>\n",
       "      <td>.</td>\n",
       "      <td>7.1</td>\n",
       "      <td>572,118</td>\n",
       "      <td>300000000</td>\n",
       "      <td>...</td>\n",
       "      <td>.</td>\n",
       "      <td>.</td>\n",
       "      <td>.</td>\n",
       "      <td>english</td>\n",
       "      <td>Nominated for 2 Oscars. Another 20 wins &amp; 44 n...</td>\n",
       "      <td>https://m.media-amazon.com/images/M/MV5BMjIyNj...</td>\n",
       "      <td>50.0</td>\n",
       "      <td>04 Dec 2007</td>\n",
       "      <td>1275</td>\n",
       "      <td>326</td>\n",
       "    </tr>\n",
       "    <tr>\n",
       "      <th>...</th>\n",
       "      <td>...</td>\n",
       "      <td>...</td>\n",
       "      <td>...</td>\n",
       "      <td>...</td>\n",
       "      <td>...</td>\n",
       "      <td>...</td>\n",
       "      <td>...</td>\n",
       "      <td>...</td>\n",
       "      <td>...</td>\n",
       "      <td>...</td>\n",
       "      <td>...</td>\n",
       "      <td>...</td>\n",
       "      <td>...</td>\n",
       "      <td>...</td>\n",
       "      <td>...</td>\n",
       "      <td>...</td>\n",
       "      <td>...</td>\n",
       "      <td>...</td>\n",
       "      <td>...</td>\n",
       "      <td>...</td>\n",
       "      <td>...</td>\n",
       "    </tr>\n",
       "    <tr>\n",
       "      <th>5547</th>\n",
       "      <td>tt5997666</td>\n",
       "      <td>Jab Harry Met Sejal</td>\n",
       "      <td>2017</td>\n",
       "      <td>04 Aug 2017</td>\n",
       "      <td>144.0</td>\n",
       "      <td>Not Rated</td>\n",
       "      <td>.</td>\n",
       "      <td>5.3</td>\n",
       "      <td>17,380</td>\n",
       "      <td>.</td>\n",
       "      <td>...</td>\n",
       "      <td>.</td>\n",
       "      <td>.</td>\n",
       "      <td>.</td>\n",
       "      <td>hindi</td>\n",
       "      <td>6 wins &amp; 8 nominations.</td>\n",
       "      <td>https://m.media-amazon.com/images/M/MV5BMjIzMD...</td>\n",
       "      <td>NaN</td>\n",
       "      <td>NaN</td>\n",
       "      <td>219</td>\n",
       "      <td>30</td>\n",
       "    </tr>\n",
       "    <tr>\n",
       "      <th>5548</th>\n",
       "      <td>tt5970844</td>\n",
       "      <td>Thugs of Hindostan</td>\n",
       "      <td>2018</td>\n",
       "      <td>08 Nov 2018</td>\n",
       "      <td>164.0</td>\n",
       "      <td>Not Rated</td>\n",
       "      <td>.</td>\n",
       "      <td>4.0</td>\n",
       "      <td>16,245</td>\n",
       "      <td>.</td>\n",
       "      <td>...</td>\n",
       "      <td>.</td>\n",
       "      <td>.</td>\n",
       "      <td>.</td>\n",
       "      <td>hindi</td>\n",
       "      <td>1 win.</td>\n",
       "      <td>https://m.media-amazon.com/images/M/MV5BMTA3OD...</td>\n",
       "      <td>NaN</td>\n",
       "      <td>NaN</td>\n",
       "      <td>920</td>\n",
       "      <td>29</td>\n",
       "    </tr>\n",
       "    <tr>\n",
       "      <th>5549</th>\n",
       "      <td>tt5956100</td>\n",
       "      <td>Tiger Zinda Hai</td>\n",
       "      <td>2017</td>\n",
       "      <td>22 Dec 2017</td>\n",
       "      <td>145.0</td>\n",
       "      <td>Not Rated</td>\n",
       "      <td>.</td>\n",
       "      <td>6.0</td>\n",
       "      <td>20,109</td>\n",
       "      <td>.</td>\n",
       "      <td>...</td>\n",
       "      <td>.</td>\n",
       "      <td>.</td>\n",
       "      <td>.</td>\n",
       "      <td>hindi</td>\n",
       "      <td>4 wins &amp; 3 nominations.</td>\n",
       "      <td>https://m.media-amazon.com/images/M/MV5BYzM0ZT...</td>\n",
       "      <td>NaN</td>\n",
       "      <td>NaN</td>\n",
       "      <td>165</td>\n",
       "      <td>32</td>\n",
       "    </tr>\n",
       "    <tr>\n",
       "      <th>5550</th>\n",
       "      <td>tt5882970</td>\n",
       "      <td>Tubelight</td>\n",
       "      <td>2017</td>\n",
       "      <td>23 Jun 2017</td>\n",
       "      <td>170.0</td>\n",
       "      <td>Not Rated</td>\n",
       "      <td>.</td>\n",
       "      <td>4.0</td>\n",
       "      <td>13,008</td>\n",
       "      <td>.</td>\n",
       "      <td>...</td>\n",
       "      <td>.</td>\n",
       "      <td>.</td>\n",
       "      <td>.</td>\n",
       "      <td>hindi</td>\n",
       "      <td>1 win &amp; 3 nominations.</td>\n",
       "      <td>https://m.media-amazon.com/images/M/MV5BMjExNj...</td>\n",
       "      <td>NaN</td>\n",
       "      <td>NaN</td>\n",
       "      <td>123</td>\n",
       "      <td>28</td>\n",
       "    </tr>\n",
       "    <tr>\n",
       "      <th>5551</th>\n",
       "      <td>tt3405236</td>\n",
       "      <td>Raees</td>\n",
       "      <td>2017</td>\n",
       "      <td>25 Jan 2017</td>\n",
       "      <td>143 min</td>\n",
       "      <td>Not Rated</td>\n",
       "      <td>.</td>\n",
       "      <td>6.8</td>\n",
       "      <td>37,898</td>\n",
       "      <td>.</td>\n",
       "      <td>...</td>\n",
       "      <td>.</td>\n",
       "      <td>.</td>\n",
       "      <td>.</td>\n",
       "      <td>Hindi</td>\n",
       "      <td>3 wins &amp; 15 nominations.</td>\n",
       "      <td>https://m.media-amazon.com/images/M/MV5BMTc2NT...</td>\n",
       "      <td>NaN</td>\n",
       "      <td>NaN</td>\n",
       "      <td>194</td>\n",
       "      <td>43</td>\n",
       "    </tr>\n",
       "  </tbody>\n",
       "</table>\n",
       "<p>5552 rows × 45 columns</p>\n",
       "</div>"
      ],
      "text/plain": [
       "       movie_id                                        title release_year  \\\n",
       "0     tt4154796                            Avengers: Endgame         2019   \n",
       "1     tt1298650  Pirates of the Caribbean: On Stranger Tides         2011   \n",
       "2     tt2395427                      Avengers: Age of Ultron         2015   \n",
       "3     tt4154756                       Avengers: Infinity War         2018   \n",
       "4     tt0449088     Pirates of the Caribbean: At World's End         2007   \n",
       "...         ...                                          ...          ...   \n",
       "5547  tt5997666                          Jab Harry Met Sejal         2017   \n",
       "5548  tt5970844                           Thugs of Hindostan         2018   \n",
       "5549  tt5956100                              Tiger Zinda Hai         2017   \n",
       "5550  tt5882970                                    Tubelight         2017   \n",
       "5551  tt3405236                                        Raees         2017   \n",
       "\n",
       "     release_date  runtime mpa_rating mpa_rating_origin  imdb_score    votes  \\\n",
       "0     26 Apr 2019    181.0      PG-13                 .         8.5  661,719   \n",
       "1     20 May 2011    136.0      PG-13                 .         6.6  460,865   \n",
       "2     01 May 2015    141.0      PG-13                 .         7.3  697,604   \n",
       "3     27 Apr 2018    156.0      PG-13                 .         8.5  748,996   \n",
       "4     25 May 2007    167.0      PG-13                 .         7.1  572,118   \n",
       "...           ...      ...        ...               ...         ...      ...   \n",
       "5547  04 Aug 2017    144.0  Not Rated                 .         5.3   17,380   \n",
       "5548  08 Nov 2018    164.0  Not Rated                 .         4.0   16,245   \n",
       "5549  22 Dec 2017    145.0  Not Rated                 .         6.0   20,109   \n",
       "5550  23 Jun 2017    170.0  Not Rated                 .         4.0   13,008   \n",
       "5551  25 Jan 2017  143 min  Not Rated                 .         6.8   37,898   \n",
       "\n",
       "         budget  ... contract_price studio_score price_class language  \\\n",
       "0     400000000  ...              .            .           .  english   \n",
       "1     379000000  ...              .            .           .  english   \n",
       "2     365000000  ...              .            .           .  english   \n",
       "3     300000000  ...              .            .           .  english   \n",
       "4     300000000  ...              .            .           .  english   \n",
       "...         ...  ...            ...          ...         ...      ...   \n",
       "5547          .  ...              .            .           .    hindi   \n",
       "5548          .  ...              .            .           .    hindi   \n",
       "5549          .  ...              .            .           .    hindi   \n",
       "5550          .  ...              .            .           .    hindi   \n",
       "5551          .  ...              .            .           .    Hindi   \n",
       "\n",
       "                                                 awards  \\\n",
       "0     Nominated for 1 Oscar. Another 46 wins & 97 no...   \n",
       "1                              3 wins & 31 nominations.   \n",
       "2                              8 wins & 47 nominations.   \n",
       "3     Nominated for 1 Oscar. Another 44 wins & 70 no...   \n",
       "4     Nominated for 2 Oscars. Another 20 wins & 44 n...   \n",
       "...                                                 ...   \n",
       "5547                            6 wins & 8 nominations.   \n",
       "5548                                             1 win.   \n",
       "5549                            4 wins & 3 nominations.   \n",
       "5550                             1 win & 3 nominations.   \n",
       "5551                           3 wins & 15 nominations.   \n",
       "\n",
       "                                                 poster metascore  \\\n",
       "0     https://m.media-amazon.com/images/M/MV5BMTc5MD...      78.0   \n",
       "1     https://m.media-amazon.com/images/M/MV5BMjE5Mj...      45.0   \n",
       "2     https://m.media-amazon.com/images/M/MV5BMTM4OG...      66.0   \n",
       "3     https://m.media-amazon.com/images/M/MV5BMjMxNj...      68.0   \n",
       "4     https://m.media-amazon.com/images/M/MV5BMjIyNj...      50.0   \n",
       "...                                                 ...       ...   \n",
       "5547  https://m.media-amazon.com/images/M/MV5BMjIzMD...       NaN   \n",
       "5548  https://m.media-amazon.com/images/M/MV5BMTA3OD...       NaN   \n",
       "5549  https://m.media-amazon.com/images/M/MV5BYzM0ZT...       NaN   \n",
       "5550  https://m.media-amazon.com/images/M/MV5BMjExNj...       NaN   \n",
       "5551  https://m.media-amazon.com/images/M/MV5BMTc2NT...       NaN   \n",
       "\n",
       "      release_dvd reviews_users reviews_critics  \n",
       "0     30 Jul 2019          8538             543  \n",
       "1     18 Oct 2011           524             465  \n",
       "2     02 Oct 2015          1276             688  \n",
       "3     14 Aug 2018          4158             601  \n",
       "4     04 Dec 2007          1275             326  \n",
       "...           ...           ...             ...  \n",
       "5547          NaN           219              30  \n",
       "5548          NaN           920              29  \n",
       "5549          NaN           165              32  \n",
       "5550          NaN           123              28  \n",
       "5551          NaN           194              43  \n",
       "\n",
       "[5552 rows x 45 columns]"
      ]
     },
     "execution_count": 4,
     "metadata": {},
     "output_type": "execute_result"
    }
   ],
   "source": [
    "df_meta_last"
   ]
  },
  {
   "cell_type": "markdown",
   "metadata": {},
   "source": [
    "duplicate 데이터 없음! 와우"
   ]
  },
  {
   "cell_type": "code",
   "execution_count": 5,
   "metadata": {
    "scrolled": true
   },
   "outputs": [
    {
     "data": {
      "text/html": [
       "<div>\n",
       "<style scoped>\n",
       "    .dataframe tbody tr th:only-of-type {\n",
       "        vertical-align: middle;\n",
       "    }\n",
       "\n",
       "    .dataframe tbody tr th {\n",
       "        vertical-align: top;\n",
       "    }\n",
       "\n",
       "    .dataframe thead th {\n",
       "        text-align: right;\n",
       "    }\n",
       "</style>\n",
       "<table border=\"1\" class=\"dataframe\">\n",
       "  <thead>\n",
       "    <tr style=\"text-align: right;\">\n",
       "      <th></th>\n",
       "      <th>movie_id</th>\n",
       "      <th>title</th>\n",
       "      <th>release_year</th>\n",
       "      <th>release_date</th>\n",
       "      <th>runtime</th>\n",
       "      <th>mpa_rating</th>\n",
       "      <th>mpa_rating_origin</th>\n",
       "      <th>imdb_score</th>\n",
       "      <th>votes</th>\n",
       "      <th>budget</th>\n",
       "      <th>...</th>\n",
       "      <th>contract_price</th>\n",
       "      <th>studio_score</th>\n",
       "      <th>price_class</th>\n",
       "      <th>language</th>\n",
       "      <th>awards</th>\n",
       "      <th>poster</th>\n",
       "      <th>metascore</th>\n",
       "      <th>release_dvd</th>\n",
       "      <th>reviews_users</th>\n",
       "      <th>reviews_critics</th>\n",
       "    </tr>\n",
       "  </thead>\n",
       "  <tbody>\n",
       "  </tbody>\n",
       "</table>\n",
       "<p>0 rows × 45 columns</p>\n",
       "</div>"
      ],
      "text/plain": [
       "Empty DataFrame\n",
       "Columns: [movie_id, title, release_year, release_date, runtime, mpa_rating, mpa_rating_origin, imdb_score, votes, budget, income_usa, income_int, income_ww, dvd_sales, blu_sales, total_sales, income_opening, legs, share, inf_income_usa, theater_opening, theater_total, series, genre, kwrds, src, prd_mthd, creative_type, prd_company, country, director, actor, writer, description, synop, contract_price, studio_score, price_class, language, awards, poster, metascore, release_dvd, reviews_users, reviews_critics]\n",
       "Index: []\n",
       "\n",
       "[0 rows x 45 columns]"
      ]
     },
     "execution_count": 5,
     "metadata": {},
     "output_type": "execute_result"
    }
   ],
   "source": [
    "df_meta_last[df_meta_last.duplicated()]"
   ]
  },
  {
   "cell_type": "markdown",
   "metadata": {},
   "source": [
    "duplicate movie_id 없음!! 박수"
   ]
  },
  {
   "cell_type": "code",
   "execution_count": 49,
   "metadata": {},
   "outputs": [
    {
     "data": {
      "text/plain": [
       "tt0083630    1\n",
       "tt0443272    1\n",
       "tt1274586    1\n",
       "tt0316654    1\n",
       "tt2739338    1\n",
       "            ..\n",
       "tt1767382    1\n",
       "tt0452608    1\n",
       "tt0052618    1\n",
       "tt0074812    1\n",
       "tt1092634    1\n",
       "Name: movie_id, Length: 5552, dtype: int64"
      ]
     },
     "execution_count": 49,
     "metadata": {},
     "output_type": "execute_result"
    }
   ],
   "source": [
    "df_meta_last[\"movie_id\"].value_counts()"
   ]
  },
  {
   "cell_type": "code",
   "execution_count": 11,
   "metadata": {},
   "outputs": [
    {
     "data": {
      "text/plain": [
       "5552"
      ]
     },
     "execution_count": 11,
     "metadata": {},
     "output_type": "execute_result"
    }
   ],
   "source": [
    "a = df_meta_last['movie_id'].unique().tolist()\n",
    "len(a)"
   ]
  },
  {
   "cell_type": "code",
   "execution_count": 50,
   "metadata": {},
   "outputs": [
    {
     "data": {
      "text/plain": [
       "Index(['movie_id', 'title', 'release_year', 'release_date', 'runtime',\n",
       "       'mpa_rating', 'mpa_rating_origin', 'imdb_score', 'votes', 'budget',\n",
       "       'income_usa', 'income_int', 'income_ww', 'dvd_sales', 'blu_sales',\n",
       "       'total_sales', 'income_opening', 'legs', 'share', 'inf_income_usa',\n",
       "       'theater_opening', 'theater_total', 'series', 'genre', 'kwrds', 'src',\n",
       "       'prd_mthd', 'creative_type', 'prd_company', 'country', 'director',\n",
       "       'actor', 'writer', 'description', 'synop', 'contract_price',\n",
       "       'studio_score', 'price_class', 'language', 'awards', 'poster',\n",
       "       'metascore', 'release_dvd', 'reviews_users', 'reviews_critics'],\n",
       "      dtype='object')"
      ]
     },
     "execution_count": 50,
     "metadata": {},
     "output_type": "execute_result"
    }
   ],
   "source": [
    "df_meta_last.columns"
   ]
  },
  {
   "cell_type": "markdown",
   "metadata": {},
   "source": [
    "### 변수별 결측치 확인"
   ]
  },
  {
   "cell_type": "code",
   "execution_count": 69,
   "metadata": {
    "scrolled": true
   },
   "outputs": [
    {
     "name": "stdout",
     "output_type": "stream",
     "text": [
      "movie_id 결측치 개수 : 0, 0\n",
      "title 결측치 개수 : 0, 0\n",
      "release_year 결측치 개수 : 0, 0\n",
      "release_date 결측치 개수 : 67, 0\n",
      "runtime 결측치 개수 : 36, 0\n",
      "mpa_rating 결측치 개수 : 298, 0\n",
      "mpa_rating_origin 결측치 개수 : 0, 5552\n",
      "imdb_score 결측치 개수 : 125, 0\n",
      "votes 결측치 개수 : 125, 0\n",
      "budget 결측치 개수 : 0, 476\n",
      "income_usa 결측치 개수 : 0, 492\n",
      "income_int 결측치 개수 : 0, 1373\n",
      "income_ww 결측치 개수 : 0, 1208\n",
      "dvd_sales 결측치 개수 : 0, 3258\n",
      "blu_sales 결측치 개수 : 0, 3913\n",
      "total_sales 결측치 개수 : 0, 3913\n",
      "income_opening 결측치 개수 : 0, 832\n",
      "legs 결측치 개수 : 0, 715\n",
      "share 결측치 개수 : 0, 492\n",
      "inf_income_usa 결측치 개수 : 0, 675\n",
      "theater_opening 결측치 개수 : 0, 836\n",
      "theater_total 결측치 개수 : 0, 836\n",
      "series 결측치 개수 : 0, 4474\n",
      "genre 결측치 개수 : 9, 0\n",
      "kwrds 결측치 개수 : 0, 1363\n",
      "src 결측치 개수 : 0, 310\n",
      "prd_mthd 결측치 개수 : 0, 256\n",
      "creative_type 결측치 개수 : 0, 361\n",
      "prd_company 결측치 개수 : 11, 1987\n",
      "country 결측치 개수 : 8, 0\n",
      "director 결측치 개수 : 66, 0\n",
      "actor 결측치 개수 : 37, 0\n",
      "writer 결측치 개수 : 151, 0\n",
      "description 결측치 개수 : 115, 0\n",
      "synop 결측치 개수 : 0, 102\n",
      "contract_price 결측치 개수 : 0, 5552\n",
      "studio_score 결측치 개수 : 0, 5552\n",
      "price_class 결측치 개수 : 0, 5552\n",
      "language 결측치 개수 : 3, 0\n",
      "awards 결측치 개수 : 927, 0\n",
      "poster 결측치 개수 : 157, 0\n",
      "metascore 결측치 개수 : 932, 0\n",
      "release_dvd 결측치 개수 : 522, 5\n",
      "reviews_users 결측치 개수 : 227, 805\n",
      "reviews_critics 결측치 개수 : 227, 830\n"
     ]
    }
   ],
   "source": [
    "for c in df_meta_last.columns : \n",
    "    nancount = len(df_meta_last[df_meta_last[c].isna()])\n",
    "    dotcount = len(df_meta_last[df_meta_last[c]==\".\"])\n",
    "    print(\"%s 결측치 개수 : %d, %d\"%(c,nancount,dotcount))"
   ]
  },
  {
   "cell_type": "code",
   "execution_count": 73,
   "metadata": {},
   "outputs": [
    {
     "name": "stdout",
     "output_type": "stream",
     "text": [
      "539\n"
     ]
    }
   ],
   "source": [
    "nanindex = []\n",
    "for i in df_meta_last.index:\n",
    "    count = 0\n",
    "    for c in df_meta_last.columns:\n",
    "        if c not in [\"mpa_rating_origin\", \"contract_price\", \"studio_score\", \"price_class\"]:\n",
    "            if df_meta_last[c][i]==\".\" :\n",
    "                count+=1\n",
    "            try :\n",
    "                if math.isnan(df_meta_last[c][i]) :\n",
    "                    count+=1\n",
    "            except : pass\n",
    "    if count>=13 : nanindex.append(i)\n",
    "print(len(nanindex))"
   ]
  },
  {
   "cell_type": "code",
   "execution_count": 77,
   "metadata": {
    "scrolled": true
   },
   "outputs": [
    {
     "name": "stdout",
     "output_type": "stream",
     "text": [
      "5013\n"
     ]
    }
   ],
   "source": [
    "for i in nanindex:\n",
    "    df_meta_last = df_meta_last.drop(i,0)\n",
    "print(len(df_meta_last))"
   ]
  },
  {
   "cell_type": "code",
   "execution_count": 79,
   "metadata": {},
   "outputs": [
    {
     "data": {
      "text/plain": [
       "45"
      ]
     },
     "execution_count": 79,
     "metadata": {},
     "output_type": "execute_result"
    }
   ],
   "source": [
    "len(df_meta_last.columns)"
   ]
  },
  {
   "cell_type": "code",
   "execution_count": 81,
   "metadata": {},
   "outputs": [
    {
     "data": {
      "text/plain": [
       "41"
      ]
     },
     "execution_count": 81,
     "metadata": {},
     "output_type": "execute_result"
    }
   ],
   "source": [
    "df_meta_last = df_meta_last.drop([\"mpa_rating_origin\", \"contract_price\", \"studio_score\", \"price_class\"], axis=1, inplace=False)\n",
    "len(df_meta_last.columns)"
   ]
  },
  {
   "cell_type": "markdown",
   "metadata": {},
   "source": [
    "#### 변수 결측치 다시 확인"
   ]
  },
  {
   "cell_type": "code",
   "execution_count": 82,
   "metadata": {},
   "outputs": [
    {
     "name": "stdout",
     "output_type": "stream",
     "text": [
      "movie_id 결측치 개수 : 0, 0\n",
      "title 결측치 개수 : 0, 0\n",
      "release_year 결측치 개수 : 0, 0\n",
      "release_date 결측치 개수 : 41, 0\n",
      "runtime 결측치 개수 : 11, 0\n",
      "mpa_rating 결측치 개수 : 205, 0\n",
      "imdb_score 결측치 개수 : 80, 0\n",
      "votes 결측치 개수 : 80, 0\n",
      "budget 결측치 개수 : 0, 368\n",
      "income_usa 결측치 개수 : 0, 99\n",
      "income_int 결측치 개수 : 0, 905\n",
      "income_ww 결측치 개수 : 0, 780\n",
      "dvd_sales 결측치 개수 : 0, 2722\n",
      "blu_sales 결측치 개수 : 0, 3374\n",
      "total_sales 결측치 개수 : 0, 3374\n",
      "income_opening 결측치 개수 : 0, 301\n",
      "legs 결측치 개수 : 0, 193\n",
      "share 결측치 개수 : 0, 99\n",
      "inf_income_usa 결측치 개수 : 0, 182\n",
      "theater_opening 결측치 개수 : 0, 304\n",
      "theater_total 결측치 개수 : 0, 304\n",
      "series 결측치 개수 : 0, 3950\n",
      "genre 결측치 개수 : 7, 0\n",
      "kwrds 결측치 개수 : 0, 975\n",
      "src 결측치 개수 : 0, 82\n",
      "prd_mthd 결측치 개수 : 0, 35\n",
      "creative_type 결측치 개수 : 0, 97\n",
      "prd_company 결측치 개수 : 0, 1630\n",
      "country 결측치 개수 : 7, 0\n",
      "director 결측치 개수 : 58, 0\n",
      "actor 결측치 개수 : 27, 0\n",
      "writer 결측치 개수 : 128, 0\n",
      "description 결측치 개수 : 88, 0\n",
      "synop 결측치 개수 : 0, 0\n",
      "language 결측치 개수 : 2, 0\n",
      "awards 결측치 개수 : 689, 0\n",
      "poster 결측치 개수 : 117, 0\n",
      "metascore 결측치 개수 : 578, 0\n",
      "release_dvd 결측치 개수 : 358, 4\n",
      "reviews_users 결측치 개수 : 158, 571\n",
      "reviews_critics 결측치 개수 : 158, 590\n"
     ]
    }
   ],
   "source": [
    "for c in df_meta_last.columns : \n",
    "    nancount = len(df_meta_last[df_meta_last[c].isna()])\n",
    "    dotcount = len(df_meta_last[df_meta_last[c]==\".\"])\n",
    "    print(\"%s 결측치 개수 : %d, %d\"%(c,nancount,dotcount))"
   ]
  },
  {
   "cell_type": "markdown",
   "metadata": {},
   "source": [
    "### income 결측치 처리.. 시도!"
   ]
  },
  {
   "cell_type": "code",
   "execution_count": 83,
   "metadata": {},
   "outputs": [
    {
     "data": {
      "text/plain": [
       "0       858373000\n",
       "1       241063875\n",
       "2       459005868\n",
       "3       678815482\n",
       "4       309420425\n",
       "          ...    \n",
       "5546            .\n",
       "5547      1284740\n",
       "5548      1449848\n",
       "5549      5560921\n",
       "5550       930058\n",
       "Name: income_usa, Length: 5013, dtype: object"
      ]
     },
     "execution_count": 83,
     "metadata": {},
     "output_type": "execute_result"
    }
   ],
   "source": [
    "df_meta_last[\"income_usa\"]"
   ]
  },
  {
   "cell_type": "code",
   "execution_count": null,
   "metadata": {},
   "outputs": [],
   "source": []
  }
 ],
 "metadata": {
  "kernelspec": {
   "display_name": "Python 3",
   "language": "python",
   "name": "python3"
  },
  "language_info": {
   "codemirror_mode": {
    "name": "ipython",
    "version": 3
   },
   "file_extension": ".py",
   "mimetype": "text/x-python",
   "name": "python",
   "nbconvert_exporter": "python",
   "pygments_lexer": "ipython3",
   "version": "3.7.6"
  }
 },
 "nbformat": 4,
 "nbformat_minor": 2
}
