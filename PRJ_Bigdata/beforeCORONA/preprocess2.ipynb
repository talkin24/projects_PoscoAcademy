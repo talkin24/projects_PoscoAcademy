{
 "cells": [
  {
   "cell_type": "code",
   "execution_count": 1,
   "metadata": {},
   "outputs": [],
   "source": [
    "import pandas as pd\n",
    "import numpy as np\n",
    "from bs4 import BeautifulSoup\n",
    "import requests\n",
    "import re"
   ]
  },
  {
   "cell_type": "code",
   "execution_count": 2,
   "metadata": {
    "scrolled": true
   },
   "outputs": [
    {
     "data": {
      "text/html": [
       "<div>\n",
       "<style scoped>\n",
       "    .dataframe tbody tr th:only-of-type {\n",
       "        vertical-align: middle;\n",
       "    }\n",
       "\n",
       "    .dataframe tbody tr th {\n",
       "        vertical-align: top;\n",
       "    }\n",
       "\n",
       "    .dataframe thead th {\n",
       "        text-align: right;\n",
       "    }\n",
       "</style>\n",
       "<table border=\"1\" class=\"dataframe\">\n",
       "  <thead>\n",
       "    <tr style=\"text-align: right;\">\n",
       "      <th></th>\n",
       "      <th>index</th>\n",
       "      <th>movie_id</th>\n",
       "      <th>title</th>\n",
       "      <th>release_year</th>\n",
       "      <th>runtime</th>\n",
       "      <th>mpa_rating</th>\n",
       "      <th>mpa_rating_origin</th>\n",
       "      <th>imdb_score</th>\n",
       "      <th>dvd_sales</th>\n",
       "      <th>blu_sales</th>\n",
       "      <th>...</th>\n",
       "      <th>kwrds</th>\n",
       "      <th>actor_1</th>\n",
       "      <th>actor_2</th>\n",
       "      <th>actor_3</th>\n",
       "      <th>actor_4</th>\n",
       "      <th>income_opening</th>\n",
       "      <th>votes</th>\n",
       "      <th>income_usa</th>\n",
       "      <th>income_int</th>\n",
       "      <th>income_ww</th>\n",
       "    </tr>\n",
       "  </thead>\n",
       "  <tbody>\n",
       "    <tr>\n",
       "      <th>0</th>\n",
       "      <td>0</td>\n",
       "      <td>tt4154796</td>\n",
       "      <td>Avengers: Endgame</td>\n",
       "      <td>2019</td>\n",
       "      <td>181</td>\n",
       "      <td>PG-13</td>\n",
       "      <td>.</td>\n",
       "      <td>8.5</td>\n",
       "      <td>19581271</td>\n",
       "      <td>69437591</td>\n",
       "      <td>...</td>\n",
       "      <td>\\n      time travel\\n    \\n      superhero\\n  ...</td>\n",
       "      <td>Robert Downey Jr.</td>\n",
       "      <td>Chris Evans</td>\n",
       "      <td>Mark Ruffalo</td>\n",
       "      <td>Chris Hemsworth</td>\n",
       "      <td>357115007</td>\n",
       "      <td>661719</td>\n",
       "      <td>858373000</td>\n",
       "      <td>1939427564</td>\n",
       "      <td>2797800564</td>\n",
       "    </tr>\n",
       "    <tr>\n",
       "      <th>1</th>\n",
       "      <td>1</td>\n",
       "      <td>tt1298650</td>\n",
       "      <td>Pirates of the Caribbean: On Stranger Tides</td>\n",
       "      <td>2011</td>\n",
       "      <td>136</td>\n",
       "      <td>PG-13</td>\n",
       "      <td>.</td>\n",
       "      <td>6.6</td>\n",
       "      <td>35478573</td>\n",
       "      <td>58936309</td>\n",
       "      <td>...</td>\n",
       "      <td>\\n      pirate\\n    \\n      captain\\n    \\n   ...</td>\n",
       "      <td>Johnny Depp</td>\n",
       "      <td>Penélope Cruz</td>\n",
       "      <td>Geoffrey Rush</td>\n",
       "      <td>Ian McShane</td>\n",
       "      <td>90151958</td>\n",
       "      <td>460865</td>\n",
       "      <td>241063875</td>\n",
       "      <td>804600000</td>\n",
       "      <td>1045663875</td>\n",
       "    </tr>\n",
       "    <tr>\n",
       "      <th>2</th>\n",
       "      <td>2</td>\n",
       "      <td>tt2395427</td>\n",
       "      <td>Avengers: Age of Ultron</td>\n",
       "      <td>2015</td>\n",
       "      <td>141</td>\n",
       "      <td>PG-13</td>\n",
       "      <td>.</td>\n",
       "      <td>7.3</td>\n",
       "      <td>33569045</td>\n",
       "      <td>55802159</td>\n",
       "      <td>...</td>\n",
       "      <td>\\n      superhero\\n    \\n      marvel cinemati...</td>\n",
       "      <td>Robert Downey Jr.</td>\n",
       "      <td>Chris Hemsworth</td>\n",
       "      <td>Mark Ruffalo</td>\n",
       "      <td>Chris Evans</td>\n",
       "      <td>191271109</td>\n",
       "      <td>697604</td>\n",
       "      <td>459005868</td>\n",
       "      <td>944008095</td>\n",
       "      <td>1403013963</td>\n",
       "    </tr>\n",
       "    <tr>\n",
       "      <th>3</th>\n",
       "      <td>3</td>\n",
       "      <td>tt4154756</td>\n",
       "      <td>Avengers: Infinity War</td>\n",
       "      <td>2018</td>\n",
       "      <td>156</td>\n",
       "      <td>PG-13</td>\n",
       "      <td>.</td>\n",
       "      <td>8.5</td>\n",
       "      <td>23700665</td>\n",
       "      <td>77736363</td>\n",
       "      <td>...</td>\n",
       "      <td>\\n      death of recurring character\\n    \\n  ...</td>\n",
       "      <td>Robert Downey Jr.</td>\n",
       "      <td>Chris Hemsworth</td>\n",
       "      <td>Mark Ruffalo</td>\n",
       "      <td>Chris Evans</td>\n",
       "      <td>257698183</td>\n",
       "      <td>748996</td>\n",
       "      <td>678815482</td>\n",
       "      <td>1369544272</td>\n",
       "      <td>2048359754</td>\n",
       "    </tr>\n",
       "    <tr>\n",
       "      <th>4</th>\n",
       "      <td>4</td>\n",
       "      <td>tt0449088</td>\n",
       "      <td>Pirates of the Caribbean: At World's End</td>\n",
       "      <td>2007</td>\n",
       "      <td>167</td>\n",
       "      <td>PG-13</td>\n",
       "      <td>.</td>\n",
       "      <td>7.1</td>\n",
       "      <td>314040375</td>\n",
       "      <td>7640482</td>\n",
       "      <td>...</td>\n",
       "      <td>\\n      mass hanging\\n    \\n      pirate\\n    ...</td>\n",
       "      <td>Johnny Depp</td>\n",
       "      <td>Geoffrey Rush</td>\n",
       "      <td>Orlando Bloom</td>\n",
       "      <td>Keira Knightley</td>\n",
       "      <td>114732820</td>\n",
       "      <td>572118</td>\n",
       "      <td>309420425</td>\n",
       "      <td>654000000</td>\n",
       "      <td>963420425</td>\n",
       "    </tr>\n",
       "  </tbody>\n",
       "</table>\n",
       "<p>5 rows × 54 columns</p>\n",
       "</div>"
      ],
      "text/plain": [
       "   index   movie_id                                        title  \\\n",
       "0      0  tt4154796                            Avengers: Endgame   \n",
       "1      1  tt1298650  Pirates of the Caribbean: On Stranger Tides   \n",
       "2      2  tt2395427                      Avengers: Age of Ultron   \n",
       "3      3  tt4154756                       Avengers: Infinity War   \n",
       "4      4  tt0449088     Pirates of the Caribbean: At World's End   \n",
       "\n",
       "   release_year runtime mpa_rating mpa_rating_origin imdb_score  dvd_sales  \\\n",
       "0          2019     181      PG-13                 .        8.5   19581271   \n",
       "1          2011     136      PG-13                 .        6.6   35478573   \n",
       "2          2015     141      PG-13                 .        7.3   33569045   \n",
       "3          2018     156      PG-13                 .        8.5   23700665   \n",
       "4          2007     167      PG-13                 .        7.1  314040375   \n",
       "\n",
       "  blu_sales  ...                                              kwrds  \\\n",
       "0  69437591  ...  \\n      time travel\\n    \\n      superhero\\n  ...   \n",
       "1  58936309  ...  \\n      pirate\\n    \\n      captain\\n    \\n   ...   \n",
       "2  55802159  ...  \\n      superhero\\n    \\n      marvel cinemati...   \n",
       "3  77736363  ...  \\n      death of recurring character\\n    \\n  ...   \n",
       "4   7640482  ...  \\n      mass hanging\\n    \\n      pirate\\n    ...   \n",
       "\n",
       "             actor_1           actor_2         actor_3           actor_4  \\\n",
       "0  Robert Downey Jr.       Chris Evans    Mark Ruffalo   Chris Hemsworth   \n",
       "1        Johnny Depp     Penélope Cruz   Geoffrey Rush       Ian McShane   \n",
       "2  Robert Downey Jr.   Chris Hemsworth    Mark Ruffalo       Chris Evans   \n",
       "3  Robert Downey Jr.   Chris Hemsworth    Mark Ruffalo       Chris Evans   \n",
       "4        Johnny Depp     Geoffrey Rush   Orlando Bloom   Keira Knightley   \n",
       "\n",
       "  income_opening   votes income_usa  income_int   income_ww  \n",
       "0      357115007  661719  858373000  1939427564  2797800564  \n",
       "1       90151958  460865  241063875   804600000  1045663875  \n",
       "2      191271109  697604  459005868   944008095  1403013963  \n",
       "3      257698183  748996  678815482  1369544272  2048359754  \n",
       "4      114732820  572118  309420425   654000000   963420425  \n",
       "\n",
       "[5 rows x 54 columns]"
      ]
     },
     "execution_count": 2,
     "metadata": {},
     "output_type": "execute_result"
    }
   ],
   "source": [
    "df = pd.read_csv(\"C:/Users/cresc/PycharmProjects/POSCO-Academy-A3_/proj_bigdata/data/cleaned/movie_meta_cleaned.csv\", engine= \"python\", encoding='utf-8')\n",
    "df.head()"
   ]
  },
  {
   "cell_type": "code",
   "execution_count": 4,
   "metadata": {
    "scrolled": true
   },
   "outputs": [],
   "source": [
    "# string to numeric\n",
    "col_numeric = ['release_year','runtime','imdb_score','dvd_sales','blu_sales','total_sales',\n",
    "            'legs','share','inf_income_usa','theater_opening','theater_total',\n",
    "            'metascore','big_awards_num','awards_win_num','awards_nomin_num',\n",
    "            'reviews_users','reviews_critics','budget','series_new','income_opening',\n",
    "            'votes','income_usa','income_int','income_ww']\n",
    "for col in col_numeric:\n",
    "    df[col] = pd.to_numeric(df[col], errors='coerce')\n",
    "    df = df.replace(np.nan, '.', regex=True)"
   ]
  },
  {
   "cell_type": "code",
   "execution_count": 5,
   "metadata": {},
   "outputs": [
    {
     "data": {
      "text/plain": [
       "136.0"
      ]
     },
     "execution_count": 5,
     "metadata": {},
     "output_type": "execute_result"
    }
   ],
   "source": [
    "df['runtime'][1]"
   ]
  },
  {
   "cell_type": "code",
   "execution_count": 4,
   "metadata": {
    "scrolled": true
   },
   "outputs": [],
   "source": [
    "# 불필요한 column 제거\n",
    "df = df.drop(['index','mpa_rating_origin'],axis=1)"
   ]
  },
  {
   "cell_type": "code",
   "execution_count": 5,
   "metadata": {},
   "outputs": [],
   "source": [
    "# NAN -> '.'\n",
    "for col in df.columns:\n",
    "        df.loc[df[col].isna(), col] = '.'"
   ]
  },
  {
   "cell_type": "code",
   "execution_count": 6,
   "metadata": {
    "scrolled": true
   },
   "outputs": [],
   "source": [
    "# 불필요한 row 제거\n"
   ]
  },
  {
   "cell_type": "code",
   "execution_count": 7,
   "metadata": {
    "scrolled": true
   },
   "outputs": [],
   "source": [
    "# inflation 파생변수\n",
    "df['inf'] = '.'\n",
    "for i in df.index:\n",
    "        if (df.loc[i,'inf_income_usa'] != '.') & (df.loc[i,'income_usa'] != '.') & (df.loc[i,'income_usa'] != 0):\n",
    "            df.loc[i,'inf'] = float(df.loc[i,'inf_income_usa']) / float(df.loc[i,'income_usa'])\n",
    "        else:\n",
    "            pass"
   ]
  },
  {
   "cell_type": "code",
   "execution_count": 8,
   "metadata": {},
   "outputs": [
    {
     "data": {
      "text/plain": [
       "0             1\n",
       "1        1.1488\n",
       "2       1.08066\n",
       "3             1\n",
       "4       1.32413\n",
       "         ...   \n",
       "5530    1.01561\n",
       "5531          1\n",
       "5532    1.01283\n",
       "5533     1.0156\n",
       "5534          .\n",
       "Name: inf, Length: 5535, dtype: object"
      ]
     },
     "execution_count": 8,
     "metadata": {},
     "output_type": "execute_result"
    }
   ],
   "source": [
    "df['inf']"
   ]
  },
  {
   "cell_type": "code",
   "execution_count": 9,
   "metadata": {},
   "outputs": [],
   "source": [
    "# genre 더미변수\n",
    "# scraping 오류 제거\n",
    "df.loc[df['movie_id'] == 'tt5851562', 'genre'] = 'Sci-Fi'\n",
    "df.loc[df['movie_id'] == 'tt1781967', 'genre'] = 'Game-Show'\n",
    "df.loc[df['movie_id'] == 'tt7048386', 'genre'] = 'Crime, Drama, Horror, Mystery, Thriller'\n",
    "df.loc[df['movie_id'] == 'tt0498879', 'genre'] = 'Reality-TV'\n",
    "df.loc[df['movie_id'] == 'tt4403432', 'genre'] = 'Crime'\n",
    "df.loc[df['movie_id'] == 'tt2010510', 'genre'] = 'Reality-TV'\n",
    "df.loc[df['movie_id'] == 'tt4950016', 'genre'] = 'Comedy'\n",
    "\n"
   ]
  },
  {
   "cell_type": "code",
   "execution_count": 10,
   "metadata": {},
   "outputs": [],
   "source": [
    "# 전체 장르 목록 구하기\n",
    "genre_list = []\n",
    "for i in df.index:\n",
    "    genre = df.loc[i,'genre'].split(',')\n",
    "    for g in genre:\n",
    "        g = g.strip().lower()\n",
    "        if g not in genre_list:\n",
    "            genre_list.append(g)\n",
    "genre_list.remove('.')"
   ]
  },
  {
   "cell_type": "code",
   "execution_count": 11,
   "metadata": {},
   "outputs": [
    {
     "data": {
      "text/plain": [
       "['action',\n",
       " 'adventure',\n",
       " 'drama',\n",
       " 'sci-fi',\n",
       " 'fantasy',\n",
       " 'thriller',\n",
       " 'animation',\n",
       " 'family',\n",
       " 'musical',\n",
       " 'comedy',\n",
       " 'romance',\n",
       " 'mystery',\n",
       " 'war',\n",
       " 'western',\n",
       " 'history',\n",
       " 'sport',\n",
       " 'horror',\n",
       " 'crime',\n",
       " 'music',\n",
       " 'biography',\n",
       " 'documentary',\n",
       " 'short',\n",
       " 'game-show',\n",
       " 'adult',\n",
       " 'news',\n",
       " 'fiction',\n",
       " 'film-noir',\n",
       " 'reality-tv']"
      ]
     },
     "execution_count": 11,
     "metadata": {},
     "output_type": "execute_result"
    }
   ],
   "source": [
    "genre_list"
   ]
  },
  {
   "cell_type": "code",
   "execution_count": 12,
   "metadata": {
    "scrolled": true
   },
   "outputs": [],
   "source": [
    "# 각 장르별 더미 변수 만들기\n",
    "for i in df.index:\n",
    "    genre_0 = df.loc[i,'genre'].split(',')\n",
    "    genre_1 = []\n",
    "    for g in genre_0:\n",
    "        g = g.strip().lower()\n",
    "        genre_1.append(g)\n",
    "    for g in genre_list:\n",
    "        if g in genre_1:\n",
    "            df.loc[i,'genre_{}'.format(g)] = 1\n",
    "        else:\n",
    "            df.loc[i,'genre_{}'.format(g)] = 0"
   ]
  },
  {
   "cell_type": "code",
   "execution_count": 15,
   "metadata": {},
   "outputs": [
    {
     "data": {
      "text/plain": [
       "81"
      ]
     },
     "execution_count": 15,
     "metadata": {},
     "output_type": "execute_result"
    }
   ],
   "source": [
    "len(df.columns)"
   ]
  },
  {
   "cell_type": "code",
   "execution_count": 14,
   "metadata": {
    "scrolled": true
   },
   "outputs": [
    {
     "data": {
      "text/html": [
       "<div>\n",
       "<style scoped>\n",
       "    .dataframe tbody tr th:only-of-type {\n",
       "        vertical-align: middle;\n",
       "    }\n",
       "\n",
       "    .dataframe tbody tr th {\n",
       "        vertical-align: top;\n",
       "    }\n",
       "\n",
       "    .dataframe thead th {\n",
       "        text-align: right;\n",
       "    }\n",
       "</style>\n",
       "<table border=\"1\" class=\"dataframe\">\n",
       "  <thead>\n",
       "    <tr style=\"text-align: right;\">\n",
       "      <th></th>\n",
       "      <th>movie_id</th>\n",
       "      <th>title</th>\n",
       "      <th>release_year</th>\n",
       "      <th>runtime</th>\n",
       "      <th>mpa_rating</th>\n",
       "      <th>imdb_score</th>\n",
       "      <th>dvd_sales</th>\n",
       "      <th>blu_sales</th>\n",
       "      <th>total_sales</th>\n",
       "      <th>legs</th>\n",
       "      <th>...</th>\n",
       "      <th>genre_music</th>\n",
       "      <th>genre_biography</th>\n",
       "      <th>genre_documentary</th>\n",
       "      <th>genre_short</th>\n",
       "      <th>genre_game-show</th>\n",
       "      <th>genre_adult</th>\n",
       "      <th>genre_news</th>\n",
       "      <th>genre_fiction</th>\n",
       "      <th>genre_film-noir</th>\n",
       "      <th>genre_reality-tv</th>\n",
       "    </tr>\n",
       "  </thead>\n",
       "  <tbody>\n",
       "    <tr>\n",
       "      <th>0</th>\n",
       "      <td>tt4154796</td>\n",
       "      <td>Avengers: Endgame</td>\n",
       "      <td>2019</td>\n",
       "      <td>181</td>\n",
       "      <td>PG-13</td>\n",
       "      <td>8.5</td>\n",
       "      <td>1.95813e+07</td>\n",
       "      <td>6.94376e+07</td>\n",
       "      <td>8.90189e+07</td>\n",
       "      <td>2.40363</td>\n",
       "      <td>...</td>\n",
       "      <td>0.0</td>\n",
       "      <td>0.0</td>\n",
       "      <td>0.0</td>\n",
       "      <td>0.0</td>\n",
       "      <td>0.0</td>\n",
       "      <td>0.0</td>\n",
       "      <td>0.0</td>\n",
       "      <td>0.0</td>\n",
       "      <td>0.0</td>\n",
       "      <td>0.0</td>\n",
       "    </tr>\n",
       "    <tr>\n",
       "      <th>1</th>\n",
       "      <td>tt1298650</td>\n",
       "      <td>Pirates of the Caribbean: On Stranger Tides</td>\n",
       "      <td>2011</td>\n",
       "      <td>136</td>\n",
       "      <td>PG-13</td>\n",
       "      <td>6.6</td>\n",
       "      <td>3.54786e+07</td>\n",
       "      <td>5.89363e+07</td>\n",
       "      <td>9.44149e+07</td>\n",
       "      <td>2.67397</td>\n",
       "      <td>...</td>\n",
       "      <td>0.0</td>\n",
       "      <td>0.0</td>\n",
       "      <td>0.0</td>\n",
       "      <td>0.0</td>\n",
       "      <td>0.0</td>\n",
       "      <td>0.0</td>\n",
       "      <td>0.0</td>\n",
       "      <td>0.0</td>\n",
       "      <td>0.0</td>\n",
       "      <td>0.0</td>\n",
       "    </tr>\n",
       "    <tr>\n",
       "      <th>2</th>\n",
       "      <td>tt2395427</td>\n",
       "      <td>Avengers: Age of Ultron</td>\n",
       "      <td>2015</td>\n",
       "      <td>141</td>\n",
       "      <td>PG-13</td>\n",
       "      <td>7.3</td>\n",
       "      <td>3.3569e+07</td>\n",
       "      <td>5.58022e+07</td>\n",
       "      <td>8.93712e+07</td>\n",
       "      <td>2.39977</td>\n",
       "      <td>...</td>\n",
       "      <td>0.0</td>\n",
       "      <td>0.0</td>\n",
       "      <td>0.0</td>\n",
       "      <td>0.0</td>\n",
       "      <td>0.0</td>\n",
       "      <td>0.0</td>\n",
       "      <td>0.0</td>\n",
       "      <td>0.0</td>\n",
       "      <td>0.0</td>\n",
       "      <td>0.0</td>\n",
       "    </tr>\n",
       "    <tr>\n",
       "      <th>3</th>\n",
       "      <td>tt4154756</td>\n",
       "      <td>Avengers: Infinity War</td>\n",
       "      <td>2018</td>\n",
       "      <td>156</td>\n",
       "      <td>PG-13</td>\n",
       "      <td>8.5</td>\n",
       "      <td>2.37007e+07</td>\n",
       "      <td>7.77364e+07</td>\n",
       "      <td>1.01437e+08</td>\n",
       "      <td>2.63415</td>\n",
       "      <td>...</td>\n",
       "      <td>0.0</td>\n",
       "      <td>0.0</td>\n",
       "      <td>0.0</td>\n",
       "      <td>0.0</td>\n",
       "      <td>0.0</td>\n",
       "      <td>0.0</td>\n",
       "      <td>0.0</td>\n",
       "      <td>0.0</td>\n",
       "      <td>0.0</td>\n",
       "      <td>0.0</td>\n",
       "    </tr>\n",
       "    <tr>\n",
       "      <th>4</th>\n",
       "      <td>tt0449088</td>\n",
       "      <td>Pirates of the Caribbean: At World's End</td>\n",
       "      <td>2007</td>\n",
       "      <td>167</td>\n",
       "      <td>PG-13</td>\n",
       "      <td>7.1</td>\n",
       "      <td>3.1404e+08</td>\n",
       "      <td>7.64048e+06</td>\n",
       "      <td>3.21681e+08</td>\n",
       "      <td>2.69688</td>\n",
       "      <td>...</td>\n",
       "      <td>0.0</td>\n",
       "      <td>0.0</td>\n",
       "      <td>0.0</td>\n",
       "      <td>0.0</td>\n",
       "      <td>0.0</td>\n",
       "      <td>0.0</td>\n",
       "      <td>0.0</td>\n",
       "      <td>0.0</td>\n",
       "      <td>0.0</td>\n",
       "      <td>0.0</td>\n",
       "    </tr>\n",
       "    <tr>\n",
       "      <th>...</th>\n",
       "      <td>...</td>\n",
       "      <td>...</td>\n",
       "      <td>...</td>\n",
       "      <td>...</td>\n",
       "      <td>...</td>\n",
       "      <td>...</td>\n",
       "      <td>...</td>\n",
       "      <td>...</td>\n",
       "      <td>...</td>\n",
       "      <td>...</td>\n",
       "      <td>...</td>\n",
       "      <td>...</td>\n",
       "      <td>...</td>\n",
       "      <td>...</td>\n",
       "      <td>...</td>\n",
       "      <td>...</td>\n",
       "      <td>...</td>\n",
       "      <td>...</td>\n",
       "      <td>...</td>\n",
       "      <td>...</td>\n",
       "      <td>...</td>\n",
       "    </tr>\n",
       "    <tr>\n",
       "      <th>5526</th>\n",
       "      <td>tt7431594</td>\n",
       "      <td>Race 3</td>\n",
       "      <td>2018</td>\n",
       "      <td>160</td>\n",
       "      <td>NOT RATED</td>\n",
       "      <td>2</td>\n",
       "      <td>.</td>\n",
       "      <td>.</td>\n",
       "      <td>.</td>\n",
       "      <td>1</td>\n",
       "      <td>...</td>\n",
       "      <td>0.0</td>\n",
       "      <td>0.0</td>\n",
       "      <td>0.0</td>\n",
       "      <td>0.0</td>\n",
       "      <td>0.0</td>\n",
       "      <td>0.0</td>\n",
       "      <td>0.0</td>\n",
       "      <td>0.0</td>\n",
       "      <td>0.0</td>\n",
       "      <td>0.0</td>\n",
       "    </tr>\n",
       "    <tr>\n",
       "      <th>5527</th>\n",
       "      <td>tt6836936</td>\n",
       "      <td>Saaho</td>\n",
       "      <td>2019</td>\n",
       "      <td>180</td>\n",
       "      <td>NOT RATED</td>\n",
       "      <td>5.3</td>\n",
       "      <td>.</td>\n",
       "      <td>.</td>\n",
       "      <td>.</td>\n",
       "      <td>1.54251</td>\n",
       "      <td>...</td>\n",
       "      <td>0.0</td>\n",
       "      <td>0.0</td>\n",
       "      <td>0.0</td>\n",
       "      <td>0.0</td>\n",
       "      <td>0.0</td>\n",
       "      <td>0.0</td>\n",
       "      <td>0.0</td>\n",
       "      <td>0.0</td>\n",
       "      <td>0.0</td>\n",
       "      <td>0.0</td>\n",
       "    </tr>\n",
       "    <tr>\n",
       "      <th>5531</th>\n",
       "      <td>tt5970844</td>\n",
       "      <td>Thugs of Hindostan</td>\n",
       "      <td>2018</td>\n",
       "      <td>164</td>\n",
       "      <td>NOT RATED</td>\n",
       "      <td>4</td>\n",
       "      <td>.</td>\n",
       "      <td>.</td>\n",
       "      <td>.</td>\n",
       "      <td>1.2231</td>\n",
       "      <td>...</td>\n",
       "      <td>0.0</td>\n",
       "      <td>0.0</td>\n",
       "      <td>0.0</td>\n",
       "      <td>0.0</td>\n",
       "      <td>0.0</td>\n",
       "      <td>0.0</td>\n",
       "      <td>0.0</td>\n",
       "      <td>0.0</td>\n",
       "      <td>0.0</td>\n",
       "      <td>0.0</td>\n",
       "    </tr>\n",
       "    <tr>\n",
       "      <th>5532</th>\n",
       "      <td>tt5956100</td>\n",
       "      <td>Tiger Zinda Hai</td>\n",
       "      <td>2017</td>\n",
       "      <td>145</td>\n",
       "      <td>NOT RATED</td>\n",
       "      <td>6</td>\n",
       "      <td>.</td>\n",
       "      <td>.</td>\n",
       "      <td>.</td>\n",
       "      <td>3.11169</td>\n",
       "      <td>...</td>\n",
       "      <td>0.0</td>\n",
       "      <td>0.0</td>\n",
       "      <td>0.0</td>\n",
       "      <td>0.0</td>\n",
       "      <td>0.0</td>\n",
       "      <td>0.0</td>\n",
       "      <td>0.0</td>\n",
       "      <td>0.0</td>\n",
       "      <td>0.0</td>\n",
       "      <td>0.0</td>\n",
       "    </tr>\n",
       "    <tr>\n",
       "      <th>5534</th>\n",
       "      <td>tt3405236</td>\n",
       "      <td>Raees</td>\n",
       "      <td>2017</td>\n",
       "      <td>143</td>\n",
       "      <td>NOT RATED</td>\n",
       "      <td>6.8</td>\n",
       "      <td>.</td>\n",
       "      <td>.</td>\n",
       "      <td>.</td>\n",
       "      <td>1.81439</td>\n",
       "      <td>...</td>\n",
       "      <td>0.0</td>\n",
       "      <td>0.0</td>\n",
       "      <td>0.0</td>\n",
       "      <td>0.0</td>\n",
       "      <td>0.0</td>\n",
       "      <td>0.0</td>\n",
       "      <td>0.0</td>\n",
       "      <td>0.0</td>\n",
       "      <td>0.0</td>\n",
       "      <td>0.0</td>\n",
       "    </tr>\n",
       "  </tbody>\n",
       "</table>\n",
       "<p>1371 rows × 81 columns</p>\n",
       "</div>"
      ],
      "text/plain": [
       "       movie_id                                        title release_year  \\\n",
       "0     tt4154796                            Avengers: Endgame         2019   \n",
       "1     tt1298650  Pirates of the Caribbean: On Stranger Tides         2011   \n",
       "2     tt2395427                      Avengers: Age of Ultron         2015   \n",
       "3     tt4154756                       Avengers: Infinity War         2018   \n",
       "4     tt0449088     Pirates of the Caribbean: At World's End         2007   \n",
       "...         ...                                          ...          ...   \n",
       "5526  tt7431594                                       Race 3         2018   \n",
       "5527  tt6836936                                        Saaho         2019   \n",
       "5531  tt5970844                           Thugs of Hindostan         2018   \n",
       "5532  tt5956100                              Tiger Zinda Hai         2017   \n",
       "5534  tt3405236                                        Raees         2017   \n",
       "\n",
       "     runtime mpa_rating imdb_score    dvd_sales    blu_sales  total_sales  \\\n",
       "0        181      PG-13        8.5  1.95813e+07  6.94376e+07  8.90189e+07   \n",
       "1        136      PG-13        6.6  3.54786e+07  5.89363e+07  9.44149e+07   \n",
       "2        141      PG-13        7.3   3.3569e+07  5.58022e+07  8.93712e+07   \n",
       "3        156      PG-13        8.5  2.37007e+07  7.77364e+07  1.01437e+08   \n",
       "4        167      PG-13        7.1   3.1404e+08  7.64048e+06  3.21681e+08   \n",
       "...      ...        ...        ...          ...          ...          ...   \n",
       "5526     160  NOT RATED          2            .            .            .   \n",
       "5527     180  NOT RATED        5.3            .            .            .   \n",
       "5531     164  NOT RATED          4            .            .            .   \n",
       "5532     145  NOT RATED          6            .            .            .   \n",
       "5534     143  NOT RATED        6.8            .            .            .   \n",
       "\n",
       "         legs  ... genre_music genre_biography genre_documentary genre_short  \\\n",
       "0     2.40363  ...         0.0             0.0               0.0         0.0   \n",
       "1     2.67397  ...         0.0             0.0               0.0         0.0   \n",
       "2     2.39977  ...         0.0             0.0               0.0         0.0   \n",
       "3     2.63415  ...         0.0             0.0               0.0         0.0   \n",
       "4     2.69688  ...         0.0             0.0               0.0         0.0   \n",
       "...       ...  ...         ...             ...               ...         ...   \n",
       "5526        1  ...         0.0             0.0               0.0         0.0   \n",
       "5527  1.54251  ...         0.0             0.0               0.0         0.0   \n",
       "5531   1.2231  ...         0.0             0.0               0.0         0.0   \n",
       "5532  3.11169  ...         0.0             0.0               0.0         0.0   \n",
       "5534  1.81439  ...         0.0             0.0               0.0         0.0   \n",
       "\n",
       "     genre_game-show genre_adult genre_news genre_fiction genre_film-noir  \\\n",
       "0                0.0         0.0        0.0           0.0             0.0   \n",
       "1                0.0         0.0        0.0           0.0             0.0   \n",
       "2                0.0         0.0        0.0           0.0             0.0   \n",
       "3                0.0         0.0        0.0           0.0             0.0   \n",
       "4                0.0         0.0        0.0           0.0             0.0   \n",
       "...              ...         ...        ...           ...             ...   \n",
       "5526             0.0         0.0        0.0           0.0             0.0   \n",
       "5527             0.0         0.0        0.0           0.0             0.0   \n",
       "5531             0.0         0.0        0.0           0.0             0.0   \n",
       "5532             0.0         0.0        0.0           0.0             0.0   \n",
       "5534             0.0         0.0        0.0           0.0             0.0   \n",
       "\n",
       "     genre_reality-tv  \n",
       "0                 0.0  \n",
       "1                 0.0  \n",
       "2                 0.0  \n",
       "3                 0.0  \n",
       "4                 0.0  \n",
       "...               ...  \n",
       "5526              0.0  \n",
       "5527              0.0  \n",
       "5531              0.0  \n",
       "5532              0.0  \n",
       "5534              0.0  \n",
       "\n",
       "[1371 rows x 81 columns]"
      ]
     },
     "execution_count": 14,
     "metadata": {},
     "output_type": "execute_result"
    }
   ],
   "source": [
    "df[df['genre_action'] == 1]"
   ]
  },
  {
   "cell_type": "code",
   "execution_count": 204,
   "metadata": {
    "scrolled": true
   },
   "outputs": [
    {
     "data": {
      "text/plain": [
       "list"
      ]
     },
     "execution_count": 204,
     "metadata": {},
     "output_type": "execute_result"
    }
   ],
   "source": [
    "df['genre'][385].split(',')"
   ]
  },
  {
   "cell_type": "code",
   "execution_count": 98,
   "metadata": {
    "scrolled": true
   },
   "outputs": [
    {
     "data": {
      "text/plain": [
       "0       Action, Adventure, Drama, Sci-Fi\n",
       "1             Action, Adventure, Fantasy\n",
       "2              Action, Adventure, Sci-Fi\n",
       "3              Action, Adventure, Sci-Fi\n",
       "4             Action, Adventure, Fantasy\n",
       "                      ...               \n",
       "5530              Comedy, Drama, Romance\n",
       "5531                   Action, Adventure\n",
       "5532         Action, Adventure, Thriller\n",
       "5533                          Drama, War\n",
       "5534                Action, Crime, Drama\n",
       "Name: genre, Length: 5535, dtype: object"
      ]
     },
     "execution_count": 98,
     "metadata": {},
     "output_type": "execute_result"
    }
   ],
   "source": [
    "df['genre']"
   ]
  },
  {
   "cell_type": "code",
   "execution_count": 24,
   "metadata": {},
   "outputs": [
    {
     "data": {
      "text/plain": [
       "0           USA\n",
       "1       USA, UK\n",
       "2           USA\n",
       "3           USA\n",
       "4           USA\n",
       "         ...   \n",
       "5530      India\n",
       "5531      India\n",
       "5532      India\n",
       "5533      India\n",
       "5534      India\n",
       "Name: country, Length: 5535, dtype: object"
      ]
     },
     "execution_count": 24,
     "metadata": {},
     "output_type": "execute_result"
    }
   ],
   "source": [
    "df['country']"
   ]
  },
  {
   "cell_type": "code",
   "execution_count": 26,
   "metadata": {},
   "outputs": [],
   "source": [
    "for i in df.index:\n",
    "    country_list = df.loc[i,'country'].split(',')\n",
    "    "
   ]
  },
  {
   "cell_type": "code",
   "execution_count": 28,
   "metadata": {},
   "outputs": [
    {
     "data": {
      "text/plain": [
       "0       NaN\n",
       "1       NaN\n",
       "2       NaN\n",
       "3       NaN\n",
       "4       NaN\n",
       "       ... \n",
       "5530    NaN\n",
       "5531    NaN\n",
       "5532    NaN\n",
       "5533    NaN\n",
       "5534    NaN\n",
       "Name: country_3, Length: 5535, dtype: object"
      ]
     },
     "execution_count": 28,
     "metadata": {},
     "output_type": "execute_result"
    }
   ],
   "source": [
    "df['country_1'] = df['country'].str.split(',').str[0]\n",
    "df['country_2'] = df['country'].str.split(',').str[1]\n",
    "df['country_3'] = df['country'].str.split(',').str[2]\n",
    "df['country_1'].str.strip()\n",
    "df['country_2'].str.strip()\n",
    "df['country_3'].str.strip()"
   ]
  },
  {
   "cell_type": "code",
   "execution_count": 35,
   "metadata": {},
   "outputs": [
    {
     "data": {
      "text/plain": [
       "0         NaN\n",
       "1         NaN\n",
       "2         NaN\n",
       "3         NaN\n",
       "4         NaN\n",
       "5          UK\n",
       "6     Austria\n",
       "7         NaN\n",
       "8         NaN\n",
       "9         NaN\n",
       "Name: country_3, dtype: object"
      ]
     },
     "execution_count": 35,
     "metadata": {},
     "output_type": "execute_result"
    }
   ],
   "source": [
    "df['country_3'].head(10)"
   ]
  },
  {
   "cell_type": "code",
   "execution_count": 34,
   "metadata": {},
   "outputs": [
    {
     "data": {
      "text/plain": [
       "0                                         USA\n",
       "1                                     USA, UK\n",
       "2                                         USA\n",
       "3                                         USA\n",
       "4                                         USA\n",
       "5                             USA, Canada, UK\n",
       "6    UK, USA, Austria, Mexico, Italy, Morocco\n",
       "7                                         USA\n",
       "8                                         USA\n",
       "9                                         USA\n",
       "Name: country, dtype: object"
      ]
     },
     "execution_count": 34,
     "metadata": {},
     "output_type": "execute_result"
    }
   ],
   "source": [
    "df['country'].head(10)"
   ]
  },
  {
   "cell_type": "code",
   "execution_count": null,
   "metadata": {},
   "outputs": [],
   "source": []
  }
 ],
 "metadata": {
  "kernelspec": {
   "display_name": "Python 3",
   "language": "python",
   "name": "python3"
  },
  "language_info": {
   "codemirror_mode": {
    "name": "ipython",
    "version": 3
   },
   "file_extension": ".py",
   "mimetype": "text/x-python",
   "name": "python",
   "nbconvert_exporter": "python",
   "pygments_lexer": "ipython3",
   "version": "3.7.6"
  }
 },
 "nbformat": 4,
 "nbformat_minor": 4
}
