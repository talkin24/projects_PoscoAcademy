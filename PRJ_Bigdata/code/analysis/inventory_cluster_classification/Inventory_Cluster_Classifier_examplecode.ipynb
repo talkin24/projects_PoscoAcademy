{
 "cells": [
  {
   "cell_type": "code",
   "execution_count": 26,
   "metadata": {},
   "outputs": [],
   "source": [
    "import InventoryClusterClassifier as ICC"
   ]
  },
  {
   "cell_type": "code",
   "execution_count": 25,
   "metadata": {},
   "outputs": [
    {
     "data": {
      "text/html": [
       "<div>\n",
       "<style scoped>\n",
       "    .dataframe tbody tr th:only-of-type {\n",
       "        vertical-align: middle;\n",
       "    }\n",
       "\n",
       "    .dataframe tbody tr th {\n",
       "        vertical-align: top;\n",
       "    }\n",
       "\n",
       "    .dataframe thead th {\n",
       "        text-align: right;\n",
       "    }\n",
       "</style>\n",
       "<table border=\"1\" class=\"dataframe\">\n",
       "  <thead>\n",
       "    <tr style=\"text-align: right;\">\n",
       "      <th></th>\n",
       "      <th>down_year</th>\n",
       "      <th>weekday</th>\n",
       "      <th>down_price</th>\n",
       "      <th>gender</th>\n",
       "      <th>age</th>\n",
       "      <th>married</th>\n",
       "      <th>kids_under12</th>\n",
       "      <th>register_year</th>\n",
       "      <th>drop_flag</th>\n",
       "      <th>customer_sales</th>\n",
       "      <th>...</th>\n",
       "      <th>VA</th>\n",
       "      <th>VT</th>\n",
       "      <th>WI</th>\n",
       "      <th>WV</th>\n",
       "      <th>10s</th>\n",
       "      <th>20s</th>\n",
       "      <th>30s</th>\n",
       "      <th>40s</th>\n",
       "      <th>50s</th>\n",
       "      <th>60s+</th>\n",
       "    </tr>\n",
       "  </thead>\n",
       "  <tbody>\n",
       "    <tr>\n",
       "      <td>0</td>\n",
       "      <td>2017</td>\n",
       "      <td>5</td>\n",
       "      <td>0.9189</td>\n",
       "      <td>0</td>\n",
       "      <td>23</td>\n",
       "      <td>1</td>\n",
       "      <td>1</td>\n",
       "      <td>2017</td>\n",
       "      <td>0</td>\n",
       "      <td>11.11445</td>\n",
       "      <td>...</td>\n",
       "      <td>0</td>\n",
       "      <td>0</td>\n",
       "      <td>0</td>\n",
       "      <td>0</td>\n",
       "      <td>0</td>\n",
       "      <td>1</td>\n",
       "      <td>0</td>\n",
       "      <td>0</td>\n",
       "      <td>0</td>\n",
       "      <td>0</td>\n",
       "    </tr>\n",
       "  </tbody>\n",
       "</table>\n",
       "<p>1 rows × 54 columns</p>\n",
       "</div>"
      ],
      "text/plain": [
       "   down_year  weekday  down_price  gender  age  married  kids_under12  \\\n",
       "0       2017        5      0.9189       0   23        1             1   \n",
       "\n",
       "   register_year  drop_flag customer_sales  ... VA  VT  WI  WV  10s  20s  30s  \\\n",
       "0           2017          0       11.11445  ...  0   0   0   0    0    1    0   \n",
       "\n",
       "   40s  50s  60s+  \n",
       "0    0    0     0  \n",
       "\n",
       "[1 rows x 54 columns]"
      ]
     },
     "execution_count": 25,
     "metadata": {},
     "output_type": "execute_result"
    }
   ],
   "source": [
    "customer_data"
   ]
  },
  {
   "cell_type": "markdown",
   "metadata": {},
   "source": [
    "#### parameter\n",
    "- customer_id : 해당 고객이 이미 본 영화 정보 추출 위해 필요\n",
    "- customer_data : 1행 * 54열로 이루어진 데이터프레임 혹은 배열\n",
    "    - columns : 총 54개 변수\n",
    "       \n",
    "        'customer_id', 'gender', 'age', 'married', 'kids_under12',\n",
    "        'register_year', 'drop_flag', 'drop_year', 'last_down_date',\n",
    "        'down_flag', 'customer_sales', 'download_cnt', 'duration', 'expiration',\n",
    "        'first_down_date', 'activation_day', 'AL', 'AR', 'AZ', 'CA', 'CT', 'DC',\n",
    "         'DE', 'FL', 'GA', 'IA', 'IL', 'IN', 'KY', 'LA', 'MA', 'MD', 'ME', 'MI',\n",
    "         'MN', 'MS', 'NC', 'NH', 'NJ', 'NV', 'NY', 'OH', 'OR', 'PA', 'RI', 'SC',\n",
    "         'TN', 'TX', 'VA', 'VT', 'WI', 'WV', '10s', '20s', '30s', '40s', '50s','60s+'\n",
    "           "
   ]
  },
  {
   "cell_type": "code",
   "execution_count": 23,
   "metadata": {},
   "outputs": [],
   "source": [
    "one, two, three, four = ICC.InventoryClusterClassifier(\"C8046\", np.array(customer_data))"
   ]
  },
  {
   "cell_type": "code",
   "execution_count": 24,
   "metadata": {},
   "outputs": [
    {
     "data": {
      "text/plain": [
       "2"
      ]
     },
     "execution_count": 24,
     "metadata": {},
     "output_type": "execute_result"
    }
   ],
   "source": [
    "one # 첫번째 output : inventory 군집"
   ]
  },
  {
   "cell_type": "code",
   "execution_count": 16,
   "metadata": {},
   "outputs": [
    {
     "data": {
      "text/plain": [
       "['I-1018',\n",
       " 'I-1054',\n",
       " 'I-1080',\n",
       " 'I-1033',\n",
       " 'I-1026',\n",
       " 'I-1039',\n",
       " 'I-1078',\n",
       " 'I-1041',\n",
       " 'I-1014',\n",
       " 'I-1068',\n",
       " 'I-1069',\n",
       " 'I-1042',\n",
       " 'I-1002',\n",
       " 'I-1098',\n",
       " 'I-1096',\n",
       " 'I-1104',\n",
       " 'I-1009',\n",
       " 'I-1103',\n",
       " 'I-1023',\n",
       " 'I-1089',\n",
       " 'I-1091',\n",
       " 'I-1061',\n",
       " 'I-1011',\n",
       " 'I-1040']"
      ]
     },
     "execution_count": 16,
     "metadata": {},
     "output_type": "execute_result"
    }
   ],
   "source": [
    "two # 두번째 output : inventory 내 그 군집에 들어 있는 다른 영화들"
   ]
  },
  {
   "cell_type": "code",
   "execution_count": 17,
   "metadata": {
    "scrolled": true
   },
   "outputs": [
    {
     "data": {
      "text/plain": [
       "['tt0398286',\n",
       " 'tt1877832',\n",
       " 'tt1408101',\n",
       " 'tt1856101',\n",
       " 'tt0910970',\n",
       " 'tt2103281',\n",
       " 'tt2245084',\n",
       " 'tt0892769',\n",
       " 'tt1772341',\n",
       " 'tt0816692',\n",
       " 'tt1270798',\n",
       " 'tt0421715',\n",
       " 'tt0372784',\n",
       " 'tt0382932',\n",
       " 'tt1677720',\n",
       " 'tt1646971',\n",
       " 'tt0409459',\n",
       " 'tt0304141',\n",
       " 'tt0440963',\n",
       " 'tt0441773',\n",
       " 'tt3315342',\n",
       " 'tt0241527',\n",
       " 'tt0198781',\n",
       " 'tt0120737',\n",
       " 'tt0172495',\n",
       " 'tt0381061',\n",
       " 'tt0103064',\n",
       " 'tt0266543',\n",
       " 'tt0167260',\n",
       " 'tt0167261',\n",
       " 'tt1318514',\n",
       " 'tt0317705',\n",
       " 'tt0988045',\n",
       " 'tt0110357',\n",
       " 'tt0120815',\n",
       " 'tt0133093',\n",
       " 'tt0107290',\n",
       " 'tt1490017',\n",
       " 'tt0109830',\n",
       " 'tt0126029',\n",
       " 'tt0167404',\n",
       " 'tt0110989',\n",
       " 'tt0096895',\n",
       " 'tt0083866',\n",
       " 'tt0416449']"
      ]
     },
     "execution_count": 17,
     "metadata": {},
     "output_type": "execute_result"
    }
   ],
   "source": [
    "three # 세번째 output : meta 내 그 군집에 들어 있는 다른 영화들"
   ]
  },
  {
   "cell_type": "code",
   "execution_count": 18,
   "metadata": {},
   "outputs": [
    {
     "data": {
      "text/plain": [
       "['I-1003',\n",
       " 'I-1015',\n",
       " 'I-1019',\n",
       " 'I-1032',\n",
       " 'I-1058',\n",
       " 'I-1074',\n",
       " 'I-1038',\n",
       " 'I-1046',\n",
       " 'I-1066',\n",
       " 'I-1081',\n",
       " 'I-1093',\n",
       " 'I-1099']"
      ]
     },
     "execution_count": 18,
     "metadata": {},
     "output_type": "execute_result"
    }
   ],
   "source": [
    "four # 네번째 output : 해당 customer가 이미 본 영화의 item_id"
   ]
  }
 ],
 "metadata": {
  "kernelspec": {
   "display_name": "Python 3",
   "language": "python",
   "name": "python3"
  },
  "language_info": {
   "codemirror_mode": {
    "name": "ipython",
    "version": 3
   },
   "file_extension": ".py",
   "mimetype": "text/x-python",
   "name": "python",
   "nbconvert_exporter": "python",
   "pygments_lexer": "ipython3",
   "version": "3.7.4"
  }
 },
 "nbformat": 4,
 "nbformat_minor": 2
}
