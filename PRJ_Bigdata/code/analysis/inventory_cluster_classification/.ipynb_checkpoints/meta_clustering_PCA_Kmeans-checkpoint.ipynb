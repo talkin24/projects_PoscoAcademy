{
 "cells": [
  {
   "cell_type": "code",
   "execution_count": 14,
   "metadata": {},
   "outputs": [],
   "source": [
    "import pandas as pd\n",
    "import numpy as np\n",
    "\n",
    "import matplotlib\n",
    "import matplotlib.pyplot as plt\n",
    "\n",
    "from sklearn.preprocessing import StandardScaler\n",
    "from sklearn.model_selection import train_test_split\n",
    "\n",
    "from statsmodels.api import Logit\n",
    "from sklearn.metrics import accuracy_score\n",
    "from sklearn.metrics import confusion_matrix\n",
    "\n",
    "import seaborn as sns\n",
    "\n",
    "\n",
    "from sklearn.linear_model import LinearRegression as lm\n",
    "import statsmodels.formula.api as sm\n",
    "import statsmodels.api as sm\n",
    "\n",
    "from sklearn.preprocessing import StandardScaler\n",
    "from scipy.cluster.hierarchy import linkage, dendrogram, fcluster\n",
    "from sklearn.cluster import KMeans,DBSCAN"
   ]
  },
  {
   "cell_type": "markdown",
   "metadata": {},
   "source": [
    "# Step1. Meta 군집"
   ]
  },
  {
   "cell_type": "code",
   "execution_count": 15,
   "metadata": {},
   "outputs": [],
   "source": [
    "df_meta = pd.read_csv(\"movie_meta_cleaned_final5.csv\", engine=\"python\")"
   ]
  },
  {
   "cell_type": "markdown",
   "metadata": {},
   "source": [
    "### drop_columns : 군집 시 고려대상에서 제외할 변수들\n",
    "- key가 되는 변수들 : movie_id, title, release_date\n",
    "- dvd 관련 결측치 많은 변수들 : dvd_sales, blu_sales, total_sales, release_dvd, dvd_over_income\n",
    "- inventory 관련 변수들 : item_id, inv_exist, contract_year, movie_down_sales, contract_price_inf, net_profit\n",
    "- 이산 변수들 : mpa_rating, studio, prd_mthd\n",
    "- 기타 : leg, blu"
   ]
  },
  {
   "cell_type": "code",
   "execution_count": 16,
   "metadata": {},
   "outputs": [],
   "source": [
    "drop_columns = [\"movie_id\", \"title\", \"release_date\", \"mpa_rating\", \"dvd_sales\", \"blu_sales\", \"total_sales\", \"legs\", \"src\", \"awards\", \"poster\", \"release_dvd\",\n",
    "               \"prd_mthd\", \"item_id\", \"inv_exist\", \"contract_year\",\"dvd_over_income\", \"movie_down_sales\", \"contract_price_inf\", \"inf\", \n",
    "                \"blu\", \"net_profit\", \"studio\"]\n",
    "\n",
    "dummy_columns = [\"big_awards_num\", \"series_new\", 'genre_action', 'genre_adventure',\n",
    "       'genre_drama', 'genre_sci-fi', 'genre_fantasy', 'genre_thriller',\n",
    "       'genre_animation', 'genre_family', 'genre_musical', 'genre_comedy',\n",
    "       'genre_romance', 'genre_mystery', 'genre_war', 'genre_western',\n",
    "       'genre_history', 'genre_sport', 'genre_horror', 'genre_crime',\n",
    "       'genre_music', 'genre_biography', 'genre_documentary', 'english', \n",
    "        'dvd', 'cntry_USA', 'actor_A', 'actor_B', 'actor_C', 'director_A',\n",
    "       'director_B', 'director_C', 'APPROVED', 'G', 'NC-17', 'NOT RATED',\n",
    "       'PASSED', 'PG', 'PG-13', 'R', 'TV-14', 'TV-G', 'TV-MA', 'TV-PG',\n",
    "       'TV-Y7']"
   ]
  },
  {
   "cell_type": "code",
   "execution_count": 17,
   "metadata": {},
   "outputs": [],
   "source": [
    "df_meta_dropped = df_meta.drop(drop_columns, axis=1, inplace=False)\n",
    "df_meta_dropped = df_meta_dropped.drop(dummy_columns, axis=1, inplace=False)\n",
    "# df_meta_dropped : 분석 제외할 변수들, 더미변수 모두 제외한 df"
   ]
  },
  {
   "cell_type": "code",
   "execution_count": 18,
   "metadata": {},
   "outputs": [
    {
     "data": {
      "text/plain": [
       "array([[ 0.56747942,  1.32604824,  0.17780286, ...,  0.        ,\n",
       "         0.        ,  0.        ],\n",
       "       [ 0.8953069 ,  1.57451473,  0.8634114 , ...,  0.        ,\n",
       "         0.        ,  0.        ],\n",
       "       [ 1.1411775 ,  2.31991421,  2.03874031, ...,  0.        ,\n",
       "         0.        ,  0.        ],\n",
       "       ...,\n",
       "       [ 1.05922063,  1.77328792, -0.40986159, ...,  0.        ,\n",
       "         0.        ,  0.        ],\n",
       "       [ 1.05922063,  3.01562039, -2.36874311, ...,  0.        ,\n",
       "         0.        ,  0.        ],\n",
       "       [ 1.05922063,  1.67390133,  0.37369102, ...,  0.        ,\n",
       "         0.        ,  0.        ]])"
      ]
     },
     "execution_count": 18,
     "metadata": {},
     "output_type": "execute_result"
    }
   ],
   "source": [
    "scaler = StandardScaler()\n",
    "df_scaled = scaler.fit_transform(df_meta_dropped)\n",
    "df_scaled = pd.concat([pd.DataFrame(df_scaled),df_meta[dummy_columns]], axis=1)\n",
    "df_scaled = np.array(df_scaled)\n",
    "df_scaled # 더미 변수들 제외 scaling함"
   ]
  },
  {
   "cell_type": "code",
   "execution_count": 19,
   "metadata": {},
   "outputs": [
    {
     "data": {
      "text/plain": [
       "(4560, 71)"
      ]
     },
     "execution_count": 19,
     "metadata": {},
     "output_type": "execute_result"
    }
   ],
   "source": [
    "df_scaled.shape"
   ]
  },
  {
   "cell_type": "markdown",
   "metadata": {},
   "source": [
    "# PCA + Kmeans\n",
    "* 주성분 분석을 통해 primary 변수들을 추출한 뒤, 그 기준으로 kmeans 군집 시행\n",
    "* 고차원 데이터에서 군집을 분류해낼 수 있는 가장 기초적인 방법\n",
    "* 보수적인 군집분석에서 가장 많이 사용하는 것이 PCA/SVD + K-means\n"
   ]
  },
  {
   "cell_type": "markdown",
   "metadata": {},
   "source": [
    "## 1) PCA"
   ]
  },
  {
   "cell_type": "code",
   "execution_count": 20,
   "metadata": {},
   "outputs": [],
   "source": [
    "import pandas as pd\n",
    "import numpy as np\n",
    "import matplotlib\n",
    "import matplotlib.pyplot as plt\n",
    "import seaborn as sns\n",
    "from sklearn.preprocessing import StandardScaler\n",
    "\n",
    "# 주성분 분석\n",
    "from sklearn.decomposition import PCA\n",
    "import statsmodels.api as sm"
   ]
  },
  {
   "cell_type": "markdown",
   "metadata": {},
   "source": [
    "#### df_target : PCA 분석대상인 연속형 변수들만 남긴 데이터프레임 (df_meta_dropped)\n",
    "* 결측치 많음/문자형 등으로 분석에 미포함하는 변수들 drop\n",
    "* 더미변수 drop\n",
    "* 총 columns 개수 : 26    "
   ]
  },
  {
   "cell_type": "code",
   "execution_count": 21,
   "metadata": {},
   "outputs": [
    {
     "data": {
      "text/html": [
       "<div>\n",
       "<style scoped>\n",
       "    .dataframe tbody tr th:only-of-type {\n",
       "        vertical-align: middle;\n",
       "    }\n",
       "\n",
       "    .dataframe tbody tr th {\n",
       "        vertical-align: top;\n",
       "    }\n",
       "\n",
       "    .dataframe thead th {\n",
       "        text-align: right;\n",
       "    }\n",
       "</style>\n",
       "<table border=\"1\" class=\"dataframe\">\n",
       "  <thead>\n",
       "    <tr style=\"text-align: right;\">\n",
       "      <th></th>\n",
       "      <th>release_year</th>\n",
       "      <th>runtime</th>\n",
       "      <th>imdb_score</th>\n",
       "      <th>share</th>\n",
       "      <th>inf_income_usa</th>\n",
       "      <th>theater_opening</th>\n",
       "      <th>theater_total</th>\n",
       "      <th>metascore</th>\n",
       "      <th>awards_win_num</th>\n",
       "      <th>awards_nomin_num</th>\n",
       "      <th>...</th>\n",
       "      <th>income_int</th>\n",
       "      <th>income_ww</th>\n",
       "      <th>positive_probability</th>\n",
       "      <th>inf_income_int</th>\n",
       "      <th>inf_income_ww</th>\n",
       "      <th>inf_budget</th>\n",
       "      <th>inf_income_opening</th>\n",
       "      <th>studio_score</th>\n",
       "      <th>price_class</th>\n",
       "      <th>contract_price</th>\n",
       "    </tr>\n",
       "  </thead>\n",
       "  <tbody>\n",
       "    <tr>\n",
       "      <td>0</td>\n",
       "      <td>2011</td>\n",
       "      <td>136</td>\n",
       "      <td>6.6</td>\n",
       "      <td>23.053668</td>\n",
       "      <td>276934662.0</td>\n",
       "      <td>4155</td>\n",
       "      <td>4164</td>\n",
       "      <td>45.0</td>\n",
       "      <td>3</td>\n",
       "      <td>34</td>\n",
       "      <td>...</td>\n",
       "      <td>8.046000e+08</td>\n",
       "      <td>1.045664e+09</td>\n",
       "      <td>0.977014</td>\n",
       "      <td>9.243261e+08</td>\n",
       "      <td>1.201261e+09</td>\n",
       "      <td>4.353960e+08</td>\n",
       "      <td>1.035667e+08</td>\n",
       "      <td>6</td>\n",
       "      <td>1</td>\n",
       "      <td>650</td>\n",
       "    </tr>\n",
       "    <tr>\n",
       "      <td>1</td>\n",
       "      <td>2015</td>\n",
       "      <td>141</td>\n",
       "      <td>7.3</td>\n",
       "      <td>32.715702</td>\n",
       "      <td>496031246.0</td>\n",
       "      <td>4276</td>\n",
       "      <td>4276</td>\n",
       "      <td>66.0</td>\n",
       "      <td>8</td>\n",
       "      <td>55</td>\n",
       "      <td>...</td>\n",
       "      <td>9.440081e+08</td>\n",
       "      <td>1.403014e+09</td>\n",
       "      <td>0.861669</td>\n",
       "      <td>1.020156e+09</td>\n",
       "      <td>1.516187e+09</td>\n",
       "      <td>3.944425e+08</td>\n",
       "      <td>2.066999e+08</td>\n",
       "      <td>6</td>\n",
       "      <td>1</td>\n",
       "      <td>650</td>\n",
       "    </tr>\n",
       "    <tr>\n",
       "      <td>2</td>\n",
       "      <td>2018</td>\n",
       "      <td>156</td>\n",
       "      <td>8.5</td>\n",
       "      <td>33.139466</td>\n",
       "      <td>678815482.0</td>\n",
       "      <td>4474</td>\n",
       "      <td>4474</td>\n",
       "      <td>68.0</td>\n",
       "      <td>44</td>\n",
       "      <td>114</td>\n",
       "      <td>...</td>\n",
       "      <td>1.369544e+09</td>\n",
       "      <td>2.048360e+09</td>\n",
       "      <td>0.155046</td>\n",
       "      <td>1.369544e+09</td>\n",
       "      <td>2.048360e+09</td>\n",
       "      <td>3.000000e+08</td>\n",
       "      <td>2.576982e+08</td>\n",
       "      <td>6</td>\n",
       "      <td>10</td>\n",
       "      <td>920</td>\n",
       "    </tr>\n",
       "    <tr>\n",
       "      <td>3</td>\n",
       "      <td>2007</td>\n",
       "      <td>167</td>\n",
       "      <td>7.1</td>\n",
       "      <td>32.116864</td>\n",
       "      <td>409712211.0</td>\n",
       "      <td>4362</td>\n",
       "      <td>4362</td>\n",
       "      <td>50.0</td>\n",
       "      <td>20</td>\n",
       "      <td>64</td>\n",
       "      <td>...</td>\n",
       "      <td>6.540000e+08</td>\n",
       "      <td>9.634204e+08</td>\n",
       "      <td>0.876586</td>\n",
       "      <td>8.659796e+08</td>\n",
       "      <td>1.275692e+09</td>\n",
       "      <td>3.972384e+08</td>\n",
       "      <td>1.519209e+08</td>\n",
       "      <td>6</td>\n",
       "      <td>1</td>\n",
       "      <td>650</td>\n",
       "    </tr>\n",
       "    <tr>\n",
       "      <td>4</td>\n",
       "      <td>2017</td>\n",
       "      <td>121</td>\n",
       "      <td>6.4</td>\n",
       "      <td>34.915156</td>\n",
       "      <td>232544520.0</td>\n",
       "      <td>4051</td>\n",
       "      <td>4051</td>\n",
       "      <td>45.0</td>\n",
       "      <td>2</td>\n",
       "      <td>15</td>\n",
       "      <td>...</td>\n",
       "      <td>4.269209e+08</td>\n",
       "      <td>6.559452e+08</td>\n",
       "      <td>0.742135</td>\n",
       "      <td>4.334829e+08</td>\n",
       "      <td>6.660274e+08</td>\n",
       "      <td>3.046112e+08</td>\n",
       "      <td>9.528464e+07</td>\n",
       "      <td>6</td>\n",
       "      <td>1</td>\n",
       "      <td>650</td>\n",
       "    </tr>\n",
       "  </tbody>\n",
       "</table>\n",
       "<p>5 rows × 26 columns</p>\n",
       "</div>"
      ],
      "text/plain": [
       "   release_year  runtime  imdb_score      share  inf_income_usa  \\\n",
       "0          2011      136         6.6  23.053668     276934662.0   \n",
       "1          2015      141         7.3  32.715702     496031246.0   \n",
       "2          2018      156         8.5  33.139466     678815482.0   \n",
       "3          2007      167         7.1  32.116864     409712211.0   \n",
       "4          2017      121         6.4  34.915156     232544520.0   \n",
       "\n",
       "   theater_opening  theater_total  metascore  awards_win_num  \\\n",
       "0             4155           4164       45.0               3   \n",
       "1             4276           4276       66.0               8   \n",
       "2             4474           4474       68.0              44   \n",
       "3             4362           4362       50.0              20   \n",
       "4             4051           4051       45.0               2   \n",
       "\n",
       "   awards_nomin_num  ...    income_int     income_ww  positive_probability  \\\n",
       "0                34  ...  8.046000e+08  1.045664e+09              0.977014   \n",
       "1                55  ...  9.440081e+08  1.403014e+09              0.861669   \n",
       "2               114  ...  1.369544e+09  2.048360e+09              0.155046   \n",
       "3                64  ...  6.540000e+08  9.634204e+08              0.876586   \n",
       "4                15  ...  4.269209e+08  6.559452e+08              0.742135   \n",
       "\n",
       "   inf_income_int  inf_income_ww    inf_budget  inf_income_opening  \\\n",
       "0    9.243261e+08   1.201261e+09  4.353960e+08        1.035667e+08   \n",
       "1    1.020156e+09   1.516187e+09  3.944425e+08        2.066999e+08   \n",
       "2    1.369544e+09   2.048360e+09  3.000000e+08        2.576982e+08   \n",
       "3    8.659796e+08   1.275692e+09  3.972384e+08        1.519209e+08   \n",
       "4    4.334829e+08   6.660274e+08  3.046112e+08        9.528464e+07   \n",
       "\n",
       "   studio_score  price_class  contract_price  \n",
       "0             6            1             650  \n",
       "1             6            1             650  \n",
       "2             6           10             920  \n",
       "3             6            1             650  \n",
       "4             6            1             650  \n",
       "\n",
       "[5 rows x 26 columns]"
      ]
     },
     "execution_count": 21,
     "metadata": {},
     "output_type": "execute_result"
    }
   ],
   "source": [
    "df_target=df_meta_dropped\n",
    "df_target.head()"
   ]
  },
  {
   "cell_type": "code",
   "execution_count": 22,
   "metadata": {},
   "outputs": [
    {
     "data": {
      "text/html": [
       "<div>\n",
       "<style scoped>\n",
       "    .dataframe tbody tr th:only-of-type {\n",
       "        vertical-align: middle;\n",
       "    }\n",
       "\n",
       "    .dataframe tbody tr th {\n",
       "        vertical-align: top;\n",
       "    }\n",
       "\n",
       "    .dataframe thead th {\n",
       "        text-align: right;\n",
       "    }\n",
       "</style>\n",
       "<table border=\"1\" class=\"dataframe\">\n",
       "  <thead>\n",
       "    <tr style=\"text-align: right;\">\n",
       "      <th></th>\n",
       "      <th>release_year</th>\n",
       "      <th>runtime</th>\n",
       "      <th>imdb_score</th>\n",
       "      <th>share</th>\n",
       "      <th>inf_income_usa</th>\n",
       "      <th>theater_opening</th>\n",
       "      <th>theater_total</th>\n",
       "      <th>metascore</th>\n",
       "      <th>awards_win_num</th>\n",
       "      <th>awards_nomin_num</th>\n",
       "      <th>...</th>\n",
       "      <th>income_int</th>\n",
       "      <th>income_ww</th>\n",
       "      <th>positive_probability</th>\n",
       "      <th>inf_income_int</th>\n",
       "      <th>inf_income_ww</th>\n",
       "      <th>inf_budget</th>\n",
       "      <th>inf_income_opening</th>\n",
       "      <th>studio_score</th>\n",
       "      <th>price_class</th>\n",
       "      <th>contract_price</th>\n",
       "    </tr>\n",
       "  </thead>\n",
       "  <tbody>\n",
       "    <tr>\n",
       "      <td>0</td>\n",
       "      <td>0.567</td>\n",
       "      <td>1.326</td>\n",
       "      <td>0.178</td>\n",
       "      <td>-1.141</td>\n",
       "      <td>1.948</td>\n",
       "      <td>1.791</td>\n",
       "      <td>1.799</td>\n",
       "      <td>-0.529</td>\n",
       "      <td>-0.239</td>\n",
       "      <td>0.236</td>\n",
       "      <td>...</td>\n",
       "      <td>-0.086</td>\n",
       "      <td>-0.082</td>\n",
       "      <td>0.927</td>\n",
       "      <td>-0.078</td>\n",
       "      <td>-0.077</td>\n",
       "      <td>6.605</td>\n",
       "      <td>3.313</td>\n",
       "      <td>0.822</td>\n",
       "      <td>-0.442</td>\n",
       "      <td>-0.089</td>\n",
       "    </tr>\n",
       "    <tr>\n",
       "      <td>1</td>\n",
       "      <td>0.895</td>\n",
       "      <td>1.575</td>\n",
       "      <td>0.863</td>\n",
       "      <td>-0.811</td>\n",
       "      <td>4.054</td>\n",
       "      <td>1.881</td>\n",
       "      <td>1.887</td>\n",
       "      <td>0.642</td>\n",
       "      <td>0.034</td>\n",
       "      <td>0.680</td>\n",
       "      <td>...</td>\n",
       "      <td>-0.083</td>\n",
       "      <td>-0.076</td>\n",
       "      <td>0.611</td>\n",
       "      <td>-0.078</td>\n",
       "      <td>-0.075</td>\n",
       "      <td>5.898</td>\n",
       "      <td>7.290</td>\n",
       "      <td>0.822</td>\n",
       "      <td>-0.442</td>\n",
       "      <td>-0.089</td>\n",
       "    </tr>\n",
       "    <tr>\n",
       "      <td>2</td>\n",
       "      <td>1.141</td>\n",
       "      <td>2.320</td>\n",
       "      <td>2.039</td>\n",
       "      <td>-0.796</td>\n",
       "      <td>5.811</td>\n",
       "      <td>2.029</td>\n",
       "      <td>2.043</td>\n",
       "      <td>0.753</td>\n",
       "      <td>1.999</td>\n",
       "      <td>1.928</td>\n",
       "      <td>...</td>\n",
       "      <td>-0.076</td>\n",
       "      <td>-0.065</td>\n",
       "      <td>-1.323</td>\n",
       "      <td>-0.075</td>\n",
       "      <td>-0.072</td>\n",
       "      <td>4.268</td>\n",
       "      <td>9.256</td>\n",
       "      <td>0.822</td>\n",
       "      <td>3.426</td>\n",
       "      <td>3.286</td>\n",
       "    </tr>\n",
       "    <tr>\n",
       "      <td>3</td>\n",
       "      <td>0.240</td>\n",
       "      <td>2.867</td>\n",
       "      <td>0.668</td>\n",
       "      <td>-0.831</td>\n",
       "      <td>3.225</td>\n",
       "      <td>1.946</td>\n",
       "      <td>1.955</td>\n",
       "      <td>-0.250</td>\n",
       "      <td>0.689</td>\n",
       "      <td>0.871</td>\n",
       "      <td>...</td>\n",
       "      <td>-0.088</td>\n",
       "      <td>-0.084</td>\n",
       "      <td>0.652</td>\n",
       "      <td>-0.079</td>\n",
       "      <td>-0.076</td>\n",
       "      <td>5.946</td>\n",
       "      <td>5.177</td>\n",
       "      <td>0.822</td>\n",
       "      <td>-0.442</td>\n",
       "      <td>-0.089</td>\n",
       "    </tr>\n",
       "    <tr>\n",
       "      <td>4</td>\n",
       "      <td>1.059</td>\n",
       "      <td>0.581</td>\n",
       "      <td>-0.018</td>\n",
       "      <td>-0.736</td>\n",
       "      <td>1.522</td>\n",
       "      <td>1.713</td>\n",
       "      <td>1.709</td>\n",
       "      <td>-0.529</td>\n",
       "      <td>-0.294</td>\n",
       "      <td>-0.166</td>\n",
       "      <td>...</td>\n",
       "      <td>-0.092</td>\n",
       "      <td>-0.089</td>\n",
       "      <td>0.284</td>\n",
       "      <td>-0.081</td>\n",
       "      <td>-0.080</td>\n",
       "      <td>4.347</td>\n",
       "      <td>2.993</td>\n",
       "      <td>0.822</td>\n",
       "      <td>-0.442</td>\n",
       "      <td>-0.089</td>\n",
       "    </tr>\n",
       "  </tbody>\n",
       "</table>\n",
       "<p>5 rows × 26 columns</p>\n",
       "</div>"
      ],
      "text/plain": [
       "   release_year  runtime  imdb_score  share  inf_income_usa  theater_opening  \\\n",
       "0         0.567    1.326       0.178 -1.141           1.948            1.791   \n",
       "1         0.895    1.575       0.863 -0.811           4.054            1.881   \n",
       "2         1.141    2.320       2.039 -0.796           5.811            2.029   \n",
       "3         0.240    2.867       0.668 -0.831           3.225            1.946   \n",
       "4         1.059    0.581      -0.018 -0.736           1.522            1.713   \n",
       "\n",
       "   theater_total  metascore  awards_win_num  awards_nomin_num  ...  \\\n",
       "0          1.799     -0.529          -0.239             0.236  ...   \n",
       "1          1.887      0.642           0.034             0.680  ...   \n",
       "2          2.043      0.753           1.999             1.928  ...   \n",
       "3          1.955     -0.250           0.689             0.871  ...   \n",
       "4          1.709     -0.529          -0.294            -0.166  ...   \n",
       "\n",
       "   income_int  income_ww  positive_probability  inf_income_int  inf_income_ww  \\\n",
       "0      -0.086     -0.082                 0.927          -0.078         -0.077   \n",
       "1      -0.083     -0.076                 0.611          -0.078         -0.075   \n",
       "2      -0.076     -0.065                -1.323          -0.075         -0.072   \n",
       "3      -0.088     -0.084                 0.652          -0.079         -0.076   \n",
       "4      -0.092     -0.089                 0.284          -0.081         -0.080   \n",
       "\n",
       "   inf_budget  inf_income_opening  studio_score  price_class  contract_price  \n",
       "0       6.605               3.313         0.822       -0.442          -0.089  \n",
       "1       5.898               7.290         0.822       -0.442          -0.089  \n",
       "2       4.268               9.256         0.822        3.426           3.286  \n",
       "3       5.946               5.177         0.822       -0.442          -0.089  \n",
       "4       4.347               2.993         0.822       -0.442          -0.089  \n",
       "\n",
       "[5 rows x 26 columns]"
      ]
     },
     "execution_count": 22,
     "metadata": {},
     "output_type": "execute_result"
    }
   ],
   "source": [
    "scaler = StandardScaler()\n",
    "nd_scaled = scaler.fit_transform(df_target)\n",
    "df_scaled = pd.DataFrame(nd_scaled, columns=df_target.columns)\n",
    "df_scaled.head().round(3)"
   ]
  },
  {
   "cell_type": "code",
   "execution_count": 23,
   "metadata": {},
   "outputs": [
    {
     "data": {
      "text/plain": [
       "(4560, 12)"
      ]
     },
     "execution_count": 23,
     "metadata": {},
     "output_type": "execute_result"
    }
   ],
   "source": [
    "# 주성분 분석\n",
    "# 일단 대략적으로 12개 columns 로 해보기\n",
    "num = 12\n",
    "pca = PCA(n_components=num)\n",
    "nd_pca = pca.fit_transform(df_scaled)\n",
    "\n",
    "lst_prin = []\n",
    "for i in range(1,num+1):\n",
    "    lst_prin.append(\"Prin\" + str(i))\n",
    "\n",
    "# 주성분 점수 저장\n",
    "df_pca = pd.DataFrame(nd_pca, columns=lst_prin)\n",
    "df_pca.shape"
   ]
  },
  {
   "cell_type": "code",
   "execution_count": 24,
   "metadata": {
    "scrolled": false
   },
   "outputs": [
    {
     "data": {
      "text/html": [
       "<div>\n",
       "<style scoped>\n",
       "    .dataframe tbody tr th:only-of-type {\n",
       "        vertical-align: middle;\n",
       "    }\n",
       "\n",
       "    .dataframe tbody tr th {\n",
       "        vertical-align: top;\n",
       "    }\n",
       "\n",
       "    .dataframe thead th {\n",
       "        text-align: right;\n",
       "    }\n",
       "</style>\n",
       "<table border=\"1\" class=\"dataframe\">\n",
       "  <thead>\n",
       "    <tr style=\"text-align: right;\">\n",
       "      <th></th>\n",
       "      <th>PrinNo</th>\n",
       "      <th>EigenValues</th>\n",
       "      <th>EigenValueRatio</th>\n",
       "      <th>CumEigenValueRatio</th>\n",
       "    </tr>\n",
       "  </thead>\n",
       "  <tbody>\n",
       "    <tr>\n",
       "      <td>0</td>\n",
       "      <td>1</td>\n",
       "      <td>7.414</td>\n",
       "      <td>0.285</td>\n",
       "      <td>0.285</td>\n",
       "    </tr>\n",
       "    <tr>\n",
       "      <td>1</td>\n",
       "      <td>2</td>\n",
       "      <td>4.215</td>\n",
       "      <td>0.162</td>\n",
       "      <td>0.447</td>\n",
       "    </tr>\n",
       "    <tr>\n",
       "      <td>2</td>\n",
       "      <td>3</td>\n",
       "      <td>3.432</td>\n",
       "      <td>0.132</td>\n",
       "      <td>0.579</td>\n",
       "    </tr>\n",
       "    <tr>\n",
       "      <td>3</td>\n",
       "      <td>4</td>\n",
       "      <td>1.759</td>\n",
       "      <td>0.068</td>\n",
       "      <td>0.647</td>\n",
       "    </tr>\n",
       "    <tr>\n",
       "      <td>4</td>\n",
       "      <td>5</td>\n",
       "      <td>1.410</td>\n",
       "      <td>0.054</td>\n",
       "      <td>0.701</td>\n",
       "    </tr>\n",
       "    <tr>\n",
       "      <td>5</td>\n",
       "      <td>6</td>\n",
       "      <td>1.081</td>\n",
       "      <td>0.042</td>\n",
       "      <td>0.743</td>\n",
       "    </tr>\n",
       "    <tr>\n",
       "      <td>6</td>\n",
       "      <td>7</td>\n",
       "      <td>0.946</td>\n",
       "      <td>0.036</td>\n",
       "      <td>0.779</td>\n",
       "    </tr>\n",
       "    <tr>\n",
       "      <td>7</td>\n",
       "      <td>8</td>\n",
       "      <td>0.924</td>\n",
       "      <td>0.036</td>\n",
       "      <td>0.814</td>\n",
       "    </tr>\n",
       "    <tr>\n",
       "      <td>8</td>\n",
       "      <td>9</td>\n",
       "      <td>0.810</td>\n",
       "      <td>0.031</td>\n",
       "      <td>0.846</td>\n",
       "    </tr>\n",
       "    <tr>\n",
       "      <td>9</td>\n",
       "      <td>10</td>\n",
       "      <td>0.791</td>\n",
       "      <td>0.030</td>\n",
       "      <td>0.876</td>\n",
       "    </tr>\n",
       "    <tr>\n",
       "      <td>10</td>\n",
       "      <td>11</td>\n",
       "      <td>0.661</td>\n",
       "      <td>0.025</td>\n",
       "      <td>0.901</td>\n",
       "    </tr>\n",
       "    <tr>\n",
       "      <td>11</td>\n",
       "      <td>12</td>\n",
       "      <td>0.527</td>\n",
       "      <td>0.020</td>\n",
       "      <td>0.922</td>\n",
       "    </tr>\n",
       "  </tbody>\n",
       "</table>\n",
       "</div>"
      ],
      "text/plain": [
       "    PrinNo  EigenValues  EigenValueRatio  CumEigenValueRatio\n",
       "0        1        7.414            0.285               0.285\n",
       "1        2        4.215            0.162               0.447\n",
       "2        3        3.432            0.132               0.579\n",
       "3        4        1.759            0.068               0.647\n",
       "4        5        1.410            0.054               0.701\n",
       "5        6        1.081            0.042               0.743\n",
       "6        7        0.946            0.036               0.779\n",
       "7        8        0.924            0.036               0.814\n",
       "8        9        0.810            0.031               0.846\n",
       "9       10        0.791            0.030               0.876\n",
       "10      11        0.661            0.025               0.901\n",
       "11      12        0.527            0.020               0.922"
      ]
     },
     "execution_count": 24,
     "metadata": {},
     "output_type": "execute_result"
    }
   ],
   "source": [
    "# 변수의 크기별 고유값과 누적비율을 비교해서 적용하며 스케일링을 했을 경우에는 고유값 기준을 본다.\n",
    "# EigenValues > 1 을 기준으로 끊는다.\n",
    "\n",
    "df_pca_stat = pd.DataFrame()\n",
    "df_pca_stat['PrinNo'] = [i for i in range(1,num+1)]\n",
    "df_pca_stat['EigenValues'] = pca.explained_variance_\n",
    "df_pca_stat['EigenValueRatio'] = pca.explained_variance_ratio_\n",
    "df_pca_stat['CumEigenValueRatio'] = np.cumsum(pca.explained_variance_ratio_)\n",
    "df_pca_stat.round(3)"
   ]
  },
  {
   "cell_type": "code",
   "execution_count": 25,
   "metadata": {
    "scrolled": false
   },
   "outputs": [
    {
     "data": {
      "text/plain": [
       "<matplotlib.legend.Legend at 0x18d8f9b20c8>"
      ]
     },
     "execution_count": 25,
     "metadata": {},
     "output_type": "execute_result"
    },
    {
     "name": "stderr",
     "output_type": "stream",
     "text": [
      "C:\\ProgramData\\Anaconda3\\lib\\site-packages\\matplotlib\\backends\\backend_agg.py:211: RuntimeWarning: Glyph 51452 missing from current font.\n",
      "  font.set_text(s, 0.0, flags=flags)\n",
      "C:\\ProgramData\\Anaconda3\\lib\\site-packages\\matplotlib\\backends\\backend_agg.py:211: RuntimeWarning: Glyph 49457 missing from current font.\n",
      "  font.set_text(s, 0.0, flags=flags)\n",
      "C:\\ProgramData\\Anaconda3\\lib\\site-packages\\matplotlib\\backends\\backend_agg.py:211: RuntimeWarning: Glyph 48516 missing from current font.\n",
      "  font.set_text(s, 0.0, flags=flags)\n",
      "C:\\ProgramData\\Anaconda3\\lib\\site-packages\\matplotlib\\backends\\backend_agg.py:211: RuntimeWarning: Glyph 48264 missing from current font.\n",
      "  font.set_text(s, 0.0, flags=flags)\n",
      "C:\\ProgramData\\Anaconda3\\lib\\site-packages\\matplotlib\\backends\\backend_agg.py:211: RuntimeWarning: Glyph 54840 missing from current font.\n",
      "  font.set_text(s, 0.0, flags=flags)\n",
      "C:\\ProgramData\\Anaconda3\\lib\\site-packages\\matplotlib\\backends\\backend_agg.py:180: RuntimeWarning: Glyph 51452 missing from current font.\n",
      "  font.set_text(s, 0, flags=flags)\n",
      "C:\\ProgramData\\Anaconda3\\lib\\site-packages\\matplotlib\\backends\\backend_agg.py:180: RuntimeWarning: Glyph 49457 missing from current font.\n",
      "  font.set_text(s, 0, flags=flags)\n",
      "C:\\ProgramData\\Anaconda3\\lib\\site-packages\\matplotlib\\backends\\backend_agg.py:180: RuntimeWarning: Glyph 48516 missing from current font.\n",
      "  font.set_text(s, 0, flags=flags)\n",
      "C:\\ProgramData\\Anaconda3\\lib\\site-packages\\matplotlib\\backends\\backend_agg.py:180: RuntimeWarning: Glyph 48264 missing from current font.\n",
      "  font.set_text(s, 0, flags=flags)\n",
      "C:\\ProgramData\\Anaconda3\\lib\\site-packages\\matplotlib\\backends\\backend_agg.py:180: RuntimeWarning: Glyph 54840 missing from current font.\n",
      "  font.set_text(s, 0, flags=flags)\n",
      "C:\\ProgramData\\Anaconda3\\lib\\site-packages\\matplotlib\\backends\\backend_agg.py:211: RuntimeWarning: Glyph 44256 missing from current font.\n",
      "  font.set_text(s, 0.0, flags=flags)\n",
      "C:\\ProgramData\\Anaconda3\\lib\\site-packages\\matplotlib\\backends\\backend_agg.py:211: RuntimeWarning: Glyph 50976 missing from current font.\n",
      "  font.set_text(s, 0.0, flags=flags)\n",
      "C:\\ProgramData\\Anaconda3\\lib\\site-packages\\matplotlib\\backends\\backend_agg.py:211: RuntimeWarning: Glyph 44050 missing from current font.\n",
      "  font.set_text(s, 0.0, flags=flags)\n",
      "C:\\ProgramData\\Anaconda3\\lib\\site-packages\\matplotlib\\backends\\backend_agg.py:180: RuntimeWarning: Glyph 44256 missing from current font.\n",
      "  font.set_text(s, 0, flags=flags)\n",
      "C:\\ProgramData\\Anaconda3\\lib\\site-packages\\matplotlib\\backends\\backend_agg.py:180: RuntimeWarning: Glyph 50976 missing from current font.\n",
      "  font.set_text(s, 0, flags=flags)\n",
      "C:\\ProgramData\\Anaconda3\\lib\\site-packages\\matplotlib\\backends\\backend_agg.py:180: RuntimeWarning: Glyph 44050 missing from current font.\n",
      "  font.set_text(s, 0, flags=flags)\n"
     ]
    },
    {
     "data": {
      "image/png": "[encoded data removed]",
      "text/plain": [
       "<Figure size 432x288 with 1 Axes>"
      ]
     },
     "metadata": {
      "needs_background": "light"
     },
     "output_type": "display_data"
    }
   ],
   "source": [
    "# 고유값을 그래프로 확인해보기\n",
    "\n",
    "plt.plot(df_pca_stat[\"PrinNo\"], df_pca_stat[\"EigenValues\"], label=\"고유값\")\n",
    "\n",
    "plt.ylabel(\"고유값(Eigenvalue)\")\n",
    "plt.xlabel(\"주성분 번호\")\n",
    "plt.legend(loc=\"best\")"
   ]
  },
  {
   "cell_type": "code",
   "execution_count": 26,
   "metadata": {},
   "outputs": [
    {
     "data": {
      "text/plain": [
       "<matplotlib.legend.Legend at 0x18d8f9b2188>"
      ]
     },
     "execution_count": 26,
     "metadata": {},
     "output_type": "execute_result"
    },
    {
     "data": {
      "image/png": "[encoded data removed]",
      "text/plain": [
       "<Figure size 432x288 with 1 Axes>"
      ]
     },
     "metadata": {
      "needs_background": "light"
     },
     "output_type": "display_data"
    }
   ],
   "source": [
    "# 누적수치 또한 보면서 비교하기\n",
    "\n",
    "plt.plot(df_pca_stat[\"PrinNo\"], df_pca_stat[\"EigenValueRatio\"], label=\"num of EigenValue\")\n",
    "plt.plot(df_pca_stat[\"PrinNo\"], df_pca_stat[\"CumEigenValueRatio\"], label=\"Sum of EigenValue\")\n",
    "plt.ylabel(\"EigenValue ratio\")\n",
    "plt.xlabel(\"EigenValue Num\")\n",
    "plt.legend(loc=\"best\")"
   ]
  },
  {
   "cell_type": "markdown",
   "metadata": {},
   "source": [
    "## 2) K-means\n",
    "* df_meta_pca : PCA 통해서 채택된 변수들 & 빼놓았던 더미 변수들 merge한 최종 군집대상 데이터프레임\n",
    "    - df_pca[lst_select_prim] : PCA 통해서 채택된 차원축소된 데이터프레임\n",
    "    - df_meta[dummy_columns] : 기존 meta 더미변수들"
   ]
  },
  {
   "cell_type": "code",
   "execution_count": 28,
   "metadata": {},
   "outputs": [],
   "source": [
    "select_num = 6\n",
    "\n",
    "lst_select_prim = []\n",
    "for i in range(1, select_num+1):\n",
    "    lst_select_prim.append('Prin'+str(i))"
   ]
  },
  {
   "cell_type": "code",
   "execution_count": 29,
   "metadata": {},
   "outputs": [],
   "source": [
    "df_meta_pca = pd.merge(df_pca[lst_select_prim], df_meta[dummy_columns], left_index = True, right_index = True, how = \"left\")"
   ]
  },
  {
   "cell_type": "code",
   "execution_count": 31,
   "metadata": {
    "scrolled": true
   },
   "outputs": [
    {
     "data": {
      "image/png": "[encoded data removed]",
      "text/plain": [
       "<Figure size 864x360 with 1 Axes>"
      ]
     },
     "metadata": {
      "needs_background": "light"
     },
     "output_type": "display_data"
    }
   ],
   "source": [
    "from sklearn.metrics import silhouette_score\n",
    "n_clusters = range(2,50)\n",
    "clusters_inertia = [] \n",
    "s_scores = []\n",
    "\n",
    "for n in n_clusters:\n",
    "    KM_est = KMeans(n_clusters=n, init='k-means++').fit(df_meta_pca)\n",
    "    clusters_inertia.append(KM_est.inertia_)    # data for the elbow method\n",
    "    silhouette_avg = silhouette_score(df_meta_pca, KM_est.labels_)\n",
    "    s_scores.append(silhouette_avg)\n",
    "    \n",
    "fig, ax = plt.subplots(figsize=(12,5))\n",
    "ax = sns.lineplot(n_clusters, s_scores, marker='o', ax=ax)\n",
    "ax.set_title(\"Silhouette score method\")\n",
    "ax.set_xlabel(\"number of clusters\")\n",
    "ax.set_ylabel(\"Silhouette score\")\n",
    "plt.grid()\n",
    "plt.show()"
   ]
  },
  {
   "cell_type": "markdown",
   "metadata": {},
   "source": [
    "# 여기 아래로는 캡처가 필요하다면 채은에게 알려주세요 "
   ]
  },
  {
   "cell_type": "code",
   "execution_count": 233,
   "metadata": {},
   "outputs": [
    {
     "data": {
      "text/plain": [
       "3     439\n",
       "7     348\n",
       "12    337\n",
       "13    325\n",
       "20    321\n",
       "23    311\n",
       "1     300\n",
       "11    294\n",
       "17    271\n",
       "10    235\n",
       "19    226\n",
       "18    195\n",
       "6     194\n",
       "9     146\n",
       "15    146\n",
       "21    132\n",
       "0      77\n",
       "2      72\n",
       "8      66\n",
       "5      57\n",
       "16     39\n",
       "22     18\n",
       "4       8\n",
       "14      3\n",
       "Name: cluster_kmeans, dtype: int64"
      ]
     },
     "execution_count": 233,
     "metadata": {},
     "output_type": "execute_result"
    }
   ],
   "source": [
    "# 클러스터링 (K-means)\n",
    "from sklearn.cluster import KMeans\n",
    "import time\n",
    "\n",
    "# 주성분 개수 고정\n",
    "select_num = 6\n",
    "num_clusters = 24\n",
    "\n",
    "lst_select_prim = []\n",
    "for i in range(1, select_num+1):\n",
    "    lst_select_prim.append('Prin'+str(i))\n",
    "\n",
    "# K means \n",
    "# category로 clustering 한 군집의 번호를 넣어줌\n",
    "kmeans_clustering = KMeans(n_clusters=num_clusters)\n",
    "idx = kmeans_clustering.fit_predict(df_meta_pca)\n",
    "df_cluster = pd.DataFrame()\n",
    "df_meta['cluster_kmeans'] = idx\n",
    "df_meta.cluster_kmeans.value_counts()"
   ]
  },
  {
   "cell_type": "code",
   "execution_count": 235,
   "metadata": {
    "scrolled": true
   },
   "outputs": [
    {
     "data": {
      "text/plain": [
       "5     30\n",
       "2     27\n",
       "9     16\n",
       "22    14\n",
       "19     6\n",
       "21     5\n",
       "18     4\n",
       "8      4\n",
       "Name: cluster_kmeans, dtype: int64"
      ]
     },
     "execution_count": 235,
     "metadata": {},
     "output_type": "execute_result"
    }
   ],
   "source": [
    "df_meta[(df_meta.inv_exist == 1)].cluster_kmeans.value_counts()"
   ]
  },
  {
   "cell_type": "markdown",
   "metadata": {},
   "source": [
    "## inventory의 군집\n",
    "* inventory의 cluster 개수는 8개"
   ]
  },
  {
   "cell_type": "code",
   "execution_count": 236,
   "metadata": {},
   "outputs": [
    {
     "data": {
      "text/plain": [
       "array([22,  5,  2, 18,  9,  8, 19, 21], dtype=int64)"
      ]
     },
     "execution_count": 236,
     "metadata": {},
     "output_type": "execute_result"
    }
   ],
   "source": [
    "df_inv = df_meta[df_meta[\"inv_exist\"]==1]\n",
    "df_inv[\"cluster_kmeans\"].unique()"
   ]
  },
  {
   "cell_type": "code",
   "execution_count": 237,
   "metadata": {
    "scrolled": true
   },
   "outputs": [
    {
     "data": {
      "text/plain": [
       "5     30\n",
       "2     27\n",
       "9     16\n",
       "22    14\n",
       "19     6\n",
       "21     5\n",
       "18     4\n",
       "8      4\n",
       "Name: cluster_kmeans, dtype: int64"
      ]
     },
     "execution_count": 237,
     "metadata": {},
     "output_type": "execute_result"
    }
   ],
   "source": [
    "df_inv[\"cluster_kmeans\"].value_counts()"
   ]
  }
 ],
 "metadata": {
  "kernelspec": {
   "display_name": "Python 3",
   "language": "python",
   "name": "python3"
  },
  "language_info": {
   "codemirror_mode": {
    "name": "ipython",
    "version": 3
   },
   "file_extension": ".py",
   "mimetype": "text/x-python",
   "name": "python",
   "nbconvert_exporter": "python",
   "pygments_lexer": "ipython3",
   "version": "3.7.6"
  }
 },
 "nbformat": 4,
 "nbformat_minor": 2
}
