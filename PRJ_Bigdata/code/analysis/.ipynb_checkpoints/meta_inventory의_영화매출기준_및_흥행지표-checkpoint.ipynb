{
 "cells": [
  {
   "cell_type": "code",
   "execution_count": 1,
   "metadata": {
    "colab": {
     "base_uri": "https://localhost:8080/",
     "height": 72
    },
    "colab_type": "code",
    "id": "kzjbP2gjodis",
    "outputId": "b21cbb1a-cec7-4475-ac0e-c8d7befe6e86"
   },
   "outputs": [
    {
     "name": "stderr",
     "output_type": "stream",
     "text": [
      "/usr/local/lib/python3.6/dist-packages/statsmodels/tools/_testing.py:19: FutureWarning: pandas.util.testing is deprecated. Use the functions in the public API at pandas.testing instead.\n",
      "  import pandas.util.testing as tm\n"
     ]
    }
   ],
   "source": [
    "import pandas as pd\n",
    "import numpy as np\n",
    "import matplotlib.pyplot as plt\n",
    "import seaborn as sns"
   ]
  },
  {
   "cell_type": "code",
   "execution_count": 0,
   "metadata": {
    "colab": {},
    "colab_type": "code",
    "id": "dqeDVq0wsNyQ"
   },
   "outputs": [],
   "source": [
    "mv_meta=pd.read_csv('movie_meta_cleaned_final5.csv')"
   ]
  },
  {
   "cell_type": "code",
   "execution_count": 5,
   "metadata": {
    "colab": {
     "base_uri": "https://localhost:8080/",
     "height": 390
    },
    "colab_type": "code",
    "id": "I52I1eNStZmi",
    "outputId": "39b128d9-6118-49b2-9a6b-453e1fcc51fc"
   },
   "outputs": [
    {
     "data": {
      "text/plain": [
       "Index(['movie_id', 'title', 'release_year', 'release_date', 'runtime',\n",
       "       'mpa_rating', 'imdb_score', 'dvd_sales', 'blu_sales', 'total_sales',\n",
       "       'legs', 'share', 'inf_income_usa', 'theater_opening', 'theater_total',\n",
       "       'src', 'awards', 'poster', 'metascore', 'release_dvd', 'big_awards_num',\n",
       "       'awards_win_num', 'awards_nomin_num', 'reviews_users',\n",
       "       'reviews_critics', 'prd_mthd', 'budget', 'series_new', 'income_opening',\n",
       "       'votes', 'income_usa', 'income_int', 'income_ww', 'item_id',\n",
       "       'inv_exist', 'contract_year', 'inf', 'genre_action', 'genre_adventure',\n",
       "       'genre_drama', 'genre_sci-fi', 'genre_fantasy', 'genre_thriller',\n",
       "       'genre_animation', 'genre_family', 'genre_musical', 'genre_comedy',\n",
       "       'genre_romance', 'genre_mystery', 'genre_war', 'genre_western',\n",
       "       'genre_history', 'genre_sport', 'genre_horror', 'genre_crime',\n",
       "       'genre_music', 'genre_biography', 'genre_documentary',\n",
       "       'dvd_over_income', 'movie_down_sales', 'contract_price_inf',\n",
       "       'net_profit', 'studio', 'positive_probability', 'english', 'dvd', 'blu',\n",
       "       'cntry_USA', 'actor_A', 'actor_B', 'actor_C', 'director_A',\n",
       "       'director_B', 'director_C', 'APPROVED', 'G', 'NC-17', 'NOT RATED',\n",
       "       'PASSED', 'PG', 'PG-13', 'R', 'TV-14', 'TV-G', 'TV-MA', 'TV-PG',\n",
       "       'TV-Y7', 'inf_income_int', 'inf_income_ww', 'inf_budget',\n",
       "       'inf_income_opening', 'studio_score', 'price_class', 'contract_price'],\n",
       "      dtype='object')"
      ]
     },
     "execution_count": 5,
     "metadata": {
      "tags": []
     },
     "output_type": "execute_result"
    }
   ],
   "source": [
    "mv_meta.columns"
   ]
  },
  {
   "cell_type": "code",
   "execution_count": 115,
   "metadata": {
    "colab": {
     "base_uri": "https://localhost:8080/",
     "height": 34
    },
    "colab_type": "code",
    "id": "vA4I_yz0xAG0",
    "outputId": "1036c812-8940-4743-d1f7-9d5fd08fa092"
   },
   "outputs": [
    {
     "name": "stdout",
     "output_type": "stream",
     "text": [
      "106\n"
     ]
    }
   ],
   "source": [
    "# meta final_5에서 inventory의 데이터만 추출 \n",
    "mv_inv=mv_meta[mv_meta['inv_exist']==1]\n",
    "print(len(mv_inv))"
   ]
  },
  {
   "cell_type": "code",
   "execution_count": 0,
   "metadata": {
    "colab": {},
    "colab_type": "code",
    "id": "j4qbiOsztdtI"
   },
   "outputs": [],
   "source": [
    "# inventory의 usa 매출 분포와 최소, 최대, 평균값들을 알아보기 \n",
    "inv_income_usa=mv_inv['inf_income_usa'].describe()"
   ]
  },
  {
   "cell_type": "code",
   "execution_count": 0,
   "metadata": {
    "colab": {},
    "colab_type": "code",
    "id": "jvFdyTs332bq"
   },
   "outputs": [],
   "source": [
    "# meta의 usa 매출 분포와 최소, 최대, 평균값들을 알아보기 \n",
    "inv_income_meta=mv_meta['inf_income_usa'].describe()"
   ]
  },
  {
   "cell_type": "code",
   "execution_count": 63,
   "metadata": {
    "colab": {
     "base_uri": "https://localhost:8080/",
     "height": 287
    },
    "colab_type": "code",
    "id": "0ahQIJBB42On",
    "outputId": "a278f9ea-95c7-4bcb-9c0f-fd436ce39842"
   },
   "outputs": [
    {
     "data": {
      "text/html": [
       "<div>\n",
       "<style scoped>\n",
       "    .dataframe tbody tr th:only-of-type {\n",
       "        vertical-align: middle;\n",
       "    }\n",
       "\n",
       "    .dataframe tbody tr th {\n",
       "        vertical-align: top;\n",
       "    }\n",
       "\n",
       "    .dataframe thead th {\n",
       "        text-align: right;\n",
       "    }\n",
       "</style>\n",
       "<table border=\"1\" class=\"dataframe\">\n",
       "  <thead>\n",
       "    <tr style=\"text-align: right;\">\n",
       "      <th></th>\n",
       "      <th>inv_usa_income</th>\n",
       "      <th>meta_usa_income</th>\n",
       "    </tr>\n",
       "  </thead>\n",
       "  <tbody>\n",
       "    <tr>\n",
       "      <th>count</th>\n",
       "      <td>1.060000e+02</td>\n",
       "      <td>4.560000e+03</td>\n",
       "    </tr>\n",
       "    <tr>\n",
       "      <th>mean</th>\n",
       "      <td>3.349591e+08</td>\n",
       "      <td>7.422366e+07</td>\n",
       "    </tr>\n",
       "    <tr>\n",
       "      <th>std</th>\n",
       "      <td>1.418708e+08</td>\n",
       "      <td>1.040460e+08</td>\n",
       "    </tr>\n",
       "    <tr>\n",
       "      <th>min</th>\n",
       "      <td>1.191029e+08</td>\n",
       "      <td>0.000000e+00</td>\n",
       "    </tr>\n",
       "    <tr>\n",
       "      <th>25%</th>\n",
       "      <td>2.161743e+08</td>\n",
       "      <td>1.058274e+07</td>\n",
       "    </tr>\n",
       "    <tr>\n",
       "      <th>50%</th>\n",
       "      <td>3.358890e+08</td>\n",
       "      <td>3.878002e+07</td>\n",
       "    </tr>\n",
       "    <tr>\n",
       "      <th>75%</th>\n",
       "      <td>4.065667e+08</td>\n",
       "      <td>9.480741e+07</td>\n",
       "    </tr>\n",
       "    <tr>\n",
       "      <th>max</th>\n",
       "      <td>8.992431e+08</td>\n",
       "      <td>1.240602e+09</td>\n",
       "    </tr>\n",
       "  </tbody>\n",
       "</table>\n",
       "</div>"
      ],
      "text/plain": [
       "       inv_usa_income  meta_usa_income\n",
       "count    1.060000e+02     4.560000e+03\n",
       "mean     3.349591e+08     7.422366e+07\n",
       "std      1.418708e+08     1.040460e+08\n",
       "min      1.191029e+08     0.000000e+00\n",
       "25%      2.161743e+08     1.058274e+07\n",
       "50%      3.358890e+08     3.878002e+07\n",
       "75%      4.065667e+08     9.480741e+07\n",
       "max      8.992431e+08     1.240602e+09"
      ]
     },
     "execution_count": 63,
     "metadata": {
      "tags": []
     },
     "output_type": "execute_result"
    }
   ],
   "source": [
    "inf_income_usa=pd.DataFrame({'inv_usa_income':inv_income_usa,\n",
    "                             'meta_usa_income':inv_income_meta})\n",
    "inf_income_usa"
   ]
  },
  {
   "cell_type": "code",
   "execution_count": 93,
   "metadata": {
    "colab": {
     "base_uri": "https://localhost:8080/",
     "height": 87
    },
    "colab_type": "code",
    "id": "4ig6vxX88wUn",
    "outputId": "6e04f5c2-5cde-47dc-db87-63c5b611f5f0"
   },
   "outputs": [
    {
     "name": "stdout",
     "output_type": "stream",
     "text": [
      "inventory의 미국매출의 평균은 meta보다 4.51배 높다.\n",
      "---미국매출의 최소값 비교---\n",
      "inventory의 미국매출 최소값 : 119102928\n",
      "meta의 미국매출 최소값 : 0\n"
     ]
    }
   ],
   "source": [
    "# inventory의 usa매출 평균이 meta보다 얼마나 높은가?\n",
    "print('inventory의 미국매출의 평균은 meta보다 %s배 높다.' %((inf_income_usa['inv_usa_income']['mean']/inf_income_usa['meta_usa_income']['mean'])).round(2))\n",
    "print('---미국매출의 최소값 비교---')\n",
    "print('inventory의 미국매출 최소값 : %d'%((inf_income_usa['inv_usa_income']['min'])).round(0))\n",
    "print('meta의 미국매출 최소값 : %d'%((inf_income_usa['meta_usa_income']['min'])).round(0))"
   ]
  },
  {
   "cell_type": "markdown",
   "metadata": {
    "colab_type": "text",
    "id": "P4bX9ECJCiv7"
   },
   "source": [
    "meta의 미국매출 최소값이 0이 될 수가 없고 결측치라고 우선 판단 -> 0을 제외한 최소값 구하기 "
   ]
  },
  {
   "cell_type": "code",
   "execution_count": 112,
   "metadata": {
    "colab": {
     "base_uri": "https://localhost:8080/",
     "height": 87
    },
    "colab_type": "code",
    "id": "DKp4DXud_M3l",
    "outputId": "020e95ae-c7e3-4dac-cdd5-6037043d4735"
   },
   "outputs": [
    {
     "name": "stdout",
     "output_type": "stream",
     "text": [
      "---미국매출의 최소값 비교---\n",
      "inventory의 미국매출 최소값 : 119102928\n",
      "meta의 미국매출 최소값 : 428\n",
      "meta의 미국매출 백분위 75%값 : 88831853\n"
     ]
    }
   ],
   "source": [
    "# meta의 inventory와 0인 값을 제외한 미국매출 최소값 구해보기 \n",
    "ls=[]\n",
    "for i in range(len(mv_meta)):\n",
    "  if mv_meta['inv_exist'][i]==0 and mv_meta['inf_income_usa'][i]!=0.0:\n",
    "    ls.append(i)\n",
    "\n",
    "mv_meta.loc[ls]['inv_exist'].unique() # inv_exist가 0만 들어가있음 \n",
    "\n",
    "print('---미국매출의 최소값 비교---')\n",
    "print('inventory의 미국매출 최소값 : %d'%((inf_income_usa['inv_usa_income']['min'])).round(0))\n",
    "\n",
    "print('meta의 미국매출 최소값 : %d'%(int(min(mv_meta.loc[ls]['inf_income_usa']))))\n",
    "print('meta의 미국매출 백분위 75%%값 : %d'%(int(mv_meta.loc[ls]['inf_income_usa'].quantile(q=0.75))))\n"
   ]
  },
  {
   "cell_type": "markdown",
   "metadata": {
    "colab_type": "text",
    "id": "urooE0StERld"
   },
   "source": [
    "meta의 상위 25%값이 inventory의 min값보다 작음!!!!!\n",
    "meta의 미국매출이 inventory보다 극도로 높음을 알 수 있다    \n",
    "왜 그럴까? 무슨 특징들과 얼마나 흥행하였기에 이렇게 매출차이가 나는걸까? "
   ]
  },
  {
   "cell_type": "code",
   "execution_count": 83,
   "metadata": {
    "colab": {
     "base_uri": "https://localhost:8080/",
     "height": 297
    },
    "colab_type": "code",
    "id": "bUeO1C1YyWW4",
    "outputId": "d70428a6-2575-4de7-f9d8-ef7352c25426"
   },
   "outputs": [
    {
     "data": {
      "text/plain": [
       "<matplotlib.axes._subplots.AxesSubplot at 0x7ff73f72f278>"
      ]
     },
     "execution_count": 83,
     "metadata": {
      "tags": []
     },
     "output_type": "execute_result"
    },
    {
     "data": {
      "image/png": "[encoded data removed]",
      "text/plain": [
       "<Figure size 864x288 with 2 Axes>"
      ]
     },
     "metadata": {
      "tags": []
     },
     "output_type": "display_data"
    }
   ],
   "source": [
    "# inventory의 inf_income_usa의 box plot 그려보기 \n",
    "sns.set_style(\"darkgrid\")\n",
    "plt.figure(figsize=(12,4))\n",
    "plt.subplot(211)\n",
    "sns.boxplot(x=mv_inv['inf_income_usa'])\n",
    "plt.subplot(212)\n",
    "sns.boxplot(x=mv_meta['inf_income_usa'],color='orange')"
   ]
  },
  {
   "cell_type": "code",
   "execution_count": 75,
   "metadata": {
    "colab": {
     "base_uri": "https://localhost:8080/",
     "height": 308
    },
    "colab_type": "code",
    "id": "-zACUCs5yiMD",
    "outputId": "2d6966d9-913b-47b5-b45e-473760505617"
   },
   "outputs": [
    {
     "data": {
      "text/plain": [
       "<matplotlib.axes._subplots.AxesSubplot at 0x7ff73f83a048>"
      ]
     },
     "execution_count": 75,
     "metadata": {
      "tags": []
     },
     "output_type": "execute_result"
    },
    {
     "data": {
      "image/png": "[encoded data removed]",
      "text/plain": [
       "<Figure size 864x288 with 1 Axes>"
      ]
     },
     "metadata": {
      "tags": []
     },
     "output_type": "display_data"
    }
   ],
   "source": [
    "# meta와 inventory의 inf_income_usa의 distplot 그려보기 \n",
    "sns.set_style(\"darkgrid\")\n",
    "plt.figure(figsize=(12,4))\n",
    "sns.distplot(mv_inv['inf_income_usa'],hist=False)\n",
    "sns.distplot(mv_meta['inf_income_usa'],hist=False)"
   ]
  },
  {
   "cell_type": "code",
   "execution_count": 163,
   "metadata": {
    "colab": {
     "base_uri": "https://localhost:8080/",
     "height": 52
    },
    "colab_type": "code",
    "id": "kThLZ0_mSSEO",
    "outputId": "2cfdead8-0628-4cc0-9e4a-7ac8d2daf82e"
   },
   "outputs": [
    {
     "name": "stdout",
     "output_type": "stream",
     "text": [
      "861\n",
      "meta의 usa매출의 상위 18.9% 이 inventory의 usa매출 최소값을 넘겼다.\n"
     ]
    }
   ],
   "source": [
    "# # # inventory의 usa매출값 최소값이 meta의 상위 몇 %안에 드는가? \n",
    "ls_min=[]\n",
    "inf_income_usa\n",
    "for i in range(len(mv_meta)):\n",
    "  if mv_meta['inf_income_usa'][i]>inf_income_usa['inv_usa_income']['min']:\n",
    "    ls_min.append(i)\n",
    "# meta의 usa매출값이 inventory의 최소값이상인 index와 갯수\n",
    "print(len(ls_min))  # 861개가 inv의 usa매출최소값 이상인 갯수 \n",
    "\n",
    "# meta의 상위 몇%가 inventory usa매출 최소값을 넘는지 보기\n",
    "print('meta의 usa매출의 상위 %.1f%% 이 inventory의 usa매출 최소값을 넘겼다.'%((len(ls_min)/len(mv_meta))*100))"
   ]
  },
  {
   "cell_type": "code",
   "execution_count": 0,
   "metadata": {
    "colab": {},
    "colab_type": "code",
    "id": "KI0PXYPPb4y_"
   },
   "outputs": [],
   "source": [
    "# usa매출 최소값을 넘기는 meta의 데이터(약 상위19%)\n",
    "ex_meta_min=mv_meta.loc[ls_min][mv_meta.loc[ls_min]['inv_exist']==0] # 그러나 inventory값은 제외한 데이터들만 추출 \n",
    "ex_meta_min['title'][:30] # 딱 봐도 흥행하거나 유명한 영화들 대거 나옴 "
   ]
  },
  {
   "cell_type": "markdown",
   "metadata": {
    "colab_type": "text",
    "id": "le7S1BSxgGjF"
   },
   "source": [
    "* 가설2 : 미국매출을 기준으로 상위 19%가 흥행한다 할 때 다른 변수들도 연관성이 있을 것이다. \n",
    "\n",
    "  + (inf_budgt, share, theater_opening_income, contract_price, positive_probability)     \n",
    "  이러한 변수들과도 경향성이 있는지 파악해보자"
   ]
  },
  {
   "cell_type": "code",
   "execution_count": 201,
   "metadata": {
    "colab": {
     "base_uri": "https://localhost:8080/",
     "height": 247
    },
    "colab_type": "code",
    "id": "DKl6SJuqgFXo",
    "outputId": "04e2efed-5829-46f0-da92-56ec4958e12e"
   },
   "outputs": [
    {
     "name": "stdout",
     "output_type": "stream",
     "text": [
      "inf_budget              1.037173e+08\n",
      "share                   5.324453e+01\n",
      "theater_opening         2.579353e+03\n",
      "contract_price          7.131217e+02\n",
      "positive_probability    6.099000e-01\n",
      "dtype: float64\n",
      "--------------------------------------\n",
      "inf_budget              5.281037e+07\n",
      "share                   5.642000e+01\n",
      "theater_opening         1.758933e+03\n",
      "contract_price          6.571316e+02\n",
      "positive_probability    6.383831e-01\n",
      "dtype: float64\n"
     ]
    }
   ],
   "source": [
    "# inf_budget, share, theater_opening, contract_price, positive_probability의 meta의 상위 19%의 이 변수들의 평균 \n",
    "print(ex_meta_min[['inf_budget','share','theater_opening','contract_price','positive_probability']].mean())\n",
    "\n",
    "print('--------------------------------------')\n",
    "# 위의 변수들의 meta에서 평균 \n",
    "print(mv_meta[['inf_budget','share','theater_opening','contract_price','positive_probability']].mean())\n"
   ]
  },
  {
   "cell_type": "markdown",
   "metadata": {
    "colab_type": "text",
    "id": "lYhKiKMltiLM"
   },
   "source": [
    "inf_budget, theater_opening과 contract_price만이 meta에서 상위 19%일 때 meta의 평균값보다 월등히 크므로 흥행할수록 제작예산, 극장상영관수와 판권가격도 높아지는 경향이 있다."
   ]
  },
  {
   "cell_type": "code",
   "execution_count": 187,
   "metadata": {
    "colab": {
     "base_uri": "https://localhost:8080/",
     "height": 52
    },
    "colab_type": "code",
    "id": "nMaB-Gv2VfTu",
    "outputId": "27d02970-a82c-4c20-8719-24317b8e9512"
   },
   "outputs": [
    {
     "name": "stdout",
     "output_type": "stream",
     "text": [
      "150\n",
      "meta의 usa매출의 상위 3.3% 이 inventory의 usa매출 중앙값을 넘겼다.\n"
     ]
    }
   ],
   "source": [
    "# # # inventory의 usa매출 중앙값 meta의 상위 몇 %안에 드는가? \n",
    "ls_med=[]\n",
    "inf_income_usa\n",
    "for i in range(len(mv_meta)):\n",
    "  if mv_meta['inf_income_usa'][i]>inf_income_usa['inv_usa_income']['50%']:\n",
    "    ls_med.append(i)\n",
    "# meta의 usa매출값이 inventory의 중앙값 이상인 index와 갯수\n",
    "print(len(ls_med))  # 151개가 inv의 usa매출 중앙값 이상인 갯수 \n",
    "\n",
    "# meta의 상위 몇%가 inventory usa매출 중앙값을 넘는지 보기\n",
    "print('meta의 usa매출의 상위 %.1f%% 이 inventory의 usa매출 중앙값을 넘겼다.'%((len(ls_med)/len(mv_meta))*100))"
   ]
  },
  {
   "cell_type": "code",
   "execution_count": 0,
   "metadata": {
    "colab": {},
    "colab_type": "code",
    "id": "dG0BBNXHrbif"
   },
   "outputs": [],
   "source": [
    "# usa매출 중앙값을 넘기는 meta의 데이터(약 상위3.3%) => 대흥행!!\n",
    "ex_meta_med=mv_meta.loc[ls_med][mv_meta.loc[ls_med]['inv_exist']==0] # 그러나 inventory값은 제외한 데이터들만 추출 \n",
    "ex_meta_med['title'][:30] # 딱 봐도 흥행하거나 유명한 영화들 대거 나옴"
   ]
  },
  {
   "cell_type": "code",
   "execution_count": 202,
   "metadata": {
    "colab": {
     "base_uri": "https://localhost:8080/",
     "height": 247
    },
    "colab_type": "code",
    "id": "JGhmzYdxuMBM",
    "outputId": "37081234-8dbc-420b-a223-34625e2f08b9"
   },
   "outputs": [
    {
     "name": "stdout",
     "output_type": "stream",
     "text": [
      "inf_budget              1.111090e+08\n",
      "share                   5.053595e+01\n",
      "theater_opening         2.254227e+03\n",
      "contract_price          7.698969e+02\n",
      "positive_probability    6.010523e-01\n",
      "dtype: float64\n",
      "--------------------------------------\n",
      "inf_budget              5.281037e+07\n",
      "share                   5.642000e+01\n",
      "theater_opening         1.758933e+03\n",
      "contract_price          6.571316e+02\n",
      "positive_probability    6.383831e-01\n",
      "dtype: float64\n"
     ]
    }
   ],
   "source": [
    "# inf_budget, share, theater_opening, contract_price, positive_probability의 meta의 상위 3%의 이 변수들의 평균 \n",
    "print(ex_meta_med[['inf_budget','share','theater_opening','contract_price','positive_probability']].mean())\n",
    "\n",
    "print('--------------------------------------')\n",
    "# 위의 변수들의 meta에서 평균 \n",
    "print(mv_meta[['inf_budget','share','theater_opening','contract_price','positive_probability']].mean())"
   ]
  },
  {
   "cell_type": "markdown",
   "metadata": {
    "colab_type": "text",
    "id": "sSRy1SzJraMV"
   },
   "source": []
  },
  {
   "cell_type": "code",
   "execution_count": 150,
   "metadata": {
    "colab": {
     "base_uri": "https://localhost:8080/",
     "height": 52
    },
    "colab_type": "code",
    "id": "1kgw3yJablc3",
    "outputId": "043494c9-5770-4cc1-c420-c43a2805a1df"
   },
   "outputs": [
    {
     "name": "stdout",
     "output_type": "stream",
     "text": [
      "84\n",
      "meta의 usa매출의 상위 1.8% 이 inventory의 usa매출 백분위수75을 넘겼다.\n"
     ]
    }
   ],
   "source": [
    "# # # inventory의 usa매출 백분위수75값이 meta의 상위 몇 %안에 드는가? (meta에서 상위 1.8%)\n",
    "ls=[]\n",
    "inf_income_usa\n",
    "for i in range(len(mv_meta)):\n",
    "  if mv_meta['inf_income_usa'][i]>inf_income_usa['inv_usa_income']['75%']:\n",
    "    ls.append(i)\n",
    "# meta의 usa매출값이 inventory의 백분위수75 이상인 index와 갯수\n",
    "print(len(ls))  # 151개가 inv의 usa매출 백분위수75 이상인 갯수 \n",
    "\n",
    "# meta의 상위 몇%가 inventory usa매출 백분위수75을 넘는지 보기\n",
    "print('meta의 usa매출의 상위 %.1f%% 이 inventory의 usa매출 백분위수75을 넘겼다.'%((len(ls)/len(mv_meta))*100))"
   ]
  },
  {
   "cell_type": "markdown",
   "metadata": {
    "colab_type": "text",
    "id": "ASfgbiII8kdY"
   },
   "source": []
  },
  {
   "cell_type": "markdown",
   "metadata": {
    "colab_type": "text",
    "id": "DUR7zxclIqaa"
   },
   "source": [
    "* title(inventory)확인해보니 상당수가 내가 다 봤을만큼 유명한 영화들이 들어가있음 !!! 그래서 meta보다 미국매출이 높을 수밖에 없다는 근거생김 \n",
    "\n",
    "+ 해리포터, 아바타, 호빗, 스파이더맨, 헝거게임, 겨울왕국, 스타워즈 ,트랜스포머, 캐리비안의 해적, 어벤져스, 아이언맨, 데드풀, 미션임파서블, 블랙펜서, 인셉션, 보헤미안랩소디, 트와일라잇, 주토피아, 토르, 쥬라직공원\n"
   ]
  },
  {
   "cell_type": "code",
   "execution_count": 0,
   "metadata": {
    "colab": {},
    "colab_type": "code",
    "id": "fwUZJ8Me7BUK"
   },
   "outputs": [],
   "source": [
    "# 가설1 : 흥행한 영화들이기 때문에 제작비가 상대적으로 meta의 평균값보다 높게 나올 것 \n",
    "mv_inv['inf_budget']"
   ]
  },
  {
   "cell_type": "code",
   "execution_count": 118,
   "metadata": {
    "colab": {
     "base_uri": "https://localhost:8080/",
     "height": 297
    },
    "colab_type": "code",
    "id": "Rzzt1rezMvF_",
    "outputId": "5e8813b1-28a1-4560-befc-b47ac9c3a9f6"
   },
   "outputs": [
    {
     "data": {
      "text/plain": [
       "<matplotlib.axes._subplots.AxesSubplot at 0x7ff73f31b1d0>"
      ]
     },
     "execution_count": 118,
     "metadata": {
      "tags": []
     },
     "output_type": "execute_result"
    },
    {
     "data": {
      "image/png": "[encoded data removed]",
      "text/plain": [
       "<Figure size 864x288 with 2 Axes>"
      ]
     },
     "metadata": {
      "tags": []
     },
     "output_type": "display_data"
    }
   ],
   "source": [
    "# inventory의 inf_income_usa의 box plot 그려보기 \n",
    "plt.figure(figsize=(12,4))\n",
    "plt.subplot(211)\n",
    "sns.boxplot(x=mv_inv['inf_budget'])\n",
    "plt.subplot(212)\n",
    "sns.boxplot(x=mv_meta['inf_budget'],color='orange')"
   ]
  },
  {
   "cell_type": "markdown",
   "metadata": {
    "colab_type": "text",
    "id": "iWDiIs0aM9E0"
   },
   "source": [
    "meta(주황색)의 영화예산의 상위 이상치값들도 inventoroy의 영화예산 백분위 25에도 못 미치는 값이 나왔다.        \n",
    "그만큼 영화제작예산이 inventory가 매우 높다는 결론이 나온다.  "
   ]
  },
  {
   "cell_type": "code",
   "execution_count": 0,
   "metadata": {
    "colab": {},
    "colab_type": "code",
    "id": "-dd0tCX1OJ8i"
   },
   "outputs": [],
   "source": [
    "# inventory의 inf_budget 분포와 최소, 최대, 평균값들을 알아보기 \n",
    "inv_inf_budget=mv_inv['inf_budget'].describe()"
   ]
  },
  {
   "cell_type": "code",
   "execution_count": 0,
   "metadata": {
    "colab": {},
    "colab_type": "code",
    "id": "Pki9CdSqOJ9H"
   },
   "outputs": [],
   "source": [
    "# meta의 inf_budget 분포와 최소, 최대, 평균값들을 알아보기 \n",
    "meta_inf_budget=mv_meta['inf_budget'].describe()"
   ]
  },
  {
   "cell_type": "code",
   "execution_count": 126,
   "metadata": {
    "colab": {
     "base_uri": "https://localhost:8080/",
     "height": 287
    },
    "colab_type": "code",
    "id": "bzvF2MxJOJ9c",
    "outputId": "243e75c0-1d56-45a2-a781-c9eded354d80"
   },
   "outputs": [
    {
     "data": {
      "text/html": [
       "<div>\n",
       "<style scoped>\n",
       "    .dataframe tbody tr th:only-of-type {\n",
       "        vertical-align: middle;\n",
       "    }\n",
       "\n",
       "    .dataframe tbody tr th {\n",
       "        vertical-align: top;\n",
       "    }\n",
       "\n",
       "    .dataframe thead th {\n",
       "        text-align: right;\n",
       "    }\n",
       "</style>\n",
       "<table border=\"1\" class=\"dataframe\">\n",
       "  <thead>\n",
       "    <tr style=\"text-align: right;\">\n",
       "      <th></th>\n",
       "      <th>inv_inf_budget</th>\n",
       "      <th>meta_inf_budget</th>\n",
       "    </tr>\n",
       "  </thead>\n",
       "  <tbody>\n",
       "    <tr>\n",
       "      <th>count</th>\n",
       "      <td>1.060000e+02</td>\n",
       "      <td>4.560000e+03</td>\n",
       "    </tr>\n",
       "    <tr>\n",
       "      <th>mean</th>\n",
       "      <td>1.689931e+08</td>\n",
       "      <td>5.281037e+07</td>\n",
       "    </tr>\n",
       "    <tr>\n",
       "      <th>std</th>\n",
       "      <td>8.569479e+07</td>\n",
       "      <td>5.793001e+07</td>\n",
       "    </tr>\n",
       "    <tr>\n",
       "      <th>min</th>\n",
       "      <td>5.077791e+06</td>\n",
       "      <td>1.026887e+04</td>\n",
       "    </tr>\n",
       "    <tr>\n",
       "      <th>25%</th>\n",
       "      <td>9.164438e+07</td>\n",
       "      <td>1.404852e+07</td>\n",
       "    </tr>\n",
       "    <tr>\n",
       "      <th>50%</th>\n",
       "      <td>1.743535e+08</td>\n",
       "      <td>3.306319e+07</td>\n",
       "    </tr>\n",
       "    <tr>\n",
       "      <th>75%</th>\n",
       "      <td>2.272339e+08</td>\n",
       "      <td>7.173228e+07</td>\n",
       "    </tr>\n",
       "    <tr>\n",
       "      <th>max</th>\n",
       "      <td>3.972384e+08</td>\n",
       "      <td>1.091304e+09</td>\n",
       "    </tr>\n",
       "  </tbody>\n",
       "</table>\n",
       "</div>"
      ],
      "text/plain": [
       "       inv_inf_budget  meta_inf_budget\n",
       "count    1.060000e+02     4.560000e+03\n",
       "mean     1.689931e+08     5.281037e+07\n",
       "std      8.569479e+07     5.793001e+07\n",
       "min      5.077791e+06     1.026887e+04\n",
       "25%      9.164438e+07     1.404852e+07\n",
       "50%      1.743535e+08     3.306319e+07\n",
       "75%      2.272339e+08     7.173228e+07\n",
       "max      3.972384e+08     1.091304e+09"
      ]
     },
     "execution_count": 126,
     "metadata": {
      "tags": []
     },
     "output_type": "execute_result"
    }
   ],
   "source": [
    "inf_budget=pd.DataFrame({'inv_inf_budget':inv_inf_budget,\n",
    "                             'meta_inf_budget':meta_inf_budget})\n",
    "inf_budget"
   ]
  },
  {
   "cell_type": "code",
   "execution_count": 127,
   "metadata": {
    "colab": {
     "base_uri": "https://localhost:8080/",
     "height": 34
    },
    "colab_type": "code",
    "id": "cdvlmcqwO8jG",
    "outputId": "edebd3de-fbfa-4c03-8cac-ee05325565eb"
   },
   "outputs": [
    {
     "name": "stdout",
     "output_type": "stream",
     "text": [
      "inventory의 영화예산의 평균은 meta보다 3.2배 높다.\n"
     ]
    }
   ],
   "source": [
    "# inventory의 inf_budget 평균이 meta보다 얼마나 높은가?\n",
    "print('inventory의 영화예산의 평균은 meta보다 %s배 높다.' %((inf_budget['inv_inf_budget']['mean']/inf_budget['meta_inf_budget']['mean'])).round(2))"
   ]
  },
  {
   "cell_type": "code",
   "execution_count": 114,
   "metadata": {
    "colab": {
     "base_uri": "https://localhost:8080/",
     "height": 308
    },
    "colab_type": "code",
    "id": "tR1KragYK1W7",
    "outputId": "5dbc7a52-a7b4-4c5d-845e-2e815a3549f5"
   },
   "outputs": [
    {
     "data": {
      "text/plain": [
       "<matplotlib.axes._subplots.AxesSubplot at 0x7ff73f32a828>"
      ]
     },
     "execution_count": 114,
     "metadata": {
      "tags": []
     },
     "output_type": "execute_result"
    },
    {
     "data": {
      "image/png": "[encoded data removed]",
      "text/plain": [
       "<Figure size 864x288 with 1 Axes>"
      ]
     },
     "metadata": {
      "tags": []
     },
     "output_type": "display_data"
    }
   ],
   "source": [
    "# inventory와 meta의 inf_budget의 distplot 그려보기 \n",
    "plt.figure(figsize=(12,4))\n",
    "sns.distplot(mv_inv['inf_budget'],hist=False)\n",
    "sns.distplot(mv_meta['inf_budget'],hist=False)"
   ]
  },
  {
   "cell_type": "markdown",
   "metadata": {
    "colab_type": "text",
    "id": "fBHWnXFhPPS3"
   },
   "source": [
    "meta의 영화예산은 매우 좁은 범위에 값들이 몰려있고 inventory(파란선)는 분포가 넓게 퍼져있고, 값들이 meta보다 2~3배 큰 것으로 보인다.       \n",
    "이렇듯 inventory의 영화들은 제작예산이 높은 편에 속하고, 흥행한 영화는 제작예산이 높다라는 결론이 나온다."
   ]
  },
  {
   "cell_type": "code",
   "execution_count": 0,
   "metadata": {
    "colab": {},
    "colab_type": "code",
    "id": "GVH4P7Vswt-N"
   },
   "outputs": [],
   "source": []
  },
  {
   "cell_type": "code",
   "execution_count": 208,
   "metadata": {
    "colab": {
     "base_uri": "https://localhost:8080/",
     "height": 52
    },
    "colab_type": "code",
    "id": "spjfWQgkw7Z4",
    "outputId": "60a029cf-00d9-4de5-8ece-5b67b0da066a"
   },
   "outputs": [
    {
     "name": "stdout",
     "output_type": "stream",
     "text": [
      "854\n",
      "meta의 영화예산의 상위 18.7% 이 inventory의 영화예산 백분위수25을 넘겼다.\n"
     ]
    }
   ],
   "source": [
    "# # # inventory의 영화예산값 백분위수25 이 meta의 상위 몇 %안에 드는가? \n",
    "ls_25=[]\n",
    "inf_budget\n",
    "for i in range(len(mv_meta)):\n",
    "  if mv_meta['inf_budget'][i]>inf_budget['inv_inf_budget']['25%']:\n",
    "    ls_25.append(i)\n",
    "# meta의 영화예산값이 inventory의 백분위수25이상인 index와 갯수\n",
    "print(len(ls_25))  # 861개가 inv의 영화예산 백분위수25 이상인 갯수 \n",
    "\n",
    "# meta의 상위 몇%가 inventory 영화예산 백분위수25을 넘는지 보기\n",
    "print('meta의 영화예산의 상위 %.1f%% 이 inventory의 영화예산 백분위수25을 넘겼다.'%((len(ls_25)/len(mv_meta))*100))"
   ]
  },
  {
   "cell_type": "code",
   "execution_count": 0,
   "metadata": {
    "colab": {},
    "colab_type": "code",
    "id": "F1oIdnpdw7aV"
   },
   "outputs": [],
   "source": [
    "# usa매출 최소값을 넘기는 meta의 데이터(약 상위19%)\n",
    "ex_meta_min=mv_meta.loc[ls_min][mv_meta.loc[ls_min]['inv_exist']==0] # 그러나 inventory값은 제외한 데이터들만 추출 \n",
    "# ex_meta_min['title'][:30] # 딱 봐도 흥행하거나 유명한 영화들 대거 나옴 "
   ]
  },
  {
   "cell_type": "code",
   "execution_count": 210,
   "metadata": {
    "colab": {
     "base_uri": "https://localhost:8080/",
     "height": 212
    },
    "colab_type": "code",
    "id": "p-zdIFiJw7ai",
    "outputId": "f9346e3c-7ae8-4e66-abea-7c31fbe1295b"
   },
   "outputs": [
    {
     "name": "stdout",
     "output_type": "stream",
     "text": [
      "share                     58.300095\n",
      "theater_opening         1873.307905\n",
      "contract_price           660.446675\n",
      "positive_probability       0.633155\n",
      "dtype: float64\n",
      "--------------------------------------\n",
      "share                     56.420005\n",
      "theater_opening         1758.933114\n",
      "contract_price           657.131579\n",
      "positive_probability       0.638383\n",
      "dtype: float64\n"
     ]
    }
   ],
   "source": [
    "# inf_budget, share, theater_opening, contract_price, positive_probability의 meta의 상위 19%의 이 변수들의 평균 \n",
    "print(ex_meta_min[['share','theater_opening','contract_price','positive_probability']].mean())\n",
    "\n",
    "print('--------------------------------------')\n",
    "# 위의 변수들의 meta에서 평균 \n",
    "print(mv_meta[['share','theater_opening','contract_price','positive_probability']].mean())\n"
   ]
  },
  {
   "cell_type": "markdown",
   "metadata": {
    "colab_type": "text",
    "id": "39tGKi8SyRs8"
   },
   "source": [
    "theater_opening만 제작예산이 상위 약 19%일 때가 총 평균보다 높다.   \n",
    "inf_budget으로 흥행을 구분시 inventory로 백분위수25값보다 meta에서 큰 값들이 19%라고 말할 수 있다."
   ]
  },
  {
   "cell_type": "markdown",
   "metadata": {
    "colab_type": "text",
    "id": "ilm6lljHipKb"
   },
   "source": [
    "* 가설 3 : inf_budget과 inf_income_usa와 관련성이 있는가?"
   ]
  },
  {
   "cell_type": "code",
   "execution_count": 170,
   "metadata": {
    "colab": {
     "base_uri": "https://localhost:8080/",
     "height": 308
    },
    "colab_type": "code",
    "id": "lZ4m0x3XLVQq",
    "outputId": "9f030a15-489f-4b36-da3f-8966d1a86d1b"
   },
   "outputs": [
    {
     "data": {
      "text/plain": [
       "<matplotlib.axes._subplots.AxesSubplot at 0x7ff73f575710>"
      ]
     },
     "execution_count": 170,
     "metadata": {
      "tags": []
     },
     "output_type": "execute_result"
    },
    {
     "data": {
      "image/png": "[encoded data removed]",
      "text/plain": [
       "<Figure size 432x288 with 1 Axes>"
      ]
     },
     "metadata": {
      "tags": []
     },
     "output_type": "display_data"
    }
   ],
   "source": [
    "sns.scatterplot(data=mv_meta,x='inf_budget',y='inf_income_usa')"
   ]
  },
  {
   "cell_type": "markdown",
   "metadata": {
    "colab_type": "text",
    "id": "80aQRMfzjP4n"
   },
   "source": [
    "영화제작예산과 usa매출은 크게 관련성이 있어보이지 않는다."
   ]
  },
  {
   "cell_type": "code",
   "execution_count": 172,
   "metadata": {
    "colab": {
     "base_uri": "https://localhost:8080/",
     "height": 107
    },
    "colab_type": "code",
    "id": "_wMk76nQjDNN",
    "outputId": "de2569b1-3ad4-4072-d584-152547aca005"
   },
   "outputs": [
    {
     "data": {
      "text/html": [
       "<div>\n",
       "<style scoped>\n",
       "    .dataframe tbody tr th:only-of-type {\n",
       "        vertical-align: middle;\n",
       "    }\n",
       "\n",
       "    .dataframe tbody tr th {\n",
       "        vertical-align: top;\n",
       "    }\n",
       "\n",
       "    .dataframe thead th {\n",
       "        text-align: right;\n",
       "    }\n",
       "</style>\n",
       "<table border=\"1\" class=\"dataframe\">\n",
       "  <thead>\n",
       "    <tr style=\"text-align: right;\">\n",
       "      <th></th>\n",
       "      <th>inf_budget</th>\n",
       "      <th>inf_income_usa</th>\n",
       "    </tr>\n",
       "  </thead>\n",
       "  <tbody>\n",
       "    <tr>\n",
       "      <th>inf_budget</th>\n",
       "      <td>1.000000</td>\n",
       "      <td>0.541494</td>\n",
       "    </tr>\n",
       "    <tr>\n",
       "      <th>inf_income_usa</th>\n",
       "      <td>0.541494</td>\n",
       "      <td>1.000000</td>\n",
       "    </tr>\n",
       "  </tbody>\n",
       "</table>\n",
       "</div>"
      ],
      "text/plain": [
       "                inf_budget  inf_income_usa\n",
       "inf_budget        1.000000        0.541494\n",
       "inf_income_usa    0.541494        1.000000"
      ]
     },
     "execution_count": 172,
     "metadata": {
      "tags": []
     },
     "output_type": "execute_result"
    }
   ],
   "source": [
    "mv_meta[['inf_budget','inf_income_usa']].corr()"
   ]
  },
  {
   "cell_type": "markdown",
   "metadata": {
    "colab_type": "text",
    "id": "LvLNsAskjrUg"
   },
   "source": [
    "상관계수를 구해보니 0.54정도로 약한 양의 선형성이 있다"
   ]
  },
  {
   "cell_type": "code",
   "execution_count": 184,
   "metadata": {
    "colab": {
     "base_uri": "https://localhost:8080/",
     "height": 297
    },
    "colab_type": "code",
    "id": "uVkul03qkx-6",
    "outputId": "c7873286-f3c2-4786-dfe0-9ff3221d91d6"
   },
   "outputs": [
    {
     "data": {
      "text/plain": [
       "<matplotlib.axes._subplots.AxesSubplot at 0x7ff748de89b0>"
      ]
     },
     "execution_count": 184,
     "metadata": {
      "tags": []
     },
     "output_type": "execute_result"
    },
    {
     "data": {
      "image/png": "[encoded data removed]",
      "text/plain": [
       "<Figure size 864x288 with 3 Axes>"
      ]
     },
     "metadata": {
      "tags": []
     },
     "output_type": "display_data"
    }
   ],
   "source": [
    "# inventory가 평균적으로 meta보다 큰 값인 theater_opening, imdb_score, review_users의 분포 확인\n",
    "# inventory와 meta의 inf_budget의 distplot 그려보기 \n",
    "plt.figure(figsize=(12,4))\n",
    "plt.subplot(131)\n",
    "# plt.figure(figsize=(12,4))\n",
    "sns.distplot(mv_inv['theater_opening'],hist=False)\n",
    "sns.distplot(mv_meta['theater_opening'],hist=False)\n",
    "plt.subplot(132)\n",
    "# plt.figure(figsize=(12,4))\n",
    "sns.distplot(mv_inv['imdb_score'],hist=False)\n",
    "sns.distplot(mv_meta['imdb_score'],hist=False)\n",
    "plt.subplot(133)\n",
    "# plt.figure(figsize=(12,4))\n",
    "sns.distplot(mv_inv['reviews_users'],hist=False)\n",
    "sns.distplot(mv_meta['reviews_users'],hist=False)\n"
   ]
  },
  {
   "cell_type": "markdown",
   "metadata": {
    "colab_type": "text",
    "id": "n8I63TNqqEkW"
   },
   "source": [
    "3개 변수 모두다 meta보다 inventory값이 더 큰 값에 분포하고 있음을 알 수 있다."
   ]
  },
  {
   "cell_type": "code",
   "execution_count": 0,
   "metadata": {
    "colab": {},
    "colab_type": "code",
    "id": "E83rxdkep8hT"
   },
   "outputs": [],
   "source": []
  },
  {
   "cell_type": "markdown",
   "metadata": {
    "colab_type": "text",
    "id": "n_7W9X-Ky10Q"
   },
   "source": [
    "## 결론 \n",
    "1. inventory에는 흥행한 영화들이 주로 들어가있다. \n",
    "2. 흥행의 정도는 meta기준으로 inf_income_usa(미국매출)과 inf_budget(영화제작예산)으로 나눌 수 있었다.\n",
    "- 근거 : distplot에서 meta가 inventory보다 훨씬 큰 값들이 많이 들어가있었음 \n",
    "3. inventory에서 inf_income_usa의 최소값이 meta의 값의 상위 19%안에 든다. => 흥행\n",
    "  그리고 중앙값으로 하면 meta의 상위 3.3%안에 든다. => 대흥행\n",
    "4. 만약 inf_budget으로 기준을 세둔다면 inventory의 inf_budget의 백분위수 25값보다 큰 값은 meta의 상위 약 19% 안에 드는 값 => 흥행\n",
    "5. 그 외에 흥행의 지표로 쓰일 수 있는 변수들 분포 및 상관성 파악했음\n"
   ]
  },
  {
   "cell_type": "code",
   "execution_count": 0,
   "metadata": {
    "colab": {},
    "colab_type": "code",
    "id": "_LU7t0_c0m72"
   },
   "outputs": [],
   "source": []
  }
 ],
 "metadata": {
  "colab": {
   "collapsed_sections": [],
   "name": "meta/inventory의 영화매출기준 및 흥행지표.ipynb",
   "provenance": []
  },
  "kernelspec": {
   "display_name": "Python 3",
   "language": "python",
   "name": "python3"
  },
  "language_info": {
   "codemirror_mode": {
    "name": "ipython",
    "version": 3
   },
   "file_extension": ".py",
   "mimetype": "text/x-python",
   "name": "python",
   "nbconvert_exporter": "python",
   "pygments_lexer": "ipython3",
   "version": "3.7.6"
  }
 },
 "nbformat": 4,
 "nbformat_minor": 1
}
