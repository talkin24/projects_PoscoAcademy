{
 "cells": [
  {
   "cell_type": "code",
   "execution_count": 0,
   "metadata": {
    "colab": {
     "base_uri": "https://localhost:8080/",
     "height": 72
    },
    "colab_type": "code",
    "id": "vQMEZTbHwRBv",
    "outputId": "b2493abe-a930-4810-acaa-a62bba56d63e"
   },
   "outputs": [
    {
     "name": "stderr",
     "output_type": "stream",
     "text": [
      "/usr/local/lib/python3.6/dist-packages/statsmodels/tools/_testing.py:19: FutureWarning: pandas.util.testing is deprecated. Use the functions in the public API at pandas.testing instead.\n",
      "  import pandas.util.testing as tm\n"
     ]
    }
   ],
   "source": [
    "import pandas as pd \n",
    "import numpy as np\n",
    "import datetime\n",
    "import re\n",
    "\n",
    "from sklearn.model_selection import train_test_split\n",
    "from sklearn.ensemble import GradientBoostingRegressor\n",
    "from sklearn.model_selection import GridSearchCV\n",
    "\n",
    "from statsmodels.stats.outliers_influence import variance_inflation_factor\n",
    "from sklearn.linear_model import LinearRegression\n",
    "from sklearn.feature_selection import RFE\n",
    "from sklearn.preprocessing import StandardScaler\n",
    "\n",
    "from statsmodels.formula.api import ols\n",
    "from statsmodels.api import qqplot,add_constant\n",
    "import statsmodels.formula.api as smf\n",
    "from statsmodels.tools.eval_measures import rmse\n",
    "%matplotlib inline\n",
    "\n",
    "import numpy as np\n",
    "import matplotlib\n",
    "import matplotlib.pyplot as plt\n",
    "import seaborn as sns\n",
    "import statsmodels.api as sm\n",
    "\n",
    "from sklearn.linear_model import LinearRegression\n",
    "from sklearn.feature_selection import RFE\n",
    "from sklearn.linear_model import RidgeCV, LassoCV, Ridge, Lasso\n",
    "\n",
    "\n",
    "from sklearn.ensemble import RandomForestRegressor\n",
    "from sklearn.tree import DecisionTreeRegressor\n",
    "\n",
    "from sklearn.preprocessing import StandardScaler\n",
    "from sklearn.preprocessing import MinMaxScaler\n",
    "from sklearn.preprocessing import MaxAbsScaler\n",
    "from sklearn.preprocessing import RobustScaler\n",
    "\n",
    "from sklearn.metrics import mean_squared_error\n",
    "from sklearn.metrics import mean_absolute_error\n",
    "\n",
    "import seaborn as sns\n",
    "import scipy.stats"
   ]
  },
  {
   "cell_type": "code",
   "execution_count": 0,
   "metadata": {
    "colab": {},
    "colab_type": "code",
    "id": "9ILTYu3HFY7J"
   },
   "outputs": [],
   "source": [
    "cus=pd.read_csv('movie_customer_cleaned.csv')\n",
    "down=pd.read_csv('movie_download_cleaned.csv')\n",
    "meta=pd.read_csv('movie_meta_cleaned_final5.csv')"
   ]
  },
  {
   "cell_type": "code",
   "execution_count": 0,
   "metadata": {
    "colab": {},
    "colab_type": "code",
    "id": "g0qkxBFMMU_h"
   },
   "outputs": [],
   "source": [
    "# download에 item_id별 다운로드 건수 \n",
    "cnt_mvid=down['item_id'].value_counts().reset_index()\n",
    "cnt_mvid.columns=['item_id','down_cnt']"
   ]
  },
  {
   "cell_type": "code",
   "execution_count": 0,
   "metadata": {
    "colab": {
     "base_uri": "https://localhost:8080/",
     "height": 217
    },
    "colab_type": "code",
    "id": "jIyJTVo29IE0",
    "outputId": "a9c2c15f-cff3-4658-ae4c-38eb139fe816"
   },
   "outputs": [
    {
     "data": {
      "text/html": [
       "<div>\n",
       "<style scoped>\n",
       "    .dataframe tbody tr th:only-of-type {\n",
       "        vertical-align: middle;\n",
       "    }\n",
       "\n",
       "    .dataframe tbody tr th {\n",
       "        vertical-align: top;\n",
       "    }\n",
       "\n",
       "    .dataframe thead th {\n",
       "        text-align: right;\n",
       "    }\n",
       "</style>\n",
       "<table border=\"1\" class=\"dataframe\">\n",
       "  <thead>\n",
       "    <tr style=\"text-align: right;\">\n",
       "      <th></th>\n",
       "      <th>customer_id</th>\n",
       "      <th>item_id</th>\n",
       "      <th>down_year</th>\n",
       "      <th>down_date</th>\n",
       "      <th>weekday</th>\n",
       "      <th>inf_year</th>\n",
       "      <th>down_price</th>\n",
       "      <th>inf_down_price</th>\n",
       "    </tr>\n",
       "  </thead>\n",
       "  <tbody>\n",
       "    <tr>\n",
       "      <th>0</th>\n",
       "      <td>C5001</td>\n",
       "      <td>I-1010</td>\n",
       "      <td>2014</td>\n",
       "      <td>02-21-2014</td>\n",
       "      <td>6</td>\n",
       "      <td>1.051872</td>\n",
       "      <td>0.946685</td>\n",
       "      <td>0.995792</td>\n",
       "    </tr>\n",
       "    <tr>\n",
       "      <th>1</th>\n",
       "      <td>C5001</td>\n",
       "      <td>I-1014</td>\n",
       "      <td>2014</td>\n",
       "      <td>04-04-2014</td>\n",
       "      <td>6</td>\n",
       "      <td>1.051872</td>\n",
       "      <td>0.946685</td>\n",
       "      <td>0.995792</td>\n",
       "    </tr>\n",
       "    <tr>\n",
       "      <th>2</th>\n",
       "      <td>C5001</td>\n",
       "      <td>I-1017</td>\n",
       "      <td>2014</td>\n",
       "      <td>01-19-2014</td>\n",
       "      <td>1</td>\n",
       "      <td>1.051872</td>\n",
       "      <td>0.946685</td>\n",
       "      <td>0.995792</td>\n",
       "    </tr>\n",
       "    <tr>\n",
       "      <th>3</th>\n",
       "      <td>C5001</td>\n",
       "      <td>I-1028</td>\n",
       "      <td>2014</td>\n",
       "      <td>01-21-2014</td>\n",
       "      <td>3</td>\n",
       "      <td>1.051872</td>\n",
       "      <td>0.946685</td>\n",
       "      <td>0.995792</td>\n",
       "    </tr>\n",
       "    <tr>\n",
       "      <th>4</th>\n",
       "      <td>C5001</td>\n",
       "      <td>I-1035</td>\n",
       "      <td>2014</td>\n",
       "      <td>03-11-2014</td>\n",
       "      <td>3</td>\n",
       "      <td>1.051872</td>\n",
       "      <td>0.899351</td>\n",
       "      <td>0.946002</td>\n",
       "    </tr>\n",
       "  </tbody>\n",
       "</table>\n",
       "</div>"
      ],
      "text/plain": [
       "  customer_id item_id  down_year  ...  inf_year  down_price  inf_down_price\n",
       "0       C5001  I-1010       2014  ...  1.051872    0.946685        0.995792\n",
       "1       C5001  I-1014       2014  ...  1.051872    0.946685        0.995792\n",
       "2       C5001  I-1017       2014  ...  1.051872    0.946685        0.995792\n",
       "3       C5001  I-1028       2014  ...  1.051872    0.946685        0.995792\n",
       "4       C5001  I-1035       2014  ...  1.051872    0.899351        0.946002\n",
       "\n",
       "[5 rows x 8 columns]"
      ]
     },
     "execution_count": 78,
     "metadata": {
      "tags": []
     },
     "output_type": "execute_result"
    }
   ],
   "source": [
    "inf_down_price=down['down_price']*down['inf_year']\n",
    "down['inf_down_price']=down['down_price']*down['inf_year']\n",
    "down.head()"
   ]
  },
  {
   "cell_type": "code",
   "execution_count": 0,
   "metadata": {
    "colab": {},
    "colab_type": "code",
    "id": "LpUslPg3RcWi"
   },
   "outputs": [],
   "source": [
    "inf_down_price=down['inf_down_price']*down['inf_year']\n",
    "sum_price_mvid=down.groupby('item_id')['inf_down_price'].sum()\n",
    "sum_price_mvid=sum_price_mvid.reset_index()\n",
    "# item_id별 매출가격 meta에 merge\n",
    "inv_new1=pd.merge(meta,sum_price_mvid,how='left',on='item_id')\n",
    "# item_id별 다운로드 건수 meta에 merge\n",
    "inv_new2=pd.merge(inv_new1,cnt_mvid,how='left',on='item_id')"
   ]
  },
  {
   "cell_type": "code",
   "execution_count": 0,
   "metadata": {
    "colab": {
     "base_uri": "https://localhost:8080/",
     "height": 70
    },
    "colab_type": "code",
    "id": "amOHKp9NapXS",
    "outputId": "5fcdafc2-4e44-49ed-8682-5c5c81f96a8d"
   },
   "outputs": [
    {
     "name": "stdout",
     "output_type": "stream",
     "text": [
      "4560\n",
      "int64\n",
      "object\n"
     ]
    }
   ],
   "source": [
    "# meta의 데이터 갯수 확인\n",
    "print(len(inv_new2)) # 4560\n",
    "print(inv_new2['inv_exist'].dtypes) \n",
    "print(inv_new2['contract_year'].dtypes) "
   ]
  },
  {
   "cell_type": "code",
   "execution_count": 0,
   "metadata": {
    "colab": {},
    "colab_type": "code",
    "id": "bWcJOu6ulHSx"
   },
   "outputs": [],
   "source": []
  },
  {
   "cell_type": "code",
   "execution_count": 0,
   "metadata": {
    "colab": {},
    "colab_type": "code",
    "id": "-NQHoK7wQLT1"
   },
   "outputs": [],
   "source": [
    "# meta에서 inv_exist=1인 것만 추출해서 meta_1데이터 생성\n",
    "meta_1=inv_new2.loc[inv_new2['inv_exist']==1,:]\n",
    "meta_1=meta_1.reset_index()"
   ]
  },
  {
   "cell_type": "code",
   "execution_count": 0,
   "metadata": {
    "colab": {
     "base_uri": "https://localhost:8080/",
     "height": 530
    },
    "colab_type": "code",
    "id": "1nd3A45CQN_s",
    "outputId": "519cd313-2553-4c69-b54d-7afa6843ff66"
   },
   "outputs": [
    {
     "data": {
      "text/html": [
       "<div>\n",
       "<style scoped>\n",
       "    .dataframe tbody tr th:only-of-type {\n",
       "        vertical-align: middle;\n",
       "    }\n",
       "\n",
       "    .dataframe tbody tr th {\n",
       "        vertical-align: top;\n",
       "    }\n",
       "\n",
       "    .dataframe thead th {\n",
       "        text-align: right;\n",
       "    }\n",
       "</style>\n",
       "<table border=\"1\" class=\"dataframe\">\n",
       "  <thead>\n",
       "    <tr style=\"text-align: right;\">\n",
       "      <th></th>\n",
       "      <th>index</th>\n",
       "      <th>movie_id</th>\n",
       "      <th>title</th>\n",
       "      <th>release_year</th>\n",
       "      <th>release_date</th>\n",
       "      <th>runtime</th>\n",
       "      <th>mpa_rating</th>\n",
       "      <th>imdb_score</th>\n",
       "      <th>dvd_sales</th>\n",
       "      <th>blu_sales</th>\n",
       "      <th>total_sales</th>\n",
       "      <th>legs</th>\n",
       "      <th>share</th>\n",
       "      <th>inf_income_usa</th>\n",
       "      <th>theater_opening</th>\n",
       "      <th>theater_total</th>\n",
       "      <th>src</th>\n",
       "      <th>awards</th>\n",
       "      <th>poster</th>\n",
       "      <th>metascore</th>\n",
       "      <th>release_dvd</th>\n",
       "      <th>big_awards_num</th>\n",
       "      <th>awards_win_num</th>\n",
       "      <th>awards_nomin_num</th>\n",
       "      <th>reviews_users</th>\n",
       "      <th>reviews_critics</th>\n",
       "      <th>prd_mthd</th>\n",
       "      <th>budget</th>\n",
       "      <th>series_new</th>\n",
       "      <th>income_opening</th>\n",
       "      <th>votes</th>\n",
       "      <th>income_usa</th>\n",
       "      <th>income_int</th>\n",
       "      <th>income_ww</th>\n",
       "      <th>item_id</th>\n",
       "      <th>inv_exist</th>\n",
       "      <th>contract_year</th>\n",
       "      <th>inf</th>\n",
       "      <th>genre_action</th>\n",
       "      <th>genre_adventure</th>\n",
       "      <th>...</th>\n",
       "      <th>genre_documentary</th>\n",
       "      <th>dvd_over_income</th>\n",
       "      <th>movie_down_sales</th>\n",
       "      <th>contract_price_inf</th>\n",
       "      <th>net_profit</th>\n",
       "      <th>studio</th>\n",
       "      <th>positive_probability</th>\n",
       "      <th>english</th>\n",
       "      <th>dvd</th>\n",
       "      <th>blu</th>\n",
       "      <th>cntry_USA</th>\n",
       "      <th>actor_A</th>\n",
       "      <th>actor_B</th>\n",
       "      <th>actor_C</th>\n",
       "      <th>director_A</th>\n",
       "      <th>director_B</th>\n",
       "      <th>director_C</th>\n",
       "      <th>APPROVED</th>\n",
       "      <th>G</th>\n",
       "      <th>NC-17</th>\n",
       "      <th>NOT RATED</th>\n",
       "      <th>PASSED</th>\n",
       "      <th>PG</th>\n",
       "      <th>PG-13</th>\n",
       "      <th>R</th>\n",
       "      <th>TV-14</th>\n",
       "      <th>TV-G</th>\n",
       "      <th>TV-MA</th>\n",
       "      <th>TV-PG</th>\n",
       "      <th>TV-Y7</th>\n",
       "      <th>inf_income_int</th>\n",
       "      <th>inf_income_ww</th>\n",
       "      <th>inf_budget</th>\n",
       "      <th>inf_income_opening</th>\n",
       "      <th>studio_score</th>\n",
       "      <th>price_class</th>\n",
       "      <th>contract_price</th>\n",
       "      <th>inf_down_price</th>\n",
       "      <th>down_cnt</th>\n",
       "      <th>duration</th>\n",
       "    </tr>\n",
       "  </thead>\n",
       "  <tbody>\n",
       "    <tr>\n",
       "      <th>0</th>\n",
       "      <td>1</td>\n",
       "      <td>tt2395427</td>\n",
       "      <td>Avengers: Age of Ultron</td>\n",
       "      <td>2015</td>\n",
       "      <td>42125</td>\n",
       "      <td>141</td>\n",
       "      <td>PG-13</td>\n",
       "      <td>7.3</td>\n",
       "      <td>33569045.0</td>\n",
       "      <td>55802159.0</td>\n",
       "      <td>89371204.0</td>\n",
       "      <td>2.399766</td>\n",
       "      <td>32.715702</td>\n",
       "      <td>496031246.0</td>\n",
       "      <td>4276</td>\n",
       "      <td>4276</td>\n",
       "      <td>based on comic/graphic novel</td>\n",
       "      <td>8 wins &amp; 47 nominations.</td>\n",
       "      <td>https://m.media-amazon.com/images/M/MV5BMTM4OG...</td>\n",
       "      <td>66.0</td>\n",
       "      <td>2/10/2015</td>\n",
       "      <td>0</td>\n",
       "      <td>8</td>\n",
       "      <td>55</td>\n",
       "      <td>1283</td>\n",
       "      <td>689</td>\n",
       "      <td>animation/live action</td>\n",
       "      <td>365000000.0</td>\n",
       "      <td>1</td>\n",
       "      <td>191271109.0</td>\n",
       "      <td>697604.0</td>\n",
       "      <td>459005868.0</td>\n",
       "      <td>9.440081e+08</td>\n",
       "      <td>1.403014e+09</td>\n",
       "      <td>I-1048</td>\n",
       "      <td>1</td>\n",
       "      <td>2015</td>\n",
       "      <td>1.080664</td>\n",
       "      <td>1</td>\n",
       "      <td>1</td>\n",
       "      <td>...</td>\n",
       "      <td>0</td>\n",
       "      <td>0.073134239</td>\n",
       "      <td>1042.255387</td>\n",
       "      <td>755.7743092999997</td>\n",
       "      <td>286.48107789999995</td>\n",
       "      <td>BUENA VISTA</td>\n",
       "      <td>0.861669</td>\n",
       "      <td>1</td>\n",
       "      <td>1</td>\n",
       "      <td>1</td>\n",
       "      <td>1</td>\n",
       "      <td>2</td>\n",
       "      <td>2</td>\n",
       "      <td>0</td>\n",
       "      <td>0</td>\n",
       "      <td>0</td>\n",
       "      <td>1</td>\n",
       "      <td>0</td>\n",
       "      <td>0</td>\n",
       "      <td>0</td>\n",
       "      <td>0</td>\n",
       "      <td>0</td>\n",
       "      <td>0</td>\n",
       "      <td>1</td>\n",
       "      <td>0</td>\n",
       "      <td>0</td>\n",
       "      <td>0</td>\n",
       "      <td>0</td>\n",
       "      <td>0</td>\n",
       "      <td>0</td>\n",
       "      <td>1.020156e+09</td>\n",
       "      <td>1.516187e+09</td>\n",
       "      <td>3.944425e+08</td>\n",
       "      <td>2.066999e+08</td>\n",
       "      <td>6</td>\n",
       "      <td>1</td>\n",
       "      <td>650</td>\n",
       "      <td>267.208323</td>\n",
       "      <td>1078.0</td>\n",
       "      <td>4</td>\n",
       "    </tr>\n",
       "    <tr>\n",
       "      <th>1</th>\n",
       "      <td>2</td>\n",
       "      <td>tt4154756</td>\n",
       "      <td>Avengers: Infinity War</td>\n",
       "      <td>2018</td>\n",
       "      <td>43217</td>\n",
       "      <td>156</td>\n",
       "      <td>PG-13</td>\n",
       "      <td>8.5</td>\n",
       "      <td>23700665.0</td>\n",
       "      <td>77736363.0</td>\n",
       "      <td>101437028.0</td>\n",
       "      <td>2.634149</td>\n",
       "      <td>33.139466</td>\n",
       "      <td>678815482.0</td>\n",
       "      <td>4474</td>\n",
       "      <td>4474</td>\n",
       "      <td>based on comic/graphic novel</td>\n",
       "      <td>Nominated for 1 Oscar. Another 44 wins &amp; 70 no...</td>\n",
       "      <td>https://m.media-amazon.com/images/M/MV5BMjMxNj...</td>\n",
       "      <td>68.0</td>\n",
       "      <td>14-08-2018</td>\n",
       "      <td>1</td>\n",
       "      <td>44</td>\n",
       "      <td>114</td>\n",
       "      <td>4191</td>\n",
       "      <td>605</td>\n",
       "      <td>animation/live action</td>\n",
       "      <td>300000000.0</td>\n",
       "      <td>1</td>\n",
       "      <td>257698183.0</td>\n",
       "      <td>748996.0</td>\n",
       "      <td>678815482.0</td>\n",
       "      <td>1.369544e+09</td>\n",
       "      <td>2.048360e+09</td>\n",
       "      <td>I-1097</td>\n",
       "      <td>1</td>\n",
       "      <td>2018</td>\n",
       "      <td>1.000000</td>\n",
       "      <td>1</td>\n",
       "      <td>1</td>\n",
       "      <td>...</td>\n",
       "      <td>0</td>\n",
       "      <td>0.034914738</td>\n",
       "      <td>161.0</td>\n",
       "      <td>1000.0</td>\n",
       "      <td>-839.0</td>\n",
       "      <td>BUENA VISTA</td>\n",
       "      <td>0.155046</td>\n",
       "      <td>1</td>\n",
       "      <td>1</td>\n",
       "      <td>1</td>\n",
       "      <td>1</td>\n",
       "      <td>2</td>\n",
       "      <td>2</td>\n",
       "      <td>0</td>\n",
       "      <td>0</td>\n",
       "      <td>0</td>\n",
       "      <td>0</td>\n",
       "      <td>0</td>\n",
       "      <td>0</td>\n",
       "      <td>0</td>\n",
       "      <td>0</td>\n",
       "      <td>0</td>\n",
       "      <td>0</td>\n",
       "      <td>1</td>\n",
       "      <td>0</td>\n",
       "      <td>0</td>\n",
       "      <td>0</td>\n",
       "      <td>0</td>\n",
       "      <td>0</td>\n",
       "      <td>0</td>\n",
       "      <td>1.369544e+09</td>\n",
       "      <td>2.048360e+09</td>\n",
       "      <td>3.000000e+08</td>\n",
       "      <td>2.576982e+08</td>\n",
       "      <td>6</td>\n",
       "      <td>10</td>\n",
       "      <td>920</td>\n",
       "      <td>161.000000</td>\n",
       "      <td>161.0</td>\n",
       "      <td>1</td>\n",
       "    </tr>\n",
       "    <tr>\n",
       "      <th>2</th>\n",
       "      <td>3</td>\n",
       "      <td>tt0449088</td>\n",
       "      <td>Pirates of the Caribbean: At World's End</td>\n",
       "      <td>2007</td>\n",
       "      <td>39227</td>\n",
       "      <td>167</td>\n",
       "      <td>PG-13</td>\n",
       "      <td>7.1</td>\n",
       "      <td>314040375.0</td>\n",
       "      <td>7640482.0</td>\n",
       "      <td>321680857.0</td>\n",
       "      <td>2.696878</td>\n",
       "      <td>32.116864</td>\n",
       "      <td>409712211.0</td>\n",
       "      <td>4362</td>\n",
       "      <td>4362</td>\n",
       "      <td>based on theme park ride</td>\n",
       "      <td>Nominated for 2 Oscars. Another 20 wins &amp; 44 n...</td>\n",
       "      <td>https://m.media-amazon.com/images/M/MV5BMjIyNj...</td>\n",
       "      <td>50.0</td>\n",
       "      <td>4/12/2007</td>\n",
       "      <td>1</td>\n",
       "      <td>20</td>\n",
       "      <td>64</td>\n",
       "      <td>1280</td>\n",
       "      <td>327</td>\n",
       "      <td>live action</td>\n",
       "      <td>300000000.0</td>\n",
       "      <td>1</td>\n",
       "      <td>114732820.0</td>\n",
       "      <td>572118.0</td>\n",
       "      <td>309420425.0</td>\n",
       "      <td>6.540000e+08</td>\n",
       "      <td>9.634204e+08</td>\n",
       "      <td>I-1007</td>\n",
       "      <td>1</td>\n",
       "      <td>2014</td>\n",
       "      <td>1.324128</td>\n",
       "      <td>1</td>\n",
       "      <td>1</td>\n",
       "      <td>...</td>\n",
       "      <td>0</td>\n",
       "      <td>1.014930979</td>\n",
       "      <td>1019.2433990000001</td>\n",
       "      <td>767.8666982000003</td>\n",
       "      <td>251.3767009</td>\n",
       "      <td>BUENA VISTA</td>\n",
       "      <td>0.876586</td>\n",
       "      <td>1</td>\n",
       "      <td>1</td>\n",
       "      <td>1</td>\n",
       "      <td>1</td>\n",
       "      <td>1</td>\n",
       "      <td>2</td>\n",
       "      <td>1</td>\n",
       "      <td>0</td>\n",
       "      <td>1</td>\n",
       "      <td>0</td>\n",
       "      <td>0</td>\n",
       "      <td>0</td>\n",
       "      <td>0</td>\n",
       "      <td>0</td>\n",
       "      <td>0</td>\n",
       "      <td>0</td>\n",
       "      <td>1</td>\n",
       "      <td>0</td>\n",
       "      <td>0</td>\n",
       "      <td>0</td>\n",
       "      <td>0</td>\n",
       "      <td>0</td>\n",
       "      <td>0</td>\n",
       "      <td>8.659796e+08</td>\n",
       "      <td>1.275692e+09</td>\n",
       "      <td>3.972384e+08</td>\n",
       "      <td>1.519209e+08</td>\n",
       "      <td>6</td>\n",
       "      <td>1</td>\n",
       "      <td>650</td>\n",
       "      <td>208.799651</td>\n",
       "      <td>1106.0</td>\n",
       "      <td>5</td>\n",
       "    </tr>\n",
       "    <tr>\n",
       "      <th>3</th>\n",
       "      <td>4</td>\n",
       "      <td>tt0974015</td>\n",
       "      <td>Justice League</td>\n",
       "      <td>2017</td>\n",
       "      <td>43056</td>\n",
       "      <td>121</td>\n",
       "      <td>PG-13</td>\n",
       "      <td>6.4</td>\n",
       "      <td>19449630.0</td>\n",
       "      <td>40475432.0</td>\n",
       "      <td>59925062.0</td>\n",
       "      <td>2.440525</td>\n",
       "      <td>34.915156</td>\n",
       "      <td>232544520.0</td>\n",
       "      <td>4051</td>\n",
       "      <td>4051</td>\n",
       "      <td>based on comic/graphic novel</td>\n",
       "      <td>2 wins &amp; 13 nominations.</td>\n",
       "      <td>https://m.media-amazon.com/images/M/MV5BYWVhZj...</td>\n",
       "      <td>45.0</td>\n",
       "      <td>13-03-2018</td>\n",
       "      <td>0</td>\n",
       "      <td>2</td>\n",
       "      <td>15</td>\n",
       "      <td>1963</td>\n",
       "      <td>494</td>\n",
       "      <td>live action</td>\n",
       "      <td>300000000.0</td>\n",
       "      <td>1</td>\n",
       "      <td>93842239.0</td>\n",
       "      <td>352866.0</td>\n",
       "      <td>229024295.0</td>\n",
       "      <td>4.269209e+08</td>\n",
       "      <td>6.559452e+08</td>\n",
       "      <td>I-1092</td>\n",
       "      <td>1</td>\n",
       "      <td>2017</td>\n",
       "      <td>1.015371</td>\n",
       "      <td>1</td>\n",
       "      <td>1</td>\n",
       "      <td>...</td>\n",
       "      <td>0</td>\n",
       "      <td>0.084923872</td>\n",
       "      <td>375.43</td>\n",
       "      <td>745.33</td>\n",
       "      <td>-369.9</td>\n",
       "      <td>WB</td>\n",
       "      <td>0.742135</td>\n",
       "      <td>1</td>\n",
       "      <td>1</td>\n",
       "      <td>1</td>\n",
       "      <td>1</td>\n",
       "      <td>2</td>\n",
       "      <td>0</td>\n",
       "      <td>2</td>\n",
       "      <td>0</td>\n",
       "      <td>1</td>\n",
       "      <td>0</td>\n",
       "      <td>0</td>\n",
       "      <td>0</td>\n",
       "      <td>0</td>\n",
       "      <td>0</td>\n",
       "      <td>0</td>\n",
       "      <td>0</td>\n",
       "      <td>1</td>\n",
       "      <td>0</td>\n",
       "      <td>0</td>\n",
       "      <td>0</td>\n",
       "      <td>0</td>\n",
       "      <td>0</td>\n",
       "      <td>0</td>\n",
       "      <td>4.334829e+08</td>\n",
       "      <td>6.660274e+08</td>\n",
       "      <td>3.046112e+08</td>\n",
       "      <td>9.528464e+07</td>\n",
       "      <td>6</td>\n",
       "      <td>1</td>\n",
       "      <td>650</td>\n",
       "      <td>190.180715</td>\n",
       "      <td>378.0</td>\n",
       "      <td>2</td>\n",
       "    </tr>\n",
       "    <tr>\n",
       "      <th>4</th>\n",
       "      <td>5</td>\n",
       "      <td>tt2379713</td>\n",
       "      <td>Spectre</td>\n",
       "      <td>2015</td>\n",
       "      <td>42314</td>\n",
       "      <td>148</td>\n",
       "      <td>PG-13</td>\n",
       "      <td>6.8</td>\n",
       "      <td>12917812.0</td>\n",
       "      <td>24092452.0</td>\n",
       "      <td>37010264.0</td>\n",
       "      <td>2.841836</td>\n",
       "      <td>22.745500</td>\n",
       "      <td>216131343.0</td>\n",
       "      <td>3929</td>\n",
       "      <td>3929</td>\n",
       "      <td>based on fiction book/short story</td>\n",
       "      <td>Won 1 Oscar. Another 7 wins &amp; 34 nominations.</td>\n",
       "      <td>https://m.media-amazon.com/images/M/MV5BOWQ1MD...</td>\n",
       "      <td>60.0</td>\n",
       "      <td>9/2/2016</td>\n",
       "      <td>1</td>\n",
       "      <td>7</td>\n",
       "      <td>41</td>\n",
       "      <td>1129</td>\n",
       "      <td>638</td>\n",
       "      <td>live action</td>\n",
       "      <td>300000000.0</td>\n",
       "      <td>1</td>\n",
       "      <td>70403148.0</td>\n",
       "      <td>365008.0</td>\n",
       "      <td>200074175.0</td>\n",
       "      <td>6.795467e+08</td>\n",
       "      <td>8.796209e+08</td>\n",
       "      <td>I-1062</td>\n",
       "      <td>1</td>\n",
       "      <td>2015</td>\n",
       "      <td>1.080256</td>\n",
       "      <td>1</td>\n",
       "      <td>1</td>\n",
       "      <td>...</td>\n",
       "      <td>0</td>\n",
       "      <td>0.064565114</td>\n",
       "      <td>472.1095653</td>\n",
       "      <td>755.7743092999997</td>\n",
       "      <td>-283.664744</td>\n",
       "      <td>Sony Pictures/Columbia</td>\n",
       "      <td>0.744420</td>\n",
       "      <td>1</td>\n",
       "      <td>1</td>\n",
       "      <td>1</td>\n",
       "      <td>1</td>\n",
       "      <td>2</td>\n",
       "      <td>1</td>\n",
       "      <td>0</td>\n",
       "      <td>0</td>\n",
       "      <td>1</td>\n",
       "      <td>0</td>\n",
       "      <td>0</td>\n",
       "      <td>0</td>\n",
       "      <td>0</td>\n",
       "      <td>0</td>\n",
       "      <td>0</td>\n",
       "      <td>0</td>\n",
       "      <td>1</td>\n",
       "      <td>0</td>\n",
       "      <td>0</td>\n",
       "      <td>0</td>\n",
       "      <td>0</td>\n",
       "      <td>0</td>\n",
       "      <td>0</td>\n",
       "      <td>7.340845e+08</td>\n",
       "      <td>9.502158e+08</td>\n",
       "      <td>3.240768e+08</td>\n",
       "      <td>7.605343e+07</td>\n",
       "      <td>6</td>\n",
       "      <td>1</td>\n",
       "      <td>650</td>\n",
       "      <td>120.931118</td>\n",
       "      <td>491.0</td>\n",
       "      <td>4</td>\n",
       "    </tr>\n",
       "  </tbody>\n",
       "</table>\n",
       "<p>5 rows × 98 columns</p>\n",
       "</div>"
      ],
      "text/plain": [
       "   index   movie_id  ... down_cnt  duration\n",
       "0      1  tt2395427  ...   1078.0         4\n",
       "1      2  tt4154756  ...    161.0         1\n",
       "2      3  tt0449088  ...   1106.0         5\n",
       "3      4  tt0974015  ...    378.0         2\n",
       "4      5  tt2379713  ...    491.0         4\n",
       "\n",
       "[5 rows x 98 columns]"
      ]
     },
     "execution_count": 82,
     "metadata": {
      "tags": []
     },
     "output_type": "execute_result"
    }
   ],
   "source": [
    "# duration: 2019(현시점)-contract_year 변수생성 및 down_price를 duration으로 나누기\n",
    "meta_1['contract_year']=meta_1['contract_year'].astype(float)\n",
    "meta_1['contract_year']=meta_1['contract_year'].astype(int)\n",
    "# contract_year가 '2015.0'으로 들어가져 있어서 float으로 하고 int적용해야함\n",
    "meta_1['duration']=2019-meta_1['contract_year']\n",
    "meta_1['inf_down_price']=meta_1['inf_down_price']/meta_1['duration']\n",
    "meta_1.head()\n",
    "# movie_down_sales는 contract_year와 inf가 반영이 안되어있어서 inf_down_price사용함"
   ]
  },
  {
   "cell_type": "markdown",
   "metadata": {
    "colab_type": "text",
    "id": "Q0SU9F0PlFdF"
   },
   "source": []
  },
  {
   "cell_type": "code",
   "execution_count": 0,
   "metadata": {
    "colab": {},
    "colab_type": "code",
    "id": "wV_4zMG4HMGf"
   },
   "outputs": [],
   "source": [
    "# release_dvd 날짜 구분자 통일\n",
    "# for i in range(len(meta_1)):\n",
    "#   meta_1['release_dvd'][i]=re.sub('/','-',meta_1['release_dvd'][i])\n",
    "\n",
    "# for i in range(len(meta_1)):\n",
    "#   try:\n",
    "#     date=meta_1['release_dvd'][i].split('-')\n",
    "#     if len(date[0])==1:\n",
    "#       date[0]='0'+date[0]\n",
    "#     if len(date[1])==1:\n",
    "#       date[1]='0'+date[1]\n",
    "#     meta_1['release_dvd'][i]='-'.join(date)\n",
    "#   except:\n",
    "#     pass\n",
    "\n",
    "# meta_1['release_dvd']"
   ]
  },
  {
   "cell_type": "code",
   "execution_count": 0,
   "metadata": {
    "colab": {},
    "colab_type": "code",
    "id": "Y4q1x_81GfvA"
   },
   "outputs": [],
   "source": [
    "\n",
    "# release_date에 결측치 . 1개 존재 우선 개봉일로 처리  \n",
    "# meta_1['release_dvd'][48]='21-12-2018'\n",
    "# # release_date가 string이므로 날짜형식으로 변경\n",
    "# meta_1['release_dvd']=pd.to_datetime(meta_1['release_dvd'])"
   ]
  },
  {
   "cell_type": "code",
   "execution_count": 0,
   "metadata": {
    "colab": {},
    "colab_type": "code",
    "id": "TpjnHI-n6xeM"
   },
   "outputs": [],
   "source": [
    "# 영화매출예측위한 데이터셋 만들기 (여기서 release_dvd 날짜를 수치형으로 변경)\n",
    "# meta_1.to_csv('meta_new.csv')"
   ]
  },
  {
   "cell_type": "code",
   "execution_count": 0,
   "metadata": {
    "colab": {},
    "colab_type": "code",
    "id": "QnF__wXMPtHu"
   },
   "outputs": [],
   "source": [
    "# release_date 숫자로 변경 후 다시 meta_new불러오기 : 97개 columns , 106개 rows\n",
    "# meta_new=pd.read_csv('meta_new.csv')\n",
    "# meta_new=meta_new.drop(['Unnamed: 0','index'],axis=1)"
   ]
  },
  {
   "cell_type": "code",
   "execution_count": 0,
   "metadata": {
    "colab": {},
    "colab_type": "code",
    "id": "ycG20v7CdXzT"
   },
   "outputs": [],
   "source": [
    "# 영화예측에 필요없는 변수제거 후 : 52개 columns, 106개 rows\n",
    "# index, movie_id, title, release_year, src, awards, poster, prd_mthd, item_id, inv_exist, inf, income_int, income_ww, budget, income_opening, down_cnt, duration \n",
    "drop_meta=meta_1.drop(['movie_id','title','release_year','src','awards','poster','inv_exist','inf'],axis=1)\n",
    "drop_meta_1=drop_meta.drop(['item_id','down_cnt','contract_price','income_opening','budget','income_ww','income_int','income_usa'],axis=1)\n",
    "drop_meta_2=drop_meta_1.drop(['total_sales'],axis=1)\n",
    "drop_meta_3=drop_meta_2.drop(['dvd_sales','blu_sales','release_dvd','movie_down_sales','TV-14','TV-G','TV-MA','TV-PG','TV-Y7'],axis=1)\n",
    "drop_meta_4=drop_meta_3.drop('index',axis=1)\n",
    "drop_meta_5=drop_meta_4.drop('net_profit',axis=1)\n",
    "drop_meta_6=drop_meta_5.drop('inf_income_ww',axis=1)\n",
    "drop_meta_7=drop_meta_6.drop(['dvd_over_income','duration','release_date','APPROVED','G','NC-17','NOT RATED','PASSED','PG','PG-13','R'],axis=1)\n",
    "drop_meta_8=drop_meta_7.drop(['contract_year','share','dvd','english','cntry_USA','blu','actor_A','actor_B','actor_C','studio_score','price_class','contract_price_inf'],axis=1)\n",
    "drop_meta_9=drop_meta_8.drop('legs',axis=1)\n",
    "drop_meta_10=drop_meta_9.drop('inf_income_opening',axis=1)\n",
    "drop_meta=drop_meta_10.copy()"
   ]
  },
  {
   "cell_type": "code",
   "execution_count": 0,
   "metadata": {
    "colab": {},
    "colab_type": "code",
    "id": "o9fZZ-WIT1n2"
   },
   "outputs": [],
   "source": [
    "drop_meta.to_csv('drp_meta.csv')"
   ]
  },
  {
   "cell_type": "code",
   "execution_count": 0,
   "metadata": {
    "colab": {
     "base_uri": "https://localhost:8080/",
     "height": 91
    },
    "colab_type": "code",
    "id": "JO3bb0y3Uh0X",
    "outputId": "fde83428-e9d8-48d0-b597-069e9d654e8b"
   },
   "outputs": [
    {
     "name": "stdout",
     "output_type": "stream",
     "text": [
      "['runtime:', 0, 'mpa_rating:', 0, 'imdb_score:', 0, 'legs:', 0, 'inf_income_usa:', 0, 'theater_opening:', 0, 'theater_total:', 0, 'metascore:', 0, 'big_awards_num:', 0, 'awards_win_num:', 0, 'awards_nomin_num:', 0, 'reviews_users:', 0, 'reviews_critics:', 0, 'series_new:', 0, 'votes:', 0, 'genre_action:', 0, 'genre_adventure:', 0, 'genre_drama:', 0, 'genre_sci-fi:', 0, 'genre_fantasy:', 0, 'genre_thriller:', 0, 'genre_animation:', 0, 'genre_family:', 0, 'genre_musical:', 0, 'genre_comedy:', 0, 'genre_romance:', 0, 'genre_mystery:', 0, 'genre_war:', 0, 'genre_western:', 0, 'genre_history:', 0, 'genre_sport:', 0, 'genre_horror:', 0, 'genre_crime:', 0, 'genre_music:', 0, 'genre_biography:', 0, 'genre_documentary:', 0, 'contract_price_inf:', 0, 'studio:', 0, 'positive_probability:', 0, 'blu:', 0, 'actor_A:', 0, 'actor_B:', 0, 'actor_C:', 0, 'director_A:', 0, 'director_B:', 0, 'director_C:', 0, 'inf_income_int:', 0, 'inf_budget:', 0, 'inf_income_opening:', 0, 'studio_score:', 0, 'price_class:', 0, 'inf_down_price:', 0]\n"
     ]
    },
    {
     "name": "stderr",
     "output_type": "stream",
     "text": [
      "/usr/local/lib/python3.6/dist-packages/pandas/core/ops/array_ops.py:253: FutureWarning: elementwise comparison failed; returning scalar instead, but in the future will perform elementwise comparison\n",
      "  res_values = method(rvalues)\n"
     ]
    }
   ],
   "source": [
    "# 필요없는 변수 제거 후 결측치 확인 => 결측치 없음\n",
    "missing_nums=[]\n",
    "for i in drop_meta.columns:\n",
    "  missing_nums.append(i+':')\n",
    "  missing_nums.append(len(drop_meta[drop_meta[i]=='.']))\n",
    "print(missing_nums)"
   ]
  },
  {
   "cell_type": "code",
   "execution_count": 0,
   "metadata": {
    "colab": {},
    "colab_type": "code",
    "id": "g4v67rh3Rr1i"
   },
   "outputs": [],
   "source": [
    "# object타입 columns을 int나 float으로 변경\n",
    "drop_meta['runtime']=drop_meta['runtime'].astype(int)\n",
    "drop_meta['imdb_score']=drop_meta['imdb_score'].astype(float)\n",
    "drop_meta['theater_total']=drop_meta['theater_total'].astype(int)\n",
    "drop_meta['metascore']=drop_meta['metascore'].astype(float)\n",
    "drop_meta['reviews_critics']=drop_meta['reviews_critics'].astype(int)\n",
    "drop_meta['genre_documentary']=drop_meta['genre_documentary'].astype(int)\n",
    "\n",
    "# 더미화를 위해 studio_score, price_class를 object타입으로 변경\n",
    "# drop_meta['studio_score']=drop_meta['studio_score'].astype(str)\n",
    "# drop_meta['price_class']=drop_meta['price_class'].astype(str)\n",
    "drop_meta['series_new']=drop_meta['series_new'].astype(str)\n",
    "drop_meta['prd_mthd']=drop_meta['prd_mthd'].astype(str)"
   ]
  },
  {
   "cell_type": "code",
   "execution_count": 0,
   "metadata": {
    "colab": {
     "base_uri": "https://localhost:8080/",
     "height": 284
    },
    "colab_type": "code",
    "id": "OhxoZZQO3bVd",
    "outputId": "e8be93ca-50ba-466e-eef4-aabfab4cf725"
   },
   "outputs": [
    {
     "data": {
      "text/html": [
       "<div>\n",
       "<style scoped>\n",
       "    .dataframe tbody tr th:only-of-type {\n",
       "        vertical-align: middle;\n",
       "    }\n",
       "\n",
       "    .dataframe tbody tr th {\n",
       "        vertical-align: top;\n",
       "    }\n",
       "\n",
       "    .dataframe thead th {\n",
       "        text-align: right;\n",
       "    }\n",
       "</style>\n",
       "<table border=\"1\" class=\"dataframe\">\n",
       "  <thead>\n",
       "    <tr style=\"text-align: right;\">\n",
       "      <th></th>\n",
       "      <th>runtime</th>\n",
       "      <th>mpa_rating</th>\n",
       "      <th>imdb_score</th>\n",
       "      <th>inf_income_usa</th>\n",
       "      <th>theater_opening</th>\n",
       "      <th>theater_total</th>\n",
       "      <th>metascore</th>\n",
       "      <th>big_awards_num</th>\n",
       "      <th>awards_win_num</th>\n",
       "      <th>awards_nomin_num</th>\n",
       "      <th>reviews_users</th>\n",
       "      <th>reviews_critics</th>\n",
       "      <th>prd_mthd</th>\n",
       "      <th>series_new</th>\n",
       "      <th>votes</th>\n",
       "      <th>genre_action</th>\n",
       "      <th>genre_adventure</th>\n",
       "      <th>genre_drama</th>\n",
       "      <th>genre_sci-fi</th>\n",
       "      <th>genre_fantasy</th>\n",
       "      <th>genre_thriller</th>\n",
       "      <th>genre_animation</th>\n",
       "      <th>genre_family</th>\n",
       "      <th>genre_musical</th>\n",
       "      <th>genre_comedy</th>\n",
       "      <th>genre_romance</th>\n",
       "      <th>genre_mystery</th>\n",
       "      <th>genre_war</th>\n",
       "      <th>genre_western</th>\n",
       "      <th>genre_history</th>\n",
       "      <th>genre_sport</th>\n",
       "      <th>genre_horror</th>\n",
       "      <th>genre_crime</th>\n",
       "      <th>genre_music</th>\n",
       "      <th>genre_biography</th>\n",
       "      <th>genre_documentary</th>\n",
       "      <th>studio</th>\n",
       "      <th>positive_probability</th>\n",
       "      <th>director_A</th>\n",
       "      <th>director_B</th>\n",
       "      <th>director_C</th>\n",
       "      <th>inf_income_int</th>\n",
       "      <th>inf_budget</th>\n",
       "      <th>inf_income_opening</th>\n",
       "      <th>inf_down_price</th>\n",
       "    </tr>\n",
       "  </thead>\n",
       "  <tbody>\n",
       "    <tr>\n",
       "      <th>0</th>\n",
       "      <td>141</td>\n",
       "      <td>PG-13</td>\n",
       "      <td>7.3</td>\n",
       "      <td>496031246.0</td>\n",
       "      <td>4276</td>\n",
       "      <td>4276</td>\n",
       "      <td>66.0</td>\n",
       "      <td>0</td>\n",
       "      <td>8</td>\n",
       "      <td>55</td>\n",
       "      <td>1283</td>\n",
       "      <td>689</td>\n",
       "      <td>animation/live action</td>\n",
       "      <td>1</td>\n",
       "      <td>697604</td>\n",
       "      <td>1</td>\n",
       "      <td>1</td>\n",
       "      <td>0</td>\n",
       "      <td>1</td>\n",
       "      <td>0</td>\n",
       "      <td>0</td>\n",
       "      <td>0</td>\n",
       "      <td>0</td>\n",
       "      <td>0</td>\n",
       "      <td>0</td>\n",
       "      <td>0</td>\n",
       "      <td>0</td>\n",
       "      <td>0</td>\n",
       "      <td>0</td>\n",
       "      <td>0</td>\n",
       "      <td>0</td>\n",
       "      <td>0</td>\n",
       "      <td>0</td>\n",
       "      <td>0</td>\n",
       "      <td>0</td>\n",
       "      <td>0</td>\n",
       "      <td>BUENA VISTA</td>\n",
       "      <td>0.861669</td>\n",
       "      <td>0</td>\n",
       "      <td>0</td>\n",
       "      <td>1</td>\n",
       "      <td>1.020156e+09</td>\n",
       "      <td>3.944425e+08</td>\n",
       "      <td>2.066999e+08</td>\n",
       "      <td>267.208323</td>\n",
       "    </tr>\n",
       "    <tr>\n",
       "      <th>1</th>\n",
       "      <td>156</td>\n",
       "      <td>PG-13</td>\n",
       "      <td>8.5</td>\n",
       "      <td>678815482.0</td>\n",
       "      <td>4474</td>\n",
       "      <td>4474</td>\n",
       "      <td>68.0</td>\n",
       "      <td>1</td>\n",
       "      <td>44</td>\n",
       "      <td>114</td>\n",
       "      <td>4191</td>\n",
       "      <td>605</td>\n",
       "      <td>animation/live action</td>\n",
       "      <td>1</td>\n",
       "      <td>748996</td>\n",
       "      <td>1</td>\n",
       "      <td>1</td>\n",
       "      <td>0</td>\n",
       "      <td>1</td>\n",
       "      <td>0</td>\n",
       "      <td>0</td>\n",
       "      <td>0</td>\n",
       "      <td>0</td>\n",
       "      <td>0</td>\n",
       "      <td>0</td>\n",
       "      <td>0</td>\n",
       "      <td>0</td>\n",
       "      <td>0</td>\n",
       "      <td>0</td>\n",
       "      <td>0</td>\n",
       "      <td>0</td>\n",
       "      <td>0</td>\n",
       "      <td>0</td>\n",
       "      <td>0</td>\n",
       "      <td>0</td>\n",
       "      <td>0</td>\n",
       "      <td>BUENA VISTA</td>\n",
       "      <td>0.155046</td>\n",
       "      <td>0</td>\n",
       "      <td>0</td>\n",
       "      <td>0</td>\n",
       "      <td>1.369544e+09</td>\n",
       "      <td>3.000000e+08</td>\n",
       "      <td>2.576982e+08</td>\n",
       "      <td>161.000000</td>\n",
       "    </tr>\n",
       "    <tr>\n",
       "      <th>2</th>\n",
       "      <td>167</td>\n",
       "      <td>PG-13</td>\n",
       "      <td>7.1</td>\n",
       "      <td>409712211.0</td>\n",
       "      <td>4362</td>\n",
       "      <td>4362</td>\n",
       "      <td>50.0</td>\n",
       "      <td>1</td>\n",
       "      <td>20</td>\n",
       "      <td>64</td>\n",
       "      <td>1280</td>\n",
       "      <td>327</td>\n",
       "      <td>live action</td>\n",
       "      <td>1</td>\n",
       "      <td>572118</td>\n",
       "      <td>1</td>\n",
       "      <td>1</td>\n",
       "      <td>0</td>\n",
       "      <td>0</td>\n",
       "      <td>1</td>\n",
       "      <td>0</td>\n",
       "      <td>0</td>\n",
       "      <td>0</td>\n",
       "      <td>0</td>\n",
       "      <td>0</td>\n",
       "      <td>0</td>\n",
       "      <td>0</td>\n",
       "      <td>0</td>\n",
       "      <td>0</td>\n",
       "      <td>0</td>\n",
       "      <td>0</td>\n",
       "      <td>0</td>\n",
       "      <td>0</td>\n",
       "      <td>0</td>\n",
       "      <td>0</td>\n",
       "      <td>0</td>\n",
       "      <td>BUENA VISTA</td>\n",
       "      <td>0.876586</td>\n",
       "      <td>0</td>\n",
       "      <td>1</td>\n",
       "      <td>0</td>\n",
       "      <td>8.659796e+08</td>\n",
       "      <td>3.972384e+08</td>\n",
       "      <td>1.519209e+08</td>\n",
       "      <td>208.799651</td>\n",
       "    </tr>\n",
       "    <tr>\n",
       "      <th>3</th>\n",
       "      <td>121</td>\n",
       "      <td>PG-13</td>\n",
       "      <td>6.4</td>\n",
       "      <td>232544520.0</td>\n",
       "      <td>4051</td>\n",
       "      <td>4051</td>\n",
       "      <td>45.0</td>\n",
       "      <td>0</td>\n",
       "      <td>2</td>\n",
       "      <td>15</td>\n",
       "      <td>1963</td>\n",
       "      <td>494</td>\n",
       "      <td>live action</td>\n",
       "      <td>1</td>\n",
       "      <td>352866</td>\n",
       "      <td>1</td>\n",
       "      <td>1</td>\n",
       "      <td>0</td>\n",
       "      <td>1</td>\n",
       "      <td>1</td>\n",
       "      <td>0</td>\n",
       "      <td>0</td>\n",
       "      <td>0</td>\n",
       "      <td>0</td>\n",
       "      <td>0</td>\n",
       "      <td>0</td>\n",
       "      <td>0</td>\n",
       "      <td>0</td>\n",
       "      <td>0</td>\n",
       "      <td>0</td>\n",
       "      <td>0</td>\n",
       "      <td>0</td>\n",
       "      <td>0</td>\n",
       "      <td>0</td>\n",
       "      <td>0</td>\n",
       "      <td>0</td>\n",
       "      <td>WB</td>\n",
       "      <td>0.742135</td>\n",
       "      <td>0</td>\n",
       "      <td>1</td>\n",
       "      <td>0</td>\n",
       "      <td>4.334829e+08</td>\n",
       "      <td>3.046112e+08</td>\n",
       "      <td>9.528464e+07</td>\n",
       "      <td>190.180715</td>\n",
       "    </tr>\n",
       "    <tr>\n",
       "      <th>4</th>\n",
       "      <td>148</td>\n",
       "      <td>PG-13</td>\n",
       "      <td>6.8</td>\n",
       "      <td>216131343.0</td>\n",
       "      <td>3929</td>\n",
       "      <td>3929</td>\n",
       "      <td>60.0</td>\n",
       "      <td>1</td>\n",
       "      <td>7</td>\n",
       "      <td>41</td>\n",
       "      <td>1129</td>\n",
       "      <td>638</td>\n",
       "      <td>live action</td>\n",
       "      <td>1</td>\n",
       "      <td>365008</td>\n",
       "      <td>1</td>\n",
       "      <td>1</td>\n",
       "      <td>0</td>\n",
       "      <td>0</td>\n",
       "      <td>0</td>\n",
       "      <td>1</td>\n",
       "      <td>0</td>\n",
       "      <td>0</td>\n",
       "      <td>0</td>\n",
       "      <td>0</td>\n",
       "      <td>0</td>\n",
       "      <td>0</td>\n",
       "      <td>0</td>\n",
       "      <td>0</td>\n",
       "      <td>0</td>\n",
       "      <td>0</td>\n",
       "      <td>0</td>\n",
       "      <td>0</td>\n",
       "      <td>0</td>\n",
       "      <td>0</td>\n",
       "      <td>0</td>\n",
       "      <td>Sony Pictures/Columbia</td>\n",
       "      <td>0.744420</td>\n",
       "      <td>0</td>\n",
       "      <td>1</td>\n",
       "      <td>0</td>\n",
       "      <td>7.340845e+08</td>\n",
       "      <td>3.240768e+08</td>\n",
       "      <td>7.605343e+07</td>\n",
       "      <td>120.931118</td>\n",
       "    </tr>\n",
       "  </tbody>\n",
       "</table>\n",
       "</div>"
      ],
      "text/plain": [
       "   runtime mpa_rating  ...  inf_income_opening  inf_down_price\n",
       "0      141      PG-13  ...        2.066999e+08      267.208323\n",
       "1      156      PG-13  ...        2.576982e+08      161.000000\n",
       "2      167      PG-13  ...        1.519209e+08      208.799651\n",
       "3      121      PG-13  ...        9.528464e+07      190.180715\n",
       "4      148      PG-13  ...        7.605343e+07      120.931118\n",
       "\n",
       "[5 rows x 45 columns]"
      ]
     },
     "execution_count": 102,
     "metadata": {
      "tags": []
     },
     "output_type": "execute_result"
    }
   ],
   "source": [
    "drop_meta.head()"
   ]
  },
  {
   "cell_type": "code",
   "execution_count": 0,
   "metadata": {
    "colab": {},
    "colab_type": "code",
    "id": "0M8NY4zfT94U"
   },
   "outputs": [],
   "source": [
    "# 연속형변수들만 스케일링하기 \n",
    "scaler=StandardScaler()\n",
    "continuous_df=drop_meta.drop(['series_new','director_A','director_B','director_C','studio','inf_down_price','mpa_rating','prd_mthd'],axis=1)\n",
    "cols=continuous_df.columns\n",
    "np_scaled=scaler.fit_transform(continuous_df)\n",
    "df_scaled=pd.DataFrame(np_scaled,columns=cols)\n",
    "# 목표변수 추가\n",
    "df_scaled['inf_down_price']=drop_meta['inf_down_price']"
   ]
  },
  {
   "cell_type": "code",
   "execution_count": 0,
   "metadata": {
    "colab": {},
    "colab_type": "code",
    "id": "fC7EhIuBv3cz"
   },
   "outputs": [],
   "source": [
    "df_scaled.to_csv('df_scaled.csv')"
   ]
  },
  {
   "cell_type": "markdown",
   "metadata": {
    "colab_type": "text",
    "id": "rwkY_tDFXPYD"
   },
   "source": []
  },
  {
   "cell_type": "code",
   "execution_count": 0,
   "metadata": {
    "colab": {},
    "colab_type": "code",
    "id": "JNAOzbQyj2Kx"
   },
   "outputs": [],
   "source": [
    "# 스케일링된 데이터프레임에 범주형변수들 붙이기\n",
    "descrete_df=drop_meta[['series_new','director_A','director_B','director_C','studio','mpa_rating','prd_mthd']]\n",
    "scaled_df=pd.concat([df_scaled,descrete_df],axis=1)"
   ]
  },
  {
   "cell_type": "code",
   "execution_count": 0,
   "metadata": {
    "colab": {},
    "colab_type": "code",
    "id": "chvc4gvFw5io"
   },
   "outputs": [],
   "source": [
    "scaled_df.to_csv('drp_scl_meta.csv')"
   ]
  },
  {
   "cell_type": "code",
   "execution_count": 0,
   "metadata": {
    "colab": {
     "base_uri": "https://localhost:8080/",
     "height": 107
    },
    "colab_type": "code",
    "id": "oOvG4Lb3M33N",
    "outputId": "6f289ff1-43c0-492f-9b2d-08e911c8bb13"
   },
   "outputs": [
    {
     "data": {
      "text/plain": [
       "PG-13    67\n",
       "PG       23\n",
       "R        13\n",
       "G         3\n",
       "Name: mpa_rating, dtype: int64"
      ]
     },
     "execution_count": 83,
     "metadata": {
      "tags": []
     },
     "output_type": "execute_result"
    }
   ],
   "source": [
    "scaled_df['mpa_rating'].value_counts() # mpa_rating 총 4개의 변수 가짐 PG-13, PG, R, G"
   ]
  },
  {
   "cell_type": "code",
   "execution_count": 0,
   "metadata": {
    "colab": {},
    "colab_type": "code",
    "id": "sBKZOiZFaD8s"
   },
   "outputs": [],
   "source": [
    "# 스케일링한 데이터를 더미화 \n",
    "drop_meta_dummies=pd.get_dummies(scaled_df,drop_first=True)\n",
    "drop_meta_dummies=drop_meta_dummies.drop('director_A',axis=1)\n",
    "# 더미변수 drop_first하지 않은 것\n",
    "# drop_meta_dummies_1=pd.get_dummies(scaled_df)\n",
    "\n",
    "# 스케일링없이 더미화!!!!!\n",
    "# drop_meta_dummies1=pd.get_dummies(drop_meta)\n",
    "# drop_meta_dummies.head()\n",
    "# drop_meta_dummies_1=drop_meta_dummies.copy()\n",
    "# drop_meta_dummies=drop_meta_dummies.drop('director_A',axis=1)"
   ]
  },
  {
   "cell_type": "code",
   "execution_count": 0,
   "metadata": {
    "colab": {},
    "colab_type": "code",
    "id": "680V0h4XwhKJ"
   },
   "outputs": [],
   "source": [
    "drop_meta_dummies.head()"
   ]
  },
  {
   "cell_type": "markdown",
   "metadata": {
    "colab_type": "text",
    "id": "Z2vR-gUkmCc1"
   },
   "source": [
    "# 후진제거법으로 변수선택 (스케일링 + 더미화)\n"
   ]
  },
  {
   "cell_type": "code",
   "execution_count": 0,
   "metadata": {
    "colab": {},
    "colab_type": "code",
    "id": "5pQgZW6MmrMp"
   },
   "outputs": [],
   "source": [
    "scl_dum_df=drop_meta_dummies.copy()\n",
    "# scl_dum_df_1=drop_meta_dummies_1.copy()"
   ]
  },
  {
   "cell_type": "code",
   "execution_count": 0,
   "metadata": {
    "colab": {
     "base_uri": "https://localhost:8080/",
     "height": 123
    },
    "colab_type": "code",
    "id": "QYS9hmiTmBmd",
    "outputId": "f576b469-ba52-43af-d5b1-09a6609dfb79"
   },
   "outputs": [
    {
     "name": "stdout",
     "output_type": "stream",
     "text": [
      "Index(['runtime', 'genre_adventure', 'genre_romance', 'genre_crime',\n",
      "       'director_B', 'studio_Fathom', 'studio_NL',\n",
      "       'studio_Sony Pictures/Columbia', 'studio_Sum.', 'studio_Universal',\n",
      "       'studio_WB', 'mpa_rating_PG', 'mpa_rating_PG-13', 'mpa_rating_R',\n",
      "       'prd_mthd_digital animation'],\n",
      "      dtype='object')\n"
     ]
    }
   ],
   "source": [
    "X=scl_dum_df.drop('inf_down_price',axis=1)\n",
    "y=scl_dum_df['inf_down_price']\n",
    "cols = list(X.columns)\n",
    "model=LinearRegression()\n",
    "rfe=RFE(model,15)\n",
    "X_rfe=rfe.fit_transform(X,y)\n",
    "\n",
    "# Fitting the data to model\n",
    "model.fit(X_rfe,y)\n",
    "temp=pd.Series(rfe.support_,index=cols)\n",
    "selected_features_rfe=temp[temp==True].index\n",
    "print(selected_features_rfe)"
   ]
  },
  {
   "cell_type": "code",
   "execution_count": 0,
   "metadata": {
    "colab": {
     "base_uri": "https://localhost:8080/",
     "height": 54
    },
    "colab_type": "code",
    "id": "yBpB5o6StedE",
    "outputId": "d96be769-6985-49f1-91b0-d9bcde12cf6d"
   },
   "outputs": [
    {
     "name": "stdout",
     "output_type": "stream",
     "text": [
      "runtime+genre_adventure+genre_romance+genre_crime+director_B+studio_Fathom+studio_NL+studio_Sony Pictures/Columbia+studio_Sum.+studio_Universal+studio_WB+mpa_rating_PG+mpa_rating_PG-13+mpa_rating_R+prd_mthd_digital animation+\n"
     ]
    }
   ],
   "source": [
    "cols=''\n",
    "for i in selected_features_rfe:\n",
    "  cols+=i\n",
    "  cols+=('+')\n",
    "print(cols)"
   ]
  },
  {
   "cell_type": "markdown",
   "metadata": {
    "colab_type": "text",
    "id": "8Ze0ef8hnAXh"
   },
   "source": [
    "# 후진제거로 뽑은 변수 15개로 회귀분석 "
   ]
  },
  {
   "cell_type": "markdown",
   "metadata": {
    "colab_type": "text",
    "id": "27mO038Lu25l"
   },
   "source": [
    "<유의수준 기준 : 0.2> : 변수갯수가 얼마 없기 때문에 기준을 0.2로 둠\n",
    "* RFE 15 : 0,434 (최초) (수정결정: 0.349)         \n",
    "* RFE 15 (p>0.2 변수제거 + 공선성 유발 변수 제거) : 0.4 (수정결정: 0.344)      \n",
    "  + but, 다중공선성 없음 \n",
    "\n",
    "\n",
    "\n"
   ]
  },
  {
   "cell_type": "code",
   "execution_count": 0,
   "metadata": {
    "colab": {
     "base_uri": "https://localhost:8080/",
     "height": 603
    },
    "colab_type": "code",
    "id": "53wFRxo9m_aY",
    "outputId": "40a3c066-c5b1-4311-b71f-a7e1c6a72b8a"
   },
   "outputs": [
    {
     "name": "stdout",
     "output_type": "stream",
     "text": [
      "                            OLS Regression Results                            \n",
      "==============================================================================\n",
      "Dep. Variable:         inf_down_price   R-squared:                       0.400\n",
      "Model:                            OLS   Adj. R-squared:                  0.344\n",
      "Method:                 Least Squares   F-statistic:                     7.106\n",
      "Date:                Thu, 07 May 2020   Prob (F-statistic):           7.93e-08\n",
      "Time:                        03:48:55   Log-Likelihood:                -568.83\n",
      "No. Observations:                 106   AIC:                             1158.\n",
      "Df Residuals:                      96   BIC:                             1184.\n",
      "Df Model:                           9                                         \n",
      "Covariance Type:            nonrobust                                         \n",
      "=========================================================================================\n",
      "                            coef    std err          t      P>|t|      [0.025      0.975]\n",
      "-----------------------------------------------------------------------------------------\n",
      "Intercept                83.1792     33.066      2.516      0.014      17.543     148.815\n",
      "runtime                 -16.2721      7.114     -2.287      0.024     -30.392      -2.152\n",
      "genre_adventure          15.8032      6.171      2.561      0.012       3.553      28.053\n",
      "genre_romance            19.2420      8.133      2.366      0.020       3.098      35.386\n",
      "genre_crime              14.4781      5.435      2.664      0.009       3.690      25.266\n",
      "director_B              -20.4104     13.068     -1.562      0.122     -46.351       5.530\n",
      "Q(\"studio_Sum.\")       -161.7030     57.816     -2.797      0.006    -276.468     -46.938\n",
      "mpa_rating_PG            93.2732     33.623      2.774      0.007      26.532     160.015\n",
      "Q(\"mpa_rating_PG-13\")   111.9173     34.517      3.242      0.002      43.401     180.434\n",
      "mpa_rating_R            188.7552     37.896      4.981      0.000     113.532     263.979\n",
      "==============================================================================\n",
      "Omnibus:                        1.062   Durbin-Watson:                   1.877\n",
      "Prob(Omnibus):                  0.588   Jarque-Bera (JB):                1.145\n",
      "Skew:                          -0.222   Prob(JB):                        0.564\n",
      "Kurtosis:                       2.752   Cond. No.                         16.4\n",
      "==============================================================================\n",
      "\n",
      "Warnings:\n",
      "[1] Standard Errors assume that the covariance matrix of the errors is correctly specified.\n"
     ]
    }
   ],
   "source": [
    "# rfe15 (p<0.1, vif<10)\n",
    "formula='inf_down_price~runtime+genre_adventure+genre_romance+genre_crime+director_B+Q(\"studio_Sum.\")+mpa_rating_PG+Q(\"mpa_rating_PG-13\")+mpa_rating_R'\n",
    "reg_model=smf.ols(formula,data=scl_dum_df)\n",
    "reg_result=reg_model.fit()\n",
    "print(reg_result.summary())"
   ]
  },
  {
   "cell_type": "code",
   "execution_count": 0,
   "metadata": {
    "colab": {},
    "colab_type": "code",
    "id": "qZXJ1q9VolaS"
   },
   "outputs": [],
   "source": [
    "#rfe15 \n",
    "df_raw_x=scl_dum_df[['runtime', 'genre_adventure', 'genre_romance', 'genre_crime',\n",
    "       'director_B', 'studio_Fathom', 'studio_NL',\n",
    "       'studio_Sony Pictures/Columbia', 'studio_Sum.', 'studio_Universal',\n",
    "       'studio_WB', 'mpa_rating_PG', 'mpa_rating_R',\n",
    "       'prd_mthd_digital animation']]\n",
    "df_raw_x_const=add_constant(df_raw_x)\n",
    "df_vif=pd.DataFrame()\n",
    "df_vif['variable']=df_raw_x_const.columns\n",
    "df_vif['VIF']=[variance_inflation_factor(df_raw_x_const.values,i) for i in range(df_raw_x_const.shape[1])]\n",
    "# VIF정렬\n",
    "df_vif.sort_values('VIF',inplace=True)\n",
    "df_vif.round(3)"
   ]
  },
  {
   "cell_type": "markdown",
   "metadata": {
    "colab_type": "text",
    "id": "qnyCVlOj4mTV"
   },
   "source": [
    "# 후진제거로 뽑은 변수 20개로 회귀분석 "
   ]
  },
  {
   "cell_type": "markdown",
   "metadata": {
    "colab_type": "text",
    "id": "j_wSFUab6-_j"
   },
   "source": [
    "<유의수준 기준 : 너무 크지만 않으면 우선 포함>\n",
    "* RFE 20 : 0.485 (최초)  (수정계수 : 0.364)    \n",
    "* RFE 20 (p>0.2 변수제거 + 공선성 유발 변수 제거 ) : 0.445 (수정계수 : 0.359) \n",
    "  +  다중공선성 없음         \n"
   ]
  },
  {
   "cell_type": "code",
   "execution_count": 0,
   "metadata": {
    "colab": {
     "base_uri": "https://localhost:8080/",
     "height": 141
    },
    "colab_type": "code",
    "id": "_s2lPPDU4a6r",
    "outputId": "06797b69-4b52-4688-d241-68da85ca66e0"
   },
   "outputs": [
    {
     "name": "stdout",
     "output_type": "stream",
     "text": [
      "Index(['runtime', 'votes', 'genre_adventure', 'genre_comedy', 'genre_romance',\n",
      "       'genre_crime', 'positive_probability', 'director_B', 'director_C',\n",
      "       'studio_Fathom', 'studio_NL', 'studio_Paramount',\n",
      "       'studio_Sony Pictures/Columbia', 'studio_Sum.', 'studio_Universal',\n",
      "       'studio_WB', 'mpa_rating_PG', 'mpa_rating_PG-13', 'mpa_rating_R',\n",
      "       'prd_mthd_digital animation'],\n",
      "      dtype='object')\n"
     ]
    }
   ],
   "source": [
    "X=scl_dum_df.drop('inf_down_price',axis=1)\n",
    "y=scl_dum_df['inf_down_price']\n",
    "cols = list(X.columns)\n",
    "model=LinearRegression()\n",
    "rfe=RFE(model,20)\n",
    "X_rfe=rfe.fit_transform(X,y)\n",
    "\n",
    "# Fitting the data to model\n",
    "model.fit(X_rfe,y)\n",
    "temp=pd.Series(rfe.support_,index=cols)\n",
    "selected_features_rfe=temp[temp==True].index\n",
    "print(selected_features_rfe)"
   ]
  },
  {
   "cell_type": "code",
   "execution_count": 0,
   "metadata": {
    "colab": {
     "base_uri": "https://localhost:8080/",
     "height": 54
    },
    "colab_type": "code",
    "id": "hmwAESVH2Fj3",
    "outputId": "7c41d243-fa60-43e7-fdd9-b9479760647b"
   },
   "outputs": [
    {
     "name": "stdout",
     "output_type": "stream",
     "text": [
      "runtime+votes+genre_adventure+genre_comedy+genre_romance+genre_crime+positive_probability+director_B+director_C+studio_Fathom+studio_NL+studio_Paramount+studio_Sony Pictures/Columbia+studio_Sum.+studio_Universal+studio_WB+mpa_rating_PG+mpa_rating_PG-13+mpa_rating_R+prd_mthd_digital animation+\n"
     ]
    }
   ],
   "source": [
    "cols=''\n",
    "for i in selected_features_rfe:\n",
    "  cols+=i\n",
    "  cols+=('+')\n",
    "print(cols)"
   ]
  },
  {
   "cell_type": "code",
   "execution_count": 0,
   "metadata": {
    "colab": {
     "base_uri": "https://localhost:8080/",
     "height": 712
    },
    "colab_type": "code",
    "id": "kAyagMdU4zzQ",
    "outputId": "25494e2f-0bd0-4c9e-a9ef-0e91f8f16748"
   },
   "outputs": [
    {
     "name": "stdout",
     "output_type": "stream",
     "text": [
      "                            OLS Regression Results                            \n",
      "==============================================================================\n",
      "Dep. Variable:         inf_down_price   R-squared:                       0.445\n",
      "Model:                            OLS   Adj. R-squared:                  0.359\n",
      "Method:                 Least Squares   F-statistic:                     5.206\n",
      "Date:                Thu, 07 May 2020   Prob (F-statistic):           4.16e-07\n",
      "Time:                        03:53:48   Log-Likelihood:                -564.71\n",
      "No. Observations:                 106   AIC:                             1159.\n",
      "Df Residuals:                      91   BIC:                             1199.\n",
      "Df Model:                          14                                         \n",
      "Covariance Type:            nonrobust                                         \n",
      "===================================================================================================\n",
      "                                      coef    std err          t      P>|t|      [0.025      0.975]\n",
      "---------------------------------------------------------------------------------------------------\n",
      "Intercept                         200.4065     12.907     15.527      0.000     174.768     226.045\n",
      "runtime                           -17.7182      7.711     -2.298      0.024     -33.035      -2.402\n",
      "votes                              -9.4567      6.596     -1.434      0.155     -22.560       3.646\n",
      "genre_adventure                    21.4729      6.440      3.334      0.001       8.681      34.265\n",
      "genre_romance                      18.1746      8.425      2.157      0.034       1.439      34.910\n",
      "genre_crime                        20.5612      5.760      3.570      0.001       9.120      32.003\n",
      "positive_probability               10.4288      5.435      1.919      0.058      -0.367      21.225\n",
      "director_B                        -29.9320     16.235     -1.844      0.068     -62.180       2.316\n",
      "director_C                        -20.0463     14.126     -1.419      0.159     -48.106       8.013\n",
      "Q(\"studio_Sum.\")                 -157.1558     59.817     -2.627      0.010    -275.976     -38.336\n",
      "studio_Universal                   25.5044     17.571      1.452      0.150      -9.398      60.407\n",
      "studio_WB                          20.9674     15.225      1.377      0.172      -9.275      51.210\n",
      "mpa_rating_PG                      29.2091     22.373      1.306      0.195     -15.232      73.651\n",
      "mpa_rating_R                       71.5317     19.070      3.751      0.000      33.651     109.413\n",
      "Q(\"prd_mthd_digital animation\")   -79.3359     25.340     -3.131      0.002    -129.671     -29.001\n",
      "==============================================================================\n",
      "Omnibus:                        0.959   Durbin-Watson:                   1.942\n",
      "Prob(Omnibus):                  0.619   Jarque-Bera (JB):                0.984\n",
      "Skew:                           0.100   Prob(JB):                        0.611\n",
      "Kurtosis:                       2.573   Cond. No.                         15.2\n",
      "==============================================================================\n",
      "\n",
      "Warnings:\n",
      "[1] Standard Errors assume that the covariance matrix of the errors is correctly specified.\n"
     ]
    }
   ],
   "source": [
    "# rfe20 (vif<10)\n",
    "formula='inf_down_price~runtime+votes+genre_adventure+genre_romance+genre_crime+positive_probability+director_B+director_C+Q(\"studio_Sum.\")+studio_Universal+studio_WB+mpa_rating_PG+mpa_rating_R+Q(\"prd_mthd_digital animation\")'\n",
    "reg_model=smf.ols(formula,data=scl_dum_df)\n",
    "reg_result=reg_model.fit()\n",
    "print(reg_result.summary())"
   ]
  },
  {
   "cell_type": "code",
   "execution_count": 0,
   "metadata": {
    "colab": {},
    "colab_type": "code",
    "id": "TqRLjuBw5Ivr"
   },
   "outputs": [],
   "source": [
    "#rfe20 (vif<10) 다중공선성 없음\n",
    "df_raw_x=scl_dum_df[selected_features_rfe]\n",
    "df_raw_x_const=add_constant(df_raw_x)\n",
    "df_vif=pd.DataFrame()\n",
    "df_vif['variable']=df_raw_x_const.columns\n",
    "df_vif['VIF']=[variance_inflation_factor(df_raw_x_const.values,i) for i in range(df_raw_x_const.shape[1])]\n",
    "# VIF정렬\n",
    "df_vif.sort_values('VIF',inplace=True)\n",
    "df_vif.round(3)"
   ]
  },
  {
   "cell_type": "markdown",
   "metadata": {
    "colab_type": "text",
    "id": "Qa49jiil9Wlx"
   },
   "source": [
    "<유의수준 기준 : 주관>\n",
    "* RFE 40 : 0.630 (최초)  (수정계수 : 0.402)         \n",
    "* RFE 40 (p>0.3, 변수제거후, vif<10) : 0.594 (수정계수 : 0.440)  \n",
    "  + 다중공선성 없음\n",
    "# rfe40이 제일 수정계수가 높아서 최종 회귀식으로 결정!!!!!\n",
    "\n"
   ]
  },
  {
   "cell_type": "code",
   "execution_count": 0,
   "metadata": {
    "colab": {
     "base_uri": "https://localhost:8080/",
     "height": 230
    },
    "colab_type": "code",
    "id": "eWeP3LIc8eqB",
    "outputId": "105fa742-af08-48c8-aa3c-3f1d9eaed28d"
   },
   "outputs": [
    {
     "name": "stdout",
     "output_type": "stream",
     "text": [
      "Index(['runtime', 'inf_income_usa', 'theater_opening', 'awards_win_num',\n",
      "       'reviews_users', 'reviews_critics', 'votes', 'genre_action',\n",
      "       'genre_adventure', 'genre_drama', 'genre_family', 'genre_musical',\n",
      "       'genre_comedy', 'genre_romance', 'genre_war', 'genre_western',\n",
      "       'genre_history', 'genre_horror', 'genre_crime', 'genre_music',\n",
      "       'genre_biography', 'positive_probability', 'inf_income_int',\n",
      "       'inf_budget', 'director_B', 'director_C', 'series_new_1',\n",
      "       'studio_BUENA VISTA', 'studio_Fathom', 'studio_LIONSGATE', 'studio_NL',\n",
      "       'studio_Paramount', 'studio_Sony Pictures/Columbia', 'studio_Sum.',\n",
      "       'studio_Universal', 'studio_WB', 'mpa_rating_PG', 'mpa_rating_PG-13',\n",
      "       'mpa_rating_R', 'prd_mthd_digital animation'],\n",
      "      dtype='object')\n"
     ]
    }
   ],
   "source": [
    "X=scl_dum_df.drop('inf_down_price',axis=1)\n",
    "y=scl_dum_df['inf_down_price']\n",
    "\n",
    "cols = list(X.columns)\n",
    "model=LinearRegression()\n",
    "rfe=RFE(model,40)\n",
    "X_rfe=rfe.fit_transform(X,y)\n",
    "\n",
    "# Fitting the data to model\n",
    "model.fit(X_rfe,y)\n",
    "temp=pd.Series(rfe.support_,index=cols)\n",
    "selected_features_rfe=temp[temp==True].index\n",
    "print(selected_features_rfe)"
   ]
  },
  {
   "cell_type": "code",
   "execution_count": 0,
   "metadata": {
    "colab": {
     "base_uri": "https://localhost:8080/",
     "height": 54
    },
    "colab_type": "code",
    "id": "wPxW91pJ8pbC",
    "outputId": "719dde36-21da-48a8-f01b-3a49d980d3dc"
   },
   "outputs": [
    {
     "name": "stdout",
     "output_type": "stream",
     "text": [
      "runtime+inf_income_usa+theater_opening+awards_win_num+reviews_users+reviews_critics+votes+genre_action+genre_adventure+genre_drama+genre_family+genre_musical+genre_comedy+genre_romance+genre_war+genre_western+genre_history+genre_horror+genre_crime+genre_music+genre_biography+positive_probability+inf_income_int+inf_budget+director_B+director_C+series_new_1+studio_BUENA VISTA+studio_Fathom+studio_LIONSGATE+studio_NL+studio_Paramount+studio_Sony Pictures/Columbia+studio_Sum.+studio_Universal+studio_WB+mpa_rating_PG+mpa_rating_PG-13+mpa_rating_R+prd_mthd_digital animation+\n"
     ]
    }
   ],
   "source": [
    "cols=''\n",
    "for i in selected_features_rfe:\n",
    "  cols+=i\n",
    "  cols+=('+')\n",
    "print(cols)"
   ]
  },
  {
   "cell_type": "code",
   "execution_count": 0,
   "metadata": {
    "colab": {
     "base_uri": "https://localhost:8080/",
     "height": 978
    },
    "colab_type": "code",
    "id": "3_6Tp2x88sze",
    "outputId": "b5aa977a-2253-499b-c077-43d376c7b8f3"
   },
   "outputs": [
    {
     "name": "stdout",
     "output_type": "stream",
     "text": [
      "                            OLS Regression Results                            \n",
      "==============================================================================\n",
      "Dep. Variable:         inf_down_price   R-squared:                       0.594\n",
      "Model:                            OLS   Adj. R-squared:                  0.440\n",
      "Method:                 Least Squares   F-statistic:                     3.842\n",
      "Date:                Thu, 07 May 2020   Prob (F-statistic):           1.36e-06\n",
      "Time:                        04:02:33   Log-Likelihood:                -548.05\n",
      "No. Observations:                 106   AIC:                             1156.\n",
      "Df Residuals:                      76   BIC:                             1236.\n",
      "Df Model:                          29                                         \n",
      "Covariance Type:            nonrobust                                         \n",
      "===================================================================================================\n",
      "                                      coef    std err          t      P>|t|      [0.025      0.975]\n",
      "---------------------------------------------------------------------------------------------------\n",
      "Intercept                         187.6107     15.349     12.223      0.000     157.041     218.180\n",
      "runtime                           -26.4107     10.105     -2.614      0.011     -46.537      -6.284\n",
      "theater_opening                   -20.9214      9.132     -2.291      0.025     -39.109      -2.733\n",
      "reviews_critics                    10.6104      7.614      1.394      0.168      -4.554      25.775\n",
      "votes                             -14.9645      7.087     -2.112      0.038     -29.079      -0.850\n",
      "genre_action                       22.1396     10.991      2.014      0.048       0.248      44.031\n",
      "genre_adventure                    24.5959      7.836      3.139      0.002       8.990      40.202\n",
      "genre_drama                        12.9331      7.992      1.618      0.110      -2.984      28.850\n",
      "genre_musical                       8.9375      5.586      1.600      0.114      -2.188      20.063\n",
      "genre_comedy                       28.1586      9.627      2.925      0.005       8.985      47.332\n",
      "genre_romance                      22.9975      9.313      2.469      0.016       4.450      41.545\n",
      "genre_war                           8.5336      6.658      1.282      0.204      -4.727      21.795\n",
      "genre_western                      19.0211      6.928      2.745      0.008       5.222      32.820\n",
      "genre_history                     -15.8432      9.061     -1.749      0.084     -33.890       2.203\n",
      "genre_horror                        8.2480      6.900      1.195      0.236      -5.495      21.991\n",
      "genre_crime                        23.6522      5.684      4.161      0.000      12.331      34.973\n",
      "genre_music                        14.4715      6.295      2.299      0.024       1.935      27.008\n",
      "positive_probability               10.6512      5.823      1.829      0.071      -0.945      22.248\n",
      "inf_budget                         23.3406      9.214      2.533      0.013       4.989      41.693\n",
      "director_B                        -24.0104     17.483     -1.373      0.174     -58.830      10.809\n",
      "director_C                        -22.9519     15.398     -1.491      0.140     -53.620       7.716\n",
      "studio_Fathom                      83.5758     41.706      2.004      0.049       0.510     166.641\n",
      "studio_NL                         133.5315     66.199      2.017      0.047       1.685     265.378\n",
      "studio_Paramount                   29.9772     19.126      1.567      0.121      -8.115      68.070\n",
      "Q(\"studio_Sum.\")                 -115.8707     60.626     -1.911      0.060    -236.619       4.877\n",
      "studio_Universal                   64.8949     19.557      3.318      0.001      25.943     103.847\n",
      "studio_WB                          44.3746     17.887      2.481      0.015       8.750      79.999\n",
      "mpa_rating_PG                      35.0652     23.193      1.512      0.135     -11.128      81.258\n",
      "mpa_rating_R                       39.7164     22.860      1.737      0.086      -5.813      85.246\n",
      "Q(\"prd_mthd_digital animation\")   -98.0918     29.944     -3.276      0.002    -157.731     -38.453\n",
      "==============================================================================\n",
      "Omnibus:                        0.176   Durbin-Watson:                   1.658\n",
      "Prob(Omnibus):                  0.916   Jarque-Bera (JB):                0.313\n",
      "Skew:                           0.082   Prob(JB):                        0.855\n",
      "Kurtosis:                       2.790   Cond. No.                         27.5\n",
      "==============================================================================\n",
      "\n",
      "Warnings:\n",
      "[1] Standard Errors assume that the covariance matrix of the errors is correctly specified.\n"
     ]
    }
   ],
   "source": [
    "# rfe40 (vif<10)\n",
    "formula='inf_down_price~runtime+theater_opening+reviews_critics+votes+genre_action+genre_adventure+genre_drama+genre_musical+genre_comedy+genre_romance+genre_war+genre_western+genre_history+genre_horror+genre_crime+genre_music+positive_probability+inf_budget+director_B+director_C+studio_Fathom+studio_NL+studio_Paramount+Q(\"studio_Sum.\")+studio_Universal+studio_WB+mpa_rating_PG+mpa_rating_R+Q(\"prd_mthd_digital animation\")'\n",
    "reg_model=smf.ols(formula,data=scl_dum_df)\n",
    "reg_result_40=reg_model.fit()\n",
    "print(reg_result_40.summary())"
   ]
  },
  {
   "cell_type": "code",
   "execution_count": 0,
   "metadata": {
    "colab": {},
    "colab_type": "code",
    "id": "mXAZREHD895n"
   },
   "outputs": [],
   "source": [
    "#rfe40 (vif<10) 다중공선성 값 확인 => good\n",
    "df_raw_x=scl_dum_df[['runtime', 'inf_income_usa', 'theater_opening', 'awards_win_num',\n",
    "       'reviews_users', 'reviews_critics', 'votes', 'genre_action',\n",
    "       'genre_adventure', 'genre_drama', 'genre_family', 'genre_musical',\n",
    "       'genre_comedy', 'genre_romance', 'genre_war', 'genre_western',\n",
    "       'genre_history', 'genre_horror', 'genre_crime', 'genre_music',\n",
    "       'genre_biography', 'positive_probability', 'inf_income_int',\n",
    "       'inf_budget', 'director_B', 'director_C', 'series_new_1',\n",
    "       'studio_BUENA VISTA', 'studio_Fathom', 'studio_LIONSGATE', 'studio_NL',\n",
    "       'studio_Paramount', 'studio_Sony Pictures/Columbia', 'studio_Sum.',\n",
    "       'studio_Universal', 'studio_WB', 'mpa_rating_PG',\n",
    "       'mpa_rating_R', 'prd_mthd_digital animation']]\n",
    "df_raw_x_const=add_constant(df_raw_x)\n",
    "df_vif=pd.DataFrame()\n",
    "df_vif['variable']=df_raw_x_const.columns\n",
    "df_vif['VIF']=[variance_inflation_factor(df_raw_x_const.values,i) for i in range(df_raw_x_const.shape[1])]\n",
    "# VIF정렬\n",
    "df_vif.sort_values('VIF',inplace=True)\n",
    "df_vif.round(3)"
   ]
  },
  {
   "cell_type": "markdown",
   "metadata": {
    "colab_type": "text",
    "id": "ia85iIkcP4rw"
   },
   "source": [
    "# Durbin-Watson(더빈왓슨검정)\n",
    "* 잔차의 독립성을 확인하는 수치\n",
    "  + 0이면 잔차들이 양의 자기상관\n",
    "  + 2이면 자기상관이 없는 독립성 만족\n",
    "  + 4이면 잔차들이 음의 자기상관\n",
    "\n",
    "* => 1.5~2.5이면 독립으로 판단하고 회귀모형이 적합하다는 것을 의미"
   ]
  },
  {
   "cell_type": "markdown",
   "metadata": {
    "colab_type": "text",
    "id": "jjuyEj19gZkS"
   },
   "source": [
    "# rfe 40 (스케일링+더미화) + 변수제거 후 성능이 제일 좋은 모델로 잔차분석 \n",
    "* 모델이 좋은지 평가하기위해서 "
   ]
  },
  {
   "cell_type": "code",
   "execution_count": 0,
   "metadata": {
    "colab": {},
    "colab_type": "code",
    "id": "GGEyGi9iGtHi"
   },
   "outputs": [],
   "source": [
    "# 잔차분석 \n",
    "sns.set(style='whitegrid')\n",
    "fitted=reg_result_40.predict(scl_dum_df)\n",
    "residual=scl_dum_df['inf_down_price']-fitted\n",
    "# sns.regplot(fitted,residual,lowess=True,line_kws={'color':'red'})\n",
    "# plt.plot([fitted.min(),fitted.max()],[0,0],'--',color='grey')"
   ]
  },
  {
   "cell_type": "code",
   "execution_count": 0,
   "metadata": {
    "colab": {
     "base_uri": "https://localhost:8080/",
     "height": 34
    },
    "colab_type": "code",
    "id": "GwEsIWSAGsh0",
    "outputId": "288f80c8-b745-4237-a597-c241a04f6886"
   },
   "outputs": [
    {
     "name": "stdout",
     "output_type": "stream",
     "text": [
      "(0.9920111894607544, 0.7932164669036865)\n"
     ]
    }
   ],
   "source": [
    "# 잔차의 정규성 검정\n",
    "sr=scipy.stats.zscore(residual)\n",
    "(x,y),_=scipy.stats.probplot(sr)\n",
    "# sns.scatterplot(x,y)\n",
    "# plt.plot([-3,3],[-3,3],'--',color='grey')\n",
    "print(scipy.stats.shapiro(residual)) # p값 : 0.29이므로 유의수준 5%보다 크므로 정규성을 만족한다"
   ]
  },
  {
   "cell_type": "code",
   "execution_count": 0,
   "metadata": {
    "colab": {},
    "colab_type": "code",
    "id": "DN_DsNLQJsg9"
   },
   "outputs": [],
   "source": [
    "# 잔차의 등분산성 검정 \n",
    "# sns.regplot(fitted,np.sqrt(np.abs(sr)),lowess=True,line_kws={'color':'red'})"
   ]
  },
  {
   "cell_type": "code",
   "execution_count": 0,
   "metadata": {
    "colab": {
     "base_uri": "https://localhost:8080/",
     "height": 281
    },
    "colab_type": "code",
    "id": "ZlKodkhtY43V",
    "outputId": "ca4290b6-6a0a-4021-d354-2c631ff69e0f"
   },
   "outputs": [
    {
     "data": {
      "text/plain": [
       "Text(0, 0.5, 'rooted standaradized residual value')"
      ]
     },
     "execution_count": 166,
     "metadata": {
      "tags": []
     },
     "output_type": "execute_result"
    },
    {
     "data": {
      "image/png": "[encoded data removed]",
      "text/plain": [
       "<Figure size 1008x288 with 3 Axes>"
      ]
     },
     "metadata": {
      "tags": []
     },
     "output_type": "display_data"
    }
   ],
   "source": [
    "plt.figure(figsize=(14,4))\n",
    "ax1=plt.subplot(131)\n",
    "sns.regplot(fitted,residual,lowess=True,line_kws={'color':'red'})\n",
    "plt.plot([fitted.min(),fitted.max()],[0,0],'--',color='grey')\n",
    "plt.title('Residual plot')\n",
    "plt.xlabel('fitted value')\n",
    "plt.ylabel('residual value')\n",
    "ax2=plt.subplot(132)\n",
    "sns.scatterplot(x,y)\n",
    "plt.plot([-3,3],[-3,3],'--',color='grey')\n",
    "plt.title('Q-Q plot')\n",
    "ax3=plt.subplot(133)\n",
    "sns.regplot(fitted,np.sqrt(np.abs(sr)),lowess=True,line_kws={'color':'red'})\n",
    "plt.title('standardized residual plot')\n",
    "plt.xlabel('fitted_value')\n",
    "plt.ylabel('rooted standaradized residual value')"
   ]
  },
  {
   "cell_type": "markdown",
   "metadata": {
    "colab_type": "text",
    "id": "2QVUJWWxz_zC"
   },
   "source": [
    "* 최종선택한 모델의 잔차분석 결과!!     \n",
    "* 첫 번째그림은 값에 따라 잔차가 어떻게 분포되는지 보여줌 -> 규칙성이 없고 위아래로 고르게 분포되어있으므로 괜찮은 모형   \n",
    "* 두 번째 그림은 잔차의 정규성을 보는데 직선에 가깝게 분포되어있으므로 정규성또한 만족\n",
    "* 세 번째 그램은 등분산성을 보는데 이것도 선을 기준으로 위아래로 규칙성없이 분포되어 있고 그 폭의 범위가 크지않아 등분산성 또한 만족함 \n",
    "\n"
   ]
  },
  {
   "cell_type": "markdown",
   "metadata": {
    "colab_type": "text",
    "id": "vXS3Htcn1xsp"
   },
   "source": [
    "#### 이 잔차플롯이나 잔차분석 레버리지는 모형이 적합한지 확인하기 위해서 따로 분석했고, 참고하면 좋을 것 같아서 남겨놓았음"
   ]
  },
  {
   "cell_type": "markdown",
   "metadata": {
    "colab_type": "text",
    "id": "YG_ADy1MmOlZ"
   },
   "source": [
    "<유의수준 기준 : 주관>\n",
    "* RFE 60 변수(다중공선성과 p>0.3 )변수제거 결정계수 : 0.583 ( 수정계수 : 0.432 )\n"
   ]
  },
  {
   "cell_type": "code",
   "execution_count": 0,
   "metadata": {
    "colab": {
     "base_uri": "https://localhost:8080/",
     "height": 283
    },
    "colab_type": "code",
    "id": "3Vk02TK9mOlf",
    "outputId": "09a829ab-234f-449b-cd10-6b4b94b2b020"
   },
   "outputs": [
    {
     "name": "stdout",
     "output_type": "stream",
     "text": [
      "Index(['runtime', 'imdb_score', 'inf_income_usa', 'theater_opening',\n",
      "       'theater_total', 'metascore', 'big_awards_num', 'awards_win_num',\n",
      "       'awards_nomin_num', 'reviews_users', 'reviews_critics', 'votes',\n",
      "       'genre_action', 'genre_adventure', 'genre_drama', 'genre_sci-fi',\n",
      "       'genre_fantasy', 'genre_thriller', 'genre_animation', 'genre_family',\n",
      "       'genre_musical', 'genre_comedy', 'genre_romance', 'genre_mystery',\n",
      "       'genre_war', 'genre_western', 'genre_history', 'genre_sport',\n",
      "       'genre_horror', 'genre_crime', 'genre_music', 'genre_biography',\n",
      "       'genre_documentary', 'positive_probability', 'inf_income_int',\n",
      "       'inf_budget', 'director_B', 'director_C', 'series_new_1',\n",
      "       'studio_BUENA VISTA', 'studio_Fathom', 'studio_LIONSGATE', 'studio_NL',\n",
      "       'studio_Paramount', 'studio_Sony Pictures/Columbia', 'studio_Sum.',\n",
      "       'studio_Universal', 'studio_WB', 'mpa_rating_PG', 'mpa_rating_PG-13',\n",
      "       'mpa_rating_R', 'prd_mthd_digital animation', 'prd_mthd_live action'],\n",
      "      dtype='object')\n"
     ]
    }
   ],
   "source": [
    "X=scl_dum_df.drop('inf_down_price',axis=1)\n",
    "y=scl_dum_df['inf_down_price']\n",
    "\n",
    "cols = list(X.columns)\n",
    "model=LinearRegression()\n",
    "rfe=RFE(model,60)\n",
    "X_rfe=rfe.fit_transform(X,y)\n",
    "\n",
    "# Fitting the data to model\n",
    "model.fit(X_rfe,y)\n",
    "temp=pd.Series(rfe.support_,index=cols)\n",
    "selected_features_rfe=temp[temp==True].index\n",
    "print(selected_features_rfe)"
   ]
  },
  {
   "cell_type": "code",
   "execution_count": 0,
   "metadata": {
    "colab": {
     "base_uri": "https://localhost:8080/",
     "height": 54
    },
    "colab_type": "code",
    "id": "LSIYUFmDmOly",
    "outputId": "7a8148fd-f27b-4b2f-dc4b-5d67db42d09b"
   },
   "outputs": [
    {
     "name": "stdout",
     "output_type": "stream",
     "text": [
      "runtime+imdb_score+inf_income_usa+theater_opening+theater_total+metascore+big_awards_num+awards_win_num+awards_nomin_num+reviews_users+reviews_critics+votes+genre_action+genre_adventure+genre_drama+genre_sci-fi+genre_fantasy+genre_thriller+genre_animation+genre_family+genre_musical+genre_comedy+genre_romance+genre_mystery+genre_war+genre_western+genre_history+genre_sport+genre_horror+genre_crime+genre_music+genre_biography+genre_documentary+positive_probability+inf_income_int+inf_budget+director_B+director_C+series_new_1+studio_BUENA VISTA+studio_Fathom+studio_LIONSGATE+studio_NL+studio_Paramount+studio_Sony Pictures/Columbia+studio_Sum.+studio_Universal+studio_WB+mpa_rating_PG+mpa_rating_PG-13+mpa_rating_R+prd_mthd_digital animation+prd_mthd_live action+\n"
     ]
    }
   ],
   "source": [
    "cols=''\n",
    "for i in selected_features_rfe:\n",
    "  cols+=i\n",
    "  cols+=('+')\n",
    "print(cols)"
   ]
  },
  {
   "cell_type": "code",
   "execution_count": 0,
   "metadata": {
    "colab": {
     "base_uri": "https://localhost:8080/",
     "height": 961
    },
    "colab_type": "code",
    "id": "C1Wo3-H6mOmI",
    "outputId": "54c7ed75-5b52-4a20-cf90-4f096e70f1e8"
   },
   "outputs": [
    {
     "name": "stdout",
     "output_type": "stream",
     "text": [
      "                            OLS Regression Results                            \n",
      "==============================================================================\n",
      "Dep. Variable:         inf_down_price   R-squared:                       0.583\n",
      "Model:                            OLS   Adj. R-squared:                  0.432\n",
      "Method:                 Least Squares   F-statistic:                     3.846\n",
      "Date:                Thu, 07 May 2020   Prob (F-statistic):           1.51e-06\n",
      "Time:                        04:27:44   Log-Likelihood:                -549.52\n",
      "No. Observations:                 106   AIC:                             1157.\n",
      "Df Residuals:                      77   BIC:                             1234.\n",
      "Df Model:                          28                                         \n",
      "Covariance Type:            nonrobust                                         \n",
      "======================================================================================================\n",
      "                                         coef    std err          t      P>|t|      [0.025      0.975]\n",
      "------------------------------------------------------------------------------------------------------\n",
      "Intercept                            204.8137     14.502     14.123      0.000     175.937     233.690\n",
      "runtime                              -31.3898     10.676     -2.940      0.004     -52.649     -10.131\n",
      "theater_total                        -14.0383      7.516     -1.868      0.066     -29.005       0.928\n",
      "reviews_critics                       13.8231      7.501      1.843      0.069      -1.114      28.760\n",
      "votes                                -17.5570      7.111     -2.469      0.016     -31.718      -3.396\n",
      "genre_action                          19.9239     10.153      1.962      0.053      -0.293      40.141\n",
      "genre_adventure                       17.8148      8.253      2.159      0.034       1.381      34.249\n",
      "genre_musical                          5.9150      5.651      1.047      0.299      -5.337      17.167\n",
      "genre_comedy                          28.1974      8.935      3.156      0.002      10.406      45.989\n",
      "genre_romance                         31.4553      8.387      3.750      0.000      14.754      48.157\n",
      "genre_western                         12.7447      6.389      1.995      0.050       0.022      25.467\n",
      "genre_history                         -7.8813      7.410     -1.064      0.291     -22.637       6.874\n",
      "genre_sport                           -8.7449      6.066     -1.442      0.153     -20.824       3.334\n",
      "genre_horror                           9.3397      7.156      1.305      0.196      -4.909      23.588\n",
      "genre_crime                           25.1562      5.697      4.416      0.000      13.812      36.501\n",
      "genre_biography                       21.6858      9.117      2.379      0.020       3.531      39.841\n",
      "positive_probability                  13.3986      5.779      2.318      0.023       1.890      24.907\n",
      "inf_budget                            21.1966      9.367      2.263      0.026       2.544      39.849\n",
      "director_B                           -29.7064     17.016     -1.746      0.085     -63.589       4.176\n",
      "director_C                           -33.4526     14.423     -2.319      0.023     -62.172      -4.733\n",
      "studio_Fathom                         79.2093     40.869      1.938      0.056      -2.172     160.591\n",
      "studio_NL                            127.3314     64.777      1.966      0.053      -1.656     256.319\n",
      "studio_Paramount                      21.3131     19.353      1.101      0.274     -17.223      59.850\n",
      "Q(\"studio_Sony Pictures/Columbia\")   -32.3364     23.481     -1.377      0.172     -79.093      14.420\n",
      "Q(\"studio_Sum.\")                    -146.7955     60.327     -2.433      0.017    -266.921     -26.670\n",
      "studio_Universal                      54.3028     19.165      2.833      0.006      16.140      92.466\n",
      "studio_WB                             49.7407     16.657      2.986      0.004      16.572      82.910\n",
      "mpa_rating_PG                         31.0138     22.638      1.370      0.175     -14.064      76.092\n",
      "Q(\"prd_mthd_digital animation\")     -106.4750     29.028     -3.668      0.000    -164.278     -48.672\n",
      "==============================================================================\n",
      "Omnibus:                        0.418   Durbin-Watson:                   1.677\n",
      "Prob(Omnibus):                  0.812   Jarque-Bera (JB):                0.578\n",
      "Skew:                          -0.079   Prob(JB):                        0.749\n",
      "Kurtosis:                       2.674   Cond. No.                         27.0\n",
      "==============================================================================\n",
      "\n",
      "Warnings:\n",
      "[1] Standard Errors assume that the covariance matrix of the errors is correctly specified.\n"
     ]
    }
   ],
   "source": [
    "# rfe60 (vif<10)\n",
    "formula='inf_down_price~runtime+theater_total+reviews_critics+votes+genre_action+genre_adventure+genre_musical+genre_comedy+genre_romance+genre_western+genre_history+genre_sport+genre_horror+genre_crime+genre_biography+positive_probability+inf_budget+director_B+director_C+studio_Fathom+studio_NL+studio_Paramount+Q(\"studio_Sony Pictures/Columbia\")+Q(\"studio_Sum.\")+studio_Universal+studio_WB+mpa_rating_PG+Q(\"prd_mthd_digital animation\")'\n",
    "reg_model=smf.ols(formula,data=scl_dum_df)\n",
    "reg_result_60=reg_model.fit()\n",
    "print(reg_result_60.summary())"
   ]
  },
  {
   "cell_type": "code",
   "execution_count": 0,
   "metadata": {
    "colab": {},
    "colab_type": "code",
    "id": "ZJCEJQSimOmc"
   },
   "outputs": [],
   "source": [
    "#rfe60 (vif<10) 다중공선성 값 확인\n",
    "df_raw_x=scl_dum_df[['runtime', 'inf_income_usa',\n",
    "       'theater_total', 'metascore', 'big_awards_num', 'awards_win_num',\n",
    "        'reviews_users', 'reviews_critics', 'votes',\n",
    "       'genre_action', 'genre_adventure', 'genre_drama', 'genre_sci-fi',\n",
    "       'genre_fantasy', 'genre_thriller',\n",
    "       'genre_musical', 'genre_comedy', 'genre_romance', 'genre_mystery',\n",
    "       'genre_war', 'genre_western', 'genre_history', 'genre_sport',\n",
    "       'genre_horror', 'genre_crime', 'genre_music', 'genre_biography',\n",
    "        'positive_probability', 'inf_income_int',\n",
    "       'inf_budget', 'director_B', 'director_C', 'series_new_1',\n",
    "       'studio_BUENA VISTA', 'studio_Fathom', 'studio_LIONSGATE', 'studio_NL',\n",
    "       'studio_Paramount', 'studio_Sony Pictures/Columbia', 'studio_Sum.',\n",
    "       'studio_Universal', 'studio_WB', 'mpa_rating_PG',\n",
    "       'mpa_rating_R', 'prd_mthd_digital animation', 'prd_mthd_live action']]\n",
    "df_raw_x_const=add_constant(df_raw_x)\n",
    "df_vif=pd.DataFrame()\n",
    "df_vif['variable']=df_raw_x_const.columns\n",
    "df_vif['VIF']=[variance_inflation_factor(df_raw_x_const.values,i) for i in range(df_raw_x_const.shape[1])]\n",
    "# VIF정렬\n",
    "df_vif.sort_values('VIF',inplace=True)\n",
    "df_vif.round(3)"
   ]
  },
  {
   "cell_type": "code",
   "execution_count": 0,
   "metadata": {
    "colab": {},
    "colab_type": "code",
    "id": "xGmJljLPaNEA"
   },
   "outputs": [],
   "source": [
    "fitted=reg_result_60.predict(scl_dum_df)\n",
    "residual=scl_dum_df['inf_down_price']-fitted"
   ]
  },
  {
   "cell_type": "code",
   "execution_count": 0,
   "metadata": {
    "colab": {
     "base_uri": "https://localhost:8080/",
     "height": 300
    },
    "colab_type": "code",
    "id": "-3igfJVlaNqr",
    "outputId": "0c5bac74-3b8b-44a6-d5d6-34c64dba5707"
   },
   "outputs": [
    {
     "name": "stdout",
     "output_type": "stream",
     "text": [
      "(0.9894263744354248, 0.5768336653709412)\n"
     ]
    },
    {
     "data": {
      "text/plain": [
       "Text(0, 0.5, 'rooted standaradized residual value')"
      ]
     },
     "execution_count": 171,
     "metadata": {
      "tags": []
     },
     "output_type": "execute_result"
    },
    {
     "data": {
      "image/png": "[encoded data removed]",
      "text/plain": [
       "<Figure size 1008x288 with 3 Axes>"
      ]
     },
     "metadata": {
      "tags": []
     },
     "output_type": "display_data"
    }
   ],
   "source": [
    "# 잔차의 정규성 검정\n",
    "sr=scipy.stats.zscore(residual)\n",
    "(x,y),_=scipy.stats.probplot(sr)\n",
    "# sns.scatterplot(x,y)\n",
    "# plt.plot([-3,3],[-3,3],'--',color='grey')\n",
    "print(scipy.stats.shapiro(residual)) \n",
    "plt.figure(figsize=(14,4))\n",
    "ax1=plt.subplot(131)\n",
    "sns.regplot(fitted,residual,lowess=True,line_kws={'color':'red'})\n",
    "plt.plot([fitted.min(),fitted.max()],[0,0],'--',color='grey')\n",
    "plt.title('Residual plot')\n",
    "plt.xlabel('fitted value')\n",
    "plt.ylabel('residual value')\n",
    "ax2=plt.subplot(132)\n",
    "sns.scatterplot(x,y)\n",
    "plt.plot([-3,3],[-3,3],'--',color='grey')\n",
    "plt.title('Q-Q plot')\n",
    "ax3=plt.subplot(133)\n",
    "sns.regplot(fitted,np.sqrt(np.abs(sr)),lowess=True,line_kws={'color':'red'})\n",
    "plt.title('standardized residual plot')\n",
    "plt.xlabel('fitted_value')\n",
    "plt.ylabel('rooted standaradized residual value')"
   ]
  },
  {
   "cell_type": "markdown",
   "metadata": {
    "colab_type": "text",
    "id": "9T47TK8gB5cN"
   },
   "source": [
    "# 회귀분석 ( 스케일링 X, 더미화 O ) "
   ]
  },
  {
   "cell_type": "markdown",
   "metadata": {
    "colab_type": "text",
    "id": "mEe6M4HnELKs"
   },
   "source": [
    "<유의수준 기준 : 0.3>\n",
    "* RFE 40 : 0.530  (수정계수 : 0.412)  \n",
    "## 스케일링없이 회귀분석하면 설명도가 낮아짐 \n"
   ]
  },
  {
   "cell_type": "code",
   "execution_count": 0,
   "metadata": {
    "colab": {
     "base_uri": "https://localhost:8080/",
     "height": 234
    },
    "colab_type": "code",
    "id": "YBKoYvhyB14O",
    "outputId": "4cbece20-24d0-4f4a-916a-8a56f61caab0"
   },
   "outputs": [
    {
     "data": {
      "text/html": [
       "<div>\n",
       "<style scoped>\n",
       "    .dataframe tbody tr th:only-of-type {\n",
       "        vertical-align: middle;\n",
       "    }\n",
       "\n",
       "    .dataframe tbody tr th {\n",
       "        vertical-align: top;\n",
       "    }\n",
       "\n",
       "    .dataframe thead th {\n",
       "        text-align: right;\n",
       "    }\n",
       "</style>\n",
       "<table border=\"1\" class=\"dataframe\">\n",
       "  <thead>\n",
       "    <tr style=\"text-align: right;\">\n",
       "      <th></th>\n",
       "      <th>runtime</th>\n",
       "      <th>imdb_score</th>\n",
       "      <th>inf_income_usa</th>\n",
       "      <th>theater_opening</th>\n",
       "      <th>theater_total</th>\n",
       "      <th>metascore</th>\n",
       "      <th>big_awards_num</th>\n",
       "      <th>awards_win_num</th>\n",
       "      <th>awards_nomin_num</th>\n",
       "      <th>reviews_users</th>\n",
       "      <th>reviews_critics</th>\n",
       "      <th>votes</th>\n",
       "      <th>genre_action</th>\n",
       "      <th>genre_adventure</th>\n",
       "      <th>genre_drama</th>\n",
       "      <th>genre_sci-fi</th>\n",
       "      <th>genre_fantasy</th>\n",
       "      <th>genre_thriller</th>\n",
       "      <th>genre_animation</th>\n",
       "      <th>genre_family</th>\n",
       "      <th>genre_musical</th>\n",
       "      <th>genre_comedy</th>\n",
       "      <th>genre_romance</th>\n",
       "      <th>genre_mystery</th>\n",
       "      <th>genre_war</th>\n",
       "      <th>genre_western</th>\n",
       "      <th>genre_history</th>\n",
       "      <th>genre_sport</th>\n",
       "      <th>genre_horror</th>\n",
       "      <th>genre_crime</th>\n",
       "      <th>genre_music</th>\n",
       "      <th>genre_biography</th>\n",
       "      <th>genre_documentary</th>\n",
       "      <th>positive_probability</th>\n",
       "      <th>director_A</th>\n",
       "      <th>director_B</th>\n",
       "      <th>director_C</th>\n",
       "      <th>inf_income_int</th>\n",
       "      <th>inf_budget</th>\n",
       "      <th>inf_down_price</th>\n",
       "      <th>mpa_rating_PG</th>\n",
       "      <th>mpa_rating_PG-13</th>\n",
       "      <th>mpa_rating_R</th>\n",
       "      <th>prd_mthd_digital animation</th>\n",
       "      <th>prd_mthd_live action</th>\n",
       "      <th>series_new_1</th>\n",
       "      <th>studio_BUENA VISTA</th>\n",
       "      <th>studio_Fathom</th>\n",
       "      <th>studio_LIONSGATE</th>\n",
       "      <th>studio_NL</th>\n",
       "      <th>studio_Paramount</th>\n",
       "      <th>studio_Sony Pictures/Columbia</th>\n",
       "      <th>studio_Sum.</th>\n",
       "      <th>studio_Universal</th>\n",
       "      <th>studio_WB</th>\n",
       "    </tr>\n",
       "  </thead>\n",
       "  <tbody>\n",
       "    <tr>\n",
       "      <th>0</th>\n",
       "      <td>141</td>\n",
       "      <td>7.3</td>\n",
       "      <td>496031246.0</td>\n",
       "      <td>4276</td>\n",
       "      <td>4276</td>\n",
       "      <td>66.0</td>\n",
       "      <td>0</td>\n",
       "      <td>8</td>\n",
       "      <td>55</td>\n",
       "      <td>1283</td>\n",
       "      <td>689</td>\n",
       "      <td>697604</td>\n",
       "      <td>1</td>\n",
       "      <td>1</td>\n",
       "      <td>0</td>\n",
       "      <td>1</td>\n",
       "      <td>0</td>\n",
       "      <td>0</td>\n",
       "      <td>0</td>\n",
       "      <td>0</td>\n",
       "      <td>0</td>\n",
       "      <td>0</td>\n",
       "      <td>0</td>\n",
       "      <td>0</td>\n",
       "      <td>0</td>\n",
       "      <td>0</td>\n",
       "      <td>0</td>\n",
       "      <td>0</td>\n",
       "      <td>0</td>\n",
       "      <td>0</td>\n",
       "      <td>0</td>\n",
       "      <td>0</td>\n",
       "      <td>0</td>\n",
       "      <td>0.861669</td>\n",
       "      <td>0</td>\n",
       "      <td>0</td>\n",
       "      <td>1</td>\n",
       "      <td>1.020156e+09</td>\n",
       "      <td>3.944425e+08</td>\n",
       "      <td>267.208323</td>\n",
       "      <td>0</td>\n",
       "      <td>1</td>\n",
       "      <td>0</td>\n",
       "      <td>0</td>\n",
       "      <td>0</td>\n",
       "      <td>1</td>\n",
       "      <td>1</td>\n",
       "      <td>0</td>\n",
       "      <td>0</td>\n",
       "      <td>0</td>\n",
       "      <td>0</td>\n",
       "      <td>0</td>\n",
       "      <td>0</td>\n",
       "      <td>0</td>\n",
       "      <td>0</td>\n",
       "    </tr>\n",
       "    <tr>\n",
       "      <th>1</th>\n",
       "      <td>156</td>\n",
       "      <td>8.5</td>\n",
       "      <td>678815482.0</td>\n",
       "      <td>4474</td>\n",
       "      <td>4474</td>\n",
       "      <td>68.0</td>\n",
       "      <td>1</td>\n",
       "      <td>44</td>\n",
       "      <td>114</td>\n",
       "      <td>4191</td>\n",
       "      <td>605</td>\n",
       "      <td>748996</td>\n",
       "      <td>1</td>\n",
       "      <td>1</td>\n",
       "      <td>0</td>\n",
       "      <td>1</td>\n",
       "      <td>0</td>\n",
       "      <td>0</td>\n",
       "      <td>0</td>\n",
       "      <td>0</td>\n",
       "      <td>0</td>\n",
       "      <td>0</td>\n",
       "      <td>0</td>\n",
       "      <td>0</td>\n",
       "      <td>0</td>\n",
       "      <td>0</td>\n",
       "      <td>0</td>\n",
       "      <td>0</td>\n",
       "      <td>0</td>\n",
       "      <td>0</td>\n",
       "      <td>0</td>\n",
       "      <td>0</td>\n",
       "      <td>0</td>\n",
       "      <td>0.155046</td>\n",
       "      <td>0</td>\n",
       "      <td>0</td>\n",
       "      <td>0</td>\n",
       "      <td>1.369544e+09</td>\n",
       "      <td>3.000000e+08</td>\n",
       "      <td>161.000000</td>\n",
       "      <td>0</td>\n",
       "      <td>1</td>\n",
       "      <td>0</td>\n",
       "      <td>0</td>\n",
       "      <td>0</td>\n",
       "      <td>1</td>\n",
       "      <td>1</td>\n",
       "      <td>0</td>\n",
       "      <td>0</td>\n",
       "      <td>0</td>\n",
       "      <td>0</td>\n",
       "      <td>0</td>\n",
       "      <td>0</td>\n",
       "      <td>0</td>\n",
       "      <td>0</td>\n",
       "    </tr>\n",
       "    <tr>\n",
       "      <th>2</th>\n",
       "      <td>167</td>\n",
       "      <td>7.1</td>\n",
       "      <td>409712211.0</td>\n",
       "      <td>4362</td>\n",
       "      <td>4362</td>\n",
       "      <td>50.0</td>\n",
       "      <td>1</td>\n",
       "      <td>20</td>\n",
       "      <td>64</td>\n",
       "      <td>1280</td>\n",
       "      <td>327</td>\n",
       "      <td>572118</td>\n",
       "      <td>1</td>\n",
       "      <td>1</td>\n",
       "      <td>0</td>\n",
       "      <td>0</td>\n",
       "      <td>1</td>\n",
       "      <td>0</td>\n",
       "      <td>0</td>\n",
       "      <td>0</td>\n",
       "      <td>0</td>\n",
       "      <td>0</td>\n",
       "      <td>0</td>\n",
       "      <td>0</td>\n",
       "      <td>0</td>\n",
       "      <td>0</td>\n",
       "      <td>0</td>\n",
       "      <td>0</td>\n",
       "      <td>0</td>\n",
       "      <td>0</td>\n",
       "      <td>0</td>\n",
       "      <td>0</td>\n",
       "      <td>0</td>\n",
       "      <td>0.876586</td>\n",
       "      <td>0</td>\n",
       "      <td>1</td>\n",
       "      <td>0</td>\n",
       "      <td>8.659796e+08</td>\n",
       "      <td>3.972384e+08</td>\n",
       "      <td>208.799651</td>\n",
       "      <td>0</td>\n",
       "      <td>1</td>\n",
       "      <td>0</td>\n",
       "      <td>0</td>\n",
       "      <td>1</td>\n",
       "      <td>1</td>\n",
       "      <td>1</td>\n",
       "      <td>0</td>\n",
       "      <td>0</td>\n",
       "      <td>0</td>\n",
       "      <td>0</td>\n",
       "      <td>0</td>\n",
       "      <td>0</td>\n",
       "      <td>0</td>\n",
       "      <td>0</td>\n",
       "    </tr>\n",
       "    <tr>\n",
       "      <th>3</th>\n",
       "      <td>121</td>\n",
       "      <td>6.4</td>\n",
       "      <td>232544520.0</td>\n",
       "      <td>4051</td>\n",
       "      <td>4051</td>\n",
       "      <td>45.0</td>\n",
       "      <td>0</td>\n",
       "      <td>2</td>\n",
       "      <td>15</td>\n",
       "      <td>1963</td>\n",
       "      <td>494</td>\n",
       "      <td>352866</td>\n",
       "      <td>1</td>\n",
       "      <td>1</td>\n",
       "      <td>0</td>\n",
       "      <td>1</td>\n",
       "      <td>1</td>\n",
       "      <td>0</td>\n",
       "      <td>0</td>\n",
       "      <td>0</td>\n",
       "      <td>0</td>\n",
       "      <td>0</td>\n",
       "      <td>0</td>\n",
       "      <td>0</td>\n",
       "      <td>0</td>\n",
       "      <td>0</td>\n",
       "      <td>0</td>\n",
       "      <td>0</td>\n",
       "      <td>0</td>\n",
       "      <td>0</td>\n",
       "      <td>0</td>\n",
       "      <td>0</td>\n",
       "      <td>0</td>\n",
       "      <td>0.742135</td>\n",
       "      <td>0</td>\n",
       "      <td>1</td>\n",
       "      <td>0</td>\n",
       "      <td>4.334829e+08</td>\n",
       "      <td>3.046112e+08</td>\n",
       "      <td>190.180715</td>\n",
       "      <td>0</td>\n",
       "      <td>1</td>\n",
       "      <td>0</td>\n",
       "      <td>0</td>\n",
       "      <td>1</td>\n",
       "      <td>1</td>\n",
       "      <td>0</td>\n",
       "      <td>0</td>\n",
       "      <td>0</td>\n",
       "      <td>0</td>\n",
       "      <td>0</td>\n",
       "      <td>0</td>\n",
       "      <td>0</td>\n",
       "      <td>0</td>\n",
       "      <td>1</td>\n",
       "    </tr>\n",
       "    <tr>\n",
       "      <th>4</th>\n",
       "      <td>148</td>\n",
       "      <td>6.8</td>\n",
       "      <td>216131343.0</td>\n",
       "      <td>3929</td>\n",
       "      <td>3929</td>\n",
       "      <td>60.0</td>\n",
       "      <td>1</td>\n",
       "      <td>7</td>\n",
       "      <td>41</td>\n",
       "      <td>1129</td>\n",
       "      <td>638</td>\n",
       "      <td>365008</td>\n",
       "      <td>1</td>\n",
       "      <td>1</td>\n",
       "      <td>0</td>\n",
       "      <td>0</td>\n",
       "      <td>0</td>\n",
       "      <td>1</td>\n",
       "      <td>0</td>\n",
       "      <td>0</td>\n",
       "      <td>0</td>\n",
       "      <td>0</td>\n",
       "      <td>0</td>\n",
       "      <td>0</td>\n",
       "      <td>0</td>\n",
       "      <td>0</td>\n",
       "      <td>0</td>\n",
       "      <td>0</td>\n",
       "      <td>0</td>\n",
       "      <td>0</td>\n",
       "      <td>0</td>\n",
       "      <td>0</td>\n",
       "      <td>0</td>\n",
       "      <td>0.744420</td>\n",
       "      <td>0</td>\n",
       "      <td>1</td>\n",
       "      <td>0</td>\n",
       "      <td>7.340845e+08</td>\n",
       "      <td>3.240768e+08</td>\n",
       "      <td>120.931118</td>\n",
       "      <td>0</td>\n",
       "      <td>1</td>\n",
       "      <td>0</td>\n",
       "      <td>0</td>\n",
       "      <td>1</td>\n",
       "      <td>1</td>\n",
       "      <td>0</td>\n",
       "      <td>0</td>\n",
       "      <td>0</td>\n",
       "      <td>0</td>\n",
       "      <td>0</td>\n",
       "      <td>1</td>\n",
       "      <td>0</td>\n",
       "      <td>0</td>\n",
       "      <td>0</td>\n",
       "    </tr>\n",
       "  </tbody>\n",
       "</table>\n",
       "</div>"
      ],
      "text/plain": [
       "   runtime  imdb_score  ...  studio_Universal  studio_WB\n",
       "0      141         7.3  ...                 0          0\n",
       "1      156         8.5  ...                 0          0\n",
       "2      167         7.1  ...                 0          0\n",
       "3      121         6.4  ...                 0          1\n",
       "4      148         6.8  ...                 0          0\n",
       "\n",
       "[5 rows x 55 columns]"
      ]
     },
     "execution_count": 181,
     "metadata": {
      "tags": []
     },
     "output_type": "execute_result"
    }
   ],
   "source": [
    "drop_meta_dummy=drop_meta.copy()\n",
    "drop_meta_dummy=pd.get_dummies(drop_meta_dummy,drop_first=True)\n",
    "# drop_meta_dummy=drop_meta_dummy.drop(['price_class_10','studio_score_6','studio_WB','mpa_rating_R','director_A'],axis=1)\n",
    "drop_meta_dummy.head()"
   ]
  },
  {
   "cell_type": "code",
   "execution_count": 0,
   "metadata": {
    "colab": {
     "base_uri": "https://localhost:8080/",
     "height": 230
    },
    "colab_type": "code",
    "id": "gNeGuO3hDApv",
    "outputId": "fee91b98-3a7f-46f2-8ab8-aedd7367134e"
   },
   "outputs": [
    {
     "name": "stdout",
     "output_type": "stream",
     "text": [
      "Index(['imdb_score', 'big_awards_num', 'genre_action', 'genre_adventure',\n",
      "       'genre_drama', 'genre_sci-fi', 'genre_fantasy', 'genre_thriller',\n",
      "       'genre_animation', 'genre_family', 'genre_musical', 'genre_comedy',\n",
      "       'genre_romance', 'genre_mystery', 'genre_war', 'genre_western',\n",
      "       'genre_history', 'genre_sport', 'genre_horror', 'genre_crime',\n",
      "       'genre_music', 'genre_biography', 'positive_probability', 'director_A',\n",
      "       'director_B', 'director_C', 'mpa_rating_PG', 'mpa_rating_PG-13',\n",
      "       'mpa_rating_R', 'prd_mthd_digital animation', 'series_new_1',\n",
      "       'studio_BUENA VISTA', 'studio_Fathom', 'studio_LIONSGATE', 'studio_NL',\n",
      "       'studio_Paramount', 'studio_Sony Pictures/Columbia', 'studio_Sum.',\n",
      "       'studio_Universal', 'studio_WB'],\n",
      "      dtype='object')\n"
     ]
    }
   ],
   "source": [
    "X=drop_meta_dummy.drop('inf_down_price',axis=1)\n",
    "y=drop_meta_dummy['inf_down_price']\n",
    "cols = list(X.columns)\n",
    "model=LinearRegression()\n",
    "rfe=RFE(model,40)\n",
    "X_rfe=rfe.fit_transform(X,y)\n",
    "\n",
    "# Fitting the data to model\n",
    "model.fit(X_rfe,y)\n",
    "temp=pd.Series(rfe.support_,index=cols)\n",
    "selected_features_rfe=temp[temp==True].index\n",
    "print(selected_features_rfe)"
   ]
  },
  {
   "cell_type": "code",
   "execution_count": 0,
   "metadata": {
    "colab": {
     "base_uri": "https://localhost:8080/",
     "height": 54
    },
    "colab_type": "code",
    "id": "Qc8oItkfDAqK",
    "outputId": "a18bb64c-090e-4bc5-bc56-64088ed4d484"
   },
   "outputs": [
    {
     "name": "stdout",
     "output_type": "stream",
     "text": [
      "imdb_score+big_awards_num+genre_action+genre_adventure+genre_drama+genre_sci-fi+genre_fantasy+genre_thriller+genre_animation+genre_family+genre_musical+genre_comedy+genre_romance+genre_mystery+genre_war+genre_western+genre_history+genre_sport+genre_horror+genre_crime+genre_music+genre_biography+positive_probability+director_A+director_B+director_C+mpa_rating_PG+mpa_rating_PG-13+mpa_rating_R+prd_mthd_digital animation+series_new_1+studio_BUENA VISTA+studio_Fathom+studio_LIONSGATE+studio_NL+studio_Paramount+studio_Sony Pictures/Columbia+studio_Sum.+studio_Universal+studio_WB+\n"
     ]
    }
   ],
   "source": [
    "cols=''\n",
    "for i in selected_features_rfe:\n",
    "  cols+=i\n",
    "  cols+=('+')\n",
    "print(cols)"
   ]
  },
  {
   "cell_type": "code",
   "execution_count": 0,
   "metadata": {
    "colab": {
     "base_uri": "https://localhost:8080/",
     "height": 836
    },
    "colab_type": "code",
    "id": "4PqKxSAeDAqW",
    "outputId": "da21fe57-1b5c-4407-8caa-5505222e0f72"
   },
   "outputs": [
    {
     "name": "stdout",
     "output_type": "stream",
     "text": [
      "                            OLS Regression Results                            \n",
      "==============================================================================\n",
      "Dep. Variable:         inf_down_price   R-squared:                       0.530\n",
      "Model:                            OLS   Adj. R-squared:                  0.412\n",
      "Method:                 Least Squares   F-statistic:                     4.505\n",
      "Date:                Wed, 06 May 2020   Prob (F-statistic):           3.60e-07\n",
      "Time:                        17:49:27   Log-Likelihood:                -555.91\n",
      "No. Observations:                 106   AIC:                             1156.\n",
      "Df Residuals:                      84   BIC:                             1214.\n",
      "Df Model:                          21                                         \n",
      "Covariance Type:            nonrobust                                         \n",
      "===================================================================================================\n",
      "                                      coef    std err          t      P>|t|      [0.025      0.975]\n",
      "---------------------------------------------------------------------------------------------------\n",
      "Intercept                         308.8234     67.331      4.587      0.000     174.929     442.718\n",
      "imdb_score                        -26.8416      8.371     -3.206      0.002     -43.489     -10.195\n",
      "genre_action                       41.6357     19.841      2.098      0.039       2.180      81.092\n",
      "genre_adventure                    41.3035     16.915      2.442      0.017       7.666      74.941\n",
      "genre_drama                        37.9077     21.727      1.745      0.085      -5.298      81.113\n",
      "genre_comedy                       50.1187     18.916      2.650      0.010      12.503      87.735\n",
      "genre_mystery                      34.7638     27.043      1.285      0.202     -19.014      88.542\n",
      "genre_crime                        79.5251     34.987      2.273      0.026       9.950     149.100\n",
      "positive_probability               32.9621     17.440      1.890      0.062      -1.719      67.643\n",
      "director_A                        -73.4540     25.737     -2.854      0.005    -124.634     -22.274\n",
      "director_B                        -48.6792     18.047     -2.697      0.008     -84.567     -12.791\n",
      "director_C                        -41.8183     15.848     -2.639      0.010     -73.334     -10.302\n",
      "mpa_rating_R                       71.0386     19.621      3.621      0.001      32.020     110.057\n",
      "Q(\"prd_mthd_digital animation\")   -56.3901     22.801     -2.473      0.015    -101.733     -11.048\n",
      "series_new_1                      -35.1747     18.576     -1.894      0.062     -72.116       1.766\n",
      "Q(\"studio_BUENA VISTA\")            28.5025     16.671      1.710      0.091      -4.650      61.655\n",
      "studio_Fathom                      78.0561     38.569      2.024      0.046       1.358     154.754\n",
      "studio_NL                          76.6277     60.230      1.272      0.207     -43.146     196.401\n",
      "studio_Paramount                   46.8059     20.077      2.331      0.022       6.880      86.731\n",
      "Q(\"studio_Sum.\")                 -120.3764     50.309     -2.393      0.019    -220.421     -20.332\n",
      "studio_Universal                   49.0993     19.376      2.534      0.013      10.568      87.630\n",
      "studio_WB                          34.3080     16.514      2.077      0.041       1.467      67.149\n",
      "==============================================================================\n",
      "Omnibus:                        0.025   Durbin-Watson:                   1.873\n",
      "Prob(Omnibus):                  0.988   Jarque-Bera (JB):                0.088\n",
      "Skew:                          -0.035   Prob(JB):                        0.957\n",
      "Kurtosis:                       2.877   Cond. No.                         108.\n",
      "==============================================================================\n",
      "\n",
      "Warnings:\n",
      "[1] Standard Errors assume that the covariance matrix of the errors is correctly specified.\n"
     ]
    }
   ],
   "source": [
    "# rfe40 \n",
    "formula='inf_down_price~imdb_score+genre_action+genre_adventure+genre_drama+genre_comedy+genre_mystery+genre_crime+positive_probability+director_A+director_B+director_C+mpa_rating_R+Q(\"prd_mthd_digital animation\")+series_new_1+Q(\"studio_BUENA VISTA\")+studio_Fathom+studio_NL+studio_Paramount+Q(\"studio_Sum.\")+studio_Universal+studio_WB'\n",
    "reg_model=smf.ols(formula,data=drop_meta_dummy)\n",
    "reg_result=reg_model.fit()\n",
    "print(reg_result.summary())"
   ]
  },
  {
   "cell_type": "code",
   "execution_count": 0,
   "metadata": {
    "colab": {},
    "colab_type": "code",
    "id": "3yYgm5QlDdzY"
   },
   "outputs": [],
   "source": [
    "#rfe40  다중공선성 값 확인 => 다중공선성 많이 존재 ....스케일링을 안하면 수정계수도 0.2점대\n",
    "df_raw_x=drop_meta_dummy[['imdb_score', 'big_awards_num', 'genre_action', 'genre_adventure',\n",
    "       'genre_drama', 'genre_sci-fi', 'genre_fantasy', 'genre_thriller',\n",
    "        'genre_family', 'genre_musical', 'genre_comedy',\n",
    "       'genre_romance', 'genre_mystery', 'genre_war', 'genre_western',\n",
    "       'genre_history', 'genre_sport', 'genre_horror', 'genre_crime',\n",
    "       'genre_music', 'genre_biography', 'positive_probability', 'director_A',\n",
    "       'director_B', 'director_C', 'mpa_rating_PG',\n",
    "       'mpa_rating_R', 'prd_mthd_digital animation', 'series_new_1',\n",
    "       'studio_BUENA VISTA', 'studio_Fathom', 'studio_LIONSGATE', 'studio_NL',\n",
    "       'studio_Paramount', 'studio_Sony Pictures/Columbia', 'studio_Sum.',\n",
    "       'studio_Universal', 'studio_WB']]\n",
    "df_raw_x_const=add_constant(df_raw_x)\n",
    "df_vif=pd.DataFrame()\n",
    "df_vif['variable']=df_raw_x_const.columns\n",
    "df_vif['VIF']=[variance_inflation_factor(df_raw_x_const.values,i) for i in range(df_raw_x_const.shape[1])]\n",
    "# VIF정렬\n",
    "df_vif.sort_values('VIF',inplace=True)\n",
    "df_vif.round(3)"
   ]
  },
  {
   "cell_type": "markdown",
   "metadata": {
    "colab_type": "text",
    "id": "vagM7B6yIFKV"
   },
   "source": [
    "# LassoCV로 변수선택 후 회귀분석\n",
    "\n",
    "*   정확도가 너무 낮음\n",
    "\n"
   ]
  },
  {
   "cell_type": "code",
   "execution_count": 0,
   "metadata": {
    "colab": {
     "base_uri": "https://localhost:8080/",
     "height": 517
    },
    "colab_type": "code",
    "id": "byB1psgAH9DF",
    "outputId": "ed0b84f1-d9bc-4bca-8a86-813498ea93b8"
   },
   "outputs": [
    {
     "name": "stdout",
     "output_type": "stream",
     "text": [
      "Best alpha using built-in LassoCV: 8.075718\n",
      "Best score using built-in LassoCV: 0.120849\n",
      "Lasso picked 7 variables and eliminated the other 46 variables\n"
     ]
    },
    {
     "data": {
      "text/plain": [
       "Text(0.5, 1.0, 'Feature importance using Lasso Model')"
      ]
     },
     "execution_count": 175,
     "metadata": {
      "tags": []
     },
     "output_type": "execute_result"
    },
    {
     "data": {
      "image/png": "[encoded data removed]",
      "text/plain": [
       "<Figure size 720x504 with 1 Axes>"
      ]
     },
     "metadata": {
      "tags": []
     },
     "output_type": "display_data"
    }
   ],
   "source": [
    "X=scl_dum_df.drop('inf_down_price',axis=1)\n",
    "y=scl_dum_df['inf_down_price']\n",
    "\n",
    "reg=LassoCV()\n",
    "reg.fit(X,y)\n",
    "\n",
    "print('Best alpha using built-in LassoCV: %f'% reg.alpha_)\n",
    "print('Best score using built-in LassoCV: %f'%reg.score(X,y))\n",
    "coef=pd.Series(reg.coef_,index=X.columns)\n",
    "print(\"Lasso picked \" + str(sum(coef != 0)) + \" variables and eliminated the other \" +  str(sum(coef == 0)) + \" variables\")\n",
    "imp_coef = coef.sort_values().reset_index()\n",
    "imp_coef.columns=['x','Importance']\n",
    "imp_coef=imp_coef[abs(imp_coef['Importance'])>0]\n",
    "imp_coef=imp_coef.set_index('x')\n",
    "import matplotlib\n",
    "matplotlib.rcParams['figure.figsize'] = (10.0, 7.0)\n",
    "imp_coef.plot(kind = \"barh\")\n",
    "plt.title(\"Feature importance using Lasso Model\")"
   ]
  },
  {
   "cell_type": "markdown",
   "metadata": {
    "colab_type": "text",
    "id": "NQwYfMt9IX3v"
   },
   "source": [
    "LASSO는 변수중요도만 참고하면 좋을 듯"
   ]
  },
  {
   "cell_type": "code",
   "execution_count": 0,
   "metadata": {
    "colab": {},
    "colab_type": "code",
    "id": "K913yEuyH93E"
   },
   "outputs": [],
   "source": [
    "# Lasso를 이용한 회귀분석 => 결정계수 노답 ㅜㅜ \n",
    "# formula='inf_down_price~theater_total+inf_income_usa+genre_comedy+genre_war+actor_C+genre_western+genre_crime+inf_budget+genre_fantasy'\n",
    "# reg_model=smf.ols(formula,data=scl_dum_df)\n",
    "# reg_result=reg_model.fit()\n",
    "# print(reg_result.summary())"
   ]
  },
  {
   "cell_type": "markdown",
   "metadata": {
    "colab_type": "text",
    "id": "FBx-qpnLX2DE"
   },
   "source": [
    "# DT/RF/GB/NN으로 영화매출예측"
   ]
  },
  {
   "cell_type": "markdown",
   "metadata": {
    "colab_type": "text",
    "id": "mx3z8_RhYAS4"
   },
   "source": [
    "## DT"
   ]
  },
  {
   "cell_type": "code",
   "execution_count": 0,
   "metadata": {
    "colab": {
     "base_uri": "https://localhost:8080/",
     "height": 234
    },
    "colab_type": "code",
    "id": "PZYHGZVSmwx5",
    "outputId": "166fdd0a-14ea-4fd5-c279-fbc4316caac6"
   },
   "outputs": [
    {
     "data": {
      "text/html": [
       "<div>\n",
       "<style scoped>\n",
       "    .dataframe tbody tr th:only-of-type {\n",
       "        vertical-align: middle;\n",
       "    }\n",
       "\n",
       "    .dataframe tbody tr th {\n",
       "        vertical-align: top;\n",
       "    }\n",
       "\n",
       "    .dataframe thead th {\n",
       "        text-align: right;\n",
       "    }\n",
       "</style>\n",
       "<table border=\"1\" class=\"dataframe\">\n",
       "  <thead>\n",
       "    <tr style=\"text-align: right;\">\n",
       "      <th></th>\n",
       "      <th>runtime</th>\n",
       "      <th>imdb_score</th>\n",
       "      <th>legs</th>\n",
       "      <th>inf_income_usa</th>\n",
       "      <th>theater_opening</th>\n",
       "      <th>theater_total</th>\n",
       "      <th>metascore</th>\n",
       "      <th>big_awards_num</th>\n",
       "      <th>awards_win_num</th>\n",
       "      <th>awards_nomin_num</th>\n",
       "      <th>reviews_users</th>\n",
       "      <th>reviews_critics</th>\n",
       "      <th>votes</th>\n",
       "      <th>genre_action</th>\n",
       "      <th>genre_adventure</th>\n",
       "      <th>genre_drama</th>\n",
       "      <th>genre_sci-fi</th>\n",
       "      <th>genre_fantasy</th>\n",
       "      <th>genre_thriller</th>\n",
       "      <th>genre_animation</th>\n",
       "      <th>genre_family</th>\n",
       "      <th>genre_musical</th>\n",
       "      <th>genre_comedy</th>\n",
       "      <th>genre_romance</th>\n",
       "      <th>genre_mystery</th>\n",
       "      <th>genre_war</th>\n",
       "      <th>genre_western</th>\n",
       "      <th>genre_history</th>\n",
       "      <th>genre_sport</th>\n",
       "      <th>genre_horror</th>\n",
       "      <th>genre_crime</th>\n",
       "      <th>genre_music</th>\n",
       "      <th>genre_biography</th>\n",
       "      <th>genre_documentary</th>\n",
       "      <th>positive_probability</th>\n",
       "      <th>inf_income_int</th>\n",
       "      <th>inf_budget</th>\n",
       "      <th>inf_income_opening</th>\n",
       "      <th>inf_down_price</th>\n",
       "      <th>director_A</th>\n",
       "      <th>director_B</th>\n",
       "      <th>director_C</th>\n",
       "      <th>series_new_0</th>\n",
       "      <th>series_new_1</th>\n",
       "      <th>studio_20th Century Fox</th>\n",
       "      <th>studio_BUENA VISTA</th>\n",
       "      <th>studio_Fathom</th>\n",
       "      <th>studio_LIONSGATE</th>\n",
       "      <th>studio_NL</th>\n",
       "      <th>studio_Paramount</th>\n",
       "      <th>studio_Sony Pictures/Columbia</th>\n",
       "      <th>studio_Sum.</th>\n",
       "      <th>studio_Universal</th>\n",
       "      <th>studio_WB</th>\n",
       "      <th>mpa_rating_G</th>\n",
       "      <th>mpa_rating_PG</th>\n",
       "      <th>mpa_rating_PG-13</th>\n",
       "      <th>mpa_rating_R</th>\n",
       "      <th>prd_mthd_animation/live action</th>\n",
       "      <th>prd_mthd_digital animation</th>\n",
       "      <th>prd_mthd_live action</th>\n",
       "    </tr>\n",
       "  </thead>\n",
       "  <tbody>\n",
       "    <tr>\n",
       "      <th>0</th>\n",
       "      <td>0.725718</td>\n",
       "      <td>0.132975</td>\n",
       "      <td>-0.164823</td>\n",
       "      <td>1.140737</td>\n",
       "      <td>0.676264</td>\n",
       "      <td>0.874771</td>\n",
       "      <td>-0.062217</td>\n",
       "      <td>-1.520691</td>\n",
       "      <td>-0.469459</td>\n",
       "      <td>-0.364850</td>\n",
       "      <td>-0.056752</td>\n",
       "      <td>1.355658</td>\n",
       "      <td>0.679237</td>\n",
       "      <td>0.842424</td>\n",
       "      <td>0.555556</td>\n",
       "      <td>-0.482243</td>\n",
       "      <td>1.078548</td>\n",
       "      <td>-0.702109</td>\n",
       "      <td>-0.49705</td>\n",
       "      <td>-0.526411</td>\n",
       "      <td>-0.613696</td>\n",
       "      <td>-0.19803</td>\n",
       "      <td>-0.717137</td>\n",
       "      <td>-0.19803</td>\n",
       "      <td>-0.265908</td>\n",
       "      <td>-0.170664</td>\n",
       "      <td>-0.09759</td>\n",
       "      <td>-0.19803</td>\n",
       "      <td>-0.09759</td>\n",
       "      <td>-0.19803</td>\n",
       "      <td>-0.170664</td>\n",
       "      <td>-0.19803</td>\n",
       "      <td>-0.244949</td>\n",
       "      <td>0.0</td>\n",
       "      <td>0.440698</td>\n",
       "      <td>1.548269</td>\n",
       "      <td>2.643339</td>\n",
       "      <td>2.059419</td>\n",
       "      <td>267.208323</td>\n",
       "      <td>0</td>\n",
       "      <td>0</td>\n",
       "      <td>1</td>\n",
       "      <td>0</td>\n",
       "      <td>1</td>\n",
       "      <td>0</td>\n",
       "      <td>1</td>\n",
       "      <td>0</td>\n",
       "      <td>0</td>\n",
       "      <td>0</td>\n",
       "      <td>0</td>\n",
       "      <td>0</td>\n",
       "      <td>0</td>\n",
       "      <td>0</td>\n",
       "      <td>0</td>\n",
       "      <td>0</td>\n",
       "      <td>0</td>\n",
       "      <td>1</td>\n",
       "      <td>0</td>\n",
       "      <td>1</td>\n",
       "      <td>0</td>\n",
       "      <td>0</td>\n",
       "    </tr>\n",
       "    <tr>\n",
       "      <th>1</th>\n",
       "      <td>1.412968</td>\n",
       "      <td>1.629830</td>\n",
       "      <td>-0.163469</td>\n",
       "      <td>2.435243</td>\n",
       "      <td>1.058703</td>\n",
       "      <td>1.527884</td>\n",
       "      <td>0.087670</td>\n",
       "      <td>0.657596</td>\n",
       "      <td>0.368845</td>\n",
       "      <td>0.294241</td>\n",
       "      <td>2.710344</td>\n",
       "      <td>0.833339</td>\n",
       "      <td>0.836406</td>\n",
       "      <td>0.842424</td>\n",
       "      <td>0.555556</td>\n",
       "      <td>-0.482243</td>\n",
       "      <td>1.078548</td>\n",
       "      <td>-0.702109</td>\n",
       "      <td>-0.49705</td>\n",
       "      <td>-0.526411</td>\n",
       "      <td>-0.613696</td>\n",
       "      <td>-0.19803</td>\n",
       "      <td>-0.717137</td>\n",
       "      <td>-0.19803</td>\n",
       "      <td>-0.265908</td>\n",
       "      <td>-0.170664</td>\n",
       "      <td>-0.09759</td>\n",
       "      <td>-0.19803</td>\n",
       "      <td>-0.09759</td>\n",
       "      <td>-0.19803</td>\n",
       "      <td>-0.170664</td>\n",
       "      <td>-0.19803</td>\n",
       "      <td>-0.244949</td>\n",
       "      <td>0.0</td>\n",
       "      <td>-1.676486</td>\n",
       "      <td>2.652151</td>\n",
       "      <td>1.536024</td>\n",
       "      <td>3.034222</td>\n",
       "      <td>161.000000</td>\n",
       "      <td>0</td>\n",
       "      <td>0</td>\n",
       "      <td>0</td>\n",
       "      <td>0</td>\n",
       "      <td>1</td>\n",
       "      <td>0</td>\n",
       "      <td>1</td>\n",
       "      <td>0</td>\n",
       "      <td>0</td>\n",
       "      <td>0</td>\n",
       "      <td>0</td>\n",
       "      <td>0</td>\n",
       "      <td>0</td>\n",
       "      <td>0</td>\n",
       "      <td>0</td>\n",
       "      <td>0</td>\n",
       "      <td>0</td>\n",
       "      <td>1</td>\n",
       "      <td>0</td>\n",
       "      <td>1</td>\n",
       "      <td>0</td>\n",
       "      <td>0</td>\n",
       "    </tr>\n",
       "    <tr>\n",
       "      <th>2</th>\n",
       "      <td>1.916951</td>\n",
       "      <td>-0.116501</td>\n",
       "      <td>-0.163106</td>\n",
       "      <td>0.529413</td>\n",
       "      <td>0.842374</td>\n",
       "      <td>1.158446</td>\n",
       "      <td>-1.261311</td>\n",
       "      <td>0.657596</td>\n",
       "      <td>-0.190024</td>\n",
       "      <td>-0.264311</td>\n",
       "      <td>-0.059606</td>\n",
       "      <td>-0.895285</td>\n",
       "      <td>0.295472</td>\n",
       "      <td>0.842424</td>\n",
       "      <td>0.555556</td>\n",
       "      <td>-0.482243</td>\n",
       "      <td>-0.927173</td>\n",
       "      <td>1.424279</td>\n",
       "      <td>-0.49705</td>\n",
       "      <td>-0.526411</td>\n",
       "      <td>-0.613696</td>\n",
       "      <td>-0.19803</td>\n",
       "      <td>-0.717137</td>\n",
       "      <td>-0.19803</td>\n",
       "      <td>-0.265908</td>\n",
       "      <td>-0.170664</td>\n",
       "      <td>-0.09759</td>\n",
       "      <td>-0.19803</td>\n",
       "      <td>-0.09759</td>\n",
       "      <td>-0.19803</td>\n",
       "      <td>-0.170664</td>\n",
       "      <td>-0.19803</td>\n",
       "      <td>-0.244949</td>\n",
       "      <td>0.0</td>\n",
       "      <td>0.485394</td>\n",
       "      <td>1.061153</td>\n",
       "      <td>2.676120</td>\n",
       "      <td>1.012353</td>\n",
       "      <td>208.799651</td>\n",
       "      <td>0</td>\n",
       "      <td>1</td>\n",
       "      <td>0</td>\n",
       "      <td>0</td>\n",
       "      <td>1</td>\n",
       "      <td>0</td>\n",
       "      <td>1</td>\n",
       "      <td>0</td>\n",
       "      <td>0</td>\n",
       "      <td>0</td>\n",
       "      <td>0</td>\n",
       "      <td>0</td>\n",
       "      <td>0</td>\n",
       "      <td>0</td>\n",
       "      <td>0</td>\n",
       "      <td>0</td>\n",
       "      <td>0</td>\n",
       "      <td>1</td>\n",
       "      <td>0</td>\n",
       "      <td>0</td>\n",
       "      <td>0</td>\n",
       "      <td>1</td>\n",
       "    </tr>\n",
       "    <tr>\n",
       "      <th>3</th>\n",
       "      <td>-0.190615</td>\n",
       "      <td>-0.989666</td>\n",
       "      <td>-0.164588</td>\n",
       "      <td>-0.725316</td>\n",
       "      <td>0.241675</td>\n",
       "      <td>0.132596</td>\n",
       "      <td>-1.636028</td>\n",
       "      <td>-1.520691</td>\n",
       "      <td>-0.609177</td>\n",
       "      <td>-0.811691</td>\n",
       "      <td>0.590300</td>\n",
       "      <td>0.143133</td>\n",
       "      <td>-0.375052</td>\n",
       "      <td>0.842424</td>\n",
       "      <td>0.555556</td>\n",
       "      <td>-0.482243</td>\n",
       "      <td>1.078548</td>\n",
       "      <td>1.424279</td>\n",
       "      <td>-0.49705</td>\n",
       "      <td>-0.526411</td>\n",
       "      <td>-0.613696</td>\n",
       "      <td>-0.19803</td>\n",
       "      <td>-0.717137</td>\n",
       "      <td>-0.19803</td>\n",
       "      <td>-0.265908</td>\n",
       "      <td>-0.170664</td>\n",
       "      <td>-0.09759</td>\n",
       "      <td>-0.19803</td>\n",
       "      <td>-0.09759</td>\n",
       "      <td>-0.19803</td>\n",
       "      <td>-0.170664</td>\n",
       "      <td>-0.19803</td>\n",
       "      <td>-0.244949</td>\n",
       "      <td>0.0</td>\n",
       "      <td>0.082551</td>\n",
       "      <td>-0.305307</td>\n",
       "      <td>1.590089</td>\n",
       "      <td>-0.070216</td>\n",
       "      <td>190.180715</td>\n",
       "      <td>0</td>\n",
       "      <td>1</td>\n",
       "      <td>0</td>\n",
       "      <td>0</td>\n",
       "      <td>1</td>\n",
       "      <td>0</td>\n",
       "      <td>0</td>\n",
       "      <td>0</td>\n",
       "      <td>0</td>\n",
       "      <td>0</td>\n",
       "      <td>0</td>\n",
       "      <td>0</td>\n",
       "      <td>0</td>\n",
       "      <td>0</td>\n",
       "      <td>1</td>\n",
       "      <td>0</td>\n",
       "      <td>0</td>\n",
       "      <td>1</td>\n",
       "      <td>0</td>\n",
       "      <td>0</td>\n",
       "      <td>0</td>\n",
       "      <td>1</td>\n",
       "    </tr>\n",
       "    <tr>\n",
       "      <th>4</th>\n",
       "      <td>1.046435</td>\n",
       "      <td>-0.490714</td>\n",
       "      <td>-0.162269</td>\n",
       "      <td>-0.841556</td>\n",
       "      <td>0.006031</td>\n",
       "      <td>-0.269828</td>\n",
       "      <td>-0.511877</td>\n",
       "      <td>0.657596</td>\n",
       "      <td>-0.492745</td>\n",
       "      <td>-0.521245</td>\n",
       "      <td>-0.203290</td>\n",
       "      <td>1.038536</td>\n",
       "      <td>-0.337919</td>\n",
       "      <td>0.842424</td>\n",
       "      <td>0.555556</td>\n",
       "      <td>-0.482243</td>\n",
       "      <td>-0.927173</td>\n",
       "      <td>-0.702109</td>\n",
       "      <td>2.01187</td>\n",
       "      <td>-0.526411</td>\n",
       "      <td>-0.613696</td>\n",
       "      <td>-0.19803</td>\n",
       "      <td>-0.717137</td>\n",
       "      <td>-0.19803</td>\n",
       "      <td>-0.265908</td>\n",
       "      <td>-0.170664</td>\n",
       "      <td>-0.09759</td>\n",
       "      <td>-0.19803</td>\n",
       "      <td>-0.09759</td>\n",
       "      <td>-0.19803</td>\n",
       "      <td>-0.170664</td>\n",
       "      <td>-0.19803</td>\n",
       "      <td>-0.244949</td>\n",
       "      <td>0.0</td>\n",
       "      <td>0.089398</td>\n",
       "      <td>0.644435</td>\n",
       "      <td>1.818319</td>\n",
       "      <td>-0.437810</td>\n",
       "      <td>120.931118</td>\n",
       "      <td>0</td>\n",
       "      <td>1</td>\n",
       "      <td>0</td>\n",
       "      <td>0</td>\n",
       "      <td>1</td>\n",
       "      <td>0</td>\n",
       "      <td>0</td>\n",
       "      <td>0</td>\n",
       "      <td>0</td>\n",
       "      <td>0</td>\n",
       "      <td>0</td>\n",
       "      <td>1</td>\n",
       "      <td>0</td>\n",
       "      <td>0</td>\n",
       "      <td>0</td>\n",
       "      <td>0</td>\n",
       "      <td>0</td>\n",
       "      <td>1</td>\n",
       "      <td>0</td>\n",
       "      <td>0</td>\n",
       "      <td>0</td>\n",
       "      <td>1</td>\n",
       "    </tr>\n",
       "  </tbody>\n",
       "</table>\n",
       "</div>"
      ],
      "text/plain": [
       "    runtime  imdb_score  ...  prd_mthd_digital animation  prd_mthd_live action\n",
       "0  0.725718    0.132975  ...                           0                     0\n",
       "1  1.412968    1.629830  ...                           0                     0\n",
       "2  1.916951   -0.116501  ...                           0                     1\n",
       "3 -0.190615   -0.989666  ...                           0                     1\n",
       "4  1.046435   -0.490714  ...                           0                     1\n",
       "\n",
       "[5 rows x 61 columns]"
      ]
     },
     "execution_count": 19,
     "metadata": {
      "tags": []
     },
     "output_type": "execute_result"
    }
   ],
   "source": [
    "scl_dum_df.head()"
   ]
  },
  {
   "cell_type": "code",
   "execution_count": 0,
   "metadata": {
    "colab": {
     "base_uri": "https://localhost:8080/",
     "height": 87
    },
    "colab_type": "code",
    "id": "iIhXxB5lX1dQ",
    "outputId": "8aba0875-6286-4b26-ec32-71f6398ce7a1"
   },
   "outputs": [
    {
     "name": "stdout",
     "output_type": "stream",
     "text": [
      "train data X size: (74, 58)\n",
      "train data Y size: (74,)\n",
      "test data X size: (32, 58)\n",
      "test data X size: (32,)\n"
     ]
    }
   ],
   "source": [
    "# # 목표변수, 설명변수 데이터 지정\n",
    "# df_y=scl_dum_df.drop('inf_down_price',axis=1)\n",
    "df_y=scl_dum_df_1['inf_down_price']\n",
    "df_x=scl_dum_df_1.drop(['inf_down_price'],axis=1,inplace=False)\n",
    "# drop_meta_dummy\n",
    "# 데이터 분할 (train,test데이터 7:3비율로 분할)\n",
    "df_train_x,df_test_x,df_train_y,df_test_y=train_test_split(df_x,df_y,test_size=0.3,random_state=1234)\n",
    "print('train data X size: {}'.format(df_train_x.shape))\n",
    "print('train data Y size: {}'.format(df_train_y.shape))\n",
    "print('test data X size: {}'.format(df_test_x.shape))\n",
    "print('test data X size: {}'.format(df_test_y.shape))"
   ]
  },
  {
   "cell_type": "code",
   "execution_count": 0,
   "metadata": {
    "colab": {
     "base_uri": "https://localhost:8080/",
     "height": 443
    },
    "colab_type": "code",
    "id": "VGJmAztbY5b0",
    "outputId": "e7dedf02-fb5c-46de-c46d-d4ccf990921c"
   },
   "outputs": [
    {
     "data": {
      "text/plain": [
       "GridSearchCV(cv=None, error_score=nan,\n",
       "             estimator=DecisionTreeRegressor(ccp_alpha=0.0, criterion='mse',\n",
       "                                             max_depth=None, max_features=None,\n",
       "                                             max_leaf_nodes=None,\n",
       "                                             min_impurity_decrease=0.0,\n",
       "                                             min_impurity_split=None,\n",
       "                                             min_samples_leaf=1,\n",
       "                                             min_samples_split=2,\n",
       "                                             min_weight_fraction_leaf=0.0,\n",
       "                                             presort='deprecated',\n",
       "                                             random_state=1234,\n",
       "                                             splitter='best'),\n",
       "             iid='deprecated', n_jobs=-1,\n",
       "             param_grid={'criterion': ['mse', 'friedman_mse', 'mae'],\n",
       "                         'max_depth': [1, 2, 3, 4, 5, 6, 7, 8, 9, 10],\n",
       "                         'max_features': ['auto', 'sqrt', 'log2'],\n",
       "                         'min_samples_leaf': [1, 2, 3, 4, 5, 6, 7, 8, 9, 10, 11,\n",
       "                                              12, 13, 14, 15, 16, 17, 18, 19,\n",
       "                                              20],\n",
       "                         'min_samples_split': [4, 6, 8, 10, 12, 14, 16, 18, 20,\n",
       "                                               22, 24, 26, 28, 30, 32, 34, 36,\n",
       "                                               38]},\n",
       "             pre_dispatch='2*n_jobs', refit=True, return_train_score=False,\n",
       "             scoring='r2', verbose=0)"
      ]
     },
     "execution_count": 468,
     "metadata": {
      "tags": []
     },
     "output_type": "execute_result"
    }
   ],
   "source": [
    "# GridSearchCV를 이용한 최적의 parameter 찾기 (너무 오래걸려....)\n",
    "para_split=[n_split*2 for n_split in range(2,20)]\n",
    "para_depth=[depth for depth in range(1,11)]\n",
    "para_leaf=[n_leaf*1 for n_leaf in range(1,21)]\n",
    "\n",
    "estimator=DecisionTreeRegressor(random_state=1234)\n",
    "param_grid={'criterion':['mse','friedman_mse','mae'],\n",
    "            'max_features':['auto','sqrt','log2'],\n",
    "            'max_depth': para_depth,\n",
    "            'min_samples_leaf':para_leaf,\n",
    "            'min_samples_split':para_split}\n",
    "\n",
    "grid_dt=GridSearchCV(estimator,param_grid,scoring='r2',n_jobs=-1)\n",
    "grid_dt.fit(df_train_x,df_train_y)"
   ]
  },
  {
   "cell_type": "code",
   "execution_count": 0,
   "metadata": {
    "colab": {
     "base_uri": "https://localhost:8080/",
     "height": 178
    },
    "colab_type": "code",
    "id": "ra_54cpzbEGs",
    "outputId": "af138750-dad4-400b-cb4a-415daadb6d24"
   },
   "outputs": [
    {
     "name": "stdout",
     "output_type": "stream",
     "text": [
      "DecisionTreeRegressor(ccp_alpha=0.0, criterion='mse', max_depth=1,\n",
      "                      max_features='auto', max_leaf_nodes=None,\n",
      "                      min_impurity_decrease=0.0, min_impurity_split=None,\n",
      "                      min_samples_leaf=15, min_samples_split=4,\n",
      "                      min_weight_fraction_leaf=0.0, presort='deprecated',\n",
      "                      random_state=1234, splitter='best')\n",
      "{'criterion': 'mse', 'max_depth': 1, 'max_features': 'auto', 'min_samples_leaf': 15, 'min_samples_split': 4}\n",
      "-0.066\n"
     ]
    }
   ],
   "source": [
    "print(grid_dt.best_estimator_) # best_estimator\n",
    "print(grid_dt.best_params_) # best_params\n",
    "print(grid_dt.best_score_.round(3)) # best_score"
   ]
  },
  {
   "cell_type": "code",
   "execution_count": 0,
   "metadata": {
    "colab": {
     "base_uri": "https://localhost:8080/",
     "height": 173
    },
    "colab_type": "code",
    "id": "mDFuIxs4KtUR",
    "outputId": "39ccfbad-edc5-40e4-c3d7-71646e16e556"
   },
   "outputs": [
    {
     "name": "stdout",
     "output_type": "stream",
     "text": [
      "Train데이터 설명력:0.090.\n",
      "Test데이터 설명력:0.069.\n"
     ]
    },
    {
     "data": {
      "text/html": [
       "<div>\n",
       "<style scoped>\n",
       "    .dataframe tbody tr th:only-of-type {\n",
       "        vertical-align: middle;\n",
       "    }\n",
       "\n",
       "    .dataframe tbody tr th {\n",
       "        vertical-align: top;\n",
       "    }\n",
       "\n",
       "    .dataframe thead th {\n",
       "        text-align: right;\n",
       "    }\n",
       "</style>\n",
       "<table border=\"1\" class=\"dataframe\">\n",
       "  <thead>\n",
       "    <tr style=\"text-align: right;\">\n",
       "      <th></th>\n",
       "      <th>Feature</th>\n",
       "      <th>Importance</th>\n",
       "    </tr>\n",
       "  </thead>\n",
       "  <tbody>\n",
       "    <tr>\n",
       "      <th>2</th>\n",
       "      <td>inf_income_usa</td>\n",
       "      <td>1.0</td>\n",
       "    </tr>\n",
       "    <tr>\n",
       "      <th>0</th>\n",
       "      <td>runtime</td>\n",
       "      <td>0.0</td>\n",
       "    </tr>\n",
       "    <tr>\n",
       "      <th>44</th>\n",
       "      <td>studio_LIONSGATE</td>\n",
       "      <td>0.0</td>\n",
       "    </tr>\n",
       "  </tbody>\n",
       "</table>\n",
       "</div>"
      ],
      "text/plain": [
       "             Feature  Importance\n",
       "2     inf_income_usa         1.0\n",
       "0            runtime         0.0\n",
       "44  studio_LIONSGATE         0.0"
      ]
     },
     "execution_count": 177,
     "metadata": {
      "tags": []
     },
     "output_type": "execute_result"
    }
   ],
   "source": [
    "# 최종 모델 생성\n",
    "tree_final=DecisionTreeRegressor(max_depth=1,min_samples_leaf=15,min_samples_split=4)\n",
    "tree_final.fit(df_train_x,df_train_y)\n",
    "# Train/Test 설명력\n",
    "print('Train데이터 설명력:{:.3f}.'.format(tree_final.score(df_train_x,df_train_y)))\n",
    "print('Test데이터 설명력:{:.3f}.'.format(tree_final.score(df_test_x,df_test_y)))\n",
    "\n",
    "# 변수중요도 \n",
    "v_feature_name=df_train_x.columns\n",
    "# tree.feature_importances_로 설명변수 중요도 확인 및 테이블로 저장\n",
    "df_importance=pd.DataFrame()\n",
    "df_importance['Feature']=v_feature_name\n",
    "df_importance['Importance']=tree_final.feature_importances_\n",
    "# df_feature_importance의 테이블을 중요도별로 정렬\n",
    "df_importance.sort_values('Importance',ascending=False,inplace=True)\n",
    "df_importance[:3].round(3)"
   ]
  },
  {
   "cell_type": "markdown",
   "metadata": {
    "colab_type": "text",
    "id": "OT7p5Oib2I5O"
   },
   "source": [
    "설명력 마이너스라니....마이너스...ㅜㅜ"
   ]
  },
  {
   "cell_type": "code",
   "execution_count": 0,
   "metadata": {
    "colab": {
     "base_uri": "https://localhost:8080/",
     "height": 448
    },
    "colab_type": "code",
    "id": "NVjmkGMaZ8iJ",
    "outputId": "6c94d457-1ce8-47ee-d887-b95ab2aa5131"
   },
   "outputs": [
    {
     "data": {
      "text/plain": [
       "<matplotlib.legend.Legend at 0x7f321947f7b8>"
      ]
     },
     "execution_count": 445,
     "metadata": {
      "tags": []
     },
     "output_type": "execute_result"
    },
    {
     "data": {
      "image/png": "[encoded data removed]",
      "text/plain": [
       "<Figure size 720x504 with 1 Axes>"
      ]
     },
     "metadata": {
      "tags": []
     },
     "output_type": "display_data"
    }
   ],
   "source": [
    "# train 및 validation 설명력 결과 저장 : 15\n",
    "train_score=[]\n",
    "test_score=[]\n",
    "# min_samples_leaf: 잎사귀 최소 자료 수\n",
    "para_leaf=[n_leaf*1 for n_leaf in range(1,30)]\n",
    "\n",
    "for v_min_samples_leaf in para_leaf:\n",
    "    tree=DecisionTreeRegressor(random_state=1234, min_samples_leaf=v_min_samples_leaf)\n",
    "    tree.fit(df_train_x,df_train_y)\n",
    "    train_score.append(tree.score(df_train_x,df_train_y))\n",
    "    test_score.append(tree.score(df_test_x,df_test_y))\n",
    "    \n",
    "# 결과저장\n",
    "df_score_leaf=pd.DataFrame()\n",
    "df_score_leaf[\"MinSamplesLeaf\"]=para_leaf\n",
    "df_score_leaf[\"TrainScore\"]=train_score\n",
    "df_score_leaf[\"TestScore\"]=test_score\n",
    "\n",
    "df_score_leaf.round(3)\n",
    "# 모델 설명력 그래프 확인\n",
    "plt.plot(para_leaf,train_score,linestyle=\"-\",label=\"Train Score\")\n",
    "plt.plot(para_leaf,test_score,linestyle=\"--\",label=\"Validation Score\")\n",
    "plt.legend()"
   ]
  },
  {
   "cell_type": "code",
   "execution_count": 0,
   "metadata": {
    "colab": {
     "base_uri": "https://localhost:8080/",
     "height": 448
    },
    "colab_type": "code",
    "id": "Isl9mu1z7TJo",
    "outputId": "f8356f98-dd42-465f-a3b8-fa404c70d4d8"
   },
   "outputs": [
    {
     "data": {
      "text/plain": [
       "<matplotlib.legend.Legend at 0x7f32193a4b38>"
      ]
     },
     "execution_count": 446,
     "metadata": {
      "tags": []
     },
     "output_type": "execute_result"
    },
    {
     "data": {
      "image/png": "[encoded data removed]",
      "text/plain": [
       "<Figure size 720x504 with 1 Axes>"
      ]
     },
     "metadata": {
      "tags": []
     },
     "output_type": "display_data"
    }
   ],
   "source": [
    "# 모델 파라미터 조정 - min_samples_split: 분리 노드의 초소 자료 수 변경에 따른 모델 성능 : 32\n",
    "train_score=[]\n",
    "test_score=[]\n",
    "# min_samples_split : 분리 노드의 최소 자료 수\n",
    "para_split=[n_split*2 for n_split in range(2,20)]\n",
    "\n",
    "for v_min_samples_split in para_split:\n",
    "    tree=DecisionTreeRegressor(random_state=1234, min_samples_leaf=13,\n",
    "                              min_samples_split=v_min_samples_split)\n",
    "    tree.fit(df_train_x,df_train_y)\n",
    "    train_score.append(tree.score(df_train_x,df_train_y))\n",
    "    test_score.append(tree.score(df_test_x,df_test_y))\n",
    "    \n",
    "# 결과 저장\n",
    "df_score_split=pd.DataFrame()\n",
    "df_score_split[\"MinSamplesSplit\"]=para_split\n",
    "df_score_split[\"TrainScore\"]=train_score\n",
    "df_score_split[\"TEST Score\"]=test_score\n",
    "df_score_split.round(3)\n",
    "\n",
    "# 모델 설명력 그래프 확인\n",
    "plt.plot(para_split,train_score,linestyle='-',label=\"Train Score\")\n",
    "plt.plot(para_split,test_score,linestyle='--',label=\"Test Score\")\n",
    "plt.legend()"
   ]
  },
  {
   "cell_type": "code",
   "execution_count": 0,
   "metadata": {
    "colab": {
     "base_uri": "https://localhost:8080/",
     "height": 448
    },
    "colab_type": "code",
    "id": "NhZ_9YAQ7609",
    "outputId": "69b819d1-9bfd-4930-af50-e47a1ad96d5b"
   },
   "outputs": [
    {
     "data": {
      "text/plain": [
       "<matplotlib.legend.Legend at 0x7f3218f6b9b0>"
      ]
     },
     "execution_count": 447,
     "metadata": {
      "tags": []
     },
     "output_type": "execute_result"
    },
    {
     "data": {
      "image/png": "[encoded data removed]",
      "text/plain": [
       "<Figure size 720x504 with 1 Axes>"
      ]
     },
     "metadata": {
      "tags": []
     },
     "output_type": "display_data"
    }
   ],
   "source": [
    "# max_depth : 최대 깊이 변경에 따른 모델 성능 : 1\n",
    "# train 및 validation 설명력 결과 저장\n",
    "train_score=[]\n",
    "test_score=[]\n",
    "# max_depth : 최대 깊이 변경\n",
    "para_depth=[depth for depth in range(1,11)]\n",
    "\n",
    "for v_max_depth in para_depth:\n",
    "    tree=DecisionTreeRegressor(random_state=1234,min_samples_leaf=13,min_samples_split=10, max_depth=v_max_depth)\n",
    "    tree.fit(df_train_x,df_train_y)\n",
    "    train_score.append(tree.score(df_train_x,df_train_y))\n",
    "    test_score.append(tree.score(df_test_x,df_test_y))\n",
    "    \n",
    "# 데이터 테이블로 저장\n",
    "df_score_depth=pd.DataFrame()\n",
    "df_score_depth[\"Death\"]=para_depth\n",
    "df_score_depth[\"TrainScore\"]=train_score\n",
    "df_score_depth[\"test_score\"]=test_score\n",
    "\n",
    "# 모델 설명력 그래프 확인\n",
    "plt.plot(para_depth,train_score,linestyle='-',label=\"Train Score\")\n",
    "plt.plot(para_depth,test_score,linestyle='--',label=\"Val Score\")\n",
    "plt.legend()"
   ]
  },
  {
   "cell_type": "code",
   "execution_count": 0,
   "metadata": {
    "colab": {
     "base_uri": "https://localhost:8080/",
     "height": 173
    },
    "colab_type": "code",
    "id": "NND09wX18f2u",
    "outputId": "d129eb92-c461-4a9f-e034-1029830b242e"
   },
   "outputs": [
    {
     "name": "stdout",
     "output_type": "stream",
     "text": [
      "Train데이터 설명력:0.104.\n",
      "Test데이터 설명력:0.125.\n"
     ]
    },
    {
     "data": {
      "text/html": [
       "<div>\n",
       "<style scoped>\n",
       "    .dataframe tbody tr th:only-of-type {\n",
       "        vertical-align: middle;\n",
       "    }\n",
       "\n",
       "    .dataframe tbody tr th {\n",
       "        vertical-align: top;\n",
       "    }\n",
       "\n",
       "    .dataframe thead th {\n",
       "        text-align: right;\n",
       "    }\n",
       "</style>\n",
       "<table border=\"1\" class=\"dataframe\">\n",
       "  <thead>\n",
       "    <tr style=\"text-align: right;\">\n",
       "      <th></th>\n",
       "      <th>Feature</th>\n",
       "      <th>Importance</th>\n",
       "    </tr>\n",
       "  </thead>\n",
       "  <tbody>\n",
       "    <tr>\n",
       "      <th>2</th>\n",
       "      <td>inf_income_usa</td>\n",
       "      <td>1.0</td>\n",
       "    </tr>\n",
       "    <tr>\n",
       "      <th>0</th>\n",
       "      <td>runtime</td>\n",
       "      <td>0.0</td>\n",
       "    </tr>\n",
       "    <tr>\n",
       "      <th>44</th>\n",
       "      <td>studio_LIONSGATE</td>\n",
       "      <td>0.0</td>\n",
       "    </tr>\n",
       "  </tbody>\n",
       "</table>\n",
       "</div>"
      ],
      "text/plain": [
       "             Feature  Importance\n",
       "2     inf_income_usa         1.0\n",
       "0            runtime         0.0\n",
       "44  studio_LIONSGATE         0.0"
      ]
     },
     "execution_count": 186,
     "metadata": {
      "tags": []
     },
     "output_type": "execute_result"
    }
   ],
   "source": [
    "# 최종 모델 생성\n",
    "tree_final=DecisionTreeRegressor(max_depth=1,min_samples_leaf=13,min_samples_split=10\n",
    "                                 )\n",
    "tree_final.fit(df_train_x,df_train_y)\n",
    "# Train/Test 설명력\n",
    "print('Train데이터 설명력:{:.3f}.'.format(tree_final.score(df_train_x,df_train_y)))\n",
    "print('Test데이터 설명력:{:.3f}.'.format(tree_final.score(df_test_x,df_test_y)))\n",
    "\n",
    "# 변수중요도 \n",
    "v_feature_name=df_train_x.columns\n",
    "# tree.feature_importances_로 설명변수 중요도 확인 및 테이블로 저장\n",
    "df_importance=pd.DataFrame()\n",
    "df_importance['Feature']=v_feature_name\n",
    "df_importance['Importance']=tree_final.feature_importances_\n",
    "# df_feature_importance의 테이블을 중요도별로 정렬\n",
    "df_importance.sort_values('Importance',ascending=False,inplace=True)\n",
    "df_importance[:3].round(3)"
   ]
  },
  {
   "cell_type": "markdown",
   "metadata": {
    "colab_type": "text",
    "id": "pFGVXJoAZ9P0"
   },
   "source": [
    "##RF"
   ]
  },
  {
   "cell_type": "code",
   "execution_count": 0,
   "metadata": {
    "colab": {
     "base_uri": "https://localhost:8080/",
     "height": 443
    },
    "colab_type": "code",
    "id": "vjAOFQI-aFra",
    "outputId": "1bdc80a2-aa22-4415-be47-6dde1537fb0b"
   },
   "outputs": [
    {
     "data": {
      "text/plain": [
       "GridSearchCV(cv=None, error_score=nan,\n",
       "             estimator=RandomForestRegressor(bootstrap=True, ccp_alpha=0.0,\n",
       "                                             criterion='mse', max_depth=None,\n",
       "                                             max_features='auto',\n",
       "                                             max_leaf_nodes=None,\n",
       "                                             max_samples=None,\n",
       "                                             min_impurity_decrease=0.0,\n",
       "                                             min_impurity_split=None,\n",
       "                                             min_samples_leaf=1,\n",
       "                                             min_samples_split=2,\n",
       "                                             min_weight_fraction_leaf=0.0,\n",
       "                                             n_estimators=100, n_jobs=None,\n",
       "                                             oob_score=False, random_state=1234,\n",
       "                                             verbose=0, warm_start=False),\n",
       "             iid='deprecated', n_jobs=-1,\n",
       "             param_grid={'max_depth': [1, 2, 3, 4, 5, 6, 7, 8, 9, 10],\n",
       "                         'min_samples_leaf': [1, 2, 3, 4, 5, 6, 7, 8, 9, 10, 11,\n",
       "                                              12, 13, 14, 15, 16, 17, 18, 19,\n",
       "                                              20],\n",
       "                         'min_samples_split': [4, 6, 8, 10, 12, 14, 16, 18, 20,\n",
       "                                               22, 24, 26, 28, 30, 32, 34, 36,\n",
       "                                               38]},\n",
       "             pre_dispatch='2*n_jobs', refit=True, return_train_score=False,\n",
       "             scoring='r2', verbose=0)"
      ]
     },
     "execution_count": 471,
     "metadata": {
      "tags": []
     },
     "output_type": "execute_result"
    }
   ],
   "source": [
    "# GridSearchCV를 이용한 최적의 parameter 찾기 (너무 오래걸려....)\n",
    "para_split=[n_split*2 for n_split in range(2,20)]\n",
    "para_depth=[depth for depth in range(1,11)]\n",
    "para_leaf=[n_leaf*1 for n_leaf in range(1,21)]\n",
    "\n",
    "estimator=RandomForestRegressor(random_state=1234)\n",
    "param_grid={'min_samples_split':para_split,\n",
    "            'max_depth': para_depth,\n",
    "            'min_samples_leaf':para_leaf}\n",
    "\n",
    "grid_rf=GridSearchCV(estimator,param_grid,scoring='r2',n_jobs=-1)\n",
    "grid_rf.fit(df_train_x,df_train_y)"
   ]
  },
  {
   "cell_type": "code",
   "execution_count": 0,
   "metadata": {
    "colab": {
     "base_uri": "https://localhost:8080/",
     "height": 176
    },
    "colab_type": "code",
    "id": "mTzUwgc8c6E5",
    "outputId": "7b346bad-2dee-4cc7-f34b-c0b68b88869f"
   },
   "outputs": [
    {
     "name": "stdout",
     "output_type": "stream",
     "text": [
      "RandomForestRegressor(bootstrap=True, ccp_alpha=0.0, criterion='mse',\n",
      "                      max_depth=1, max_features='auto', max_leaf_nodes=None,\n",
      "                      max_samples=None, min_impurity_decrease=0.0,\n",
      "                      min_impurity_split=None, min_samples_leaf=3,\n",
      "                      min_samples_split=36, min_weight_fraction_leaf=0.0,\n",
      "                      n_estimators=100, n_jobs=None, oob_score=False,\n",
      "                      random_state=1234, verbose=0, warm_start=False)\n",
      "{'max_depth': 1, 'min_samples_leaf': 3, 'min_samples_split': 36}\n",
      "-0.057\n"
     ]
    }
   ],
   "source": [
    "print(grid_rf.best_estimator_) # best_estimator\n",
    "print(grid_rf.best_params_) # best_params\n",
    "print(grid_rf.best_score_.round(3)) # best_score"
   ]
  },
  {
   "cell_type": "code",
   "execution_count": 0,
   "metadata": {
    "colab": {
     "base_uri": "https://localhost:8080/",
     "height": 233
    },
    "colab_type": "code",
    "id": "tUhR8K_JYUza",
    "outputId": "203308b5-9e23-489b-f234-00a133f4a8d7"
   },
   "outputs": [
    {
     "name": "stdout",
     "output_type": "stream",
     "text": [
      "Train데이터 설명력:0.216.\n",
      "Test데이터 설명력:0.101.\n"
     ]
    },
    {
     "data": {
      "text/html": [
       "<div>\n",
       "<style scoped>\n",
       "    .dataframe tbody tr th:only-of-type {\n",
       "        vertical-align: middle;\n",
       "    }\n",
       "\n",
       "    .dataframe tbody tr th {\n",
       "        vertical-align: top;\n",
       "    }\n",
       "\n",
       "    .dataframe thead th {\n",
       "        text-align: right;\n",
       "    }\n",
       "</style>\n",
       "<table border=\"1\" class=\"dataframe\">\n",
       "  <thead>\n",
       "    <tr style=\"text-align: right;\">\n",
       "      <th></th>\n",
       "      <th>Feature</th>\n",
       "      <th>Importance</th>\n",
       "    </tr>\n",
       "  </thead>\n",
       "  <tbody>\n",
       "    <tr>\n",
       "      <th>35</th>\n",
       "      <td>inf_budget</td>\n",
       "      <td>0.27</td>\n",
       "    </tr>\n",
       "    <tr>\n",
       "      <th>11</th>\n",
       "      <td>votes</td>\n",
       "      <td>0.20</td>\n",
       "    </tr>\n",
       "    <tr>\n",
       "      <th>54</th>\n",
       "      <td>mpa_rating_R</td>\n",
       "      <td>0.19</td>\n",
       "    </tr>\n",
       "    <tr>\n",
       "      <th>2</th>\n",
       "      <td>inf_income_usa</td>\n",
       "      <td>0.11</td>\n",
       "    </tr>\n",
       "    <tr>\n",
       "      <th>0</th>\n",
       "      <td>runtime</td>\n",
       "      <td>0.07</td>\n",
       "    </tr>\n",
       "  </tbody>\n",
       "</table>\n",
       "</div>"
      ],
      "text/plain": [
       "           Feature  Importance\n",
       "35      inf_budget        0.27\n",
       "11           votes        0.20\n",
       "54    mpa_rating_R        0.19\n",
       "2   inf_income_usa        0.11\n",
       "0          runtime        0.07"
      ]
     },
     "execution_count": 187,
     "metadata": {
      "tags": []
     },
     "output_type": "execute_result"
    }
   ],
   "source": [
    "# 최종 모델 생성\n",
    "rf_final=RandomForestRegressor(bootstrap=True, ccp_alpha=0.0, criterion='mse',\n",
    "                      max_depth=1, max_features='auto', max_leaf_nodes=None,\n",
    "                      max_samples=None, min_impurity_decrease=0.0,\n",
    "                      min_impurity_split=None, min_samples_leaf=3,\n",
    "                      min_samples_split=36, min_weight_fraction_leaf=0.0,\n",
    "                      n_estimators=100, n_jobs=None, oob_score=False,\n",
    "                      random_state=1234, verbose=0, warm_start=False)\n",
    "rf_final.fit(df_train_x,df_train_y)\n",
    "# Train/Test 설명력\n",
    "print('Train데이터 설명력:{:.3f}.'.format(rf_final.score(df_train_x,df_train_y)))\n",
    "print('Test데이터 설명력:{:.3f}.'.format(rf_final.score(df_test_x,df_test_y)))\n",
    "\n",
    "# 변수중요도 \n",
    "v_feature_name=df_train_x.columns\n",
    "# tree.feature_importances_로 설명변수 중요도 확인 및 테이블로 저장\n",
    "df_importance=pd.DataFrame()\n",
    "df_importance['Feature']=v_feature_name\n",
    "df_importance['Importance']=rf_final.feature_importances_\n",
    "# df_feature_importance의 테이블을 중요도별로 정렬\n",
    "df_importance.sort_values('Importance',ascending=False,inplace=True)\n",
    "df_importance[:5].round(3)"
   ]
  },
  {
   "cell_type": "code",
   "execution_count": 0,
   "metadata": {
    "colab": {
     "base_uri": "https://localhost:8080/",
     "height": 465
    },
    "colab_type": "code",
    "id": "D4oA1USeas9L",
    "outputId": "48c25615-9d1c-4432-d9a8-00e2e7f7fed8"
   },
   "outputs": [
    {
     "data": {
      "text/plain": [
       "<matplotlib.legend.Legend at 0x7f321cf56ba8>"
      ]
     },
     "execution_count": 449,
     "metadata": {
      "tags": []
     },
     "output_type": "execute_result"
    },
    {
     "data": {
      "image/png": "[encoded data removed]",
      "text/plain": [
       "<Figure size 720x504 with 1 Axes>"
      ]
     },
     "metadata": {
      "tags": []
     },
     "output_type": "display_data"
    }
   ],
   "source": [
    "# train 및 validation 설명력 결과 저장\n",
    "train_accuracy=[]\n",
    "test_accuracy=[]\n",
    "# n_estimatos: 트리 수 변경 :1~150\n",
    "para_n_tree=[n_tree*10 for n_tree in range(1,16)]\n",
    "\n",
    "for v_n_estimators in para_n_tree:\n",
    "    rf=RandomForestRegressor(n_estimators=v_n_estimators,random_state=1234)\n",
    "    rf.fit(df_train_x,df_train_y)\n",
    "    train_accuracy.append(rf.score(df_train_x,df_train_y))\n",
    "    test_accuracy.append(rf.score(df_test_x,df_test_y))\n",
    "    \n",
    "# 결과 저장\n",
    "df_accuracy_n=pd.DataFrame()\n",
    "df_accuracy_n[\"n_estimators\"]=para_n_tree\n",
    "df_accuracy_n[\"TrainAccuracy\"]=train_accuracy\n",
    "df_accuracy_n[\"TestAccuracy\"]=test_accuracy\n",
    "\n",
    "# 모델 설명력 그래프 확인\n",
    "plt.plot(para_n_tree,train_accuracy,linestyle='-',label=\"Train Accuray\")\n",
    "plt.plot(para_n_tree,test_accuracy,linestyle='--',label=\"Test Accuracy\")\n",
    "plt.ylabel(\"score\")\n",
    "plt.xlabel(\"n_estimators\")\n",
    "plt.legend()"
   ]
  },
  {
   "cell_type": "code",
   "execution_count": 0,
   "metadata": {
    "colab": {
     "base_uri": "https://localhost:8080/",
     "height": 448
    },
    "colab_type": "code",
    "id": "eSewHsTuFhVV",
    "outputId": "fb66a25c-58f7-4421-ec6a-ca44c9c8676e"
   },
   "outputs": [
    {
     "data": {
      "text/plain": [
       "<matplotlib.legend.Legend at 0x7f321c873fd0>"
      ]
     },
     "execution_count": 454,
     "metadata": {
      "tags": []
     },
     "output_type": "execute_result"
    },
    {
     "data": {
      "image/png": "[encoded data removed]",
      "text/plain": [
       "<Figure size 720x504 with 1 Axes>"
      ]
     },
     "metadata": {
      "tags": []
     },
     "output_type": "display_data"
    }
   ],
   "source": [
    "# train, test의 정확도 결과 저장용\n",
    "train_accuracy=[]\n",
    "test_accuracy=[]\n",
    "# max_depth: 최대 깊이 변경\n",
    "para_depth=[depth for depth in range(1,11)]\n",
    "\n",
    "for v_max_depth in para_depth:\n",
    "    rf=RandomForestRegressor(random_state=1234,n_estimators=90, max_depth=v_max_depth)\n",
    "    rf.fit(df_train_x,df_train_y)\n",
    "    train_accuracy.append(rf.score(df_train_x,df_train_y))\n",
    "    test_accuracy.append(rf.score(df_test_x,df_test_y))\n",
    "    \n",
    "# 데이터 테이블로 저장\n",
    "df_accuracy_depth=pd.DataFrame()\n",
    "df_accuracy_depth[\"Death\"]=para_depth\n",
    "df_accuracy_depth[\"TrainAccuracy\"]=train_accuracy\n",
    "df_accuracy_depth[\"TestAccuracy\"]=test_accuracy\n",
    "\n",
    "# 모델 정확도 그래프 확인\n",
    "plt.plot(para_depth,train_accuracy,linestyle=\"-\",label=\"Train Accuracy\")\n",
    "plt.plot(para_depth,test_accuracy,linestyle=\"-\",label=\"Test Accuracy\")\n",
    "plt.legend()"
   ]
  },
  {
   "cell_type": "code",
   "execution_count": 0,
   "metadata": {
    "colab": {
     "base_uri": "https://localhost:8080/",
     "height": 448
    },
    "colab_type": "code",
    "id": "99u_Vpd_F9kS",
    "outputId": "43992fdd-50dc-4634-81a5-406b42682437"
   },
   "outputs": [
    {
     "data": {
      "text/plain": [
       "<matplotlib.legend.Legend at 0x7f321cc22ef0>"
      ]
     },
     "execution_count": 451,
     "metadata": {
      "tags": []
     },
     "output_type": "execute_result"
    },
    {
     "data": {
      "image/png": "[encoded data removed]",
      "text/plain": [
       "<Figure size 720x504 with 1 Axes>"
      ]
     },
     "metadata": {
      "tags": []
     },
     "output_type": "display_data"
    }
   ],
   "source": [
    "# train, test의 정확도 결과 저장용\n",
    "train_accuracy=[]\n",
    "test_accuracy=[]\n",
    "# max_split\n",
    "para_split=[n_split*10 for n_split in range(1,11)]\n",
    "\n",
    "for v_min_samples_split in para_split:\n",
    "    rf=RandomForestRegressor(min_samples_split=v_min_samples_split,max_depth=1,random_state=1234,n_estimators=30)\n",
    "    rf.fit(df_train_x,df_train_y)\n",
    "    train_accuracy.append(rf.score(df_train_x,df_train_y))\n",
    "    test_accuracy.append(rf.score(df_test_x,df_test_y))\n",
    "    \n",
    "# 데이터 테이블로 저장\n",
    "df_accuracy_split=pd.DataFrame()\n",
    "df_accuracy_split[\"MinSamplesSplit\"]=para_split\n",
    "df_accuracy_split[\"TrainAccuracy\"]=train_accuracy\n",
    "df_accuracy_split[\"TestAccuracy\"]=test_accuracy\n",
    "\n",
    "# 모델 정확도 그래프 확인\n",
    "plt.plot(para_split,train_accuracy,linestyle=\"-\",label=\"Train Accuracy\")\n",
    "plt.plot(para_split,test_accuracy,linestyle=\"-\",label=\"Test Accuracy\")\n",
    "plt.legend()"
   ]
  },
  {
   "cell_type": "code",
   "execution_count": 0,
   "metadata": {
    "colab": {
     "base_uri": "https://localhost:8080/",
     "height": 448
    },
    "colab_type": "code",
    "id": "fGijoefSGWDu",
    "outputId": "a72c55dd-809b-4a3f-dc47-f3be15995765"
   },
   "outputs": [
    {
     "data": {
      "text/plain": [
       "<matplotlib.legend.Legend at 0x7f32212e76a0>"
      ]
     },
     "execution_count": 455,
     "metadata": {
      "tags": []
     },
     "output_type": "execute_result"
    },
    {
     "data": {
      "image/png": "[encoded data removed]",
      "text/plain": [
       "<Figure size 720x504 with 1 Axes>"
      ]
     },
     "metadata": {
      "tags": []
     },
     "output_type": "display_data"
    }
   ],
   "source": [
    "# train, test의 정확도 결과 저장용\n",
    "train_accuracy=[]\n",
    "test_accuracy=[]\n",
    "# min_samples_leaf\n",
    "para_leaf=[n_leaf*2 for n_leaf in range(1,11)]\n",
    "\n",
    "for v_min_samples_leaf in para_leaf:\n",
    "    rf=RandomForestRegressor(min_samples_leaf=v_min_samples_leaf,min_samples_split=30,max_depth=1,n_estimators=30,random_state=1234)\n",
    "    rf.fit(df_train_x,df_train_y)\n",
    "    train_accuracy.append(rf.score(df_train_x,df_train_y))\n",
    "    test_accuracy.append(rf.score(df_test_x,df_test_y))\n",
    "    \n",
    "# 데이터 테이블로 저장\n",
    "df_accuracy_leaf=pd.DataFrame()\n",
    "df_accuracy_leaf[\"MinSamplesLeaf\"]=para_leaf\n",
    "df_accuracy_leaf[\"TrainAccuracy\"]=train_accuracy\n",
    "df_accuracy_leaf[\"TestAccuracy\"]=test_accuracy\n",
    "\n",
    "# 모델 정확도 그래프 확인\n",
    "plt.plot(para_leaf,train_accuracy,linestyle=\"-\",label=\"Train Accuracy\")\n",
    "plt.plot(para_leaf,test_accuracy,linestyle=\"-\",label=\"Test Accuracy\")\n",
    "plt.legend()"
   ]
  },
  {
   "cell_type": "code",
   "execution_count": 0,
   "metadata": {
    "colab": {
     "base_uri": "https://localhost:8080/",
     "height": 233
    },
    "colab_type": "code",
    "id": "Y2ZZiH7qHQ9K",
    "outputId": "2b73f5aa-905f-47ba-f313-bfb5937ac736"
   },
   "outputs": [
    {
     "name": "stdout",
     "output_type": "stream",
     "text": [
      "Train데이터 설명력:0.212.\n",
      "Test데이터 설명력:0.107.\n"
     ]
    },
    {
     "data": {
      "text/html": [
       "<div>\n",
       "<style scoped>\n",
       "    .dataframe tbody tr th:only-of-type {\n",
       "        vertical-align: middle;\n",
       "    }\n",
       "\n",
       "    .dataframe tbody tr th {\n",
       "        vertical-align: top;\n",
       "    }\n",
       "\n",
       "    .dataframe thead th {\n",
       "        text-align: right;\n",
       "    }\n",
       "</style>\n",
       "<table border=\"1\" class=\"dataframe\">\n",
       "  <thead>\n",
       "    <tr style=\"text-align: right;\">\n",
       "      <th></th>\n",
       "      <th>Feature</th>\n",
       "      <th>Importance</th>\n",
       "    </tr>\n",
       "  </thead>\n",
       "  <tbody>\n",
       "    <tr>\n",
       "      <th>11</th>\n",
       "      <td>votes</td>\n",
       "      <td>0.267</td>\n",
       "    </tr>\n",
       "    <tr>\n",
       "      <th>54</th>\n",
       "      <td>mpa_rating_R</td>\n",
       "      <td>0.200</td>\n",
       "    </tr>\n",
       "    <tr>\n",
       "      <th>35</th>\n",
       "      <td>inf_budget</td>\n",
       "      <td>0.167</td>\n",
       "    </tr>\n",
       "    <tr>\n",
       "      <th>2</th>\n",
       "      <td>inf_income_usa</td>\n",
       "      <td>0.100</td>\n",
       "    </tr>\n",
       "    <tr>\n",
       "      <th>0</th>\n",
       "      <td>runtime</td>\n",
       "      <td>0.067</td>\n",
       "    </tr>\n",
       "  </tbody>\n",
       "</table>\n",
       "</div>"
      ],
      "text/plain": [
       "           Feature  Importance\n",
       "11           votes       0.267\n",
       "54    mpa_rating_R       0.200\n",
       "35      inf_budget       0.167\n",
       "2   inf_income_usa       0.100\n",
       "0          runtime       0.067"
      ]
     },
     "execution_count": 456,
     "metadata": {
      "tags": []
     },
     "output_type": "execute_result"
    }
   ],
   "source": [
    "# 최종 모델 생성\n",
    "rf_final=RandomForestRegressor(criterion='mse',\n",
    "                      max_depth=1, min_samples_leaf=4,\n",
    "                      min_samples_split=30,\n",
    "                      n_estimators=30,\n",
    "                      random_state=1234)\n",
    "rf_final.fit(df_train_x,df_train_y)\n",
    "# Train/Test 설명력\n",
    "print('Train데이터 설명력:{:.3f}.'.format(rf_final.score(df_train_x,df_train_y)))\n",
    "print('Test데이터 설명력:{:.3f}.'.format(rf_final.score(df_test_x,df_test_y)))\n",
    "\n",
    "# 변수중요도 \n",
    "v_feature_name=df_train_x.columns\n",
    "# tree.feature_importances_로 설명변수 중요도 확인 및 테이블로 저장\n",
    "df_importance=pd.DataFrame()\n",
    "df_importance['Feature']=v_feature_name\n",
    "df_importance['Importance']=rf_final.feature_importances_\n",
    "# df_feature_importance의 테이블을 중요도별로 정렬\n",
    "df_importance.sort_values('Importance',ascending=False,inplace=True)\n",
    "df_importance[:5].round(3)"
   ]
  },
  {
   "cell_type": "markdown",
   "metadata": {
    "colab_type": "text",
    "id": "kNL8ESoIavRl"
   },
   "source": [
    "## GB"
   ]
  },
  {
   "cell_type": "code",
   "execution_count": 0,
   "metadata": {
    "colab": {
     "base_uri": "https://localhost:8080/",
     "height": 461
    },
    "colab_type": "code",
    "id": "OI7BZYUoatkT",
    "outputId": "5c56bbe9-4e86-4fd6-8ade-fe7175792193"
   },
   "outputs": [
    {
     "data": {
      "text/plain": [
       "GridSearchCV(cv=None, error_score=nan,\n",
       "             estimator=GradientBoostingRegressor(alpha=0.9, ccp_alpha=0.0,\n",
       "                                                 criterion='friedman_mse',\n",
       "                                                 init=None, learning_rate=0.1,\n",
       "                                                 loss='ls', max_depth=3,\n",
       "                                                 max_features=None,\n",
       "                                                 max_leaf_nodes=None,\n",
       "                                                 min_impurity_decrease=0.0,\n",
       "                                                 min_impurity_split=None,\n",
       "                                                 min_samples_leaf=1,\n",
       "                                                 min_samples_split=2,\n",
       "                                                 min_weight_fraction_leaf=0.0,\n",
       "                                                 n_estimators=100,\n",
       "                                                 n_ite...\n",
       "             param_grid={'criterion': ['mse', 'friedman_mse', 'mae'],\n",
       "                         'learning_rate': [0.1, 0.2, 0.30000000000000004, 0.4,\n",
       "                                           0.5, 0.6000000000000001,\n",
       "                                           0.7000000000000001, 0.8, 0.9],\n",
       "                         'max_depth': [1, 2, 3, 4, 5, 6, 7, 8, 9, 10],\n",
       "                         'max_features': ['auto', 'sqrt', 'log2'],\n",
       "                         'min_samples_leaf': [1, 2, 3, 4, 5, 6, 7, 8, 9, 10, 11,\n",
       "                                              12, 13, 14, 15, 16, 17, 18, 19,\n",
       "                                              20]},\n",
       "             pre_dispatch='2*n_jobs', refit=True, return_train_score=False,\n",
       "             scoring='r2', verbose=0)"
      ]
     },
     "execution_count": 19,
     "metadata": {
      "tags": []
     },
     "output_type": "execute_result"
    }
   ],
   "source": [
    "# # GridSearchCV를 이용한 최적의 parameter 찾기 (너무 오래걸려....)\n",
    "para_lr=[lr*0.1 for lr in range(1,10)]\n",
    "para_depth=[depth for depth in range(1,11)]\n",
    "para_leaf=[n_leaf*1 for n_leaf in range(1,21)]\n",
    "\n",
    "estimator=GradientBoostingRegressor(random_state=1234)\n",
    "param_grid={'criterion':['mse','friedman_mse','mae'],\n",
    "            'max_features':['auto','sqrt','log2'],\n",
    "            'learning_rate':para_lr,\n",
    "            'max_depth': para_depth,\n",
    "            'min_samples_leaf':para_leaf}\n",
    "\n",
    "grid_gb=GridSearchCV(estimator,param_grid,scoring='r2',n_jobs=-1)\n",
    "grid_gb.fit(df_train_x,df_train_y)"
   ]
  },
  {
   "cell_type": "code",
   "execution_count": 0,
   "metadata": {
    "colab": {
     "base_uri": "https://localhost:8080/",
     "height": 232
    },
    "colab_type": "code",
    "id": "NQn6fwSUmDnt",
    "outputId": "77cd58aa-ee68-47c6-99b8-ab4e7e9c3623"
   },
   "outputs": [
    {
     "name": "stdout",
     "output_type": "stream",
     "text": [
      "GradientBoostingRegressor(alpha=0.9, ccp_alpha=0.0, criterion='mse', init=None,\n",
      "                          learning_rate=0.1, loss='ls', max_depth=1,\n",
      "                          max_features='log2', max_leaf_nodes=None,\n",
      "                          min_impurity_decrease=0.0, min_impurity_split=None,\n",
      "                          min_samples_leaf=19, min_samples_split=2,\n",
      "                          min_weight_fraction_leaf=0.0, n_estimators=100,\n",
      "                          n_iter_no_change=None, presort='deprecated',\n",
      "                          random_state=1234, subsample=1.0, tol=0.0001,\n",
      "                          validation_fraction=0.1, verbose=0, warm_start=False)\n",
      "{'criterion': 'mse', 'learning_rate': 0.1, 'max_depth': 1, 'max_features': 'log2', 'min_samples_leaf': 19}\n",
      "-0.123\n"
     ]
    }
   ],
   "source": [
    "print(grid_gb.best_estimator_) # best_estimator\n",
    "print(grid_gb.best_params_) # best_params\n",
    "print(grid_gb.best_score_.round(3)) # best_score"
   ]
  },
  {
   "cell_type": "code",
   "execution_count": 0,
   "metadata": {
    "colab": {
     "base_uri": "https://localhost:8080/",
     "height": 233
    },
    "colab_type": "code",
    "id": "coJxyqxXa3vf",
    "outputId": "6652b0bd-b2c5-4d39-8b6b-3f180fdf4ee9"
   },
   "outputs": [
    {
     "name": "stdout",
     "output_type": "stream",
     "text": [
      "Train데이터 설명력:0.333.\n",
      "Test데이터 설명력:0.049.\n"
     ]
    },
    {
     "data": {
      "text/html": [
       "<div>\n",
       "<style scoped>\n",
       "    .dataframe tbody tr th:only-of-type {\n",
       "        vertical-align: middle;\n",
       "    }\n",
       "\n",
       "    .dataframe tbody tr th {\n",
       "        vertical-align: top;\n",
       "    }\n",
       "\n",
       "    .dataframe thead th {\n",
       "        text-align: right;\n",
       "    }\n",
       "</style>\n",
       "<table border=\"1\" class=\"dataframe\">\n",
       "  <thead>\n",
       "    <tr style=\"text-align: right;\">\n",
       "      <th></th>\n",
       "      <th>Feature</th>\n",
       "      <th>Importance</th>\n",
       "    </tr>\n",
       "  </thead>\n",
       "  <tbody>\n",
       "    <tr>\n",
       "      <th>2</th>\n",
       "      <td>inf_income_usa</td>\n",
       "      <td>0.264</td>\n",
       "    </tr>\n",
       "    <tr>\n",
       "      <th>8</th>\n",
       "      <td>awards_nomin_num</td>\n",
       "      <td>0.206</td>\n",
       "    </tr>\n",
       "    <tr>\n",
       "      <th>5</th>\n",
       "      <td>metascore</td>\n",
       "      <td>0.125</td>\n",
       "    </tr>\n",
       "    <tr>\n",
       "      <th>10</th>\n",
       "      <td>reviews_critics</td>\n",
       "      <td>0.101</td>\n",
       "    </tr>\n",
       "    <tr>\n",
       "      <th>0</th>\n",
       "      <td>runtime</td>\n",
       "      <td>0.064</td>\n",
       "    </tr>\n",
       "  </tbody>\n",
       "</table>\n",
       "</div>"
      ],
      "text/plain": [
       "             Feature  Importance\n",
       "2     inf_income_usa       0.264\n",
       "8   awards_nomin_num       0.206\n",
       "5          metascore       0.125\n",
       "10   reviews_critics       0.101\n",
       "0            runtime       0.064"
      ]
     },
     "execution_count": 188,
     "metadata": {
      "tags": []
     },
     "output_type": "execute_result"
    }
   ],
   "source": [
    "# 최종 모델 생성\n",
    "gb_final=GradientBoostingRegressor(learning_rate=0.1,max_depth=1,min_samples_leaf=19,min_samples_split=2,n_estimators=100)\n",
    "gb_final.fit(df_train_x,df_train_y)\n",
    "# Train/Test 설명력\n",
    "print('Train데이터 설명력:{:.3f}.'.format(gb_final.score(df_train_x,df_train_y)))\n",
    "print('Test데이터 설명력:{:.3f}.'.format(gb_final.score(df_test_x,df_test_y)))\n",
    "\n",
    "# 변수중요도 \n",
    "v_feature_name=df_train_x.columns\n",
    "# tree.feature_importances_로 설명변수 중요도 확인 및 테이블로 저장\n",
    "df_importance=pd.DataFrame()\n",
    "df_importance['Feature']=v_feature_name\n",
    "df_importance['Importance']=gb_final.feature_importances_\n",
    "# df_feature_importance의 테이블을 중요도별로 정렬\n",
    "df_importance.sort_values('Importance',ascending=False,inplace=True)\n",
    "df_importance[:5].round(3)"
   ]
  },
  {
   "cell_type": "code",
   "execution_count": 0,
   "metadata": {
    "colab": {
     "base_uri": "https://localhost:8080/",
     "height": 465
    },
    "colab_type": "code",
    "id": "WIRwrgJDnjmM",
    "outputId": "b2f457fe-97db-4bcf-d55d-32fdf361f748"
   },
   "outputs": [
    {
     "data": {
      "text/plain": [
       "<matplotlib.legend.Legend at 0x7f321b4f2978>"
      ]
     },
     "execution_count": 457,
     "metadata": {
      "tags": []
     },
     "output_type": "execute_result"
    },
    {
     "data": {
      "image/png": "[encoded data removed]",
      "text/plain": [
       "<Figure size 720x504 with 1 Axes>"
      ]
     },
     "metadata": {
      "tags": []
     },
     "output_type": "display_data"
    }
   ],
   "source": [
    "# n_estimators : 트리 수 변경에 따른 모델 성능\n",
    "train_score=[]\n",
    "test_score=[]\n",
    "# n_estimators : 트리 수 변경(1~100)\n",
    "para_n_tree=[n_tree*10 for n_tree in range(1,11)]\n",
    "\n",
    "for v_n_estimators in para_n_tree:\n",
    "    gb=GradientBoostingRegressor(random_state=1234,n_estimators=v_n_estimators)\n",
    "    gb.fit(df_train_x,df_train_y)\n",
    "    train_score.append(gb.score(df_train_x,df_train_y))\n",
    "    test_score.append(gb.score(df_test_x,df_test_y))\n",
    "    \n",
    "# 결과저장\n",
    "df_score_n=pd.DataFrame()\n",
    "df_score_n[\"Estimators\"]=para_n_tree\n",
    "df_score_n[\"TrainScore\"]=train_score\n",
    "df_score_n[\"testscore\"]=test_score\n",
    "\n",
    "# 모델 설명력 그래프 확인\n",
    "plt.plot(para_n_tree,train_score,linestyle=\"-\",label=\"Train Score\")\n",
    "plt.plot(para_n_tree,test_score,linestyle='--',label=\"test_score\")\n",
    "plt.ylabel(\"score\")\n",
    "plt.xlabel(\"n_estimators\")\n",
    "plt.legend()"
   ]
  },
  {
   "cell_type": "code",
   "execution_count": 0,
   "metadata": {
    "colab": {
     "base_uri": "https://localhost:8080/",
     "height": 465
    },
    "colab_type": "code",
    "id": "3Vs3mBmvZXY_",
    "outputId": "8595b724-d9c6-4076-8118-625c6c01ea54"
   },
   "outputs": [
    {
     "data": {
      "text/plain": [
       "<matplotlib.legend.Legend at 0x7f321b126908>"
      ]
     },
     "execution_count": 463,
     "metadata": {
      "tags": []
     },
     "output_type": "execute_result"
    },
    {
     "data": {
      "image/png": "[encoded data removed]",
      "text/plain": [
       "<Figure size 720x504 with 1 Axes>"
      ]
     },
     "metadata": {
      "tags": []
     },
     "output_type": "display_data"
    }
   ],
   "source": [
    "# train 및 validation 설명력 결과 저장\n",
    "train_score=[]\n",
    "test_score=[]\n",
    "# n_estimatos: 트리 수 변경 :1~100\n",
    "para_leaf=[n_leaf*1 for n_leaf in range(1,21)]\n",
    "\n",
    "for v_min_samples_leaf in para_leaf:\n",
    "    rf=GradientBoostingRegressor(n_estimators=10,random_state=1234,\n",
    "                                min_samples_leaf=v_min_samples_leaf)\n",
    "    rf.fit(df_train_x,df_train_y)\n",
    "    train_score.append(rf.score(df_train_x,df_train_y))\n",
    "    test_score.append(rf.score(df_test_x,df_test_y))\n",
    "    \n",
    "# 결과 저장\n",
    "df_score_leaf=pd.DataFrame()\n",
    "df_score_leaf[\"MinSamplesLeaf\"]=para_leaf\n",
    "df_score_leaf[\"TrainScore\"]=train_score\n",
    "df_score_leaf[\"test_score\"]=test_score\n",
    "\n",
    "# 모델 설명력 그래프 확인\n",
    "plt.plot(para_leaf,train_score,linestyle=\"-\",label=\"Train Score\")\n",
    "plt.plot(para_leaf,test_score,linestyle='--',label=\"test_score\")\n",
    "plt.ylabel(\"score\")\n",
    "plt.xlabel(\"min samples leaf\")\n",
    "plt.legend()"
   ]
  },
  {
   "cell_type": "code",
   "execution_count": 0,
   "metadata": {
    "colab": {
     "base_uri": "https://localhost:8080/",
     "height": 465
    },
    "colab_type": "code",
    "id": "GK_n-qLyZxQa",
    "outputId": "03c592ed-1f4a-4828-dfaa-a2010ce43c3b"
   },
   "outputs": [
    {
     "data": {
      "text/plain": [
       "<matplotlib.legend.Legend at 0x7f321a211588>"
      ]
     },
     "execution_count": 464,
     "metadata": {
      "tags": []
     },
     "output_type": "execute_result"
    },
    {
     "data": {
      "image/png": "[encoded data removed]",
      "text/plain": [
       "<Figure size 720x504 with 1 Axes>"
      ]
     },
     "metadata": {
      "tags": []
     },
     "output_type": "display_data"
    }
   ],
   "source": [
    "# train 및 validation 설명력 결과 저장\n",
    "train_score=[]\n",
    "test_score=[]\n",
    "# min_samples_split : 분할하기 위한 노드의 최소 자료 수\n",
    "para_split=[n_split*2 for n_split in range(1,21)]\n",
    "\n",
    "for v_min_samples_split in para_split:\n",
    "    gb=GradientBoostingRegressor(random_state=1234,n_estimators=10, min_samples_leaf=7,\n",
    "                                min_samples_split=v_min_samples_split)\n",
    "    gb.fit(df_train_x,df_train_y)\n",
    "    train_score.append(gb.score(df_train_x,df_train_y))\n",
    "    test_score.append(gb.score(df_test_x,df_test_y))\n",
    "    \n",
    "# 결과 저장\n",
    "df_score_split=pd.DataFrame()\n",
    "df_score_split[\"MinSamplesSplit\"]=para_split\n",
    "df_score_split[\"TrainScore\"]=train_score\n",
    "df_score_split[\"test_score\"]=test_score\n",
    "\n",
    "# 모델 설명력 그래프 확인\n",
    "plt.plot(para_split,train_score,linestyle=\"-\",label=\"Train Score\")\n",
    "plt.plot(para_split,test_score,linestyle='--',label=\"test_score\")\n",
    "plt.ylabel(\"score\")\n",
    "plt.xlabel(\"min samples split\")\n",
    "plt.legend()"
   ]
  },
  {
   "cell_type": "code",
   "execution_count": 0,
   "metadata": {
    "colab": {
     "base_uri": "https://localhost:8080/",
     "height": 465
    },
    "colab_type": "code",
    "id": "0d_n51LIaDSK",
    "outputId": "a576b434-1cc3-4054-c34b-79556d0fa1ff"
   },
   "outputs": [
    {
     "data": {
      "text/plain": [
       "<matplotlib.legend.Legend at 0x7f321b0fdef0>"
      ]
     },
     "execution_count": 465,
     "metadata": {
      "tags": []
     },
     "output_type": "execute_result"
    },
    {
     "data": {
      "image/png": "[encoded data removed]",
      "text/plain": [
       "<Figure size 720x504 with 1 Axes>"
      ]
     },
     "metadata": {
      "tags": []
     },
     "output_type": "display_data"
    }
   ],
   "source": [
    "# max_depth : 최대 깊이 변경에 따른 모델 성능\n",
    "# train 및 validation 설명력 결과 저장\n",
    "train_score=[]\n",
    "test_score=[]\n",
    "# max_depth : 최대 깊이 변경\n",
    "para_depth=[depth for depth in range(1,11)]\n",
    "\n",
    "for v_max_depth in para_depth:\n",
    "    gb=GradientBoostingRegressor(random_state=1234,n_estimators=10,min_samples_leaf=7,min_samples_split=17, \n",
    "                             max_depth=v_max_depth)\n",
    "    gb.fit(df_train_x,df_train_y)\n",
    "    train_score.append(gb.score(df_train_x,df_train_y))\n",
    "    test_score.append(gb.score(df_test_x,df_test_y))\n",
    "# 데이터 테이블로 저장\n",
    "df_score_depth=pd.DataFrame()\n",
    "df_score_depth[\"Depth\"]=para_depth\n",
    "df_score_depth[\"TrainScore\"]=train_score\n",
    "df_score_depth[\"test_score\"]=test_score \n",
    "\n",
    "# 모델 설명력 그래프 확인\n",
    "plt.plot(para_depth,train_score,linestyle=\"-\",label=\"Train Score\")\n",
    "plt.plot(para_depth,test_score,linestyle='--',label=\"ValScore\")\n",
    "plt.ylabel(\"score\")\n",
    "plt.xlabel(\"depth\")\n",
    "plt.legend()"
   ]
  },
  {
   "cell_type": "code",
   "execution_count": 0,
   "metadata": {
    "colab": {
     "base_uri": "https://localhost:8080/",
     "height": 465
    },
    "colab_type": "code",
    "id": "b-2iqNEMaf_b",
    "outputId": "c9d2d044-b7ea-467d-aa68-deb9f66bc8c4"
   },
   "outputs": [
    {
     "data": {
      "text/plain": [
       "<matplotlib.legend.Legend at 0x7f321e0fa780>"
      ]
     },
     "execution_count": 466,
     "metadata": {
      "tags": []
     },
     "output_type": "execute_result"
    },
    {
     "data": {
      "image/png": "[encoded data removed]",
      "text/plain": [
       "<Figure size 720x504 with 1 Axes>"
      ]
     },
     "metadata": {
      "tags": []
     },
     "output_type": "display_data"
    }
   ],
   "source": [
    "# train 및 test 설명력 결과 저장\n",
    "train_score=[]\n",
    "test_score=[]\n",
    "# learning rate : 합습률 변경 0.1~0.9\n",
    "para_lr=[lr*0.1 for lr in range(1,10)]\n",
    "\n",
    "for v_learning_rate in para_lr:\n",
    "    gb=GradientBoostingRegressor(random_state=1234, n_estimators=10,min_samples_leaf=7, \n",
    "                                min_samples_split=17,max_depth=2,learning_rate=v_learning_rate)\n",
    "    gb.fit(df_train_x,df_train_y)\n",
    "    train_score.append(gb.score(df_train_x,df_train_y))\n",
    "    test_score.append(gb.score(df_test_x,df_test_y))\n",
    "    \n",
    "# 결과저장\n",
    "df_score_lr=pd.DataFrame()\n",
    "df_score_lr['LearningRate']=para_lr\n",
    "df_score_lr[\"TrainScore\"]=train_score\n",
    "df_score_lr[\"ValScore\"]=test_score\n",
    "\n",
    "# 모델 설명력 그래프 확인\n",
    "plt.plot(para_lr,train_score,linestyle='-',label='Train Score')\n",
    "plt.plot(para_lr,test_score,linestyle='--',label=\"test_score\")\n",
    "plt.ylabel(\"score\")\n",
    "plt.xlabel(\"learning rate\")\n",
    "plt.legend()"
   ]
  },
  {
   "cell_type": "code",
   "execution_count": 0,
   "metadata": {
    "colab": {
     "base_uri": "https://localhost:8080/",
     "height": 233
    },
    "colab_type": "code",
    "id": "ZOt4k_LJbOAn",
    "outputId": "d60df7dc-ac21-49e9-a470-fc53e03bbf94"
   },
   "outputs": [
    {
     "name": "stdout",
     "output_type": "stream",
     "text": [
      "Train데이터 설명력:0.262.\n",
      "Test데이터 설명력:0.201.\n"
     ]
    },
    {
     "data": {
      "text/html": [
       "<div>\n",
       "<style scoped>\n",
       "    .dataframe tbody tr th:only-of-type {\n",
       "        vertical-align: middle;\n",
       "    }\n",
       "\n",
       "    .dataframe tbody tr th {\n",
       "        vertical-align: top;\n",
       "    }\n",
       "\n",
       "    .dataframe thead th {\n",
       "        text-align: right;\n",
       "    }\n",
       "</style>\n",
       "<table border=\"1\" class=\"dataframe\">\n",
       "  <thead>\n",
       "    <tr style=\"text-align: right;\">\n",
       "      <th></th>\n",
       "      <th>Feature</th>\n",
       "      <th>Importance</th>\n",
       "    </tr>\n",
       "  </thead>\n",
       "  <tbody>\n",
       "    <tr>\n",
       "      <th>35</th>\n",
       "      <td>inf_budget</td>\n",
       "      <td>0.343</td>\n",
       "    </tr>\n",
       "    <tr>\n",
       "      <th>2</th>\n",
       "      <td>inf_income_usa</td>\n",
       "      <td>0.174</td>\n",
       "    </tr>\n",
       "    <tr>\n",
       "      <th>54</th>\n",
       "      <td>mpa_rating_R</td>\n",
       "      <td>0.157</td>\n",
       "    </tr>\n",
       "    <tr>\n",
       "      <th>11</th>\n",
       "      <td>votes</td>\n",
       "      <td>0.102</td>\n",
       "    </tr>\n",
       "    <tr>\n",
       "      <th>7</th>\n",
       "      <td>awards_win_num</td>\n",
       "      <td>0.082</td>\n",
       "    </tr>\n",
       "  </tbody>\n",
       "</table>\n",
       "</div>"
      ],
      "text/plain": [
       "           Feature  Importance\n",
       "35      inf_budget       0.343\n",
       "2   inf_income_usa       0.174\n",
       "54    mpa_rating_R       0.157\n",
       "11           votes       0.102\n",
       "7   awards_win_num       0.082"
      ]
     },
     "execution_count": 189,
     "metadata": {
      "tags": []
     },
     "output_type": "execute_result"
    }
   ],
   "source": [
    "# 최종 모델 생성\n",
    "gb_final=GradientBoostingRegressor(random_state=1234, n_estimators=10,min_samples_leaf=7, \n",
    "                                min_samples_split=17,max_depth=2,learning_rate=0.1)\n",
    "gb_final.fit(df_train_x,df_train_y)\n",
    "# Train/Test 설명력\n",
    "print('Train데이터 설명력:{:.3f}.'.format(gb_final.score(df_train_x,df_train_y)))\n",
    "print('Test데이터 설명력:{:.3f}.'.format(gb_final.score(df_test_x,df_test_y)))\n",
    "\n",
    "# 변수중요도 \n",
    "v_feature_name=df_train_x.columns\n",
    "# tree.feature_importances_로 설명변수 중요도 확인 및 테이블로 저장\n",
    "df_importance=pd.DataFrame()\n",
    "df_importance['Feature']=v_feature_name\n",
    "df_importance['Importance']=gb_final.feature_importances_\n",
    "# df_feature_importance의 테이블을 중요도별로 정렬\n",
    "df_importance.sort_values('Importance',ascending=False,inplace=True)\n",
    "df_importance[:5].round(3)"
   ]
  },
  {
   "cell_type": "markdown",
   "metadata": {
    "colab_type": "text",
    "id": "OGBNFAYW0LuP"
   },
   "source": [
    "# 예측모델 평가 - R-squared, MSE, MAE, MAPE, RMSE, AIC, BIC, Residual plot "
   ]
  },
  {
   "cell_type": "code",
   "execution_count": 0,
   "metadata": {
    "colab": {},
    "colab_type": "code",
    "id": "IBnSBn7h0K7C"
   },
   "outputs": [],
   "source": [
    "# RMSE\n",
    "def root_mean_squared_error(y_true,y_pred):\n",
    "  return np.sqrt(mean_squared_error(y_true,y_pred))\n",
    "\n",
    "# MAPE\n",
    "def mean_absolute_percentage_error(y_true,y_pred):\n",
    "  return np.mean(np.abs((y_true-y_pred)/y_true))*100\n",
    "\n",
    "# 예측 및 평가(회귀분석)\n",
    "\n",
    "models=['reg_40','DT','RF','GB']\n",
    "mse,rmse,mae,mape=[],[],[],[]\n",
    "\n",
    "reg_y_pred=reg_result_40.predict(X)\n",
    "\n",
    "# 평가 \n",
    "mse.append(mean_squared_error(y,reg_y_pred))\n",
    "rmse.append(root_mean_squared_error(y,reg_y_pred))\n",
    "mae.append(mean_absolute_error(y,reg_y_pred))\n",
    "mape.append(mean_absolute_percentage_error(y,reg_y_pred))"
   ]
  },
  {
   "cell_type": "code",
   "execution_count": 0,
   "metadata": {
    "colab": {},
    "colab_type": "code",
    "id": "lyY3ADSw5Npj"
   },
   "outputs": [],
   "source": [
    "# 의사결정나무 \n",
    "# 예측 \n",
    "dt_y_pred=tree_final.predict(df_test_x)\n",
    "\n",
    "mse.append(mean_squared_error(df_test_y,dt_y_pred))\n",
    "rmse.append(root_mean_squared_error(df_test_y,dt_y_pred))\n",
    "mae.append(mean_absolute_error(df_test_y,dt_y_pred))\n",
    "mape.append(mean_absolute_percentage_error(df_test_y,dt_y_pred))"
   ]
  },
  {
   "cell_type": "code",
   "execution_count": 0,
   "metadata": {
    "colab": {},
    "colab_type": "code",
    "id": "5tDwT94u6EGz"
   },
   "outputs": [],
   "source": [
    "# 랜덤포레스트 \n",
    "# 예측\n",
    "rf_y_pred=rf_final.predict(df_test_x)\n",
    "\n",
    "# 평가\n",
    "mse.append(mean_squared_error(df_test_y,rf_y_pred))\n",
    "rmse.append(root_mean_squared_error(df_test_y,rf_y_pred))\n",
    "mae.append(mean_absolute_error(df_test_y,rf_y_pred))\n",
    "mape.append(mean_absolute_percentage_error(df_test_y,rf_y_pred))"
   ]
  },
  {
   "cell_type": "code",
   "execution_count": 0,
   "metadata": {
    "colab": {},
    "colab_type": "code",
    "id": "d6NE_vZc7oC0"
   },
   "outputs": [],
   "source": [
    "# 예측\n",
    "gb_y_pred=rf_final.predict(df_test_x)\n",
    "\n",
    "# 평가\n",
    "mse.append(mean_squared_error(df_test_y,gb_y_pred))\n",
    "rmse.append(root_mean_squared_error(df_test_y,gb_y_pred))\n",
    "mae.append(mean_absolute_error(df_test_y,gb_y_pred))\n",
    "mape.append(mean_absolute_percentage_error(df_test_y,gb_y_pred))"
   ]
  },
  {
   "cell_type": "code",
   "execution_count": 0,
   "metadata": {
    "colab": {
     "base_uri": "https://localhost:8080/",
     "height": 87
    },
    "colab_type": "code",
    "id": "GA0RsqS_857P",
    "outputId": "a76ec752-5916-4f5e-ad98-8d944e32aa6c"
   },
   "outputs": [
    {
     "name": "stdout",
     "output_type": "stream",
     "text": [
      "[1813.081192164505, 3981.7391345136743, 4090.748630143775, 4090.748630143775]\n",
      "[42.580291123529264, 63.10102324458514, 63.958960514878406, 63.958960514878406]\n",
      "[33.64648261519952, 49.02942705239331, 51.060292013449214, 51.060292013449214]\n",
      "[22.480117128799986, 28.047592538967464, 28.456650924971406, 28.456650924971406]\n"
     ]
    }
   ],
   "source": [
    "print(mse)\n",
    "print(rmse)\n",
    "print(mae)\n",
    "print(mape)"
   ]
  },
  {
   "cell_type": "code",
   "execution_count": 0,
   "metadata": {
    "colab": {
     "base_uri": "https://localhost:8080/",
     "height": 450
    },
    "colab_type": "code",
    "id": "nqZTHbDk7yu0",
    "outputId": "b16cf432-97ba-454c-d062-27dce09cfdae"
   },
   "outputs": [
    {
     "data": {
      "image/png": "[encoded data removed]",
      "text/plain": [
       "<Figure size 720x504 with 4 Axes>"
      ]
     },
     "metadata": {
      "tags": []
     },
     "output_type": "display_data"
    }
   ],
   "source": [
    "fig,ax=plt.subplots(2,2,figsize=(10,7))\n",
    "ax[0,0].bar(models,mse)\n",
    "ax[0,0].set_title('mse').set_fontsize(15)\n",
    "\n",
    "ax[0,1].bar(models,rmse)\n",
    "ax[0,1].set_title('rmse').set_fontsize(15)\n",
    "\n",
    "ax[1,0].bar(models,mae)\n",
    "ax[1,0].set_title('mae').set_fontsize(15)\n",
    "\n",
    "ax[1,1].bar(models,mape)\n",
    "ax[1,1].set_title('mape').set_fontsize(15)"
   ]
  },
  {
   "cell_type": "code",
   "execution_count": 0,
   "metadata": {
    "colab": {},
    "colab_type": "code",
    "id": "XwD0z4xo8b85"
   },
   "outputs": [],
   "source": []
  },
  {
   "cell_type": "code",
   "execution_count": 0,
   "metadata": {
    "colab": {},
    "colab_type": "code",
    "id": "xMBHzhFFSyhV"
   },
   "outputs": [],
   "source": [
    "cus=pd.read_csv('movie_customer_cleaned.csv')\n",
    "down=pd.read_csv('movie_download_cleaned.csv')\n",
    "meta=pd.read_csv('movie_meta_cleaned_final5.csv')"
   ]
  },
  {
   "cell_type": "code",
   "execution_count": 0,
   "metadata": {
    "colab": {},
    "colab_type": "code",
    "id": "U_9DHfw8Sp_w"
   },
   "outputs": [],
   "source": [
    "# download에 item_id별 다운로드 건수 \n",
    "cnt_mvid=down['item_id'].value_counts().reset_index()\n",
    "cnt_mvid.columns=['item_id','down_cnt']"
   ]
  },
  {
   "cell_type": "code",
   "execution_count": 0,
   "metadata": {
    "colab": {},
    "colab_type": "code",
    "id": "CXx0rkP6SqAh"
   },
   "outputs": [],
   "source": [
    "inf_down_price=down['down_price']*down['inf_year']\n",
    "down['inf_down_price']=down['down_price']*down['inf_year']"
   ]
  },
  {
   "cell_type": "code",
   "execution_count": 0,
   "metadata": {
    "colab": {},
    "colab_type": "code",
    "id": "ywFVIVp3SqA2"
   },
   "outputs": [],
   "source": [
    "inf_down_price=down['inf_down_price']*down['inf_year']\n",
    "sum_price_mvid=down.groupby('item_id')['inf_down_price'].sum()\n",
    "sum_price_mvid=sum_price_mvid.reset_index()\n",
    "# item_id별 매출가격 meta에 merge\n",
    "inv_new1=pd.merge(meta,sum_price_mvid,how='left',on='item_id')\n",
    "# item_id별 다운로드 건수 meta에 merge\n",
    "inv_new2=pd.merge(inv_new1,cnt_mvid,how='left',on='item_id')"
   ]
  },
  {
   "cell_type": "code",
   "execution_count": 0,
   "metadata": {
    "colab": {},
    "colab_type": "code",
    "id": "HQTiJjzFSqA_"
   },
   "outputs": [],
   "source": [
    "# # duration: 2019(현시점)-contract_year 변수생성 및 down_price를 duration으로 나누기\n",
    "# inv_new2['contract_year']=inv_new2['contract_year'].astype(float)\n",
    "# inv_new2['contract_year']=inv_new2['contract_year'].astype(int)\n",
    "# # contract_year가 '2015.0'으로 들어가져 있어서 float으로 하고 int적용해야함\n",
    "# inv_new2['duration']=2019-inv_new2['contract_year']\n",
    "# inv_new2['inf_down_price']=inv_new2['inf_down_price']/inv_new2['duration']\n",
    "# # meta_1.head()\n",
    "# # movie_down_sales는 contract_year와 inf가 반영이 안되어있어서 inf_down_price사용함\n",
    "# inv_new3=pd.merge(inf_new2,)"
   ]
  },
  {
   "cell_type": "code",
   "execution_count": 0,
   "metadata": {
    "colab": {},
    "colab_type": "code",
    "id": "cNdIMYEzSqBI"
   },
   "outputs": [],
   "source": [
    "# 영화예측에 필요없는 변수제거 후 : 52개 columns, 106개 rows\n",
    "# index, movie_id, title, release_year, src, awards, poster, prd_mthd, item_id, inv_exist, inf, income_int, income_ww, budget, income_opening, down_cnt, duration \n",
    "drop_meta=inv_new2.drop(['movie_id','title','release_year','src','awards','poster','inv_exist','inf'],axis=1)\n",
    "drop_meta_1=drop_meta.drop(['item_id','down_cnt','contract_price','income_opening','budget','income_ww','income_int','income_usa'],axis=1)\n",
    "drop_meta_2=drop_meta_1.drop(['total_sales'],axis=1)\n",
    "drop_meta_3=drop_meta_2.drop(['blu_sales','release_dvd','movie_down_sales','TV-14','TV-G','TV-MA','TV-PG','TV-Y7'],axis=1)\n",
    "drop_meta_4=drop_meta_3.drop('dvd_sales',axis=1)\n",
    "drop_meta_5=drop_meta_4.drop('net_profit',axis=1)\n",
    "drop_meta_6=drop_meta_5.drop('inf_income_ww',axis=1)\n",
    "drop_meta_7=drop_meta_6.drop(['dvd_over_income','release_date','APPROVED','G','NC-17','NOT RATED','PASSED','PG','PG-13','R'],axis=1)\n",
    "drop_meta_8=drop_meta_7.drop(['contract_year','share','dvd','english','cntry_USA','blu','actor_A','actor_B','actor_C','studio_score','price_class','contract_price_inf'],axis=1)\n",
    "drop_meta_9=drop_meta_8.drop('legs',axis=1)\n",
    "drop_meta_10=drop_meta_9.drop('inf_income_opening',axis=1)\n",
    "drop_meta=drop_meta_10.copy()"
   ]
  },
  {
   "cell_type": "code",
   "execution_count": 0,
   "metadata": {
    "colab": {},
    "colab_type": "code",
    "id": "IYpfPuG7SqBQ"
   },
   "outputs": [],
   "source": [
    "# object타입 columns을 int나 float으로 변경\n",
    "drop_meta['runtime']=drop_meta['runtime'].astype(int)\n",
    "drop_meta['imdb_score']=drop_meta['imdb_score'].astype(float)\n",
    "drop_meta['theater_total']=drop_meta['theater_total'].astype(int)\n",
    "drop_meta['metascore']=drop_meta['metascore'].astype(float)\n",
    "drop_meta['reviews_critics']=drop_meta['reviews_critics'].astype(int)\n",
    "drop_meta['genre_documentary']=drop_meta['genre_documentary'].astype(int)\n",
    "\n",
    "# 더미화를 위해 studio_score, price_class를 object타입으로 변경\n",
    "# drop_meta['studio_score']=drop_meta['studio_score'].astype(str)\n",
    "# drop_meta['price_class']=drop_meta['price_class'].astype(str)\n",
    "drop_meta['series_new']=drop_meta['series_new'].astype(str)\n",
    "drop_meta['prd_mthd']=drop_meta['prd_mthd'].astype(str)"
   ]
  },
  {
   "cell_type": "code",
   "execution_count": 0,
   "metadata": {
    "colab": {},
    "colab_type": "code",
    "id": "FZ8DjVSCSqBY"
   },
   "outputs": [],
   "source": [
    "# 연속형변수들만 스케일링하기 \n",
    "scaler=StandardScaler()\n",
    "continuous_df=drop_meta.drop(['series_new','director_A','director_B','director_C','studio','inf_down_price','mpa_rating','prd_mthd'],axis=1)\n",
    "cols=continuous_df.columns\n",
    "np_scaled=scaler.fit_transform(continuous_df)\n",
    "df_scaled=pd.DataFrame(np_scaled,columns=cols)\n",
    "# 목표변수 추가\n",
    "df_scaled['inf_down_price']=drop_meta['inf_down_price']"
   ]
  },
  {
   "cell_type": "code",
   "execution_count": 0,
   "metadata": {
    "colab": {},
    "colab_type": "code",
    "id": "6JFzIAfkSqBg"
   },
   "outputs": [],
   "source": [
    "# 스케일링된 데이터프레임에 범주형변수들 붙이기\n",
    "descrete_df=drop_meta[['series_new','director_A','director_B','director_C','studio','mpa_rating','prd_mthd']]\n",
    "scaled_df=pd.concat([df_scaled,descrete_df],axis=1)"
   ]
  },
  {
   "cell_type": "code",
   "execution_count": 0,
   "metadata": {
    "colab": {},
    "colab_type": "code",
    "id": "WVcleFrASqBt"
   },
   "outputs": [],
   "source": [
    "# 스케일링한 데이터를 더미화 \n",
    "drop_meta_dummies=pd.get_dummies(scaled_df,drop_first=True)"
   ]
  },
  {
   "cell_type": "code",
   "execution_count": 0,
   "metadata": {
    "colab": {},
    "colab_type": "code",
    "id": "KnaqBGSoSqB2"
   },
   "outputs": [],
   "source": [
    "scl_dum_df=drop_meta_dummies.copy()\n",
    "# scl_dum_df_1=drop_meta_dummies_1.copy()"
   ]
  },
  {
   "cell_type": "code",
   "execution_count": 0,
   "metadata": {
    "colab": {},
    "colab_type": "code",
    "id": "TU_tfzV9THcF"
   },
   "outputs": [],
   "source": [
    "X=scl_dum_df.drop('inf_down_price',axis=1)\n",
    "y=scl_dum_df['inf_down_price']"
   ]
  },
  {
   "cell_type": "code",
   "execution_count": 0,
   "metadata": {
    "colab": {},
    "colab_type": "code",
    "id": "P6h1c4TqtsdR"
   },
   "outputs": [],
   "source": [
    "# rfe 40으로 예측값 구해서 더 좋은 값 사용\n",
    "predicted=reg_result_40.predict(X)"
   ]
  },
  {
   "cell_type": "code",
   "execution_count": 0,
   "metadata": {
    "colab": {
     "base_uri": "https://localhost:8080/",
     "height": 230
    },
    "colab_type": "code",
    "id": "joo8AF4Nsm-7",
    "outputId": "9405bb40-7407-42dd-89b8-ed1cf34f6774"
   },
   "outputs": [
    {
     "data": {
      "text/plain": [
       "0       tt1298650\n",
       "1       tt2395427\n",
       "2       tt4154756\n",
       "3       tt0449088\n",
       "4       tt0974015\n",
       "          ...    \n",
       "4555    tt6588966\n",
       "4556    tt5970844\n",
       "4557    tt5956100\n",
       "4558    tt5882970\n",
       "4559    tt3405236\n",
       "Name: movie_id, Length: 4560, dtype: object"
      ]
     },
     "execution_count": 208,
     "metadata": {
      "tags": []
     },
     "output_type": "execute_result"
    }
   ],
   "source": [
    "movie_id=meta['movie_id']\n",
    "movie_id"
   ]
  },
  {
   "cell_type": "code",
   "execution_count": 0,
   "metadata": {
    "colab": {
     "base_uri": "https://localhost:8080/",
     "height": 230
    },
    "colab_type": "code",
    "id": "sIOycCa7s8g9",
    "outputId": "10e2b881-ecb2-4e1e-b7cd-2c4c3012a121"
   },
   "outputs": [
    {
     "data": {
      "text/plain": [
       "0       286.897138\n",
       "1       275.522583\n",
       "2       212.573441\n",
       "3       204.511795\n",
       "4       314.439501\n",
       "           ...    \n",
       "4555    188.421743\n",
       "4556    133.231058\n",
       "4557    104.343457\n",
       "4558     33.362045\n",
       "4559    194.722457\n",
       "Length: 4560, dtype: float64"
      ]
     },
     "execution_count": 209,
     "metadata": {
      "tags": []
     },
     "output_type": "execute_result"
    }
   ],
   "source": [
    "predicted"
   ]
  },
  {
   "cell_type": "code",
   "execution_count": 0,
   "metadata": {
    "colab": {
     "base_uri": "https://localhost:8080/",
     "height": 406
    },
    "colab_type": "code",
    "id": "PEcJ81mwnTgE",
    "outputId": "533ae4c2-ca22-4aae-a48d-034ef6549ce3"
   },
   "outputs": [
    {
     "data": {
      "text/html": [
       "<div>\n",
       "<style scoped>\n",
       "    .dataframe tbody tr th:only-of-type {\n",
       "        vertical-align: middle;\n",
       "    }\n",
       "\n",
       "    .dataframe tbody tr th {\n",
       "        vertical-align: top;\n",
       "    }\n",
       "\n",
       "    .dataframe thead th {\n",
       "        text-align: right;\n",
       "    }\n",
       "</style>\n",
       "<table border=\"1\" class=\"dataframe\">\n",
       "  <thead>\n",
       "    <tr style=\"text-align: right;\">\n",
       "      <th></th>\n",
       "      <th>movie_id</th>\n",
       "      <th>pred_inf_down_price_60</th>\n",
       "    </tr>\n",
       "  </thead>\n",
       "  <tbody>\n",
       "    <tr>\n",
       "      <th>0</th>\n",
       "      <td>tt1298650</td>\n",
       "      <td>286.897138</td>\n",
       "    </tr>\n",
       "    <tr>\n",
       "      <th>1</th>\n",
       "      <td>tt2395427</td>\n",
       "      <td>275.522583</td>\n",
       "    </tr>\n",
       "    <tr>\n",
       "      <th>2</th>\n",
       "      <td>tt4154756</td>\n",
       "      <td>212.573441</td>\n",
       "    </tr>\n",
       "    <tr>\n",
       "      <th>3</th>\n",
       "      <td>tt0449088</td>\n",
       "      <td>204.511795</td>\n",
       "    </tr>\n",
       "    <tr>\n",
       "      <th>4</th>\n",
       "      <td>tt0974015</td>\n",
       "      <td>314.439501</td>\n",
       "    </tr>\n",
       "    <tr>\n",
       "      <th>...</th>\n",
       "      <td>...</td>\n",
       "      <td>...</td>\n",
       "    </tr>\n",
       "    <tr>\n",
       "      <th>4555</th>\n",
       "      <td>tt6588966</td>\n",
       "      <td>188.421743</td>\n",
       "    </tr>\n",
       "    <tr>\n",
       "      <th>4556</th>\n",
       "      <td>tt5970844</td>\n",
       "      <td>133.231058</td>\n",
       "    </tr>\n",
       "    <tr>\n",
       "      <th>4557</th>\n",
       "      <td>tt5956100</td>\n",
       "      <td>104.343457</td>\n",
       "    </tr>\n",
       "    <tr>\n",
       "      <th>4558</th>\n",
       "      <td>tt5882970</td>\n",
       "      <td>33.362045</td>\n",
       "    </tr>\n",
       "    <tr>\n",
       "      <th>4559</th>\n",
       "      <td>tt3405236</td>\n",
       "      <td>194.722457</td>\n",
       "    </tr>\n",
       "  </tbody>\n",
       "</table>\n",
       "<p>4560 rows × 2 columns</p>\n",
       "</div>"
      ],
      "text/plain": [
       "       movie_id  pred_inf_down_price_60\n",
       "0     tt1298650              286.897138\n",
       "1     tt2395427              275.522583\n",
       "2     tt4154756              212.573441\n",
       "3     tt0449088              204.511795\n",
       "4     tt0974015              314.439501\n",
       "...         ...                     ...\n",
       "4555  tt6588966              188.421743\n",
       "4556  tt5970844              133.231058\n",
       "4557  tt5956100              104.343457\n",
       "4558  tt5882970               33.362045\n",
       "4559  tt3405236              194.722457\n",
       "\n",
       "[4560 rows x 2 columns]"
      ]
     },
     "execution_count": 210,
     "metadata": {
      "tags": []
     },
     "output_type": "execute_result"
    }
   ],
   "source": [
    "pred_df=pd.DataFrame({'movie_id':movie_id,\n",
    "                      'pred_inf_down_pred_inf_down_price_40':predicted})\n",
    "pred_df"
   ]
  },
  {
   "cell_type": "code",
   "execution_count": 0,
   "metadata": {
    "colab": {
     "base_uri": "https://localhost:8080/",
     "height": 406
    },
    "colab_type": "code",
    "id": "I2ZHYG1JV37C",
    "outputId": "1814bbea-87df-4945-b4e3-d7bd2653ccd6"
   },
   "outputs": [
    {
     "data": {
      "text/html": [
       "<div>\n",
       "<style scoped>\n",
       "    .dataframe tbody tr th:only-of-type {\n",
       "        vertical-align: middle;\n",
       "    }\n",
       "\n",
       "    .dataframe tbody tr th {\n",
       "        vertical-align: top;\n",
       "    }\n",
       "\n",
       "    .dataframe thead th {\n",
       "        text-align: right;\n",
       "    }\n",
       "</style>\n",
       "<table border=\"1\" class=\"dataframe\">\n",
       "  <thead>\n",
       "    <tr style=\"text-align: right;\">\n",
       "      <th></th>\n",
       "      <th>movie_id</th>\n",
       "      <th>inf_down_price</th>\n",
       "    </tr>\n",
       "  </thead>\n",
       "  <tbody>\n",
       "    <tr>\n",
       "      <th>0</th>\n",
       "      <td>tt2395427</td>\n",
       "      <td>267.208323</td>\n",
       "    </tr>\n",
       "    <tr>\n",
       "      <th>1</th>\n",
       "      <td>tt4154756</td>\n",
       "      <td>161.000000</td>\n",
       "    </tr>\n",
       "    <tr>\n",
       "      <th>2</th>\n",
       "      <td>tt0449088</td>\n",
       "      <td>208.799651</td>\n",
       "    </tr>\n",
       "    <tr>\n",
       "      <th>3</th>\n",
       "      <td>tt0974015</td>\n",
       "      <td>190.180715</td>\n",
       "    </tr>\n",
       "    <tr>\n",
       "      <th>4</th>\n",
       "      <td>tt2379713</td>\n",
       "      <td>120.931118</td>\n",
       "    </tr>\n",
       "    <tr>\n",
       "      <th>...</th>\n",
       "      <td>...</td>\n",
       "      <td>...</td>\n",
       "    </tr>\n",
       "    <tr>\n",
       "      <th>101</th>\n",
       "      <td>tt4846340</td>\n",
       "      <td>200.688977</td>\n",
       "    </tr>\n",
       "    <tr>\n",
       "      <th>102</th>\n",
       "      <td>tt6644200</td>\n",
       "      <td>159.000000</td>\n",
       "    </tr>\n",
       "    <tr>\n",
       "      <th>103</th>\n",
       "      <td>tt5052448</td>\n",
       "      <td>293.533097</td>\n",
       "    </tr>\n",
       "    <tr>\n",
       "      <th>104</th>\n",
       "      <td>tt0121766</td>\n",
       "      <td>177.376594</td>\n",
       "    </tr>\n",
       "    <tr>\n",
       "      <th>105</th>\n",
       "      <td>tt0363771</td>\n",
       "      <td>167.071682</td>\n",
       "    </tr>\n",
       "  </tbody>\n",
       "</table>\n",
       "<p>106 rows × 2 columns</p>\n",
       "</div>"
      ],
      "text/plain": [
       "      movie_id  inf_down_price\n",
       "0    tt2395427      267.208323\n",
       "1    tt4154756      161.000000\n",
       "2    tt0449088      208.799651\n",
       "3    tt0974015      190.180715\n",
       "4    tt2379713      120.931118\n",
       "..         ...             ...\n",
       "101  tt4846340      200.688977\n",
       "102  tt6644200      159.000000\n",
       "103  tt5052448      293.533097\n",
       "104  tt0121766      177.376594\n",
       "105  tt0363771      167.071682\n",
       "\n",
       "[106 rows x 2 columns]"
      ]
     },
     "execution_count": 211,
     "metadata": {
      "tags": []
     },
     "output_type": "execute_result"
    }
   ],
   "source": [
    "# movie_id와 inf_down_price의 데이터프레임 생성 \n",
    "inf_down_price=meta_1[['movie_id','inf_down_price']]\n",
    "inf_down_price"
   ]
  },
  {
   "cell_type": "code",
   "execution_count": 0,
   "metadata": {
    "colab": {
     "base_uri": "https://localhost:8080/",
     "height": 406
    },
    "colab_type": "code",
    "id": "TfGB87g3r67T",
    "outputId": "7af3dc05-7e8a-4982-ff62-c1a9190a4e2f"
   },
   "outputs": [
    {
     "data": {
      "text/html": [
       "<div>\n",
       "<style scoped>\n",
       "    .dataframe tbody tr th:only-of-type {\n",
       "        vertical-align: middle;\n",
       "    }\n",
       "\n",
       "    .dataframe tbody tr th {\n",
       "        vertical-align: top;\n",
       "    }\n",
       "\n",
       "    .dataframe thead th {\n",
       "        text-align: right;\n",
       "    }\n",
       "</style>\n",
       "<table border=\"1\" class=\"dataframe\">\n",
       "  <thead>\n",
       "    <tr style=\"text-align: right;\">\n",
       "      <th></th>\n",
       "      <th>movie_id</th>\n",
       "      <th>pred_inf_down_price_60</th>\n",
       "      <th>inf_down_price</th>\n",
       "    </tr>\n",
       "  </thead>\n",
       "  <tbody>\n",
       "    <tr>\n",
       "      <th>0</th>\n",
       "      <td>tt1298650</td>\n",
       "      <td>286.897138</td>\n",
       "      <td>NaN</td>\n",
       "    </tr>\n",
       "    <tr>\n",
       "      <th>1</th>\n",
       "      <td>tt2395427</td>\n",
       "      <td>275.522583</td>\n",
       "      <td>267.208323</td>\n",
       "    </tr>\n",
       "    <tr>\n",
       "      <th>2</th>\n",
       "      <td>tt4154756</td>\n",
       "      <td>212.573441</td>\n",
       "      <td>161.000000</td>\n",
       "    </tr>\n",
       "    <tr>\n",
       "      <th>3</th>\n",
       "      <td>tt0449088</td>\n",
       "      <td>204.511795</td>\n",
       "      <td>208.799651</td>\n",
       "    </tr>\n",
       "    <tr>\n",
       "      <th>4</th>\n",
       "      <td>tt0974015</td>\n",
       "      <td>314.439501</td>\n",
       "      <td>190.180715</td>\n",
       "    </tr>\n",
       "    <tr>\n",
       "      <th>...</th>\n",
       "      <td>...</td>\n",
       "      <td>...</td>\n",
       "      <td>...</td>\n",
       "    </tr>\n",
       "    <tr>\n",
       "      <th>4555</th>\n",
       "      <td>tt6588966</td>\n",
       "      <td>188.421743</td>\n",
       "      <td>NaN</td>\n",
       "    </tr>\n",
       "    <tr>\n",
       "      <th>4556</th>\n",
       "      <td>tt5970844</td>\n",
       "      <td>133.231058</td>\n",
       "      <td>NaN</td>\n",
       "    </tr>\n",
       "    <tr>\n",
       "      <th>4557</th>\n",
       "      <td>tt5956100</td>\n",
       "      <td>104.343457</td>\n",
       "      <td>NaN</td>\n",
       "    </tr>\n",
       "    <tr>\n",
       "      <th>4558</th>\n",
       "      <td>tt5882970</td>\n",
       "      <td>33.362045</td>\n",
       "      <td>NaN</td>\n",
       "    </tr>\n",
       "    <tr>\n",
       "      <th>4559</th>\n",
       "      <td>tt3405236</td>\n",
       "      <td>194.722457</td>\n",
       "      <td>NaN</td>\n",
       "    </tr>\n",
       "  </tbody>\n",
       "</table>\n",
       "<p>4560 rows × 3 columns</p>\n",
       "</div>"
      ],
      "text/plain": [
       "       movie_id  pred_inf_down_price_60  inf_down_price\n",
       "0     tt1298650              286.897138             NaN\n",
       "1     tt2395427              275.522583      267.208323\n",
       "2     tt4154756              212.573441      161.000000\n",
       "3     tt0449088              204.511795      208.799651\n",
       "4     tt0974015              314.439501      190.180715\n",
       "...         ...                     ...             ...\n",
       "4555  tt6588966              188.421743             NaN\n",
       "4556  tt5970844              133.231058             NaN\n",
       "4557  tt5956100              104.343457             NaN\n",
       "4558  tt5882970               33.362045             NaN\n",
       "4559  tt3405236              194.722457             NaN\n",
       "\n",
       "[4560 rows x 3 columns]"
      ]
     },
     "execution_count": 212,
     "metadata": {
      "tags": []
     },
     "output_type": "execute_result"
    }
   ],
   "source": [
    "# movie_id로 merge하기\n",
    "pred_inf_down_price_40=pd.merge(pred_df,inf_down_price,how='left',on='movie_id')\n",
    "pred_inf_down_price_40"
   ]
  },
  {
   "cell_type": "code",
   "execution_count": 0,
   "metadata": {
    "colab": {
     "base_uri": "https://localhost:8080/",
     "height": 406
    },
    "colab_type": "code",
    "id": "EwwxygYjtqM5",
    "outputId": "60498f8d-7fa9-41aa-e590-70e87b940c7d"
   },
   "outputs": [
    {
     "data": {
      "text/html": [
       "<div>\n",
       "<style scoped>\n",
       "    .dataframe tbody tr th:only-of-type {\n",
       "        vertical-align: middle;\n",
       "    }\n",
       "\n",
       "    .dataframe tbody tr th {\n",
       "        vertical-align: top;\n",
       "    }\n",
       "\n",
       "    .dataframe thead th {\n",
       "        text-align: right;\n",
       "    }\n",
       "</style>\n",
       "<table border=\"1\" class=\"dataframe\">\n",
       "  <thead>\n",
       "    <tr style=\"text-align: right;\">\n",
       "      <th></th>\n",
       "      <th>movie_id</th>\n",
       "      <th>pred_inf_down_price_60</th>\n",
       "      <th>inf_down_price</th>\n",
       "    </tr>\n",
       "  </thead>\n",
       "  <tbody>\n",
       "    <tr>\n",
       "      <th>0</th>\n",
       "      <td>tt1298650</td>\n",
       "      <td>297.953984</td>\n",
       "      <td>.</td>\n",
       "    </tr>\n",
       "    <tr>\n",
       "      <th>1</th>\n",
       "      <td>tt2395427</td>\n",
       "      <td>282.369930</td>\n",
       "      <td>267.208</td>\n",
       "    </tr>\n",
       "    <tr>\n",
       "      <th>2</th>\n",
       "      <td>tt4154756</td>\n",
       "      <td>230.888817</td>\n",
       "      <td>161</td>\n",
       "    </tr>\n",
       "    <tr>\n",
       "      <th>3</th>\n",
       "      <td>tt0449088</td>\n",
       "      <td>215.211495</td>\n",
       "      <td>208.8</td>\n",
       "    </tr>\n",
       "    <tr>\n",
       "      <th>4</th>\n",
       "      <td>tt0974015</td>\n",
       "      <td>302.157815</td>\n",
       "      <td>190.181</td>\n",
       "    </tr>\n",
       "    <tr>\n",
       "      <th>...</th>\n",
       "      <td>...</td>\n",
       "      <td>...</td>\n",
       "      <td>...</td>\n",
       "    </tr>\n",
       "    <tr>\n",
       "      <th>4555</th>\n",
       "      <td>tt6588966</td>\n",
       "      <td>209.370299</td>\n",
       "      <td>.</td>\n",
       "    </tr>\n",
       "    <tr>\n",
       "      <th>4556</th>\n",
       "      <td>tt5970844</td>\n",
       "      <td>153.136621</td>\n",
       "      <td>.</td>\n",
       "    </tr>\n",
       "    <tr>\n",
       "      <th>4557</th>\n",
       "      <td>tt5956100</td>\n",
       "      <td>101.848549</td>\n",
       "      <td>.</td>\n",
       "    </tr>\n",
       "    <tr>\n",
       "      <th>4558</th>\n",
       "      <td>tt5882970</td>\n",
       "      <td>82.273876</td>\n",
       "      <td>.</td>\n",
       "    </tr>\n",
       "    <tr>\n",
       "      <th>4559</th>\n",
       "      <td>tt3405236</td>\n",
       "      <td>227.548321</td>\n",
       "      <td>.</td>\n",
       "    </tr>\n",
       "  </tbody>\n",
       "</table>\n",
       "<p>4560 rows × 3 columns</p>\n",
       "</div>"
      ],
      "text/plain": [
       "       movie_id  pred_inf_down_price_60 inf_down_price\n",
       "0     tt1298650              297.953984              .\n",
       "1     tt2395427              282.369930        267.208\n",
       "2     tt4154756              230.888817            161\n",
       "3     tt0449088              215.211495          208.8\n",
       "4     tt0974015              302.157815        190.181\n",
       "...         ...                     ...            ...\n",
       "4555  tt6588966              209.370299              .\n",
       "4556  tt5970844              153.136621              .\n",
       "4557  tt5956100              101.848549              .\n",
       "4558  tt5882970               82.273876              .\n",
       "4559  tt3405236              227.548321              .\n",
       "\n",
       "[4560 rows x 3 columns]"
      ]
     },
     "execution_count": 213,
     "metadata": {
      "tags": []
     },
     "output_type": "execute_result"
    }
   ],
   "source": [
    "# null값 결측치 채우기\n",
    "pred_inf_down_price_60.fillna('.')"
   ]
  },
  {
   "cell_type": "code",
   "execution_count": 0,
   "metadata": {
    "colab": {},
    "colab_type": "code",
    "id": "p7K1CAvetaad"
   },
   "outputs": [],
   "source": [
    "pred_inf_down_price_40.to_csv('pred_inf_down_price_40_new.csv')"
   ]
  },
  {
   "cell_type": "code",
   "execution_count": 0,
   "metadata": {
    "colab": {},
    "colab_type": "code",
    "id": "GXewtbdqXpVD"
   },
   "outputs": [],
   "source": []
  }
 ],
 "metadata": {
  "colab": {
   "collapsed_sections": [],
   "name": "영화별 다운로드 매출 예측",
   "provenance": []
  },
  "kernelspec": {
   "display_name": "Python 3",
   "language": "python",
   "name": "python3"
  },
  "language_info": {
   "codemirror_mode": {
    "name": "ipython",
    "version": 3
   },
   "file_extension": ".py",
   "mimetype": "text/x-python",
   "name": "python",
   "nbconvert_exporter": "python",
   "pygments_lexer": "ipython3",
   "version": "3.7.6"
  }
 },
 "nbformat": 4,
 "nbformat_minor": 1
}
