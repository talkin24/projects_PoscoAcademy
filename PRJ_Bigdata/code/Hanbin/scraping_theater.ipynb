{
 "cells": [
  {
   "cell_type": "code",
   "execution_count": 1,
   "metadata": {},
   "outputs": [],
   "source": [
    "import pandas as pd\n",
    "from bs4 import BeautifulSoup\n",
    "import requests\n",
    "import re"
   ]
  },
  {
   "cell_type": "code",
   "execution_count": 3,
   "metadata": {},
   "outputs": [],
   "source": [
    "df_meta = pd.read_csv(\"../../data/cleaned/movie_meta_cleaned_ver7.csv\", engine= \"python\", encoding='utf-8')"
   ]
  },
  {
   "cell_type": "code",
   "execution_count": 10,
   "metadata": {
    "scrolled": true
   },
   "outputs": [],
   "source": [
    "movie_id_opening = df_meta[df_meta['theater_opening'].isna()]['movie_id']"
   ]
  },
  {
   "cell_type": "code",
   "execution_count": 9,
   "metadata": {
    "scrolled": true
   },
   "outputs": [],
   "source": [
    "movie_id_total = df_meta[df_meta['theater_total'].isna()]['movie_id']"
   ]
  },
  {
   "cell_type": "code",
   "execution_count": 11,
   "metadata": {},
   "outputs": [
    {
     "data": {
      "text/plain": [
       "True"
      ]
     },
     "execution_count": 11,
     "metadata": {},
     "output_type": "execute_result"
    }
   ],
   "source": [
    "movie_id_opening.equals(movie_id_total)"
   ]
  },
  {
   "cell_type": "code",
   "execution_count": 12,
   "metadata": {},
   "outputs": [],
   "source": [
    "movie_id = movie_id_total"
   ]
  },
  {
   "cell_type": "code",
   "execution_count": null,
   "metadata": {},
   "outputs": [],
   "source": [
    "df_meta.loc[df_meta['movie_id'] == \"ID\", 'theater_opening'] = 0\n",
    "df_meta.loc[df_meta['movie_id'] == \"ID\", 'theater_total'] = 0\n",
    "\n"
   ]
  },
  {
   "cell_type": "code",
   "execution_count": 42,
   "metadata": {},
   "outputs": [
    {
     "data": {
      "text/plain": [
       "365"
      ]
     },
     "execution_count": 42,
     "metadata": {},
     "output_type": "execute_result"
    }
   ],
   "source": [
    "73*5"
   ]
  },
  {
   "cell_type": "code",
   "execution_count": 45,
   "metadata": {},
   "outputs": [
    {
     "name": "stdout",
     "output_type": "stream",
     "text": [
      "tt1937264\n",
      "tt2176228\n",
      "tt0024034\n",
      "tt0100142\n",
      "tt0071853\n",
      "tt0019729\n",
      "tt0077651\n",
      "tt0115856\n",
      "tt0059592\n",
      "tt1241226\n",
      "tt2290113\n",
      "tt1071804\n",
      "tt0188030\n",
      "tt0015624\n",
      "tt1781784\n",
      "tt0045546\n",
      "tt0006333\n",
      "tt0034587\n",
      "tt0058701\n",
      "tt0063350\n",
      "tt0004972\n",
      "tt0093200\n",
      "tt3072636\n",
      "tt3672742\n",
      "tt0052646\n",
      "tt2334896\n",
      "tt1798291\n",
      "tt1492841\n",
      "tt0109445\n",
      "tt1945044\n",
      "tt3397754\n",
      "tt1336006\n",
      "tt1727770\n",
      "tt0374563\n",
      "tt0475937\n",
      "tt2141751\n",
      "tt0997047\n",
      "tt0467110\n",
      "tt3442006\n",
      "tt0401815\n",
      "tt1395025\n",
      "tt2905838\n",
      "tt4853102\n",
      "tt1151359\n",
      "tt0796368\n",
      "tt1502712\n",
      "tt2837574\n",
      "tt2273657\n",
      "tt0145503\n",
      "tt0808331\n",
      "tt1183374\n",
      "tt1407084\n",
      "tt0352994\n",
      "tt0454776\n",
      "tt2944198\n",
      "tt3577624\n",
      "tt1853643\n",
      "tt2674430\n",
      "tt7026672\n",
      "tt2883512\n",
      "tt1164999\n",
      "tt2356180\n",
      "tt5164184\n",
      "tt4326444\n",
      "tt5789976\n",
      "tt4005402\n",
      "tt4437216\n",
      "tt1321511\n",
      "tt2397535\n",
      "tt2012011\n",
      "tt1951261\n",
      "tt2070776\n",
      "tt1786751\n",
      "tt5108476\n",
      "tt6588966\n",
      "tt6527426\n",
      "tt3405236\n",
      "86\n"
     ]
    }
   ],
   "source": [
    "i = 9\n",
    "for id in movie_id[365:]:\n",
    "    print(id)\n",
    "    i+=1\n",
    "print(i)"
   ]
  },
  {
   "cell_type": "code",
   "execution_count": 14,
   "metadata": {},
   "outputs": [
    {
     "ename": "ConnectionError",
     "evalue": "HTTPSConnectionPool(host='https', port=443): Max retries exceeded with url: //pro.imdb.com/title/tt4743226/boxoffice (Caused by NewConnectionError('<urllib3.connection.VerifiedHTTPSConnection object at 0x000001A40FEAAC08>: Failed to establish a new connection: [Errno 11001] getaddrinfo failed'))",
     "output_type": "error",
     "traceback": [
      "\u001b[1;31m---------------------------------------------------------------------------\u001b[0m",
      "\u001b[1;31mgaierror\u001b[0m                                  Traceback (most recent call last)",
      "\u001b[1;32m~\\anaconda3\\lib\\site-packages\\urllib3\\connection.py\u001b[0m in \u001b[0;36m_new_conn\u001b[1;34m(self)\u001b[0m\n\u001b[0;32m    156\u001b[0m             conn = connection.create_connection(\n\u001b[1;32m--> 157\u001b[1;33m                 \u001b[1;33m(\u001b[0m\u001b[0mself\u001b[0m\u001b[1;33m.\u001b[0m\u001b[0m_dns_host\u001b[0m\u001b[1;33m,\u001b[0m \u001b[0mself\u001b[0m\u001b[1;33m.\u001b[0m\u001b[0mport\u001b[0m\u001b[1;33m)\u001b[0m\u001b[1;33m,\u001b[0m \u001b[0mself\u001b[0m\u001b[1;33m.\u001b[0m\u001b[0mtimeout\u001b[0m\u001b[1;33m,\u001b[0m \u001b[1;33m**\u001b[0m\u001b[0mextra_kw\u001b[0m\u001b[1;33m\u001b[0m\u001b[1;33m\u001b[0m\u001b[0m\n\u001b[0m\u001b[0;32m    158\u001b[0m             )\n",
      "\u001b[1;32m~\\anaconda3\\lib\\site-packages\\urllib3\\util\\connection.py\u001b[0m in \u001b[0;36mcreate_connection\u001b[1;34m(address, timeout, source_address, socket_options)\u001b[0m\n\u001b[0;32m     60\u001b[0m \u001b[1;33m\u001b[0m\u001b[0m\n\u001b[1;32m---> 61\u001b[1;33m     \u001b[1;32mfor\u001b[0m \u001b[0mres\u001b[0m \u001b[1;32min\u001b[0m \u001b[0msocket\u001b[0m\u001b[1;33m.\u001b[0m\u001b[0mgetaddrinfo\u001b[0m\u001b[1;33m(\u001b[0m\u001b[0mhost\u001b[0m\u001b[1;33m,\u001b[0m \u001b[0mport\u001b[0m\u001b[1;33m,\u001b[0m \u001b[0mfamily\u001b[0m\u001b[1;33m,\u001b[0m \u001b[0msocket\u001b[0m\u001b[1;33m.\u001b[0m\u001b[0mSOCK_STREAM\u001b[0m\u001b[1;33m)\u001b[0m\u001b[1;33m:\u001b[0m\u001b[1;33m\u001b[0m\u001b[1;33m\u001b[0m\u001b[0m\n\u001b[0m\u001b[0;32m     62\u001b[0m         \u001b[0maf\u001b[0m\u001b[1;33m,\u001b[0m \u001b[0msocktype\u001b[0m\u001b[1;33m,\u001b[0m \u001b[0mproto\u001b[0m\u001b[1;33m,\u001b[0m \u001b[0mcanonname\u001b[0m\u001b[1;33m,\u001b[0m \u001b[0msa\u001b[0m \u001b[1;33m=\u001b[0m \u001b[0mres\u001b[0m\u001b[1;33m\u001b[0m\u001b[1;33m\u001b[0m\u001b[0m\n",
      "\u001b[1;32m~\\anaconda3\\lib\\socket.py\u001b[0m in \u001b[0;36mgetaddrinfo\u001b[1;34m(host, port, family, type, proto, flags)\u001b[0m\n\u001b[0;32m    751\u001b[0m     \u001b[0maddrlist\u001b[0m \u001b[1;33m=\u001b[0m \u001b[1;33m[\u001b[0m\u001b[1;33m]\u001b[0m\u001b[1;33m\u001b[0m\u001b[1;33m\u001b[0m\u001b[0m\n\u001b[1;32m--> 752\u001b[1;33m     \u001b[1;32mfor\u001b[0m \u001b[0mres\u001b[0m \u001b[1;32min\u001b[0m \u001b[0m_socket\u001b[0m\u001b[1;33m.\u001b[0m\u001b[0mgetaddrinfo\u001b[0m\u001b[1;33m(\u001b[0m\u001b[0mhost\u001b[0m\u001b[1;33m,\u001b[0m \u001b[0mport\u001b[0m\u001b[1;33m,\u001b[0m \u001b[0mfamily\u001b[0m\u001b[1;33m,\u001b[0m \u001b[0mtype\u001b[0m\u001b[1;33m,\u001b[0m \u001b[0mproto\u001b[0m\u001b[1;33m,\u001b[0m \u001b[0mflags\u001b[0m\u001b[1;33m)\u001b[0m\u001b[1;33m:\u001b[0m\u001b[1;33m\u001b[0m\u001b[1;33m\u001b[0m\u001b[0m\n\u001b[0m\u001b[0;32m    753\u001b[0m         \u001b[0maf\u001b[0m\u001b[1;33m,\u001b[0m \u001b[0msocktype\u001b[0m\u001b[1;33m,\u001b[0m \u001b[0mproto\u001b[0m\u001b[1;33m,\u001b[0m \u001b[0mcanonname\u001b[0m\u001b[1;33m,\u001b[0m \u001b[0msa\u001b[0m \u001b[1;33m=\u001b[0m \u001b[0mres\u001b[0m\u001b[1;33m\u001b[0m\u001b[1;33m\u001b[0m\u001b[0m\n",
      "\u001b[1;31mgaierror\u001b[0m: [Errno 11001] getaddrinfo failed",
      "\nDuring handling of the above exception, another exception occurred:\n",
      "\u001b[1;31mNewConnectionError\u001b[0m                        Traceback (most recent call last)",
      "\u001b[1;32m~\\anaconda3\\lib\\site-packages\\urllib3\\connectionpool.py\u001b[0m in \u001b[0;36murlopen\u001b[1;34m(self, method, url, body, headers, retries, redirect, assert_same_host, timeout, pool_timeout, release_conn, chunked, body_pos, **response_kw)\u001b[0m\n\u001b[0;32m    671\u001b[0m                 \u001b[0mheaders\u001b[0m\u001b[1;33m=\u001b[0m\u001b[0mheaders\u001b[0m\u001b[1;33m,\u001b[0m\u001b[1;33m\u001b[0m\u001b[1;33m\u001b[0m\u001b[0m\n\u001b[1;32m--> 672\u001b[1;33m                 \u001b[0mchunked\u001b[0m\u001b[1;33m=\u001b[0m\u001b[0mchunked\u001b[0m\u001b[1;33m,\u001b[0m\u001b[1;33m\u001b[0m\u001b[1;33m\u001b[0m\u001b[0m\n\u001b[0m\u001b[0;32m    673\u001b[0m             )\n",
      "\u001b[1;32m~\\anaconda3\\lib\\site-packages\\urllib3\\connectionpool.py\u001b[0m in \u001b[0;36m_make_request\u001b[1;34m(self, conn, method, url, timeout, chunked, **httplib_request_kw)\u001b[0m\n\u001b[0;32m    375\u001b[0m         \u001b[1;32mtry\u001b[0m\u001b[1;33m:\u001b[0m\u001b[1;33m\u001b[0m\u001b[1;33m\u001b[0m\u001b[0m\n\u001b[1;32m--> 376\u001b[1;33m             \u001b[0mself\u001b[0m\u001b[1;33m.\u001b[0m\u001b[0m_validate_conn\u001b[0m\u001b[1;33m(\u001b[0m\u001b[0mconn\u001b[0m\u001b[1;33m)\u001b[0m\u001b[1;33m\u001b[0m\u001b[1;33m\u001b[0m\u001b[0m\n\u001b[0m\u001b[0;32m    377\u001b[0m         \u001b[1;32mexcept\u001b[0m \u001b[1;33m(\u001b[0m\u001b[0mSocketTimeout\u001b[0m\u001b[1;33m,\u001b[0m \u001b[0mBaseSSLError\u001b[0m\u001b[1;33m)\u001b[0m \u001b[1;32mas\u001b[0m \u001b[0me\u001b[0m\u001b[1;33m:\u001b[0m\u001b[1;33m\u001b[0m\u001b[1;33m\u001b[0m\u001b[0m\n",
      "\u001b[1;32m~\\anaconda3\\lib\\site-packages\\urllib3\\connectionpool.py\u001b[0m in \u001b[0;36m_validate_conn\u001b[1;34m(self, conn)\u001b[0m\n\u001b[0;32m    993\u001b[0m         \u001b[1;32mif\u001b[0m \u001b[1;32mnot\u001b[0m \u001b[0mgetattr\u001b[0m\u001b[1;33m(\u001b[0m\u001b[0mconn\u001b[0m\u001b[1;33m,\u001b[0m \u001b[1;34m\"sock\"\u001b[0m\u001b[1;33m,\u001b[0m \u001b[1;32mNone\u001b[0m\u001b[1;33m)\u001b[0m\u001b[1;33m:\u001b[0m  \u001b[1;31m# AppEngine might not have  `.sock`\u001b[0m\u001b[1;33m\u001b[0m\u001b[1;33m\u001b[0m\u001b[0m\n\u001b[1;32m--> 994\u001b[1;33m             \u001b[0mconn\u001b[0m\u001b[1;33m.\u001b[0m\u001b[0mconnect\u001b[0m\u001b[1;33m(\u001b[0m\u001b[1;33m)\u001b[0m\u001b[1;33m\u001b[0m\u001b[1;33m\u001b[0m\u001b[0m\n\u001b[0m\u001b[0;32m    995\u001b[0m \u001b[1;33m\u001b[0m\u001b[0m\n",
      "\u001b[1;32m~\\anaconda3\\lib\\site-packages\\urllib3\\connection.py\u001b[0m in \u001b[0;36mconnect\u001b[1;34m(self)\u001b[0m\n\u001b[0;32m    299\u001b[0m         \u001b[1;31m# Add certificate verification\u001b[0m\u001b[1;33m\u001b[0m\u001b[1;33m\u001b[0m\u001b[1;33m\u001b[0m\u001b[0m\n\u001b[1;32m--> 300\u001b[1;33m         \u001b[0mconn\u001b[0m \u001b[1;33m=\u001b[0m \u001b[0mself\u001b[0m\u001b[1;33m.\u001b[0m\u001b[0m_new_conn\u001b[0m\u001b[1;33m(\u001b[0m\u001b[1;33m)\u001b[0m\u001b[1;33m\u001b[0m\u001b[1;33m\u001b[0m\u001b[0m\n\u001b[0m\u001b[0;32m    301\u001b[0m         \u001b[0mhostname\u001b[0m \u001b[1;33m=\u001b[0m \u001b[0mself\u001b[0m\u001b[1;33m.\u001b[0m\u001b[0mhost\u001b[0m\u001b[1;33m\u001b[0m\u001b[1;33m\u001b[0m\u001b[0m\n",
      "\u001b[1;32m~\\anaconda3\\lib\\site-packages\\urllib3\\connection.py\u001b[0m in \u001b[0;36m_new_conn\u001b[1;34m(self)\u001b[0m\n\u001b[0;32m    168\u001b[0m             raise NewConnectionError(\n\u001b[1;32m--> 169\u001b[1;33m                 \u001b[0mself\u001b[0m\u001b[1;33m,\u001b[0m \u001b[1;34m\"Failed to establish a new connection: %s\"\u001b[0m \u001b[1;33m%\u001b[0m \u001b[0me\u001b[0m\u001b[1;33m\u001b[0m\u001b[1;33m\u001b[0m\u001b[0m\n\u001b[0m\u001b[0;32m    170\u001b[0m             )\n",
      "\u001b[1;31mNewConnectionError\u001b[0m: <urllib3.connection.VerifiedHTTPSConnection object at 0x000001A40FEAAC08>: Failed to establish a new connection: [Errno 11001] getaddrinfo failed",
      "\nDuring handling of the above exception, another exception occurred:\n",
      "\u001b[1;31mMaxRetryError\u001b[0m                             Traceback (most recent call last)",
      "\u001b[1;32m~\\anaconda3\\lib\\site-packages\\requests\\adapters.py\u001b[0m in \u001b[0;36msend\u001b[1;34m(self, request, stream, timeout, verify, cert, proxies)\u001b[0m\n\u001b[0;32m    448\u001b[0m                     \u001b[0mretries\u001b[0m\u001b[1;33m=\u001b[0m\u001b[0mself\u001b[0m\u001b[1;33m.\u001b[0m\u001b[0mmax_retries\u001b[0m\u001b[1;33m,\u001b[0m\u001b[1;33m\u001b[0m\u001b[1;33m\u001b[0m\u001b[0m\n\u001b[1;32m--> 449\u001b[1;33m                     \u001b[0mtimeout\u001b[0m\u001b[1;33m=\u001b[0m\u001b[0mtimeout\u001b[0m\u001b[1;33m\u001b[0m\u001b[1;33m\u001b[0m\u001b[0m\n\u001b[0m\u001b[0;32m    450\u001b[0m                 )\n",
      "\u001b[1;32m~\\anaconda3\\lib\\site-packages\\urllib3\\connectionpool.py\u001b[0m in \u001b[0;36murlopen\u001b[1;34m(self, method, url, body, headers, retries, redirect, assert_same_host, timeout, pool_timeout, release_conn, chunked, body_pos, **response_kw)\u001b[0m\n\u001b[0;32m    719\u001b[0m             retries = retries.increment(\n\u001b[1;32m--> 720\u001b[1;33m                 \u001b[0mmethod\u001b[0m\u001b[1;33m,\u001b[0m \u001b[0murl\u001b[0m\u001b[1;33m,\u001b[0m \u001b[0merror\u001b[0m\u001b[1;33m=\u001b[0m\u001b[0me\u001b[0m\u001b[1;33m,\u001b[0m \u001b[0m_pool\u001b[0m\u001b[1;33m=\u001b[0m\u001b[0mself\u001b[0m\u001b[1;33m,\u001b[0m \u001b[0m_stacktrace\u001b[0m\u001b[1;33m=\u001b[0m\u001b[0msys\u001b[0m\u001b[1;33m.\u001b[0m\u001b[0mexc_info\u001b[0m\u001b[1;33m(\u001b[0m\u001b[1;33m)\u001b[0m\u001b[1;33m[\u001b[0m\u001b[1;36m2\u001b[0m\u001b[1;33m]\u001b[0m\u001b[1;33m\u001b[0m\u001b[1;33m\u001b[0m\u001b[0m\n\u001b[0m\u001b[0;32m    721\u001b[0m             )\n",
      "\u001b[1;32m~\\anaconda3\\lib\\site-packages\\urllib3\\util\\retry.py\u001b[0m in \u001b[0;36mincrement\u001b[1;34m(self, method, url, response, error, _pool, _stacktrace)\u001b[0m\n\u001b[0;32m    435\u001b[0m         \u001b[1;32mif\u001b[0m \u001b[0mnew_retry\u001b[0m\u001b[1;33m.\u001b[0m\u001b[0mis_exhausted\u001b[0m\u001b[1;33m(\u001b[0m\u001b[1;33m)\u001b[0m\u001b[1;33m:\u001b[0m\u001b[1;33m\u001b[0m\u001b[1;33m\u001b[0m\u001b[0m\n\u001b[1;32m--> 436\u001b[1;33m             \u001b[1;32mraise\u001b[0m \u001b[0mMaxRetryError\u001b[0m\u001b[1;33m(\u001b[0m\u001b[0m_pool\u001b[0m\u001b[1;33m,\u001b[0m \u001b[0murl\u001b[0m\u001b[1;33m,\u001b[0m \u001b[0merror\u001b[0m \u001b[1;32mor\u001b[0m \u001b[0mResponseError\u001b[0m\u001b[1;33m(\u001b[0m\u001b[0mcause\u001b[0m\u001b[1;33m)\u001b[0m\u001b[1;33m)\u001b[0m\u001b[1;33m\u001b[0m\u001b[1;33m\u001b[0m\u001b[0m\n\u001b[0m\u001b[0;32m    437\u001b[0m \u001b[1;33m\u001b[0m\u001b[0m\n",
      "\u001b[1;31mMaxRetryError\u001b[0m: HTTPSConnectionPool(host='https', port=443): Max retries exceeded with url: //pro.imdb.com/title/tt4743226/boxoffice (Caused by NewConnectionError('<urllib3.connection.VerifiedHTTPSConnection object at 0x000001A40FEAAC08>: Failed to establish a new connection: [Errno 11001] getaddrinfo failed'))",
      "\nDuring handling of the above exception, another exception occurred:\n",
      "\u001b[1;31mConnectionError\u001b[0m                           Traceback (most recent call last)",
      "\u001b[1;32m<ipython-input-14-3a6d13564fc6>\u001b[0m in \u001b[0;36m<module>\u001b[1;34m\u001b[0m\n\u001b[0;32m      2\u001b[0m \u001b[1;33m\u001b[0m\u001b[0m\n\u001b[0;32m      3\u001b[0m \u001b[0murl\u001b[0m \u001b[1;33m=\u001b[0m \u001b[1;34m\"https://https://pro.imdb.com/title/{}/boxoffice\"\u001b[0m\u001b[1;33m.\u001b[0m\u001b[0mformat\u001b[0m\u001b[1;33m(\u001b[0m\u001b[0mids\u001b[0m\u001b[1;33m)\u001b[0m\u001b[1;33m\u001b[0m\u001b[1;33m\u001b[0m\u001b[0m\n\u001b[1;32m----> 4\u001b[1;33m \u001b[0mresp\u001b[0m \u001b[1;33m=\u001b[0m \u001b[0mrequests\u001b[0m\u001b[1;33m.\u001b[0m\u001b[0mget\u001b[0m\u001b[1;33m(\u001b[0m\u001b[0murl\u001b[0m\u001b[1;33m)\u001b[0m\u001b[1;33m\u001b[0m\u001b[1;33m\u001b[0m\u001b[0m\n\u001b[0m\u001b[0;32m      5\u001b[0m \u001b[0mhtml\u001b[0m \u001b[1;33m=\u001b[0m \u001b[0mresp\u001b[0m\u001b[1;33m.\u001b[0m\u001b[0mtext\u001b[0m\u001b[1;33m\u001b[0m\u001b[1;33m\u001b[0m\u001b[0m\n\u001b[0;32m      6\u001b[0m \u001b[0msoup\u001b[0m \u001b[1;33m=\u001b[0m \u001b[0mBeautifulSoup\u001b[0m\u001b[1;33m(\u001b[0m\u001b[0mhtml\u001b[0m\u001b[1;33m,\u001b[0m \u001b[1;34m\"html5lib\"\u001b[0m\u001b[1;33m)\u001b[0m\u001b[1;33m\u001b[0m\u001b[1;33m\u001b[0m\u001b[0m\n",
      "\u001b[1;32m~\\anaconda3\\lib\\site-packages\\requests\\api.py\u001b[0m in \u001b[0;36mget\u001b[1;34m(url, params, **kwargs)\u001b[0m\n\u001b[0;32m     73\u001b[0m \u001b[1;33m\u001b[0m\u001b[0m\n\u001b[0;32m     74\u001b[0m     \u001b[0mkwargs\u001b[0m\u001b[1;33m.\u001b[0m\u001b[0msetdefault\u001b[0m\u001b[1;33m(\u001b[0m\u001b[1;34m'allow_redirects'\u001b[0m\u001b[1;33m,\u001b[0m \u001b[1;32mTrue\u001b[0m\u001b[1;33m)\u001b[0m\u001b[1;33m\u001b[0m\u001b[1;33m\u001b[0m\u001b[0m\n\u001b[1;32m---> 75\u001b[1;33m     \u001b[1;32mreturn\u001b[0m \u001b[0mrequest\u001b[0m\u001b[1;33m(\u001b[0m\u001b[1;34m'get'\u001b[0m\u001b[1;33m,\u001b[0m \u001b[0murl\u001b[0m\u001b[1;33m,\u001b[0m \u001b[0mparams\u001b[0m\u001b[1;33m=\u001b[0m\u001b[0mparams\u001b[0m\u001b[1;33m,\u001b[0m \u001b[1;33m**\u001b[0m\u001b[0mkwargs\u001b[0m\u001b[1;33m)\u001b[0m\u001b[1;33m\u001b[0m\u001b[1;33m\u001b[0m\u001b[0m\n\u001b[0m\u001b[0;32m     76\u001b[0m \u001b[1;33m\u001b[0m\u001b[0m\n\u001b[0;32m     77\u001b[0m \u001b[1;33m\u001b[0m\u001b[0m\n",
      "\u001b[1;32m~\\anaconda3\\lib\\site-packages\\requests\\api.py\u001b[0m in \u001b[0;36mrequest\u001b[1;34m(method, url, **kwargs)\u001b[0m\n\u001b[0;32m     58\u001b[0m     \u001b[1;31m# cases, and look like a memory leak in others.\u001b[0m\u001b[1;33m\u001b[0m\u001b[1;33m\u001b[0m\u001b[1;33m\u001b[0m\u001b[0m\n\u001b[0;32m     59\u001b[0m     \u001b[1;32mwith\u001b[0m \u001b[0msessions\u001b[0m\u001b[1;33m.\u001b[0m\u001b[0mSession\u001b[0m\u001b[1;33m(\u001b[0m\u001b[1;33m)\u001b[0m \u001b[1;32mas\u001b[0m \u001b[0msession\u001b[0m\u001b[1;33m:\u001b[0m\u001b[1;33m\u001b[0m\u001b[1;33m\u001b[0m\u001b[0m\n\u001b[1;32m---> 60\u001b[1;33m         \u001b[1;32mreturn\u001b[0m \u001b[0msession\u001b[0m\u001b[1;33m.\u001b[0m\u001b[0mrequest\u001b[0m\u001b[1;33m(\u001b[0m\u001b[0mmethod\u001b[0m\u001b[1;33m=\u001b[0m\u001b[0mmethod\u001b[0m\u001b[1;33m,\u001b[0m \u001b[0murl\u001b[0m\u001b[1;33m=\u001b[0m\u001b[0murl\u001b[0m\u001b[1;33m,\u001b[0m \u001b[1;33m**\u001b[0m\u001b[0mkwargs\u001b[0m\u001b[1;33m)\u001b[0m\u001b[1;33m\u001b[0m\u001b[1;33m\u001b[0m\u001b[0m\n\u001b[0m\u001b[0;32m     61\u001b[0m \u001b[1;33m\u001b[0m\u001b[0m\n\u001b[0;32m     62\u001b[0m \u001b[1;33m\u001b[0m\u001b[0m\n",
      "\u001b[1;32m~\\anaconda3\\lib\\site-packages\\requests\\sessions.py\u001b[0m in \u001b[0;36mrequest\u001b[1;34m(self, method, url, params, data, headers, cookies, files, auth, timeout, allow_redirects, proxies, hooks, stream, verify, cert, json)\u001b[0m\n\u001b[0;32m    531\u001b[0m         }\n\u001b[0;32m    532\u001b[0m         \u001b[0msend_kwargs\u001b[0m\u001b[1;33m.\u001b[0m\u001b[0mupdate\u001b[0m\u001b[1;33m(\u001b[0m\u001b[0msettings\u001b[0m\u001b[1;33m)\u001b[0m\u001b[1;33m\u001b[0m\u001b[1;33m\u001b[0m\u001b[0m\n\u001b[1;32m--> 533\u001b[1;33m         \u001b[0mresp\u001b[0m \u001b[1;33m=\u001b[0m \u001b[0mself\u001b[0m\u001b[1;33m.\u001b[0m\u001b[0msend\u001b[0m\u001b[1;33m(\u001b[0m\u001b[0mprep\u001b[0m\u001b[1;33m,\u001b[0m \u001b[1;33m**\u001b[0m\u001b[0msend_kwargs\u001b[0m\u001b[1;33m)\u001b[0m\u001b[1;33m\u001b[0m\u001b[1;33m\u001b[0m\u001b[0m\n\u001b[0m\u001b[0;32m    534\u001b[0m \u001b[1;33m\u001b[0m\u001b[0m\n\u001b[0;32m    535\u001b[0m         \u001b[1;32mreturn\u001b[0m \u001b[0mresp\u001b[0m\u001b[1;33m\u001b[0m\u001b[1;33m\u001b[0m\u001b[0m\n",
      "\u001b[1;32m~\\anaconda3\\lib\\site-packages\\requests\\sessions.py\u001b[0m in \u001b[0;36msend\u001b[1;34m(self, request, **kwargs)\u001b[0m\n\u001b[0;32m    644\u001b[0m \u001b[1;33m\u001b[0m\u001b[0m\n\u001b[0;32m    645\u001b[0m         \u001b[1;31m# Send the request\u001b[0m\u001b[1;33m\u001b[0m\u001b[1;33m\u001b[0m\u001b[1;33m\u001b[0m\u001b[0m\n\u001b[1;32m--> 646\u001b[1;33m         \u001b[0mr\u001b[0m \u001b[1;33m=\u001b[0m \u001b[0madapter\u001b[0m\u001b[1;33m.\u001b[0m\u001b[0msend\u001b[0m\u001b[1;33m(\u001b[0m\u001b[0mrequest\u001b[0m\u001b[1;33m,\u001b[0m \u001b[1;33m**\u001b[0m\u001b[0mkwargs\u001b[0m\u001b[1;33m)\u001b[0m\u001b[1;33m\u001b[0m\u001b[1;33m\u001b[0m\u001b[0m\n\u001b[0m\u001b[0;32m    647\u001b[0m \u001b[1;33m\u001b[0m\u001b[0m\n\u001b[0;32m    648\u001b[0m         \u001b[1;31m# Total elapsed time of the request (approximately)\u001b[0m\u001b[1;33m\u001b[0m\u001b[1;33m\u001b[0m\u001b[1;33m\u001b[0m\u001b[0m\n",
      "\u001b[1;32m~\\anaconda3\\lib\\site-packages\\requests\\adapters.py\u001b[0m in \u001b[0;36msend\u001b[1;34m(self, request, stream, timeout, verify, cert, proxies)\u001b[0m\n\u001b[0;32m    514\u001b[0m                 \u001b[1;32mraise\u001b[0m \u001b[0mSSLError\u001b[0m\u001b[1;33m(\u001b[0m\u001b[0me\u001b[0m\u001b[1;33m,\u001b[0m \u001b[0mrequest\u001b[0m\u001b[1;33m=\u001b[0m\u001b[0mrequest\u001b[0m\u001b[1;33m)\u001b[0m\u001b[1;33m\u001b[0m\u001b[1;33m\u001b[0m\u001b[0m\n\u001b[0;32m    515\u001b[0m \u001b[1;33m\u001b[0m\u001b[0m\n\u001b[1;32m--> 516\u001b[1;33m             \u001b[1;32mraise\u001b[0m \u001b[0mConnectionError\u001b[0m\u001b[1;33m(\u001b[0m\u001b[0me\u001b[0m\u001b[1;33m,\u001b[0m \u001b[0mrequest\u001b[0m\u001b[1;33m=\u001b[0m\u001b[0mrequest\u001b[0m\u001b[1;33m)\u001b[0m\u001b[1;33m\u001b[0m\u001b[1;33m\u001b[0m\u001b[0m\n\u001b[0m\u001b[0;32m    517\u001b[0m \u001b[1;33m\u001b[0m\u001b[0m\n\u001b[0;32m    518\u001b[0m         \u001b[1;32mexcept\u001b[0m \u001b[0mClosedPoolError\u001b[0m \u001b[1;32mas\u001b[0m \u001b[0me\u001b[0m\u001b[1;33m:\u001b[0m\u001b[1;33m\u001b[0m\u001b[1;33m\u001b[0m\u001b[0m\n",
      "\u001b[1;31mConnectionError\u001b[0m: HTTPSConnectionPool(host='https', port=443): Max retries exceeded with url: //pro.imdb.com/title/tt4743226/boxoffice (Caused by NewConnectionError('<urllib3.connection.VerifiedHTTPSConnection object at 0x000001A40FEAAC08>: Failed to establish a new connection: [Errno 11001] getaddrinfo failed'))"
     ]
    }
   ],
   "source": [
    "ids = 'tt4743226'\n",
    "\n",
    "url = \"https://https://pro.imdb.com/title/{}/boxoffice\".format(ids)\n",
    "resp = requests.get(url)\n",
    "html = resp.text\n",
    "soup = BeautifulSoup(html, \"html5lib\")\n",
    "tags_theater = soup.select(\"#box_office_mojo > tbody > tr:nth-child(2) > td:nth-child(5) > div\")\n",
    "text_theater = \"\"\n",
    "\n",
    "for tag in tags_theater:\n",
    "    text_theater += tag.text\n",
    "    p = re.findall(r'\\d+', text_theater)\n",
    "    p = ''.join(p)"
   ]
  },
  {
   "cell_type": "code",
   "execution_count": null,
   "metadata": {},
   "outputs": [],
   "source": [
    "for ids in movie_id:\n",
    "    try:\n",
    "        i += 1\n",
    "        print(i)\n",
    "        url = \"https://https://pro.imdb.com/title/{}/boxoffice\".format(ids)\n",
    "        resp = requests.get(url)\n",
    "        html = resp.text\n",
    "        soup = BeautifulSoup(html, \"html5lib\")\n",
    "        tags_budget = soup.select(\"#box_office_mojo > tbody > tr:nth-child(2) > td:nth-child(5) > div\")\n",
    "\n",
    "        text_budget = \"\"\n",
    "        for tag in tags_budget:\n",
    "            text_budget += tag.text\n",
    "        p = re.findall(r'\\d+', text_budget)\n",
    "        p = ''.join(p)\n",
    "        if text_budget == '':\n",
    "            df_raw.loc[df_raw['movie_id'] == ids, 'budget'] = '.'\n",
    "        else:\n",
    "            df_raw.loc[df_raw['movie_id'] == ids, 'budget'] = p\n",
    "    except:\n",
    "        print(ids)"
   ]
  },
  {
   "cell_type": "code",
   "execution_count": 21,
   "metadata": {},
   "outputs": [
    {
     "name": "stderr",
     "output_type": "stream",
     "text": [
      "C:\\Users\\cresc\\anaconda3\\lib\\site-packages\\urllib3\\connectionpool.py:1004: InsecureRequestWarning: Unverified HTTPS request is being made to host 'na.account.amazon.com'. Adding certificate verification is strongly advised. See: https://urllib3.readthedocs.io/en/latest/advanced-usage.html#ssl-warnings\n",
      "  InsecureRequestWarning,\n"
     ]
    },
    {
     "ename": "KeyError",
     "evalue": "'location'",
     "output_type": "error",
     "traceback": [
      "\u001b[1;31m---------------------------------------------------------------------------\u001b[0m",
      "\u001b[1;31mKeyError\u001b[0m                                  Traceback (most recent call last)",
      "\u001b[1;32m<ipython-input-21-244ea941b26f>\u001b[0m in \u001b[0;36m<module>\u001b[1;34m\u001b[0m\n\u001b[0;32m     11\u001b[0m     \u001b[1;31m# 이때, 헤더에 설정된 쿠키와 함께 Location으로 Get Request 를 보내면 된다.\u001b[0m\u001b[1;33m\u001b[0m\u001b[1;33m\u001b[0m\u001b[1;33m\u001b[0m\u001b[0m\n\u001b[0;32m     12\u001b[0m     \u001b[0mredirect_cookie\u001b[0m \u001b[1;33m=\u001b[0m \u001b[0mres\u001b[0m\u001b[1;33m.\u001b[0m\u001b[0mheaders\u001b[0m\u001b[1;33m[\u001b[0m\u001b[1;34m'Set-Cookie'\u001b[0m\u001b[1;33m]\u001b[0m\u001b[1;33m\u001b[0m\u001b[1;33m\u001b[0m\u001b[0m\n\u001b[1;32m---> 13\u001b[1;33m     \u001b[0mredirect_url\u001b[0m \u001b[1;33m=\u001b[0m \u001b[0mres\u001b[0m\u001b[1;33m.\u001b[0m\u001b[0mheaders\u001b[0m\u001b[1;33m[\u001b[0m\u001b[1;34m'Location'\u001b[0m\u001b[1;33m]\u001b[0m\u001b[1;33m\u001b[0m\u001b[1;33m\u001b[0m\u001b[0m\n\u001b[0m\u001b[0;32m     14\u001b[0m     \u001b[0mheaders\u001b[0m \u001b[1;33m=\u001b[0m \u001b[1;33m{\u001b[0m\u001b[1;34m\"Cookie\"\u001b[0m\u001b[1;33m:\u001b[0m \u001b[0mredirect_cookie\u001b[0m\u001b[1;33m}\u001b[0m\u001b[1;33m\u001b[0m\u001b[1;33m\u001b[0m\u001b[0m\n\u001b[0;32m     15\u001b[0m \u001b[1;33m\u001b[0m\u001b[0m\n",
      "\u001b[1;32m~\\anaconda3\\lib\\site-packages\\requests\\structures.py\u001b[0m in \u001b[0;36m__getitem__\u001b[1;34m(self, key)\u001b[0m\n\u001b[0;32m     50\u001b[0m \u001b[1;33m\u001b[0m\u001b[0m\n\u001b[0;32m     51\u001b[0m     \u001b[1;32mdef\u001b[0m \u001b[0m__getitem__\u001b[0m\u001b[1;33m(\u001b[0m\u001b[0mself\u001b[0m\u001b[1;33m,\u001b[0m \u001b[0mkey\u001b[0m\u001b[1;33m)\u001b[0m\u001b[1;33m:\u001b[0m\u001b[1;33m\u001b[0m\u001b[1;33m\u001b[0m\u001b[0m\n\u001b[1;32m---> 52\u001b[1;33m         \u001b[1;32mreturn\u001b[0m \u001b[0mself\u001b[0m\u001b[1;33m.\u001b[0m\u001b[0m_store\u001b[0m\u001b[1;33m[\u001b[0m\u001b[0mkey\u001b[0m\u001b[1;33m.\u001b[0m\u001b[0mlower\u001b[0m\u001b[1;33m(\u001b[0m\u001b[1;33m)\u001b[0m\u001b[1;33m]\u001b[0m\u001b[1;33m[\u001b[0m\u001b[1;36m1\u001b[0m\u001b[1;33m]\u001b[0m\u001b[1;33m\u001b[0m\u001b[1;33m\u001b[0m\u001b[0m\n\u001b[0m\u001b[0;32m     53\u001b[0m \u001b[1;33m\u001b[0m\u001b[0m\n\u001b[0;32m     54\u001b[0m     \u001b[1;32mdef\u001b[0m \u001b[0m__delitem__\u001b[0m\u001b[1;33m(\u001b[0m\u001b[0mself\u001b[0m\u001b[1;33m,\u001b[0m \u001b[0mkey\u001b[0m\u001b[1;33m)\u001b[0m\u001b[1;33m:\u001b[0m\u001b[1;33m\u001b[0m\u001b[1;33m\u001b[0m\u001b[0m\n",
      "\u001b[1;31mKeyError\u001b[0m: 'location'"
     ]
    }
   ],
   "source": [
    "LOGIN_URL = 'https://na.account.amazon.com/ap/signin?ie=UTF8&arb=5ac01955-8a06-4e23-a237-21a7a356944c'\n",
    "LOGIN_DATA = {\n",
    "    '#ap_email': 'vinmanki10@gmail.com',\n",
    "    '#ap_password': 'aksqls9398'\n",
    "}\n",
    "\n",
    "with requests.Session() as s:\n",
    "    res = s.post(LOGIN_URL, data=LOGIN_DATA, verify=False, allow_redirects=False)\n",
    "\n",
    "    # 쿠키와 헤더에 포함된 302 Location 값을 가져온다.\n",
    "    # 이때, 헤더에 설정된 쿠키와 함께 Location으로 Get Request 를 보내면 된다.\n",
    "    redirect_cookie = res.headers['Set-Cookie']\n",
    "    redirect_url = res.headers['Location']\n",
    "    headers = {\"Cookie\": redirect_cookie}\n",
    "\n",
    "    # Location 주소로 Get Request 호출\n",
    "    s.get(redirect_url, headers=headers)\n",
    "    for ids in movie_id:\n",
    "        try:\n",
    "            i += 1\n",
    "            print(i)\n",
    "            url = \"https://https://pro.imdb.com/title/{}/boxoffice\".format(ids)\n",
    "            resp = requests.get(url)\n",
    "            html = resp.text\n",
    "            soup = BeautifulSoup(html, \"html5lib\")\n",
    "            tags_budget = soup.select(\"#box_office_mojo > tbody > tr:nth-child(2) > td:nth-child(5) > div\")\n",
    "\n",
    "            text_budget = \"\"\n",
    "            for tag in tags_budget:\n",
    "                text_budget += tag.text\n",
    "            p = re.findall(r'\\d+', text_budget)\n",
    "            p = ''.join(p)\n",
    "            if text_budget == '':\n",
    "                df_raw.loc[df_raw['movie_id'] == ids, 'budget'] = '.'\n",
    "            else:\n",
    "                df_raw.loc[df_raw['movie_id'] == ids, 'budget'] = p\n",
    "        except:\n",
    "            print(ids)"
   ]
  },
  {
   "cell_type": "code",
   "execution_count": 34,
   "metadata": {},
   "outputs": [
    {
     "name": "stdout",
     "output_type": "stream",
     "text": [
      "s\n"
     ]
    },
    {
     "ename": "KeyboardInterrupt",
     "evalue": "",
     "output_type": "error",
     "traceback": [
      "\u001b[1;31m---------------------------------------------------------------------------\u001b[0m",
      "\u001b[1;31mKeyboardInterrupt\u001b[0m                         Traceback (most recent call last)",
      "\u001b[1;32m~\\anaconda3\\lib\\site-packages\\ipykernel\\kernelbase.py\u001b[0m in \u001b[0;36m_input_request\u001b[1;34m(self, prompt, ident, parent, password)\u001b[0m\n\u001b[0;32m    883\u001b[0m             \u001b[1;32mtry\u001b[0m\u001b[1;33m:\u001b[0m\u001b[1;33m\u001b[0m\u001b[1;33m\u001b[0m\u001b[0m\n\u001b[1;32m--> 884\u001b[1;33m                 \u001b[0mident\u001b[0m\u001b[1;33m,\u001b[0m \u001b[0mreply\u001b[0m \u001b[1;33m=\u001b[0m \u001b[0mself\u001b[0m\u001b[1;33m.\u001b[0m\u001b[0msession\u001b[0m\u001b[1;33m.\u001b[0m\u001b[0mrecv\u001b[0m\u001b[1;33m(\u001b[0m\u001b[0mself\u001b[0m\u001b[1;33m.\u001b[0m\u001b[0mstdin_socket\u001b[0m\u001b[1;33m,\u001b[0m \u001b[1;36m0\u001b[0m\u001b[1;33m)\u001b[0m\u001b[1;33m\u001b[0m\u001b[1;33m\u001b[0m\u001b[0m\n\u001b[0m\u001b[0;32m    885\u001b[0m             \u001b[1;32mexcept\u001b[0m \u001b[0mException\u001b[0m\u001b[1;33m:\u001b[0m\u001b[1;33m\u001b[0m\u001b[1;33m\u001b[0m\u001b[0m\n",
      "\u001b[1;32m~\\anaconda3\\lib\\site-packages\\jupyter_client\\session.py\u001b[0m in \u001b[0;36mrecv\u001b[1;34m(self, socket, mode, content, copy)\u001b[0m\n\u001b[0;32m    802\u001b[0m         \u001b[1;32mtry\u001b[0m\u001b[1;33m:\u001b[0m\u001b[1;33m\u001b[0m\u001b[1;33m\u001b[0m\u001b[0m\n\u001b[1;32m--> 803\u001b[1;33m             \u001b[0mmsg_list\u001b[0m \u001b[1;33m=\u001b[0m \u001b[0msocket\u001b[0m\u001b[1;33m.\u001b[0m\u001b[0mrecv_multipart\u001b[0m\u001b[1;33m(\u001b[0m\u001b[0mmode\u001b[0m\u001b[1;33m,\u001b[0m \u001b[0mcopy\u001b[0m\u001b[1;33m=\u001b[0m\u001b[0mcopy\u001b[0m\u001b[1;33m)\u001b[0m\u001b[1;33m\u001b[0m\u001b[1;33m\u001b[0m\u001b[0m\n\u001b[0m\u001b[0;32m    804\u001b[0m         \u001b[1;32mexcept\u001b[0m \u001b[0mzmq\u001b[0m\u001b[1;33m.\u001b[0m\u001b[0mZMQError\u001b[0m \u001b[1;32mas\u001b[0m \u001b[0me\u001b[0m\u001b[1;33m:\u001b[0m\u001b[1;33m\u001b[0m\u001b[1;33m\u001b[0m\u001b[0m\n",
      "\u001b[1;32m~\\anaconda3\\lib\\site-packages\\zmq\\sugar\\socket.py\u001b[0m in \u001b[0;36mrecv_multipart\u001b[1;34m(self, flags, copy, track)\u001b[0m\n\u001b[0;32m    474\u001b[0m         \"\"\"\n\u001b[1;32m--> 475\u001b[1;33m         \u001b[0mparts\u001b[0m \u001b[1;33m=\u001b[0m \u001b[1;33m[\u001b[0m\u001b[0mself\u001b[0m\u001b[1;33m.\u001b[0m\u001b[0mrecv\u001b[0m\u001b[1;33m(\u001b[0m\u001b[0mflags\u001b[0m\u001b[1;33m,\u001b[0m \u001b[0mcopy\u001b[0m\u001b[1;33m=\u001b[0m\u001b[0mcopy\u001b[0m\u001b[1;33m,\u001b[0m \u001b[0mtrack\u001b[0m\u001b[1;33m=\u001b[0m\u001b[0mtrack\u001b[0m\u001b[1;33m)\u001b[0m\u001b[1;33m]\u001b[0m\u001b[1;33m\u001b[0m\u001b[1;33m\u001b[0m\u001b[0m\n\u001b[0m\u001b[0;32m    476\u001b[0m         \u001b[1;31m# have first part already, only loop while more to receive\u001b[0m\u001b[1;33m\u001b[0m\u001b[1;33m\u001b[0m\u001b[1;33m\u001b[0m\u001b[0m\n",
      "\u001b[1;32mzmq/backend/cython/socket.pyx\u001b[0m in \u001b[0;36mzmq.backend.cython.socket.Socket.recv\u001b[1;34m()\u001b[0m\n",
      "\u001b[1;32mzmq/backend/cython/socket.pyx\u001b[0m in \u001b[0;36mzmq.backend.cython.socket.Socket.recv\u001b[1;34m()\u001b[0m\n",
      "\u001b[1;32mzmq/backend/cython/socket.pyx\u001b[0m in \u001b[0;36mzmq.backend.cython.socket._recv_copy\u001b[1;34m()\u001b[0m\n",
      "\u001b[1;32m~\\anaconda3\\lib\\site-packages\\zmq\\backend\\cython\\checkrc.pxd\u001b[0m in \u001b[0;36mzmq.backend.cython.checkrc._check_rc\u001b[1;34m()\u001b[0m\n",
      "\u001b[1;31mKeyboardInterrupt\u001b[0m: ",
      "\nDuring handling of the above exception, another exception occurred:\n",
      "\u001b[1;31mKeyboardInterrupt\u001b[0m                         Traceback (most recent call last)",
      "\u001b[1;32m<ipython-input-34-944a735983f3>\u001b[0m in \u001b[0;36m<module>\u001b[1;34m\u001b[0m\n\u001b[0;32m      6\u001b[0m \u001b[0mdriver\u001b[0m\u001b[1;33m.\u001b[0m\u001b[0mfind_element_by_css_selector\u001b[0m\u001b[1;33m(\u001b[0m\u001b[1;34m'#ap_password'\u001b[0m\u001b[1;33m)\u001b[0m\u001b[1;33m.\u001b[0m\u001b[0msend_keys\u001b[0m\u001b[1;33m(\u001b[0m\u001b[1;34m'aksqls9398'\u001b[0m\u001b[1;33m)\u001b[0m\u001b[1;33m\u001b[0m\u001b[1;33m\u001b[0m\u001b[0m\n\u001b[0;32m      7\u001b[0m \u001b[0mdriver\u001b[0m\u001b[1;33m.\u001b[0m\u001b[0mfind_element_by_css_selector\u001b[0m\u001b[1;33m(\u001b[0m\u001b[1;34m'#signInSubmit > span > button'\u001b[0m\u001b[1;33m)\u001b[0m\u001b[1;33m.\u001b[0m\u001b[0mclick\u001b[0m\u001b[1;33m(\u001b[0m\u001b[1;33m)\u001b[0m\u001b[1;33m\u001b[0m\u001b[1;33m\u001b[0m\u001b[0m\n\u001b[1;32m----> 8\u001b[1;33m \u001b[0mOTP\u001b[0m \u001b[1;33m=\u001b[0m \u001b[0minput\u001b[0m\u001b[1;33m(\u001b[0m\u001b[1;33m)\u001b[0m\u001b[1;33m\u001b[0m\u001b[1;33m\u001b[0m\u001b[0m\n\u001b[0m\u001b[0;32m      9\u001b[0m \u001b[0mdriver\u001b[0m\u001b[1;33m.\u001b[0m\u001b[0mfind_element_by_css_selector\u001b[0m\u001b[1;33m(\u001b[0m\u001b[1;34m'#auth-mfa-otpcode'\u001b[0m\u001b[1;33m)\u001b[0m\u001b[1;33m.\u001b[0m\u001b[0msend_keys\u001b[0m\u001b[1;33m(\u001b[0m\u001b[0mOTP\u001b[0m\u001b[1;33m)\u001b[0m\u001b[1;33m\u001b[0m\u001b[1;33m\u001b[0m\u001b[0m\n\u001b[0;32m     10\u001b[0m \u001b[0mdriver\u001b[0m\u001b[1;33m.\u001b[0m\u001b[0mfind_element_by_css_selector\u001b[0m\u001b[1;33m(\u001b[0m\u001b[1;34m'#auth-signin-button'\u001b[0m\u001b[1;33m)\u001b[0m\u001b[1;33m.\u001b[0m\u001b[0mclick\u001b[0m\u001b[1;33m(\u001b[0m\u001b[1;33m)\u001b[0m\u001b[1;33m\u001b[0m\u001b[1;33m\u001b[0m\u001b[0m\n",
      "\u001b[1;32m~\\anaconda3\\lib\\site-packages\\ipykernel\\kernelbase.py\u001b[0m in \u001b[0;36mraw_input\u001b[1;34m(self, prompt)\u001b[0m\n\u001b[0;32m    857\u001b[0m             \u001b[0mself\u001b[0m\u001b[1;33m.\u001b[0m\u001b[0m_parent_ident\u001b[0m\u001b[1;33m,\u001b[0m\u001b[1;33m\u001b[0m\u001b[1;33m\u001b[0m\u001b[0m\n\u001b[0;32m    858\u001b[0m             \u001b[0mself\u001b[0m\u001b[1;33m.\u001b[0m\u001b[0m_parent_header\u001b[0m\u001b[1;33m,\u001b[0m\u001b[1;33m\u001b[0m\u001b[1;33m\u001b[0m\u001b[0m\n\u001b[1;32m--> 859\u001b[1;33m             \u001b[0mpassword\u001b[0m\u001b[1;33m=\u001b[0m\u001b[1;32mFalse\u001b[0m\u001b[1;33m,\u001b[0m\u001b[1;33m\u001b[0m\u001b[1;33m\u001b[0m\u001b[0m\n\u001b[0m\u001b[0;32m    860\u001b[0m         )\n\u001b[0;32m    861\u001b[0m \u001b[1;33m\u001b[0m\u001b[0m\n",
      "\u001b[1;32m~\\anaconda3\\lib\\site-packages\\ipykernel\\kernelbase.py\u001b[0m in \u001b[0;36m_input_request\u001b[1;34m(self, prompt, ident, parent, password)\u001b[0m\n\u001b[0;32m    887\u001b[0m             \u001b[1;32mexcept\u001b[0m \u001b[0mKeyboardInterrupt\u001b[0m\u001b[1;33m:\u001b[0m\u001b[1;33m\u001b[0m\u001b[1;33m\u001b[0m\u001b[0m\n\u001b[0;32m    888\u001b[0m                 \u001b[1;31m# re-raise KeyboardInterrupt, to truncate traceback\u001b[0m\u001b[1;33m\u001b[0m\u001b[1;33m\u001b[0m\u001b[1;33m\u001b[0m\u001b[0m\n\u001b[1;32m--> 889\u001b[1;33m                 \u001b[1;32mraise\u001b[0m \u001b[0mKeyboardInterrupt\u001b[0m\u001b[1;33m\u001b[0m\u001b[1;33m\u001b[0m\u001b[0m\n\u001b[0m\u001b[0;32m    890\u001b[0m             \u001b[1;32melse\u001b[0m\u001b[1;33m:\u001b[0m\u001b[1;33m\u001b[0m\u001b[1;33m\u001b[0m\u001b[0m\n\u001b[0;32m    891\u001b[0m                 \u001b[1;32mbreak\u001b[0m\u001b[1;33m\u001b[0m\u001b[1;33m\u001b[0m\u001b[0m\n",
      "\u001b[1;31mKeyboardInterrupt\u001b[0m: "
     ]
    }
   ],
   "source": [
    "from selenium import webdriver\n",
    "\n",
    "driver = webdriver.Chrome('C:/Users/cresc/PycharmProjects/chromedriver')\n",
    "driver.get('https://na.account.amazon.com/ap/signin?ie=UTF8&arb=5ac01955-8a06-4e23-a237-21a7a356944c')\n",
    "driver.find_element_by_css_selector('#ap_email').send_keys('vinmanki10@gmail.com')\n",
    "driver.find_element_by_css_selector('#ap_password').send_keys('aksqls9398')\n",
    "driver.find_element_by_css_selector('#signInSubmit > span > button').click()\n",
    "OTP = input()\n",
    "driver.find_element_by_css_selector('#auth-mfa-otpcode').send_keys(OTP)\n",
    "driver.find_element_by_css_selector('#auth-signin-button').click()\n"
   ]
  },
  {
   "cell_type": "code",
   "execution_count": 53,
   "metadata": {},
   "outputs": [],
   "source": [
    "a = ['a','b','c']\n",
    "b = [1,2,3]\n",
    "c = [10,20,30]\n",
    "\n",
    "L = zip(a,b,c)"
   ]
  },
  {
   "cell_type": "code",
   "execution_count": 54,
   "metadata": {},
   "outputs": [],
   "source": [
    "L = list(L)"
   ]
  },
  {
   "cell_type": "code",
   "execution_count": 55,
   "metadata": {},
   "outputs": [
    {
     "data": {
      "text/plain": [
       "[('a', 1, 10), ('b', 2, 20), ('c', 3, 30)]"
      ]
     },
     "execution_count": 55,
     "metadata": {},
     "output_type": "execute_result"
    }
   ],
   "source": [
    "L"
   ]
  },
  {
   "cell_type": "code",
   "execution_count": 57,
   "metadata": {},
   "outputs": [
    {
     "data": {
      "text/plain": [
       "'a'"
      ]
     },
     "execution_count": 57,
     "metadata": {},
     "output_type": "execute_result"
    }
   ],
   "source": [
    "L[0][0]"
   ]
  },
  {
   "cell_type": "code",
   "execution_count": 63,
   "metadata": {},
   "outputs": [],
   "source": [
    "ID = ['tt1937264','tt2176228','tt0100142','tt0059592','tt1241226',\n",
    "      'tt2290113','tt0188030','tt1781784','tt0063350','tt0093200',\n",
    "      'tt3072636','tt3672742','tt0109445','tt1727770','tt0374563',\n",
    "      'tt0475937','tt2141751','tt0997047','tt0467110','tt3442006',\n",
    "      'tt0401815','tt1395025','tt2905838','tt4853102','tt1151359',\n",
    "      'tt0796368','tt1502712','tt2837574','tt2273657','tt0145503',\n",
    "      'tt0808331','tt1183374','tt1407084','tt0352994','tt0454776',\n",
    "      'tt2944198','tt3577624','tt1853643','tt2674430','tt7026672',\n",
    "      'tt2883512','tt1164999','tt2356180','tt4326444','tt5789976',\n",
    "      'tt4005402','tt4437216','tt1321511','tt2397535','tt1951261',\n",
    "      'tt2070776','tt1786751','tt5108476','tt6588966','tt6527426',\n",
    "      'tt3405236'\n",
    "      ]\n",
    "opening = [9,1,1,1,3,\n",
    "           5,14,12,1,15,\n",
    "           10,31,2,46,1061,\n",
    "           488,2,2706,3013,482,\n",
    "           14,122,271,1325,3,\n",
    "           33,3995,5,831,4,\n",
    "           6,9,231,45,791,\n",
    "           1,2,3,11,1667,\n",
    "           6,59,140,6,11,\n",
    "           27,20,583,20,3555,\n",
    "           3,1,284,73,295,\n",
    "           265\n",
    "           ]\n",
    "total = [9,1,5,2,3,\n",
    "         5,72,12,8,15,\n",
    "         10,31,84,46,1061,\n",
    "         488,16,2706,3013,482,\n",
    "         32,122,271,1325,6,\n",
    "         193,4004,1042,856,153,\n",
    "         152,9,231,45,1162,\n",
    "         1,2,3,11,1669,\n",
    "         1298,191,140,31,2,\n",
    "         27,20,583,20,3565,\n",
    "         58,100,284,73,300,\n",
    "         265\n",
    "         ]"
   ]
  },
  {
   "cell_type": "code",
   "execution_count": 64,
   "metadata": {},
   "outputs": [
    {
     "data": {
      "text/plain": [
       "56"
      ]
     },
     "execution_count": 64,
     "metadata": {},
     "output_type": "execute_result"
    }
   ],
   "source": [
    "len(ID)"
   ]
  },
  {
   "cell_type": "code",
   "execution_count": 61,
   "metadata": {},
   "outputs": [
    {
     "data": {
      "text/plain": [
       "56"
      ]
     },
     "execution_count": 61,
     "metadata": {},
     "output_type": "execute_result"
    }
   ],
   "source": [
    "len(opening)"
   ]
  },
  {
   "cell_type": "code",
   "execution_count": 62,
   "metadata": {},
   "outputs": [
    {
     "data": {
      "text/plain": [
       "56"
      ]
     },
     "execution_count": 62,
     "metadata": {},
     "output_type": "execute_result"
    }
   ],
   "source": [
    "len(total)"
   ]
  },
  {
   "cell_type": "code",
   "execution_count": 80,
   "metadata": {
    "scrolled": true
   },
   "outputs": [
    {
     "data": {
      "text/plain": [
       "[('tt1937264', 98, 98),\n",
       " ('tt2176228', 3, 762),\n",
       " ('tt0100142', 703, 703),\n",
       " ('tt0059592', 0, 0),\n",
       " ('tt1241226', 0, 0),\n",
       " ('tt2290113', 1653, 1922),\n",
       " ('tt0188030', 0, 0),\n",
       " ('tt1781784', 4, 1598),\n",
       " ('tt0063350', 0, 0),\n",
       " ('tt0093200', 501, 501),\n",
       " ('tt3072636', 20, 20),\n",
       " ('tt3672742', 0, 0),\n",
       " ('tt0109445', 0, 0),\n",
       " ('tt1727770', 0, 0),\n",
       " ('tt0374563', 0, 0),\n",
       " ('tt0475937', 0, 0),\n",
       " ('tt2141751', 0, 0),\n",
       " ('tt0997047', 0, 0),\n",
       " ('tt0467110', 1, 10),\n",
       " ('tt3442006', 9, 9),\n",
       " ('tt0401815', 10, 13),\n",
       " ('tt1395025', 0, 0),\n",
       " ('tt2905838', 5, 1331),\n",
       " ('tt4853102', 1, 1),\n",
       " ('tt1151359', 6, 611),\n",
       " ('tt0796368', 1246, 1246),\n",
       " ('tt1502712', 86, 86),\n",
       " ('tt2837574', 250, 250),\n",
       " ('tt2273657', 0, 0),\n",
       " ('tt0145503', 0, 0),\n",
       " ('tt0808331', 0, 0),\n",
       " ('tt1183374', 0, 0),\n",
       " ('tt1407084', 0, 0),\n",
       " ('tt0352994', 34, 34),\n",
       " ('tt0454776', 1, 1),\n",
       " ('tt2944198', 36, 36),\n",
       " ('tt3577624', 0, 0),\n",
       " ('tt1853643', 243, 243),\n",
       " ('tt2674430', 27, 27),\n",
       " ('tt7026672', 19, 19),\n",
       " ('tt2883512', 1, 1),\n",
       " ('tt1164999', 0, 0),\n",
       " ('tt2356180', 0, 0),\n",
       " ('tt4326444', 6, 7),\n",
       " ('tt5789976', 456, 456),\n",
       " ('tt4005402', 0, 0),\n",
       " ('tt4437216', 3, 134),\n",
       " ('tt1321511', 0, 0),\n",
       " ('tt2397535', 0, 0),\n",
       " ('tt1951261', 0, 0),\n",
       " ('tt2070776', 0, 0),\n",
       " ('tt1786751', 815, 815),\n",
       " ('tt5108476', 0, 0),\n",
       " ('tt6588966', 3, 204),\n",
       " ('tt6527426', 23, 452),\n",
       " ('tt3405236', 140, 140)]"
      ]
     },
     "execution_count": 80,
     "metadata": {},
     "output_type": "execute_result"
    }
   ],
   "source": [
    "L_hb = list(zip(ID,opening,total))\n",
    "L_hb"
   ]
  },
  {
   "cell_type": "code",
   "execution_count": 76,
   "metadata": {},
   "outputs": [],
   "source": [
    "movie_id=['tt2584018','tt0094947','tt0076009','tt0076451','tt0077296','tt0112697','tt0049833','tt0093105','tt0071562','tt0104215',\n",
    "'tt4878482','tt0070047','tt0066206','tt0054331','tt0061452','tt0079758','tt0082934','tt0053580','tt3453052','tt2968804','tt1034302','tt0059113','tt0101921','tt0072684',\n",
    "'tt0108550','tt0102782','tt1592873','tt3658772','tt0062622','tt0108320','tt0056197','tt0063385','tt0076538','tt2113659','tt3202120','tt1320291','tt2300975','tt2556874','tt1725969','tt2396589','tt0213985','tt0062512','tt0057193','tt2077908','tt0067093','tt0059800','tt0097499','tt0062711','tt0043949',\n",
    "'tt0059742','tt0079588','tt0079116','tt0064757','tt0107616','tt0105151','tt0102915','tt5153288','tt2112277','tt4060866','tt0097239','tt0263734','tt1602098','tt0242527','tt1772422','tt3488328','tt0066995','tt0107822','tt0070328','tt0071577','tt0071807','tt0085868','tt0076175','tt3401748'\n",
    "         ]"
   ]
  },
  {
   "cell_type": "code",
   "execution_count": 77,
   "metadata": {},
   "outputs": [],
   "source": [
    "opening=[98,3,703,0,0,1653,0,4,0,501,20,0,0,0,0,0,0,0,1,9,10,0,5,1,6,1246,86,250,0,0,0,0,0,34,1,36,0,243,27,19,1,0,0,6,456,0,3,0,0,0,0,815,0,3,23,140,20,23,0,3,207,245,322,33,19,0,4,0,0,0,180,0,289]"
   ]
  },
  {
   "cell_type": "code",
   "execution_count": 78,
   "metadata": {},
   "outputs": [],
   "source": [
    "total=[98,762,703,0,0,1922,0,1598,0,501,20,0,0,0,0,0,0,0,10,9,13,0,1331,1,611,1246,86,250,0,0,0,0,0,34,1,36,0,243,27,19,1,0,0,7,456,0,134,0,0,0,0,815,0,204,452,140,223,23,0,1528,207,245,322,33,42,0,671,0,0,0,180,0,297]"
   ]
  },
  {
   "cell_type": "code",
   "execution_count": 79,
   "metadata": {},
   "outputs": [
    {
     "data": {
      "text/plain": [
       "73"
      ]
     },
     "execution_count": 79,
     "metadata": {},
     "output_type": "execute_result"
    }
   ],
   "source": [
    "len(movie_id)"
   ]
  },
  {
   "cell_type": "code",
   "execution_count": 68,
   "metadata": {
    "scrolled": true
   },
   "outputs": [
    {
     "data": {
      "text/plain": [
       "73"
      ]
     },
     "execution_count": 68,
     "metadata": {},
     "output_type": "execute_result"
    }
   ],
   "source": [
    "len(opening)"
   ]
  },
  {
   "cell_type": "code",
   "execution_count": 69,
   "metadata": {},
   "outputs": [
    {
     "data": {
      "text/plain": [
       "73"
      ]
     },
     "execution_count": 69,
     "metadata": {},
     "output_type": "execute_result"
    }
   ],
   "source": [
    "len(total)"
   ]
  },
  {
   "cell_type": "code",
   "execution_count": 81,
   "metadata": {
    "scrolled": true
   },
   "outputs": [
    {
     "data": {
      "text/plain": [
       "[('tt2584018', 98, 98),\n",
       " ('tt0094947', 3, 762),\n",
       " ('tt0076009', 703, 703),\n",
       " ('tt0076451', 0, 0),\n",
       " ('tt0077296', 0, 0),\n",
       " ('tt0112697', 1653, 1922),\n",
       " ('tt0049833', 0, 0),\n",
       " ('tt0093105', 4, 1598),\n",
       " ('tt0071562', 0, 0),\n",
       " ('tt0104215', 501, 501),\n",
       " ('tt4878482', 20, 20),\n",
       " ('tt0070047', 0, 0),\n",
       " ('tt0066206', 0, 0),\n",
       " ('tt0054331', 0, 0),\n",
       " ('tt0061452', 0, 0),\n",
       " ('tt0079758', 0, 0),\n",
       " ('tt0082934', 0, 0),\n",
       " ('tt0053580', 0, 0),\n",
       " ('tt3453052', 1, 10),\n",
       " ('tt2968804', 9, 9),\n",
       " ('tt1034302', 10, 13),\n",
       " ('tt0059113', 0, 0),\n",
       " ('tt0101921', 5, 1331),\n",
       " ('tt0072684', 1, 1),\n",
       " ('tt0108550', 6, 611),\n",
       " ('tt0102782', 1246, 1246),\n",
       " ('tt1592873', 86, 86),\n",
       " ('tt3658772', 250, 250),\n",
       " ('tt0062622', 0, 0),\n",
       " ('tt0108320', 0, 0),\n",
       " ('tt0056197', 0, 0),\n",
       " ('tt0063385', 0, 0),\n",
       " ('tt0076538', 0, 0),\n",
       " ('tt2113659', 34, 34),\n",
       " ('tt3202120', 1, 1),\n",
       " ('tt1320291', 36, 36),\n",
       " ('tt2300975', 0, 0),\n",
       " ('tt2556874', 243, 243),\n",
       " ('tt1725969', 27, 27),\n",
       " ('tt2396589', 19, 19),\n",
       " ('tt0213985', 1, 1),\n",
       " ('tt0062512', 0, 0),\n",
       " ('tt0057193', 0, 0),\n",
       " ('tt2077908', 6, 7),\n",
       " ('tt0067093', 456, 456),\n",
       " ('tt0059800', 0, 0),\n",
       " ('tt0097499', 3, 134),\n",
       " ('tt0062711', 0, 0),\n",
       " ('tt0043949', 0, 0),\n",
       " ('tt0059742', 0, 0),\n",
       " ('tt0079588', 0, 0),\n",
       " ('tt0079116', 815, 815),\n",
       " ('tt0064757', 0, 0),\n",
       " ('tt0107616', 3, 204),\n",
       " ('tt0105151', 23, 452),\n",
       " ('tt0102915', 140, 140),\n",
       " ('tt5153288', 20, 223),\n",
       " ('tt2112277', 23, 23),\n",
       " ('tt4060866', 0, 0),\n",
       " ('tt0097239', 3, 1528),\n",
       " ('tt0263734', 207, 207),\n",
       " ('tt1602098', 245, 245),\n",
       " ('tt0242527', 322, 322),\n",
       " ('tt1772422', 33, 33),\n",
       " ('tt3488328', 19, 42),\n",
       " ('tt0066995', 0, 0),\n",
       " ('tt0107822', 4, 671),\n",
       " ('tt0070328', 0, 0),\n",
       " ('tt0071577', 0, 0),\n",
       " ('tt0071807', 0, 0),\n",
       " ('tt0085868', 180, 180),\n",
       " ('tt0076175', 0, 0),\n",
       " ('tt3401748', 289, 297)]"
      ]
     },
     "execution_count": 81,
     "metadata": {},
     "output_type": "execute_result"
    }
   ],
   "source": [
    "L_jm = list(zip(movie_id,opening,total))\n",
    "L_jm"
   ]
  },
  {
   "cell_type": "code",
   "execution_count": 87,
   "metadata": {},
   "outputs": [],
   "source": [
    "movie_id=['tt0106677', 'tt1255953', 'tt0091763', 'tt0107750', 'tt0101412', 'tt0330602', 'tt3335606', 'tt0095271', 'tt0083833', 'tt0098546', 'tt1529567', 'tt0110005', 'tt0102443', 'tt0102307', 'tt0117666', 'tt0095484', 'tt0109831', 'tt0104036', 'tt0096219']\n",
    "theater_opening=[183, 11, 1306, 668, 227, 99, 25, 1679, 21, 1295, 11, 2, 7, 3, 3, 90, 1064, 6, 6]\n",
    "theater_total=[214, 90, 1564, 668, 227, 100, 25, 1679, 30, 1295, 12, 57, 7, 37, 1020, 107, 1069, 1097, 653]"
   ]
  },
  {
   "cell_type": "code",
   "execution_count": 88,
   "metadata": {},
   "outputs": [
    {
     "data": {
      "text/plain": [
       "19"
      ]
     },
     "execution_count": 88,
     "metadata": {},
     "output_type": "execute_result"
    }
   ],
   "source": [
    "len(movie_id)"
   ]
  },
  {
   "cell_type": "code",
   "execution_count": 89,
   "metadata": {},
   "outputs": [
    {
     "data": {
      "text/plain": [
       "19"
      ]
     },
     "execution_count": 89,
     "metadata": {},
     "output_type": "execute_result"
    }
   ],
   "source": [
    "len(theater_opening)"
   ]
  },
  {
   "cell_type": "code",
   "execution_count": 90,
   "metadata": {},
   "outputs": [
    {
     "data": {
      "text/plain": [
       "19"
      ]
     },
     "execution_count": 90,
     "metadata": {},
     "output_type": "execute_result"
    }
   ],
   "source": [
    "len(theater_total)"
   ]
  },
  {
   "cell_type": "code",
   "execution_count": 92,
   "metadata": {},
   "outputs": [
    {
     "data": {
      "text/plain": [
       "[('tt0106677', 183, 214),\n",
       " ('tt1255953', 11, 90),\n",
       " ('tt0091763', 1306, 1564),\n",
       " ('tt0107750', 668, 668),\n",
       " ('tt0101412', 227, 227),\n",
       " ('tt0330602', 99, 100),\n",
       " ('tt3335606', 25, 25),\n",
       " ('tt0095271', 1679, 1679),\n",
       " ('tt0083833', 21, 30),\n",
       " ('tt0098546', 1295, 1295),\n",
       " ('tt1529567', 11, 12),\n",
       " ('tt0110005', 2, 57),\n",
       " ('tt0102443', 7, 7),\n",
       " ('tt0102307', 3, 37),\n",
       " ('tt0117666', 3, 1020),\n",
       " ('tt0095484', 90, 107),\n",
       " ('tt0109831', 1064, 1069),\n",
       " ('tt0104036', 6, 1097),\n",
       " ('tt0096219', 6, 653)]"
      ]
     },
     "execution_count": 92,
     "metadata": {},
     "output_type": "execute_result"
    }
   ],
   "source": [
    "L_dy = list(zip(movie_id,theater_opening,theater_total))\n",
    "L_dy"
   ]
  },
  {
   "cell_type": "code",
   "execution_count": 93,
   "metadata": {},
   "outputs": [
    {
     "data": {
      "text/plain": [
       "[2, 3, 1, 2]"
      ]
     },
     "execution_count": 93,
     "metadata": {},
     "output_type": "execute_result"
    }
   ],
   "source": [
    "l = [1,2]\n",
    "a = [2,3]\n",
    "a + l"
   ]
  },
  {
   "cell_type": "code",
   "execution_count": 96,
   "metadata": {},
   "outputs": [],
   "source": [
    "movie_Id = ['tt0031381','tt0060665','tt0016641','tt0059418','tt0072251','tt0042200','tt3205376','tt0065446','tt0064665','tt0080339',\n",
    "        'tt0061809','tt0068611','tt0060490','tt0088993','tt2166834','tt2761578','tt0049055','tt0083739','tt0056217','tt0038650',\n",
    "\t   'tt0077975','tt0058150','tt0050212','tt0077362','tt0073312','tt0053604','tt0051459','tt0065462','tt0074512','tt0061107',\n",
    "\t   'tt0053793','tt0067992','tt0116361','tt1841642','tt2398249','tt1922679','tt0482461','tt0062138','tt0038589','tt0042332',\n",
    "\t   'tt0053291','tt0072431','tt0032138','tt0078872','tt0071230','tt0093512','tt0857295','tt0045152','tt0102494','tt1666335',\n",
    "\t   'tt3300572','tt3333870','tt6952960','tt1995477','tt0044030','tt0098503','tt0092695','tt0032910','tt0032455','tt0067116',\n",
    "\t   'tt0449000','tt0036868','tt1038988','tt2215673','tt0038787','tt0061811','tt0070707','tt0068555','tt0056592','tt0056193',\n",
    "\t   'tt0032273','tt0039416','tt0090327']"
   ]
  },
  {
   "cell_type": "code",
   "execution_count": 97,
   "metadata": {},
   "outputs": [],
   "source": [
    "opening = [0, 0, 0, 1, 0, 0, 50, 0, 0, 0, 0, 0, 0, 168, 0, 0, 0, 0, 0, 0, \\\n",
    "\t 0, 0, 0, 0, 0, 1, 0, 0, 0, 0, 0, 0, 6, 72, 0, 49, 0, 0, 0, 0, \\\n",
    "\t 0, 0, 0, 0, 0, 1, 0, 0, 3, 68, 0, 0, 0, 0, 0, 0, 0, 0, 0, 0, \\\n",
    "\t 0, 0, 19, 0, 0, 0, 0, 0, 0, 1, 0, 0, 15]"
   ]
  },
  {
   "cell_type": "code",
   "execution_count": 98,
   "metadata": {},
   "outputs": [],
   "source": [
    "total = [0, 0, 0, 3, 0, 0, 54, 0, 0, 0, 0, 0, 0, 168, 0, 0, 0, 0, 0, 0, \\\n",
    "           0, 0, 0, 0, 0, 1, 0, 0, 0, 0, 0, 0, 6, 76, 0, 49, 0, 0, 0, 0, \\\n",
    "           0, 0, 0, 0, 0, 1, 0, 0, 3, 68, 0, 0, 0, 0, 0, 0, 0, 0, 0, 0, \\\n",
    "           0, 0, 20, 0, 0, 0, 0, 0, 0, 1, 0, 0, 1068]"
   ]
  },
  {
   "cell_type": "code",
   "execution_count": 99,
   "metadata": {},
   "outputs": [
    {
     "data": {
      "text/plain": [
       "73"
      ]
     },
     "execution_count": 99,
     "metadata": {},
     "output_type": "execute_result"
    }
   ],
   "source": [
    "len(movie_Id)"
   ]
  },
  {
   "cell_type": "code",
   "execution_count": 100,
   "metadata": {},
   "outputs": [
    {
     "data": {
      "text/plain": [
       "73"
      ]
     },
     "execution_count": 100,
     "metadata": {},
     "output_type": "execute_result"
    }
   ],
   "source": [
    "len(opening)"
   ]
  },
  {
   "cell_type": "code",
   "execution_count": 101,
   "metadata": {},
   "outputs": [
    {
     "data": {
      "text/plain": [
       "73"
      ]
     },
     "execution_count": 101,
     "metadata": {},
     "output_type": "execute_result"
    }
   ],
   "source": [
    "len(total)"
   ]
  },
  {
   "cell_type": "code",
   "execution_count": 102,
   "metadata": {},
   "outputs": [],
   "source": [
    "ID = ['tt0149624', 'tt2788710', 'tt0110074', 'tt0091757', 'tt1817771', 'tt1935194', 'tt0095016', 'tt0107818', 'tt0093389', 'tt2039393', 'tt0107007', 'tt0114614', 'tt0101889', 'tt0064418', 'tt1833673', 'tt0108101',\n",
    " 'tt0075860', 'tt0081353', 'tt0109348', 'tt3319920', 'tt0107719', 'tt0109707', 'tt1403241', 'tt0091934', 'tt0083001', 'tt0097165', 'tt0079550', 'tt0107943', 'tt0352277', 'tt0097965', 'tt1487931']"
   ]
  },
  {
   "cell_type": "code",
   "execution_count": 103,
   "metadata": {},
   "outputs": [],
   "source": [
    "opening = [1483, 331, 5, 1108, 107, 20, 21, 4, 5, 2478, 124, 1341, 10, 669, 239, 3, 272, 901, 2, 100, 786, 2, 12, 401, 1, 8, 575, 94, 16, 12,2]"
   ]
  },
  {
   "cell_type": "code",
   "execution_count": 104,
   "metadata": {},
   "outputs": [],
   "source": [
    "total = [1483, 581, 126, 1108, 107, 20, 1713, 1604, 817, 2494, 239, 1363, 1546, 669, 239, 1023, 571, 901, 278, 100, 786, 623, 12, 401, 19, 1109, 575, 517, 410, 514, 2]"
   ]
  },
  {
   "cell_type": "code",
   "execution_count": 105,
   "metadata": {},
   "outputs": [
    {
     "data": {
      "text/plain": [
       "31"
      ]
     },
     "execution_count": 105,
     "metadata": {},
     "output_type": "execute_result"
    }
   ],
   "source": [
    "len(ID)"
   ]
  },
  {
   "cell_type": "code",
   "execution_count": 106,
   "metadata": {},
   "outputs": [
    {
     "data": {
      "text/plain": [
       "31"
      ]
     },
     "execution_count": 106,
     "metadata": {},
     "output_type": "execute_result"
    }
   ],
   "source": [
    "len(opening)"
   ]
  },
  {
   "cell_type": "code",
   "execution_count": 107,
   "metadata": {},
   "outputs": [
    {
     "data": {
      "text/plain": [
       "31"
      ]
     },
     "execution_count": 107,
     "metadata": {},
     "output_type": "execute_result"
    }
   ],
   "source": [
    "len(total)"
   ]
  },
  {
   "cell_type": "code",
   "execution_count": 108,
   "metadata": {},
   "outputs": [],
   "source": [
    "for i in df_meta[df_meta['theater_opening'].isna()].index:\n",
    "    df_meta.loc[i,'theater_opening'] = 0\n",
    "for i in df_meta[df_meta['theater_total'].isna()].index:\n",
    "    df_meta.loc[i,'theater_total'] = 0"
   ]
  },
  {
   "cell_type": "code",
   "execution_count": 112,
   "metadata": {},
   "outputs": [
    {
     "data": {
      "text/html": [
       "<div>\n",
       "<style scoped>\n",
       "    .dataframe tbody tr th:only-of-type {\n",
       "        vertical-align: middle;\n",
       "    }\n",
       "\n",
       "    .dataframe tbody tr th {\n",
       "        vertical-align: top;\n",
       "    }\n",
       "\n",
       "    .dataframe thead th {\n",
       "        text-align: right;\n",
       "    }\n",
       "</style>\n",
       "<table border=\"1\" class=\"dataframe\">\n",
       "  <thead>\n",
       "    <tr style=\"text-align: right;\">\n",
       "      <th></th>\n",
       "      <th>movie_id</th>\n",
       "      <th>title</th>\n",
       "      <th>release_year</th>\n",
       "      <th>release_date</th>\n",
       "      <th>runtime</th>\n",
       "      <th>mpa_rating</th>\n",
       "      <th>imdb_score</th>\n",
       "      <th>dvd_sales</th>\n",
       "      <th>blu_sales</th>\n",
       "      <th>total_sales</th>\n",
       "      <th>...</th>\n",
       "      <th>net_profit</th>\n",
       "      <th>studio</th>\n",
       "      <th>studio_score</th>\n",
       "      <th>price_class</th>\n",
       "      <th>contract_price</th>\n",
       "      <th>positive_probability</th>\n",
       "      <th>english</th>\n",
       "      <th>dvd</th>\n",
       "      <th>blu</th>\n",
       "      <th>cntry_USA</th>\n",
       "    </tr>\n",
       "  </thead>\n",
       "  <tbody>\n",
       "    <tr>\n",
       "      <th>755</th>\n",
       "      <td>tt4743226</td>\n",
       "      <td>Air Strike</td>\n",
       "      <td>2018.0</td>\n",
       "      <td>43399.0</td>\n",
       "      <td>97.0</td>\n",
       "      <td>R</td>\n",
       "      <td>3.2</td>\n",
       "      <td>NaN</td>\n",
       "      <td>NaN</td>\n",
       "      <td>NaN</td>\n",
       "      <td>...</td>\n",
       "      <td>NaN</td>\n",
       "      <td>LIONSGATE</td>\n",
       "      <td>4.0</td>\n",
       "      <td>NaN</td>\n",
       "      <td>NaN</td>\n",
       "      <td>0.918572</td>\n",
       "      <td>1</td>\n",
       "      <td>0</td>\n",
       "      <td>0</td>\n",
       "      <td>0</td>\n",
       "    </tr>\n",
       "    <tr>\n",
       "      <th>1196</th>\n",
       "      <td>tt0149624</td>\n",
       "      <td>All the Pretty Horses</td>\n",
       "      <td>2000.0</td>\n",
       "      <td>36885.0</td>\n",
       "      <td>117.0</td>\n",
       "      <td>PG-13</td>\n",
       "      <td>5.8</td>\n",
       "      <td>NaN</td>\n",
       "      <td>NaN</td>\n",
       "      <td>NaN</td>\n",
       "      <td>...</td>\n",
       "      <td>NaN</td>\n",
       "      <td>Sony Pictures/Columbia</td>\n",
       "      <td>6.0</td>\n",
       "      <td>1.0</td>\n",
       "      <td>650.0</td>\n",
       "      <td>0.973119</td>\n",
       "      <td>1</td>\n",
       "      <td>0</td>\n",
       "      <td>0</td>\n",
       "      <td>1</td>\n",
       "    </tr>\n",
       "    <tr>\n",
       "      <th>1209</th>\n",
       "      <td>tt0249516</td>\n",
       "      <td>Foodfight!</td>\n",
       "      <td>2012.0</td>\n",
       "      <td>41317.0</td>\n",
       "      <td>91.0</td>\n",
       "      <td>PG</td>\n",
       "      <td>1.6</td>\n",
       "      <td>NaN</td>\n",
       "      <td>NaN</td>\n",
       "      <td>NaN</td>\n",
       "      <td>...</td>\n",
       "      <td>NaN</td>\n",
       "      <td>Lions</td>\n",
       "      <td>4.0</td>\n",
       "      <td>1.0</td>\n",
       "      <td>610.0</td>\n",
       "      <td>0.033616</td>\n",
       "      <td>1</td>\n",
       "      <td>0</td>\n",
       "      <td>0</td>\n",
       "      <td>1</td>\n",
       "    </tr>\n",
       "    <tr>\n",
       "      <th>1216</th>\n",
       "      <td>tt2788710</td>\n",
       "      <td>The Interview</td>\n",
       "      <td>2014.0</td>\n",
       "      <td>41997.0</td>\n",
       "      <td>111.0</td>\n",
       "      <td>R</td>\n",
       "      <td>6.5</td>\n",
       "      <td>4026083.0</td>\n",
       "      <td>3540398.0</td>\n",
       "      <td>7566481.0</td>\n",
       "      <td>...</td>\n",
       "      <td>NaN</td>\n",
       "      <td>Sony Pictures/Columbia</td>\n",
       "      <td>6.0</td>\n",
       "      <td>1.0</td>\n",
       "      <td>650.0</td>\n",
       "      <td>0.403739</td>\n",
       "      <td>1</td>\n",
       "      <td>1</td>\n",
       "      <td>1</td>\n",
       "      <td>1</td>\n",
       "    </tr>\n",
       "    <tr>\n",
       "      <th>1217</th>\n",
       "      <td>tt0080855</td>\n",
       "      <td>Heaven's Gate</td>\n",
       "      <td>1980.0</td>\n",
       "      <td>29544.0</td>\n",
       "      <td>219.0</td>\n",
       "      <td>R</td>\n",
       "      <td>6.8</td>\n",
       "      <td>NaN</td>\n",
       "      <td>NaN</td>\n",
       "      <td>NaN</td>\n",
       "      <td>...</td>\n",
       "      <td>NaN</td>\n",
       "      <td>UA</td>\n",
       "      <td>4.0</td>\n",
       "      <td>1.0</td>\n",
       "      <td>610.0</td>\n",
       "      <td>0.852019</td>\n",
       "      <td>1</td>\n",
       "      <td>0</td>\n",
       "      <td>0</td>\n",
       "      <td>1</td>\n",
       "    </tr>\n",
       "    <tr>\n",
       "      <th>...</th>\n",
       "      <td>...</td>\n",
       "      <td>...</td>\n",
       "      <td>...</td>\n",
       "      <td>...</td>\n",
       "      <td>...</td>\n",
       "      <td>...</td>\n",
       "      <td>...</td>\n",
       "      <td>...</td>\n",
       "      <td>...</td>\n",
       "      <td>...</td>\n",
       "      <td>...</td>\n",
       "      <td>...</td>\n",
       "      <td>...</td>\n",
       "      <td>...</td>\n",
       "      <td>...</td>\n",
       "      <td>...</td>\n",
       "      <td>...</td>\n",
       "      <td>...</td>\n",
       "      <td>...</td>\n",
       "      <td>...</td>\n",
       "      <td>...</td>\n",
       "    </tr>\n",
       "    <tr>\n",
       "      <th>4731</th>\n",
       "      <td>tt1786751</td>\n",
       "      <td>CBGB</td>\n",
       "      <td>2013.0</td>\n",
       "      <td>41558.0</td>\n",
       "      <td>81.0</td>\n",
       "      <td>R</td>\n",
       "      <td>6.6</td>\n",
       "      <td>730891.0</td>\n",
       "      <td>105704.0</td>\n",
       "      <td>836595.0</td>\n",
       "      <td>...</td>\n",
       "      <td>NaN</td>\n",
       "      <td>XL</td>\n",
       "      <td>2.0</td>\n",
       "      <td>NaN</td>\n",
       "      <td>NaN</td>\n",
       "      <td>0.971522</td>\n",
       "      <td>1</td>\n",
       "      <td>1</td>\n",
       "      <td>1</td>\n",
       "      <td>1</td>\n",
       "    </tr>\n",
       "    <tr>\n",
       "      <th>4733</th>\n",
       "      <td>tt5108476</td>\n",
       "      <td>Befikre</td>\n",
       "      <td>2016.0</td>\n",
       "      <td>42713.0</td>\n",
       "      <td>132.0</td>\n",
       "      <td>NOT RATED</td>\n",
       "      <td>3.9</td>\n",
       "      <td>NaN</td>\n",
       "      <td>NaN</td>\n",
       "      <td>NaN</td>\n",
       "      <td>...</td>\n",
       "      <td>NaN</td>\n",
       "      <td>Yash</td>\n",
       "      <td>4.0</td>\n",
       "      <td>NaN</td>\n",
       "      <td>NaN</td>\n",
       "      <td>0.995110</td>\n",
       "      <td>0</td>\n",
       "      <td>0</td>\n",
       "      <td>0</td>\n",
       "      <td>0</td>\n",
       "    </tr>\n",
       "    <tr>\n",
       "      <th>4739</th>\n",
       "      <td>tt6588966</td>\n",
       "      <td>Hichki</td>\n",
       "      <td>2018.0</td>\n",
       "      <td>43182.0</td>\n",
       "      <td>106.0</td>\n",
       "      <td>NOT RATED</td>\n",
       "      <td>7.5</td>\n",
       "      <td>NaN</td>\n",
       "      <td>NaN</td>\n",
       "      <td>NaN</td>\n",
       "      <td>...</td>\n",
       "      <td>NaN</td>\n",
       "      <td>Yash</td>\n",
       "      <td>4.0</td>\n",
       "      <td>NaN</td>\n",
       "      <td>NaN</td>\n",
       "      <td>0.993959</td>\n",
       "      <td>0</td>\n",
       "      <td>0</td>\n",
       "      <td>0</td>\n",
       "      <td>0</td>\n",
       "    </tr>\n",
       "    <tr>\n",
       "      <th>4740</th>\n",
       "      <td>tt6527426</td>\n",
       "      <td>Zero</td>\n",
       "      <td>2018.0</td>\n",
       "      <td>43455.0</td>\n",
       "      <td>164.0</td>\n",
       "      <td>NOT RATED</td>\n",
       "      <td>5.5</td>\n",
       "      <td>NaN</td>\n",
       "      <td>NaN</td>\n",
       "      <td>NaN</td>\n",
       "      <td>...</td>\n",
       "      <td>NaN</td>\n",
       "      <td>Yash</td>\n",
       "      <td>4.0</td>\n",
       "      <td>NaN</td>\n",
       "      <td>NaN</td>\n",
       "      <td>0.992802</td>\n",
       "      <td>0</td>\n",
       "      <td>0</td>\n",
       "      <td>0</td>\n",
       "      <td>0</td>\n",
       "    </tr>\n",
       "    <tr>\n",
       "      <th>4744</th>\n",
       "      <td>tt3405236</td>\n",
       "      <td>Raees</td>\n",
       "      <td>2017.0</td>\n",
       "      <td>42760.0</td>\n",
       "      <td>143.0</td>\n",
       "      <td>NOT RATED</td>\n",
       "      <td>6.8</td>\n",
       "      <td>NaN</td>\n",
       "      <td>NaN</td>\n",
       "      <td>NaN</td>\n",
       "      <td>...</td>\n",
       "      <td>NaN</td>\n",
       "      <td>Zee</td>\n",
       "      <td>NaN</td>\n",
       "      <td>1.0</td>\n",
       "      <td>NaN</td>\n",
       "      <td>0.982346</td>\n",
       "      <td>0</td>\n",
       "      <td>0</td>\n",
       "      <td>0</td>\n",
       "      <td>0</td>\n",
       "    </tr>\n",
       "  </tbody>\n",
       "</table>\n",
       "<p>442 rows × 76 columns</p>\n",
       "</div>"
      ],
      "text/plain": [
       "       movie_id                  title  release_year  release_date  runtime  \\\n",
       "755   tt4743226             Air Strike        2018.0       43399.0     97.0   \n",
       "1196  tt0149624  All the Pretty Horses        2000.0       36885.0    117.0   \n",
       "1209  tt0249516             Foodfight!        2012.0       41317.0     91.0   \n",
       "1216  tt2788710          The Interview        2014.0       41997.0    111.0   \n",
       "1217  tt0080855          Heaven's Gate        1980.0       29544.0    219.0   \n",
       "...         ...                    ...           ...           ...      ...   \n",
       "4731  tt1786751                   CBGB        2013.0       41558.0     81.0   \n",
       "4733  tt5108476                Befikre        2016.0       42713.0    132.0   \n",
       "4739  tt6588966                 Hichki        2018.0       43182.0    106.0   \n",
       "4740  tt6527426                   Zero        2018.0       43455.0    164.0   \n",
       "4744  tt3405236                  Raees        2017.0       42760.0    143.0   \n",
       "\n",
       "     mpa_rating  imdb_score  dvd_sales  blu_sales  total_sales  ...  \\\n",
       "755           R         3.2        NaN        NaN          NaN  ...   \n",
       "1196      PG-13         5.8        NaN        NaN          NaN  ...   \n",
       "1209         PG         1.6        NaN        NaN          NaN  ...   \n",
       "1216          R         6.5  4026083.0  3540398.0    7566481.0  ...   \n",
       "1217          R         6.8        NaN        NaN          NaN  ...   \n",
       "...         ...         ...        ...        ...          ...  ...   \n",
       "4731          R         6.6   730891.0   105704.0     836595.0  ...   \n",
       "4733  NOT RATED         3.9        NaN        NaN          NaN  ...   \n",
       "4739  NOT RATED         7.5        NaN        NaN          NaN  ...   \n",
       "4740  NOT RATED         5.5        NaN        NaN          NaN  ...   \n",
       "4744  NOT RATED         6.8        NaN        NaN          NaN  ...   \n",
       "\n",
       "      net_profit                  studio  studio_score  price_class  \\\n",
       "755          NaN               LIONSGATE           4.0          NaN   \n",
       "1196         NaN  Sony Pictures/Columbia           6.0          1.0   \n",
       "1209         NaN                   Lions           4.0          1.0   \n",
       "1216         NaN  Sony Pictures/Columbia           6.0          1.0   \n",
       "1217         NaN                      UA           4.0          1.0   \n",
       "...          ...                     ...           ...          ...   \n",
       "4731         NaN                      XL           2.0          NaN   \n",
       "4733         NaN                    Yash           4.0          NaN   \n",
       "4739         NaN                    Yash           4.0          NaN   \n",
       "4740         NaN                    Yash           4.0          NaN   \n",
       "4744         NaN                     Zee           NaN          1.0   \n",
       "\n",
       "      contract_price positive_probability english dvd blu  cntry_USA  \n",
       "755              NaN             0.918572       1   0   0          0  \n",
       "1196           650.0             0.973119       1   0   0          1  \n",
       "1209           610.0             0.033616       1   0   0          1  \n",
       "1216           650.0             0.403739       1   1   1          1  \n",
       "1217           610.0             0.852019       1   0   0          1  \n",
       "...              ...                  ...     ...  ..  ..        ...  \n",
       "4731             NaN             0.971522       1   1   1          1  \n",
       "4733             NaN             0.995110       0   0   0          0  \n",
       "4739             NaN             0.993959       0   0   0          0  \n",
       "4740             NaN             0.992802       0   0   0          0  \n",
       "4744             NaN             0.982346       0   0   0          0  \n",
       "\n",
       "[442 rows x 76 columns]"
      ]
     },
     "execution_count": 112,
     "metadata": {},
     "output_type": "execute_result"
    }
   ],
   "source": [
    "df_meta[df_meta['theater_total'] == 0]"
   ]
  },
  {
   "cell_type": "code",
   "execution_count": 110,
   "metadata": {},
   "outputs": [
    {
     "data": {
      "text/plain": [
       "0"
      ]
     },
     "execution_count": 110,
     "metadata": {},
     "output_type": "execute_result"
    }
   ],
   "source": [
    "df_meta['theater_total'].isna().sum()"
   ]
  },
  {
   "cell_type": "code",
   "execution_count": 113,
   "metadata": {},
   "outputs": [],
   "source": [
    "ID = ['tt0029852','tt0338497','tt1754633','tt1703199','tt2494362','tt0363095','tt2126362','tt0066808','tt0040525','tt2980794','tt0060438',\n",
    "      'tt3499458','tt0075314','tt2268573','tt0074285','tt0057012','tt0044081','tt0061747','tt0822858','tt1653002','tt0071360','tt0064990',\n",
    "      'tt0092675','tt0031679','tt0038109','tt0109759','tt0027977','tt3504048','tt8043306','tt0473107','tt2017486','tt0029583','tt0028216',\n",
    "      'tt2282016','tt0032976','tt0046126','tt0098724','tt0044079','tt0048750','tt0043456','tt0105236','tt0051207','tt0806147','tt0065579',\n",
    "      'tt0080749','tt0067756','tt0075148','tt0057590','tt0082533','tt0065466','tt0049452','tt0401462','tt2852376','tt4733536','tt0323120',\n",
    "      'tt5022702','tt8361028','tt2141739','tt0047296','tt1769363','tt0034492','tt0066832','tt0069704','tt0308411','tt0110057','tt2016335',\n",
    "      'tt0024216','tt0027125','tt0066580','tt0076257','tt0058182','tt0071206','tt2246526']\n",
    "lst_opening_by_koyo = [0, 4, 1, 0, 0, 1, 0, 0, 0, 97, 0, 0, 0, 0, 0, 0, 0, 0, 0, 2, 0, 1, 123, 0, 0, 7, 0, 0, 0, 0, 0, 0, 0, 0, 0, 0, 4, 0, 0, 0, 19, 0, 0, 0, 0, 0, 0, 0, 0, 0, 0, 6, 0, 0, 0, 0, 0, 0, 0, 1, 0, 0, 0, 5, 3, 0, 0, 0, 781, 0, 2, 0, 1]\n",
    "lst_total_by_koyo = [0, 7, 2, 0, 0, 1, 0, 0, 0, 97, 0, 0, 0, 0, 0, 0, 0, 0, 0, 2, 0, 1, 124, 0, 0, 433, 0, 0, 0, 0, 0, 0, 0, 0, 0, 0, 534, 0, 0, 0, 61, 0, 0, 0, 0, 0, 0, 0, 0, 0, 0, 1, 0, 0, 0, 0, 0, 0, 0, 1, 0, 0, 0, 18, 262, 0, 0, 0, 781, 0, 63, 0, 1]"
   ]
  },
  {
   "cell_type": "code",
   "execution_count": 114,
   "metadata": {},
   "outputs": [
    {
     "data": {
      "text/plain": [
       "73"
      ]
     },
     "execution_count": 114,
     "metadata": {},
     "output_type": "execute_result"
    }
   ],
   "source": [
    "len(ID)"
   ]
  },
  {
   "cell_type": "code",
   "execution_count": 115,
   "metadata": {},
   "outputs": [
    {
     "data": {
      "text/plain": [
       "73"
      ]
     },
     "execution_count": 115,
     "metadata": {},
     "output_type": "execute_result"
    }
   ],
   "source": [
    "len(lst_opening_by_koyo)"
   ]
  },
  {
   "cell_type": "code",
   "execution_count": 116,
   "metadata": {},
   "outputs": [
    {
     "data": {
      "text/plain": [
       "73"
      ]
     },
     "execution_count": 116,
     "metadata": {},
     "output_type": "execute_result"
    }
   ],
   "source": [
    "len(lst_total_by_koyo)"
   ]
  },
  {
   "cell_type": "code",
   "execution_count": null,
   "metadata": {},
   "outputs": [],
   "source": []
  }
 ],
 "metadata": {
  "kernelspec": {
   "display_name": "Python 3",
   "language": "python",
   "name": "python3"
  },
  "language_info": {
   "codemirror_mode": {
    "name": "ipython",
    "version": 3
   },
   "file_extension": ".py",
   "mimetype": "text/x-python",
   "name": "python",
   "nbconvert_exporter": "python",
   "pygments_lexer": "ipython3",
   "version": "3.7.6"
  }
 },
 "nbformat": 4,
 "nbformat_minor": 4
}
