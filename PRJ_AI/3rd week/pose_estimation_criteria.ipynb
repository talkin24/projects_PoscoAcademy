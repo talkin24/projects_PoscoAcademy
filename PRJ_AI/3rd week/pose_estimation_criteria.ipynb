{
  "nbformat": 4,
  "nbformat_minor": 0,
  "metadata": {
    "colab": {
      "name": "pose_estimation_criteria.ipynb",
      "provenance": [],
      "collapsed_sections": []
    },
    "kernelspec": {
      "name": "python3",
      "display_name": "Python 3"
    }
  },
  "cells": [
    {
      "cell_type": "code",
      "metadata": {
        "id": "b7_Wh1DJFxuc",
        "colab_type": "code",
        "colab": {
          "base_uri": "https://localhost:8080/",
          "height": 125
        },
        "outputId": "de36e000-b9f3-4fcc-ae68-7d6b741eaeae"
      },
      "source": [
        "from google.colab import drive\n",
        "drive.mount('/gdrive',force_remount=True)"
      ],
      "execution_count": 1,
      "outputs": [
        {
          "output_type": "stream",
          "text": [
            "Go to this URL in a browser: https://accounts.google.com/o/oauth2/auth?client_id=947318989803-6bn6qk8qdgf4n4g3pfee6491hc0brc4i.apps.googleusercontent.com&redirect_uri=urn%3aietf%3awg%3aoauth%3a2.0%3aoob&response_type=code&scope=email%20https%3a%2f%2fwww.googleapis.com%2fauth%2fdocs.test%20https%3a%2f%2fwww.googleapis.com%2fauth%2fdrive%20https%3a%2f%2fwww.googleapis.com%2fauth%2fdrive.photos.readonly%20https%3a%2f%2fwww.googleapis.com%2fauth%2fpeopleapi.readonly\n",
            "\n",
            "Enter your authorization code:\n",
            "··········\n",
            "Mounted at /gdrive\n"
          ],
          "name": "stdout"
        }
      ]
    },
    {
      "cell_type": "code",
      "metadata": {
        "id": "iALUtybsF63t",
        "colab_type": "code",
        "colab": {}
      },
      "source": [
        "dir_path = \"/gdrive/My Drive/AI Project/week3/pose_estimation_ex\""
      ],
      "execution_count": 0,
      "outputs": []
    },
    {
      "cell_type": "markdown",
      "metadata": {
        "id": "wxfhVttqHOgO",
        "colab_type": "text"
      },
      "source": [
        ""
      ]
    },
    {
      "cell_type": "code",
      "metadata": {
        "id": "V2VVq7GlHNyX",
        "colab_type": "code",
        "colab": {}
      },
      "source": [
        "import json\n",
        "\n",
        "with open('/gdrive/My Drive/AI Project/week3/pose_estimation_ex/output/output-for-threshold/coordi_yml/hanbin2_test_000000000000_keypoints.json', 'r') as f:\n",
        "    json_data = json.load(f)\n",
        "\n",
        "# keypoint 좌표 리스트로 생성\n",
        "\"\"\"\n",
        "목 : 1\n",
        "왼쪽 어깨 : 5 / 오른쪽 어깨 : 2\n",
        "왼쪽 손목 : 7 / 오른쪽 손목 : 4\n",
        "\"\"\"\n",
        "points = json_data['people'][0]['pose_keypoints_2d']\n"
      ],
      "execution_count": 0,
      "outputs": []
    },
    {
      "cell_type": "code",
      "metadata": {
        "id": "zFOWBShEI87G",
        "colab_type": "code",
        "colab": {
          "base_uri": "https://localhost:8080/",
          "height": 54
        },
        "outputId": "4cdf3e1d-621b-4f33-d57c-426abed75aeb"
      },
      "source": [
        "print(points)"
      ],
      "execution_count": 10,
      "outputs": [
        {
          "output_type": "stream",
          "text": [
            "[309.859, 181.865, 0.859839, 433.839, 241.964, 0.472845, 368.542, 274.605, 0.528801, 299.426, 346.369, 0.694835, 194.982, 364.669, 0.586034, 476.924, 213.248, 0.0787635, 0, 0, 0, 0, 0, 0, 0, 0, 0, 0, 0, 0, 0, 0, 0, 0, 0, 0, 0, 0, 0, 0, 0, 0, 0, 0, 0, 285.03, 172.794, 0.910694, 317.596, 141.483, 0.892505, 277.155, 192.325, 0.0667305, 376.411, 123.208, 0.780934, 0, 0, 0, 0, 0, 0, 0, 0, 0, 0, 0, 0, 0, 0, 0, 0, 0, 0]\n"
          ],
          "name": "stdout"
        }
      ]
    },
    {
      "cell_type": "code",
      "metadata": {
        "id": "MN31YeSiIL3L",
        "colab_type": "code",
        "colab": {
          "base_uri": "https://localhost:8080/",
          "height": 34
        },
        "outputId": "dc62dae6-1fbc-4c78-91e8-7e59db0f78db"
      },
      "source": [
        "# 목 x 좌표\n",
        "print(points[0])"
      ],
      "execution_count": 9,
      "outputs": [
        {
          "output_type": "stream",
          "text": [
            "309.859\n"
          ],
          "name": "stdout"
        }
      ]
    },
    {
      "cell_type": "markdown",
      "metadata": {
        "id": "7Y3-qjjvGSK9",
        "colab_type": "text"
      },
      "source": [
        "# 임계값 계산"
      ]
    },
    {
      "cell_type": "code",
      "metadata": {
        "id": "bl2DdzFzGSdd",
        "colab_type": "code",
        "colab": {
          "base_uri": "https://localhost:8080/",
          "height": 134
        },
        "outputId": "fde6cbcb-8e6b-402e-8f9d-aaeaafde853f"
      },
      "source": [
        "# Sample 데이터로 임계값 계산\n",
        "def cal_criteria():\n",
        "  # 전체 Sample의 mean_SL, mean_SR 계산\n",
        "  cal_mean()\n",
        "\n",
        "  # 현재 프레임의 어깨에서 목까지의 거리 계산\n",
        "  distance_SL = Euclid(# SL 좌표, # Neck 좌표)\n",
        "  distance_SR = Euclid(# SR 좌표, # Neck 좌표)\n",
        "\n",
        "  # Over_SL : Sample 중 SL > mean_SL일 때, SL이 mean_SL 보다 몇배 큰지 \n",
        "  Over_SL_list = [] \n",
        "\n",
        "  # Under_SL : Sample 중 SL < mean_SL일 때, SL이 mean_SL 보다 몇배 작은지\n",
        "  Under_SL_list = []\n",
        "\n",
        "  # Over_SR : Sample 중 SL > mean_SR일 때, SR이 mean_SR 보다 몇배 큰지 \n",
        "  Over_SR_list = []\n",
        "\n",
        "  # Under_SR : Sample 중 SL < mean_SR일 때, SL이 mean_SR 보다 몇배 작은지\n",
        "  Under_SR_list = []\n",
        "\n",
        "  if distance_SL > mean_SL:\n",
        "    Over_SL.append(distance_SL/mean_SL)\n",
        "  if distance_SL < mean_SL:\n",
        "    Under_SL.append(distance_SL/mean_SL)\n",
        "  if distance_SL > mean_SL:\n",
        "    Over_SR.append(distance_SL/mean_SL)\n",
        "  if distance_SL < mean_SL:\n",
        "    Under_SR.append(distance_SL/mean_SL)\n",
        "  \n",
        "  Over_SL = np.mean(Over_SL_list)\n",
        "  Under_SL = np.mean(Under_SL_list)\n",
        "  Over_SR = np.mean(Over_SR_list)\n",
        "  Under_SR = np.mean(Under_SR_list)\n",
        "\n",
        "  return Over_SL, Under_SL, Over_SR, Under_SR"
      ],
      "execution_count": 3,
      "outputs": [
        {
          "output_type": "error",
          "ename": "SyntaxError",
          "evalue": "ignored",
          "traceback": [
            "\u001b[0;36m  File \u001b[0;32m\"<ipython-input-3-2c52791c462d>\"\u001b[0;36m, line \u001b[0;32m14\u001b[0m\n\u001b[0;31m    Under_SL_list = []\u001b[0m\n\u001b[0m                ^\u001b[0m\n\u001b[0;31mSyntaxError\u001b[0m\u001b[0;31m:\u001b[0m invalid syntax\n"
          ]
        }
      ]
    },
    {
      "cell_type": "markdown",
      "metadata": {
        "id": "gS4eXoLFGNIw",
        "colab_type": "text"
      },
      "source": [
        "# Shoulder Line Criteria"
      ]
    },
    {
      "cell_type": "code",
      "metadata": {
        "id": "WM9e3uw4GHWa",
        "colab_type": "code",
        "colab": {}
      },
      "source": [
        "import numpy as np\n",
        "\n",
        "# 유클리드 거리 : a, b사이의 거리 구하는 식 \n",
        "def Euclid(a, b) : \n",
        "    return (((a[0]-b[0])**2 + (a[1]-b[1])**2)**0.5)\n",
        "\n",
        "# 초반 30초 data -> 세 점의 평균 위치 계산(산술 평균)\n",
        "def cal_mean():\n",
        "  # 왼쪽 어깨 좌표 리스트\n",
        "  sh_left_x = []\n",
        "  sh_left_y = []\n",
        "  \n",
        "  # 오른쪽 어깨 좌표 리스트\n",
        "  sh_right_x = []\n",
        "  sh_right_y = []\n",
        "\n",
        "  # 목 좌표 리스트\n",
        "  neck_x = []\n",
        "  neck_y = []\n",
        "\n",
        "  sh_left_x.append(#왼쪽 어깨 x좌표)\n",
        "  sh_left_y.append(#왼쪽 어깨 y좌표)\n",
        "  sh_right_x.append(#오른쪽 어깨 x좌표)\n",
        "  sh_right_y.append(#오른쪽 어깨 y좌표)\n",
        "  neck_x.append(#목 x좌표)\n",
        "  neck_y.append(#목 y좌표)\n",
        "\n",
        "  # 왼쪽 어깨 평균 좌표\n",
        "  sh_left_mean = [np.mean(sh_left_x), np.mean(sh_left_y)]\n",
        "\n",
        "  # 오른쪽 어깨 평균 좌표\n",
        "  sh_right_mean = [np.mean(sh_right_x), np.mean(sh_right_y)]\n",
        "\n",
        "  # 목 평균 좌표\n",
        "  neck_mean = [np.mean(neck_x), np.mean(neck_y)]\n",
        "\n",
        "  # 왼쪽 어깨에서 목까지의 거리\n",
        "  mean_SL = Euclid(neck_mean, sh_left_mean)\n",
        "\n",
        "  # 오른쪽 어깨에서 목까지의 거리\n",
        "  mean_SR = Euclid(sh_right_mean, neck_mean)\n",
        "\n",
        "  return mean_SL, mean_SR\n",
        "\n",
        "def cal_mean_start():\n",
        "    # 영상 초반 30초 조건\n",
        "    if(time.time() - t) <= 30:\n",
        "        cal_mean()\n",
        "\n",
        "  return mean_SL, mean_SR\n",
        "\n",
        "if __name__ == '__main__':\n",
        "  # 초반 30초 어깨와 목 평균 거리 계산\n",
        "  t = time.time()\n",
        "  cal_mean_start()\n",
        "  \n",
        "  # 1) 왼쪽 어깨, 오른쪽 어깨 모두 detecting이 안되면 자리에 없음\n",
        "  if 0 in #왼쪽 어깨 좌표 and 0 in #오른쪽 어깨 좌표:\n",
        "    cv2.putText(frame, \"Not Studying\", (50, 100), cv2.FONT_HERSHEY_COMPLEX, .8, (255, 50, 0), 2, lineType=cv2.LINE_AA)\n",
        "\n",
        "  # 2) 매 프레임마다 SL,SR  계산 -> mean_SL, mean_SR과 비교\n",
        "  distance_SL = Euclid(# SL 좌표, # Neck 좌표)\n",
        "  distance_SR = Euclid(# SR 좌표, # Neck 좌표)\n",
        "\n",
        "  # 3) 양 어깨의 좌표값이 임계값 범위와 비교(한 좌표라도 임계값 범위에서 벗어났을 경우 -> Not-Studying)\n",
        "  elif (distance_SL > mean_SL * Over_SL * k) or (distance_SL < mean_SL * Under_SL * k) \\\n",
        "      or (distance_SR > mean_SR * Over_SR * k) or (distance_SR < mean_SR * Under_SR * k):\n",
        "    cv2.putText(frame, \"Not Studying\", (50, 100), cv2.FONT_HERSHEY_COMPLEX, .8, (255, 50, 0), 2, lineType=cv2.LINE_AA)\n"
      ],
      "execution_count": 0,
      "outputs": []
    },
    {
      "cell_type": "markdown",
      "metadata": {
        "id": "e-gEvK84HF7O",
        "colab_type": "text"
      },
      "source": [
        "# Wrist Criteria"
      ]
    },
    {
      "cell_type": "code",
      "metadata": {
        "id": "I4v2W7tpGaX4",
        "colab_type": "code",
        "colab": {}
      },
      "source": [
        " def cal_wrist():\n",
        "  # Wk, Wl 모두 이전 프레임과 x,y좌표 모두 동일 -> stop상태\n",
        "\n",
        "  left_W = (# 왼쪽 손목 x좌표, 왼쪽 손목 y좌표)\n",
        "  right_W = (# 오른쪽 손목 x좌표, 오른쪽 손목 y좌표)\n",
        "\n",
        "  # 1) -> stop 상태인 시간 기록 > 기준 시간 p 시점\n",
        "  # stop 상태인 시간 기록\n",
        "  if (left_W_before == left_W) and (right_W_before == right_W):\n",
        "    stop_time = time.time()\n",
        "    if stop_time > p:\n",
        "      cv2.putText(frame, \"Not Studying\", (50, 100), cv2.FONT_HERSHEY_COMPLEX, .8, (255, 50, 0), 2, lineType=cv2.LINE_AA)\n",
        "  # 2) 한 손이라도 움직인 경우 -> studying\n",
        "  elif (left_W_before != left_W) or (right_W_before != right_W):\n",
        "    pass\n",
        "  # 3) 양 손 모두 감지가 안되는 경우(xL == None & xR == None) -> Not Studying\n",
        "  elif 0 in left_W and 0 in right_W_before:\n",
        "    cv2.putText(frame, \"Not Studying\", (50, 100), cv2.FONT_HERSHEY_COMPLEX, .8, (255, 50, 0), 2, lineType=cv2.LINE_AA)"
      ],
      "execution_count": 0,
      "outputs": []
    },
    {
      "cell_type": "code",
      "metadata": {
        "id": "YSLXHHXUGabU",
        "colab_type": "code",
        "colab": {}
      },
      "source": [
        ""
      ],
      "execution_count": 0,
      "outputs": []
    },
    {
      "cell_type": "code",
      "metadata": {
        "id": "2cejjA79Gaem",
        "colab_type": "code",
        "colab": {}
      },
      "source": [
        ""
      ],
      "execution_count": 0,
      "outputs": []
    },
    {
      "cell_type": "code",
      "metadata": {
        "id": "MqwoiPLQGai4",
        "colab_type": "code",
        "colab": {}
      },
      "source": [
        ""
      ],
      "execution_count": 0,
      "outputs": []
    },
    {
      "cell_type": "code",
      "metadata": {
        "id": "5K1NrsoHGanB",
        "colab_type": "code",
        "colab": {}
      },
      "source": [
        ""
      ],
      "execution_count": 0,
      "outputs": []
    },
    {
      "cell_type": "code",
      "metadata": {
        "id": "unwD5wt7Gas3",
        "colab_type": "code",
        "colab": {}
      },
      "source": [
        ""
      ],
      "execution_count": 0,
      "outputs": []
    },
    {
      "cell_type": "code",
      "metadata": {
        "id": "IvsqDRXFGawp",
        "colab_type": "code",
        "colab": {}
      },
      "source": [
        ""
      ],
      "execution_count": 0,
      "outputs": []
    },
    {
      "cell_type": "code",
      "metadata": {
        "id": "hm9wdpTtGaqF",
        "colab_type": "code",
        "colab": {}
      },
      "source": [
        ""
      ],
      "execution_count": 0,
      "outputs": []
    }
  ]
}