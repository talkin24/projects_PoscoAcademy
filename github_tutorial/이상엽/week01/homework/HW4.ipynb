{
 "cells": [
  {
   "cell_type": "markdown",
   "metadata": {},
   "source": [
    "# 파일\n",
    "\n",
    "## 실습 1) - PPT 자료\n",
    "\n",
    "파일에 있는 각각의 단어 수 구하기\\\n",
    "<test.txt>\\\n",
    "first line\\\n",
    "second line\\\n",
    "third line\n"
   ]
  },
  {
   "cell_type": "code",
   "execution_count": 6,
   "metadata": {},
   "outputs": [
    {
     "name": "stdout",
     "output_type": "stream",
     "text": [
      "first 1\n",
      "line 3\n",
      "second 1\n",
      "third 1\n"
     ]
    }
   ],
   "source": [
    "import os\n",
    "\n",
    "if not os.path.exists(\"test.txt\"):\n",
    "    with open(\"test.txt\", \"w\") as f:\n",
    "        data = \"first line\\nsecond line\\nthird line\"\n",
    "        f.write(data)\n",
    "        \n",
    "f = open(\"test.txt\", \"r\")\n",
    "dic = dict()\n",
    "lines = f.readlines()\n",
    "for line in lines:\n",
    "    for word in line.strip().split(' '):\n",
    "        if word in dic:\n",
    "            dic[word] += 1\n",
    "        else:\n",
    "            dic[word] = 1\n",
    "            \n",
    "for k, v in dic.items():\n",
    "    print(k, v)\n",
    "f.close()"
   ]
  },
  {
   "cell_type": "markdown",
   "metadata": {},
   "source": [
    "## 실습2) – PPT 자료\n",
    "파일명을 입력 받아, 해당 파일을 한 줄씩 읽어 파일의 내용을 모두 대문자로 출력하는 프로그램을 작성하시오."
   ]
  },
  {
   "cell_type": "code",
   "execution_count": 5,
   "metadata": {},
   "outputs": [
    {
     "name": "stdout",
     "output_type": "stream",
     "text": [
      "Enter a file name: test.txt\n",
      "FIRST LINE\n",
      "SECOND LINE\n",
      "THIRD LINE\n"
     ]
    }
   ],
   "source": [
    "import os\n",
    "\n",
    "fileName = input('Enter a file name: ')\n",
    "if not os.path.exists(fileName):\n",
    "    with open(\"test.txt\", \"w\") as f:\n",
    "        data = '''\n",
    "            First Line\n",
    "            seCOnd lIne\n",
    "            ThIrD LiNe\n",
    "        '''\n",
    "        f.write(data)\n",
    "\n",
    "f = open(fileName, \"r\")\n",
    "data = f.read()\n",
    "print(data.upper())\n",
    "f.close()"
   ]
  },
  {
   "cell_type": "markdown",
   "metadata": {},
   "source": [
    "\n",
    "\n"
   ]
  },
  {
   "cell_type": "code",
   "execution_count": null,
   "metadata": {},
   "outputs": [],
   "source": []
  }
 ],
 "metadata": {
  "kernelspec": {
   "display_name": "Python 3",
   "language": "python",
   "name": "python3"
  },
  "language_info": {
   "codemirror_mode": {
    "name": "ipython",
    "version": 3
   },
   "file_extension": ".py",
   "mimetype": "text/x-python",
   "name": "python",
   "nbconvert_exporter": "python",
   "pygments_lexer": "ipython3",
   "version": "3.7.4"
  }
 },
 "nbformat": 4,
 "nbformat_minor": 2
}
