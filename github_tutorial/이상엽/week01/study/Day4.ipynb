{
 "cells": [
  {
   "cell_type": "markdown",
   "metadata": {},
   "source": [
    "# 디폴트 매개변수\n",
    "\n",
    "## 매개변수의 기본값을 지정해줄 수 있다.\n",
    " - 호출 시, 해당 매개변수를 주지 않는다면, 정의할 때 지정한 기본값을 가짐"
   ]
  },
  {
   "cell_type": "code",
   "execution_count": 1,
   "metadata": {},
   "outputs": [
    {
     "name": "stdout",
     "output_type": "stream",
     "text": [
      "My name is Chulsoo Kim.\n",
      "My name is Chulsoo Lee.\n"
     ]
    }
   ],
   "source": [
    "def printName(first, second = 'Lee'):\n",
    "    print('My name is', first, second + '.')\n",
    "    \n",
    "# 함수 호출\n",
    "printName('Chulsoo', 'Kim')\n",
    "printName('Chulsoo') # second에 대응되는 값을 주지 않았으므로 \n",
    "                     # 정의할 때 지정해줬던 'Lee'를 가짐\n",
    "    "
   ]
  },
  {
   "cell_type": "markdown",
   "metadata": {},
   "source": [
    " - 앞 매개변수가 디폴트 값을 가질 때, 뒤에 나타나는 매개변수는 반드시 디폴트 값"
   ]
  },
  {
   "cell_type": "code",
   "execution_count": 2,
   "metadata": {},
   "outputs": [],
   "source": [
    "# def printName(first='Kim', second):\n",
    "#     Error"
   ]
  },
  {
   "cell_type": "markdown",
   "metadata": {},
   "source": [
    "# 키워드 매개변수\n",
    "- 호출할 때, 해당 매개변수가 무엇인지 명시적으로 알려줌"
   ]
  },
  {
   "cell_type": "code",
   "execution_count": 3,
   "metadata": {},
   "outputs": [
    {
     "data": {
      "text/plain": [
       "60"
      ]
     },
     "execution_count": 3,
     "metadata": {},
     "output_type": "execute_result"
    }
   ],
   "source": [
    "def calc(x, y=0, z=0):\n",
    "    return x+y+z\n",
    "\n",
    "calc(y=20, x=10)\n",
    "calc(10,y=30,z=20)\n",
    "# calc(10,30,y=20) 에러"
   ]
  },
  {
   "cell_type": "markdown",
   "metadata": {},
   "source": [
    "# 반환 값이 여러 개인 함수\n",
    "- 튜플이나 리스트를 이용해 여러 개의 값을 리턴할 수 있음\n",
    "\n"
   ]
  },
  {
   "cell_type": "code",
   "execution_count": 11,
   "metadata": {},
   "outputs": [
    {
     "name": "stdout",
     "output_type": "stream",
     "text": [
      "<class 'tuple'>\n",
      "7 12\n"
     ]
    }
   ],
   "source": [
    "a = 3\n",
    "b = 4\n",
    "\n",
    "def add_and_mul(a,b):\n",
    "    return a+b, a*b\n",
    "#[]로 리스트 반환해도 되고 없이 하면 tuple로 반환된다\n",
    "\n",
    "add_res, mul_res = add_and_mul(a,b)\n",
    "print(type(add_and_mul(a,b)))\n",
    "print(add_res, mul_res)"
   ]
  },
  {
   "cell_type": "markdown",
   "metadata": {},
   "source": [
    "## 연습문제 4\n",
    " - 초를 넘겨주면 시간, 분, 초를 리턴해주는 함수를 작성하시오.\n"
   ]
  },
  {
   "cell_type": "code",
   "execution_count": 6,
   "metadata": {},
   "outputs": [
    {
     "name": "stdout",
     "output_type": "stream",
     "text": [
      "16시간 4분 54초\n"
     ]
    }
   ],
   "source": [
    "def hour_min_sec(second):\n",
    "    sec = second\n",
    "    hour = sec/3600\n",
    "    sec %= 3600\n",
    "    minute = sec/60\n",
    "    sec %= 60\n",
    "    return (hour, minute, sec)\n",
    "\n",
    "hour, minute, sec = hour_min_sec(57894)\n",
    "print(\"%d시간 %d분 %d초\" %(hour, minute, sec))"
   ]
  },
  {
   "cell_type": "markdown",
   "metadata": {},
   "source": [
    "## 매개변수 종류\n",
    "- Mutable 타입의 매개변수(call by reference)"
   ]
  },
  {
   "cell_type": "code",
   "execution_count": 12,
   "metadata": {},
   "outputs": [
    {
     "name": "stdout",
     "output_type": "stream",
     "text": [
      "[1, 2, 3, 4, 5, 6]\n"
     ]
    }
   ],
   "source": [
    "t = [1, 2, 3]\n",
    "\n",
    "def test(a):\n",
    "    a += [4, 5, 6]\n",
    "    \n",
    "test(t)\n",
    "print(t)"
   ]
  },
  {
   "cell_type": "code",
   "execution_count": 13,
   "metadata": {},
   "outputs": [
    {
     "name": "stdout",
     "output_type": "stream",
     "text": [
      "{1: 'a', 2: 'b'}\n"
     ]
    }
   ],
   "source": [
    "t = {1:'a'}\n",
    "\n",
    "def test(a):\n",
    "    a[2] = 'b'\n",
    "    \n",
    "test(t)\n",
    "print(t)"
   ]
  },
  {
   "cell_type": "markdown",
   "metadata": {},
   "source": [
    "- Immutable 타입의 매개변수(Call by Value)"
   ]
  },
  {
   "cell_type": "code",
   "execution_count": 14,
   "metadata": {},
   "outputs": [
    {
     "name": "stdout",
     "output_type": "stream",
     "text": [
      "(1, 2, 3)\n"
     ]
    }
   ],
   "source": [
    "t = (1,2,3)\n",
    "\n",
    "def test(a):\n",
    "    a += (4,5,6)\n",
    "    \n",
    "test(t)\n",
    "print(t)"
   ]
  },
  {
   "cell_type": "code",
   "execution_count": 15,
   "metadata": {},
   "outputs": [
    {
     "name": "stdout",
     "output_type": "stream",
     "text": [
      "1\n"
     ]
    }
   ],
   "source": [
    "t = 1\n",
    "\n",
    "def test(a):\n",
    "    a += 1\n",
    "    \n",
    "test(t)\n",
    "print(t)"
   ]
  },
  {
   "cell_type": "markdown",
   "metadata": {},
   "source": [
    "## 연습문제 5\n",
    "- 숫자로 구성된 리스트를 입력받아 최대값, 최소값을 리턴하고, 두 수를 리스트에서 제거하는 함수를 작성하시오\n"
   ]
  },
  {
   "cell_type": "code",
   "execution_count": 20,
   "metadata": {},
   "outputs": [
    {
     "name": "stdout",
     "output_type": "stream",
     "text": [
      "9\n",
      "1\n",
      "[3, 5, 2]\n"
     ]
    }
   ],
   "source": [
    "def get_min_max(I):\n",
    "    maxValue = max(I)\n",
    "    minValue = min(I)\n",
    "    while maxValue in I:\n",
    "        I.remove(maxValue)\n",
    "    while minValue in I:\n",
    "        I.remove(minValue)\n",
    "    return (maxValue, minValue)\n",
    "\n",
    "I = [3, 5, 9, 1, 2]\n",
    "(min_val, max_val) = get_min_max(I)\n",
    "\n",
    "print(min_val)\n",
    "print(max_val)\n",
    "print(I)"
   ]
  },
  {
   "cell_type": "markdown",
   "metadata": {},
   "source": [
    "## 연습문제 6\n",
    "- Dot product(스칼라곱, 내적)을 계산하는 sparseVectorDotProduct(v1, v3)함수 작성"
   ]
  },
  {
   "cell_type": "code",
   "execution_count": 34,
   "metadata": {},
   "outputs": [
    {
     "data": {
      "text/plain": [
       "0"
      ]
     },
     "execution_count": 34,
     "metadata": {},
     "output_type": "execute_result"
    }
   ],
   "source": [
    "def sparseVectorDotProduct(v1, v2):\n",
    "    tmp = set(list(v1.keys()) + list(v2.keys()))\n",
    "    answer = 0\n",
    "    for k in tmp:\n",
    "        if k in v1 and k in v2:\n",
    "            answer += v1[k]*v2[k]\n",
    "    return answer\n",
    "v1={'c':5}\n",
    "v2={'a':3,'b':2}\n",
    "sparseVectorDotProduct(v1, v2)\n"
   ]
  },
  {
   "cell_type": "code",
   "execution_count": 1,
   "metadata": {},
   "outputs": [
    {
     "data": {
      "text/plain": [
       "0"
      ]
     },
     "execution_count": 1,
     "metadata": {},
     "output_type": "execute_result"
    }
   ],
   "source": [
    "def sparseVectorDotProduct(v1, v2):\n",
    "    answer = 0\n",
    "    for k in v1:\n",
    "        if k in v2:\n",
    "            answer += v1[k]*v2[k]\n",
    "    return answer\n",
    "\n",
    "v1={'c':5}\n",
    "v2={'a':3,'b':2}\n",
    "sparseVectorDotProduct(v1, v2)"
   ]
  },
  {
   "cell_type": "markdown",
   "metadata": {},
   "source": [
    "# Python을 더욱 쉽게"
   ]
  },
  {
   "cell_type": "code",
   "execution_count": 2,
   "metadata": {},
   "outputs": [],
   "source": [
    "def dot_product1(v1,v2):\n",
    "    res = 0\n",
    "    for k in v1: # for k in v1.keys():\n",
    "        if k in v2:\n",
    "            res += v1[k]*v2[k]\n",
    "    return res"
   ]
  },
  {
   "cell_type": "code",
   "execution_count": 3,
   "metadata": {},
   "outputs": [],
   "source": [
    "def dot_product2(v1,v2):\n",
    "    res = 0\n",
    "#     for k in set(v1).intersect(set(v2)): 교집합\n",
    "    for k in set(v1) & set(v2):\n",
    "        res += v1[k] * v2[k]\n",
    "    return res\n",
    "\n",
    "#"
   ]
  },
  {
   "cell_type": "code",
   "execution_count": null,
   "metadata": {},
   "outputs": [],
   "source": [
    "#에러 처리\n",
    "def dot_product(v1,v2):\n",
    "    res = 0\n",
    "    for k in v1: # for k in v1.keys():\n",
    "        try:\n",
    "            res += v1[k]*v2[k]\n",
    "        except KeyError:\n",
    "            pass\n",
    "        except:\n",
    "            pass\n",
    "    return res"
   ]
  },
  {
   "cell_type": "code",
   "execution_count": 37,
   "metadata": {},
   "outputs": [],
   "source": [
    "#list comprehension\n",
    "def dot_product3(v1,v2):\n",
    "    return sum([v1[k]*v2[k] for k in v1 if k in v2])\n",
    "\n",
    "# sum(v1[k] for k in v1) 이런 것도 가능!"
   ]
  },
  {
   "cell_type": "code",
   "execution_count": 38,
   "metadata": {},
   "outputs": [
    {
     "name": "stdout",
     "output_type": "stream",
     "text": [
      "15\n",
      "0\n",
      "3\n"
     ]
    }
   ],
   "source": [
    "v1={'a':5}; v2={'a':3, 'b':2}\n",
    "v3={'c':5}; v4={'a':2, 'b':1}\n",
    "v5={'a':5, 'b':4}; v6={'a':-1, 'b':2}\n",
    "\n",
    "print(dot_product3(v1,v2)) # 15\n",
    "print(dot_product3(v3,v4)) # 0\n",
    "print(dot_product3(v5,v6)) # 3"
   ]
  },
  {
   "cell_type": "markdown",
   "metadata": {},
   "source": [
    "# module(모듈) \n",
    " - 라이브러리\n",
    " - 따로 만들어둔 보따리(?)"
   ]
  },
  {
   "cell_type": "markdown",
   "metadata": {},
   "source": [
    "## 난수 (Random Nuber) 생성\n"
   ]
  },
  {
   "cell_type": "code",
   "execution_count": 39,
   "metadata": {},
   "outputs": [
    {
     "data": {
      "text/plain": [
       "'d'"
      ]
     },
     "execution_count": 39,
     "metadata": {},
     "output_type": "execute_result"
    }
   ],
   "source": [
    "import random\n",
    "\n",
    "random.choice('abcdefg')"
   ]
  },
  {
   "cell_type": "code",
   "execution_count": 40,
   "metadata": {},
   "outputs": [
    {
     "data": {
      "text/plain": [
       "4"
      ]
     },
     "execution_count": 40,
     "metadata": {},
     "output_type": "execute_result"
    }
   ],
   "source": [
    "random.randint(a,b)#a~b 정수 값 중 하나;\n",
    "random.randrange(a,b+1) #randint(a,b)와 완전 동일한 기능"
   ]
  },
  {
   "cell_type": "markdown",
   "metadata": {},
   "source": [
    "## 무작위 섞기\n"
   ]
  },
  {
   "cell_type": "code",
   "execution_count": 43,
   "metadata": {},
   "outputs": [],
   "source": [
    "random.shuffle([1,2,3,4,5])\n",
    "random.shuffle([1,2,3,4,5], 3) #3개 샘플링"
   ]
  },
  {
   "cell_type": "markdown",
   "metadata": {},
   "source": [
    "## 로또 추첨 프로그램 -- 연습문제 7\n"
   ]
  },
  {
   "cell_type": "code",
   "execution_count": 55,
   "metadata": {},
   "outputs": [
    {
     "name": "stdout",
     "output_type": "stream",
     "text": [
      "** 로또 추첨을 시작합니다 **\n",
      "\n",
      "추첨된 로또 번호 == >  [30, 23, 33, 37, 0]\n"
     ]
    }
   ],
   "source": [
    "import random\n",
    "\n",
    "def lotto():\n",
    "    numbers = list(range(46))\n",
    "    lucky = []\n",
    "    for i in range(5):\n",
    "        lucky.append(random.choice(numbers))\n",
    "        numbers.remove(lucky[i])\n",
    "    return lucky\n",
    "\n",
    "print('** 로또 추첨을 시작합니다 **\\n')\n",
    "print('추첨된 로또 번호 == > ', end=' ')\n",
    "print(lotto())"
   ]
  },
  {
   "cell_type": "markdown",
   "metadata": {},
   "source": [
    "## Time 모듈\n",
    " - import time\n",
    " - time.time() : 1970년 1월 1일 0시 이후 누적된 초를 리턴\n",
    " - time.localtime() => 시스템 설정되어있는 날짜\n",
    " - time.strftime('date: %dth', t)\n",
    " "
   ]
  },
  {
   "cell_type": "code",
   "execution_count": 59,
   "metadata": {},
   "outputs": [
    {
     "data": {
      "text/plain": [
       "'date: 16th'"
      ]
     },
     "execution_count": 59,
     "metadata": {},
     "output_type": "execute_result"
    }
   ],
   "source": [
    "import time\n",
    "\n",
    "t = time.localtime()\n",
    "time.strftime('date: %dth', t)"
   ]
  },
  {
   "cell_type": "markdown",
   "metadata": {},
   "source": [
    "## 연습문제 8\n",
    "- 문장을 입력받으면 해당 문장에서 각 알파벳이 몇 개씩 나오는지 저장하는 딕셔너리를 반환하는 함수를 작성하시오\n",
    "- 위의 함수를 통해 생성된 딕셔너리를 입력받으면, 가장 많이 등장한 알파벳을 리턴하는 함수를 작성하시오. (여러 개일 경우 하나만 리턴해도 무관)"
   ]
  },
  {
   "cell_type": "code",
   "execution_count": 65,
   "metadata": {},
   "outputs": [
    {
     "name": "stdout",
     "output_type": "stream",
     "text": [
      "{'r': 1, 'e': 2, 'd': 1, ' ': 1, 'a': 1, 'p': 2, 'l': 1}\n",
      "['e', 'p']\n"
     ]
    }
   ],
   "source": [
    "def letter_dict(str):\n",
    "    dic = {}\n",
    "    for x in str:\n",
    "        if x in dic:\n",
    "            dic[x] += 1\n",
    "        else:\n",
    "            dic[x] = 1\n",
    "    return dic\n",
    "\n",
    "def max_letter(dict):\n",
    "    maxValue = max(dict.values())\n",
    "    return [k for k, v in dict.items() if v == maxValue]\n",
    "\n",
    "a = letter_dict('red apple')\n",
    "print(a)\n",
    "print(max_letter(a))\n",
    "        "
   ]
  },
  {
   "cell_type": "markdown",
   "metadata": {},
   "source": [
    "## 연습문제 9\n",
    "- 'yellow banana'를 letter_dict()에 이력하여 새로운 딕셔너리 b를 리턴받는다\n",
    "- 두 딕셔너리 a, b를 입력하면 각 딕셔너리에 등장한 값을 모두 더한 새로운 딕셔너리 c를 리턴하는 함수를 작성하시오."
   ]
  },
  {
   "cell_type": "code",
   "execution_count": 66,
   "metadata": {},
   "outputs": [
    {
     "name": "stdout",
     "output_type": "stream",
     "text": [
      "{'r': 1, 'e': 3, 'd': 1, ' ': 2, 'a': 4, 'p': 2, 'l': 3, 'y': 1, 'o': 1, 'w': 1, 'b': 1, 'n': 2}\n",
      "['a']\n"
     ]
    }
   ],
   "source": [
    "def comb_dict(dict1, dict2):\n",
    "    dic = dict1\n",
    "    for k, v in dict2.items():\n",
    "        if k in dic:\n",
    "            dic[k] += v\n",
    "        else:\n",
    "            dic[k] = v\n",
    "    return dic\n",
    "            \n",
    "b = letter_dict('yellow banana')\n",
    "c = comb_dict(a,b)\n",
    "\n",
    "print(c)\n",
    "print(max_letter(c))"
   ]
  },
  {
   "cell_type": "markdown",
   "metadata": {},
   "source": [
    "## 과제실습4_실습 1)\n",
    "\n",
    "- 아래와 같이 주어진 2개의 리스트로 딕셔너리를 만들어 출력하시오. 단, 순서는 다를 수 있음"
   ]
  },
  {
   "cell_type": "code",
   "execution_count": 23,
   "metadata": {},
   "outputs": [
    {
     "name": "stdout",
     "output_type": "stream",
     "text": [
      "{'one': 1, 'two': 2, 'three': 3, 'four': 4}\n"
     ]
    }
   ],
   "source": [
    "L1 = ['one', 'two', 'three', 'four']\n",
    "L2 = [1, 2, 3, 4]\n",
    "\n",
    "dic={}\n",
    "#zip()활용\n",
    "\n",
    "for (k,v) in zip(L1, L2):\n",
    "    dic[k]=v\n",
    "    \n",
    "print(dic)\n",
    "    "
   ]
  },
  {
   "cell_type": "markdown",
   "metadata": {},
   "source": [
    "# OOP & Numpy\n",
    "\n",
    "- 객체지향 프로그래밍(OOP)\n",
    "- 코드의 재사용성,확장성, 가독성 개선"
   ]
  },
  {
   "cell_type": "markdown",
   "metadata": {},
   "source": [
    "## 클래스(Class)\n",
    " - 클래스는 '틀'\n",
    " - 생성자는 없으면 __init__(self): pass 가 자동으로 생성\n",
    " - 생성자 내부 변수들은 인스턴스 변수, 외부 변수는 클래스 변수"
   ]
  },
  {
   "cell_type": "code",
   "execution_count": 20,
   "metadata": {},
   "outputs": [],
   "source": [
    "class Account:\n",
    "    num_acc = 0\n",
    "    def __init__(self, num='OOO-OOO-OOOOO', amnt=0, rate=1.0):\n",
    "        self.number = num\n",
    "        self.balance = amnt\n",
    "        self.rate = rate\n",
    "        Account.num_acc += 1 #Account의 클래스 변수 값 변경\n",
    "        \n",
    "    # 계좌의 기능(Method)\n",
    "    def deposit(self, money): #입금\n",
    "        self.balance += money # self.balance = self.balance + money\n",
    "    def withdraw(self, money): #인출\n",
    "        self.balance -= money\n",
    "        return True\n",
    "    def obtain_interest(self): #이자 획득\n",
    "        self.balance += self.balance*(self.rate/100)\n",
    "    def __add__(self, another): #두 계좌 통합 기능\n",
    "        new_acc=Account(amnt=self.balance+another.balance,rate=self.rate)\n",
    "        return new_acc\n",
    "    def transfer(self, another, amnt):\n",
    "        if self.withdraw(amnt):\n",
    "            another.deposit(amnt)\n",
    "    \n",
    "    def set_balance(self, amnt):\n",
    "        self.balance = amnt\n",
    "        \n",
    "    def get_balance(self):\n",
    "        return self.balance\n",
    "    \n",
    "    def __repr__(self):\n",
    "        return str(self.balance)"
   ]
  },
  {
   "cell_type": "markdown",
   "metadata": {},
   "source": [
    "# 중요! \n",
    "- 인스턴스 변수로 접근을 했는데 생성된 값이 따로 없으면 클래스 변수의 값을 들고와 연산하여 인스턴스 변수로 만든다."
   ]
  },
  {
   "cell_type": "code",
   "execution_count": 9,
   "metadata": {},
   "outputs": [
    {
     "name": "stdout",
     "output_type": "stream",
     "text": [
      "500\n",
      "1000\n",
      "0\n"
     ]
    }
   ],
   "source": [
    "acc1 = Account()\n",
    "acc2 = Account()\n",
    "acc3 = Account()\n",
    "acc1.deposit(500)\n",
    "acc2.deposit(1000)\n",
    "print(acc1.balance)\n",
    "print(acc2.balance)\n",
    "print(acc3.balance)"
   ]
  },
  {
   "cell_type": "markdown",
   "metadata": {},
   "source": [
    "속성 == 필드\n",
    "\n",
    "# 상속(Inheritance)\n",
    " - 기존 클래스의 필드와 메소드를 모두 물려받아 새로운 클래스를 만드는 것\n",
    " - 생성자를 새롭게 꾸미는 경우에 부모의 생성자를 이용하려면 꼭! 명시적으로 해줘야함\n",
    " "
   ]
  },
  {
   "cell_type": "code",
   "execution_count": 21,
   "metadata": {},
   "outputs": [],
   "source": [
    "class MinBalanceAccount(Account): #Account 클래스를 상속받음\n",
    "    def __init__(self, min_balance, num='0000-000-00000', amnt=0, rate=1.0):\n",
    "        Account.__init__(self, num=num, amnt=amnt, rate=rate)\n",
    "        self.minimum_balance = min_balance\n",
    "        self.bonus_rate = 1.0\n",
    "    \n",
    "    def withdraw(self, amnt): # 인출 기능 수정\n",
    "        if self.balance - amnt < self.minimum_balance:\n",
    "            print('Sorry, minimum balance must be maintained')\n",
    "            return False\n",
    "        else:\n",
    "            Account.withdraw(self, amnt)\n",
    "            return True\n",
    "            \n",
    "    def obtain_interest(self): #보너스 이율 반영\n",
    "        self.balance += (self.balance)*((self.rate+self.bonus_rate)/100.0)"
   ]
  },
  {
   "cell_type": "markdown",
   "metadata": {},
   "source": [
    "# 다형성(Polymorphism)\n",
    " - 상속 관계 내의 다른 클래스들의 인스턴스들이 서로 다른 동작을 할 수 있도록 하는 것\n",
    " - Method Overriding\n",
    " - Operator Overloading"
   ]
  },
  {
   "cell_type": "markdown",
   "metadata": {},
   "source": [
    "## 메소드 오버라이딩\n",
    "- 상위 클래스의 메소드를 하위 클래스에서 재정의\n"
   ]
  },
  {
   "cell_type": "markdown",
   "metadata": {},
   "source": [
    "## 연산자 오버로딩\n",
    " - 연산자를 클래스에 맞게 재정의하여 사용하는 것"
   ]
  },
  {
   "cell_type": "code",
   "execution_count": 11,
   "metadata": {},
   "outputs": [],
   "source": [
    "acc3=acc1+acc2\n",
    "# print(acc3.get_balance())"
   ]
  },
  {
   "cell_type": "markdown",
   "metadata": {},
   "source": [
    "## 연습문제 1\n",
    "- 계좌이체 메소드 구현"
   ]
  },
  {
   "cell_type": "code",
   "execution_count": 22,
   "metadata": {},
   "outputs": [
    {
     "name": "stdout",
     "output_type": "stream",
     "text": [
      "Sorry, minimum balance must be maintained\n",
      "500\n",
      "1000\n"
     ]
    }
   ],
   "source": [
    "acc1 = MinBalanceAccount(min_balance=0)\n",
    "acc1.set_balance(500)\n",
    "acc2 = MinBalanceAccount(min_balance=0)\n",
    "acc2.set_balance(1000)\n",
    "\n",
    "acc1.minimum_balance = 450\n",
    "acc1.transfer(acc2, 100)\n",
    "print(acc1.get_balance())\n",
    "print(acc2.get_balance())"
   ]
  },
  {
   "cell_type": "code",
   "execution_count": null,
   "metadata": {},
   "outputs": [],
   "source": []
  }
 ],
 "metadata": {
  "kernelspec": {
   "display_name": "Python 3",
   "language": "python",
   "name": "python3"
  },
  "language_info": {
   "codemirror_mode": {
    "name": "ipython",
    "version": 3
   },
   "file_extension": ".py",
   "mimetype": "text/x-python",
   "name": "python",
   "nbconvert_exporter": "python",
   "pygments_lexer": "ipython3",
   "version": "3.7.4"
  }
 },
 "nbformat": 4,
 "nbformat_minor": 2
}
