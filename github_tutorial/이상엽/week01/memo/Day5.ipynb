{
 "cells": [
  {
   "cell_type": "markdown",
   "metadata": {},
   "source": [
    "# Numpy(넘파이)"
   ]
  },
  {
   "cell_type": "code",
   "execution_count": 1,
   "metadata": {},
   "outputs": [],
   "source": [
    "import numpy"
   ]
  },
  {
   "cell_type": "code",
   "execution_count": 2,
   "metadata": {},
   "outputs": [
    {
     "name": "stdout",
     "output_type": "stream",
     "text": [
      "<class 'numpy.ndarray'>\n",
      "(3,)\n",
      "1 2 3\n",
      "[5 2 3]\n"
     ]
    }
   ],
   "source": [
    "import numpy as np # 축약\n",
    "\n",
    "a = np.array([1,2,3]) # 1차원 array [1,2,3] 생성\n",
    "print(type(a))\n",
    "print(a.shape) # 어떻게 생겼냐 (3,) ==> tuple 형태의 element 하나 => 크기가 3\n",
    "print(a[0], a[1], a[2])\n",
    "a[0] = 5\n",
    "print(a)"
   ]
  },
  {
   "cell_type": "code",
   "execution_count": 7,
   "metadata": {},
   "outputs": [
    {
     "name": "stdout",
     "output_type": "stream",
     "text": [
      "(2, 3)\n",
      "1\n",
      "4\n"
     ]
    }
   ],
   "source": [
    "b = np.array([[1,2,3],[4,5,6]])\n",
    "print(b.shape)\n",
    "print(b[0][0])\n",
    "print(b[1, 0])"
   ]
  },
  {
   "cell_type": "code",
   "execution_count": 10,
   "metadata": {},
   "outputs": [
    {
     "name": "stdout",
     "output_type": "stream",
     "text": [
      "[[0. 0.]\n",
      " [0. 0.]]\n",
      "[[1. 1.]]\n",
      "[[7 7]\n",
      " [7 7]]\n",
      "[[1. 0.]\n",
      " [0. 1.]]\n",
      "[[0.05122    0.34573381]\n",
      " [0.77395759 0.17153281]]\n"
     ]
    }
   ],
   "source": [
    "import numpy as np\n",
    "a = np.zeros((2,2)) # 모든 값이 0인 2x2 array 생성\n",
    "print(a)\n",
    "b = np.ones((1,2)) # 모든 값이 1인 1x2 array 생성\n",
    "print(b)\n",
    "c = np.full((2,2), 7) # 모든 값이 7인 2x2 array 생성\n",
    "print(c)\n",
    "d = np.eye(2) # 2x2 단위행렬(Identity matrix) 생성\n",
    "print(d)\n",
    "e = np.random.random((2,2)) # 0~1 랜덤 값을 가지는 2x2 array 생성\n",
    "print(e)"
   ]
  },
  {
   "cell_type": "code",
   "execution_count": 13,
   "metadata": {},
   "outputs": [
    {
     "name": "stdout",
     "output_type": "stream",
     "text": [
      "[[2 3]\n",
      " [6 7]]\n",
      "2\n",
      "77\n"
     ]
    }
   ],
   "source": [
    "a = np.array([[1,2,3,4],\n",
    "              [5,6,7,8],\n",
    "              [9,10,11,12]])\n",
    "\n",
    "# 첫번째 행의 처음부터 2 앞까지 (0,1), 두번째 행에서\n",
    "# 1부터 3 앞까지(1,2)의 값들을 떠와 b에 할당.\n",
    "# 따라서 b는 다음과 같은 2x2 array:\n",
    "# [[2 3]\n",
    "#  [6 7]]\n",
    "\n",
    "b = a[:2, 1:3]\n",
    "print(b)\n",
    "print(a[0,1])\n",
    "b[0, 0] = 77\n",
    "print(a[0, 1])"
   ]
  },
  {
   "cell_type": "code",
   "execution_count": 16,
   "metadata": {},
   "outputs": [
    {
     "name": "stdout",
     "output_type": "stream",
     "text": [
      "[5 6 7 8] (4,)\n",
      "[[5 6 7 8]] (1, 4)\n",
      "[ 2  6 10] (3,)\n",
      "[[ 2]\n",
      " [ 6]\n",
      " [10]] (3, 1)\n"
     ]
    }
   ],
   "source": [
    "import numpy as np\n",
    "# 2차원 배열(3x4) 생성\n",
    "# [[ 1 2 3 4]\n",
    "# [ 5 6 7 8]\n",
    "# [ 9 10 11 12]]\n",
    "a = np.array([[1,2,3,4],\n",
    "              [5,6,7,8],\n",
    "              [9,10,11,12]])\n",
    "# 두 번째 행의 값들을 모두 가져오는 두 가지 방법\n",
    "#!!!!!!!!!!인덱싱 => 부분형태가 아닌 그 알맹이를 가져온다!\n",
    "row_r1 = a[1, :]# 1차원 행렬 (4,)\n",
    "#!!!!!!!!!!슬라이싱 => 잘라서 다시 그 형태를 유지해서 가져온다!\n",
    "row_r2 = a[1:2, :] # 2차원 행렬 (1x4) – 기존 차원 유지\n",
    "print(row_r1, row_r1.shape)\n",
    "print(row_r2, row_r2.shape)\n",
    "# 두 번째 열의 값들을 모두 가져오는 두 가지 방법\n",
    "col_r1 = a[:, 1]\n",
    "col_r2 = a[:, 1:2]\n",
    "print(col_r1, col_r1.shape) # 벡터\n",
    "print(col_r2, col_r2.shape) # 행렬의 개념인데 행이 1개 일뿐\n",
    "\n",
    "\n",
    "\n"
   ]
  },
  {
   "cell_type": "code",
   "execution_count": 19,
   "metadata": {},
   "outputs": [
    {
     "name": "stdout",
     "output_type": "stream",
     "text": [
      "[1 4 5]\n",
      "[1 4 5]\n"
     ]
    }
   ],
   "source": [
    "a = np.array([[1,2],[3,4],[5,6]])\n",
    "c = np.array([a[0,0], a[1,1], a[2,0]])\n",
    "\n",
    "c2 = a[[0,1,2], [0,1,0]]\n",
    "\n",
    "# 이 둘은 같다 왼쪽은 x, 오른쪽은 y\n",
    "print(c)\n",
    "print(c2)"
   ]
  },
  {
   "cell_type": "code",
   "execution_count": 23,
   "metadata": {},
   "outputs": [
    {
     "name": "stdout",
     "output_type": "stream",
     "text": [
      "[2 2]\n",
      "[2 2]\n"
     ]
    }
   ],
   "source": [
    "print(a[[0,0], [1,1]])\n",
    "print(np.array([a[0,1],a[0,1]]))"
   ]
  },
  {
   "cell_type": "code",
   "execution_count": 28,
   "metadata": {},
   "outputs": [
    {
     "name": "stdout",
     "output_type": "stream",
     "text": [
      "[[ 1  2  3]\n",
      " [ 4  5  6]\n",
      " [ 7  8  9]\n",
      " [10 11 12]]\n",
      "[ 1  6  7 11]\n",
      "[[11  2  3]\n",
      " [ 4  5 16]\n",
      " [17  8  9]\n",
      " [10 21 12]]\n"
     ]
    }
   ],
   "source": [
    "a = np.array([[1,2,3],\n",
    "              [4,5,6],\n",
    "              [7,8,9],\n",
    "              [10,11,12]])\n",
    "\n",
    "print(a)\n",
    "\n",
    "b = np.array([0, 2, 0 ,1])\n",
    "print(a[np.arange(4), b]) # == np.array(range(4))\n",
    "\n",
    "a[np.arange(4), b] += 10\n",
    "print(a)"
   ]
  },
  {
   "cell_type": "markdown",
   "metadata": {},
   "source": [
    "# 데이터 타입\n"
   ]
  },
  {
   "cell_type": "code",
   "execution_count": 29,
   "metadata": {},
   "outputs": [
    {
     "name": "stdout",
     "output_type": "stream",
     "text": [
      "int64\n",
      "float64\n",
      "int64\n"
     ]
    }
   ],
   "source": [
    "import numpy as np\n",
    "\n",
    "x = np.array([1,2])\n",
    "print(x.dtype)\n",
    "\n",
    "x = np.array([1.0, 2.0])\n",
    "print(x.dtype)\n",
    "\n",
    "x = np.array([1, 2], dtype=np.int64)\n",
    "print(x.dtype)"
   ]
  },
  {
   "cell_type": "code",
   "execution_count": 31,
   "metadata": {},
   "outputs": [
    {
     "name": "stdout",
     "output_type": "stream",
     "text": [
      "[1. 2.]\n"
     ]
    }
   ],
   "source": [
    "x = np.array([1,2], dtype= np.float64)\n",
    "print(x)"
   ]
  },
  {
   "cell_type": "markdown",
   "metadata": {},
   "source": [
    "## Array 연산\n",
    "\n",
    "- 기본적으로 shape이 맞아야한다"
   ]
  },
  {
   "cell_type": "code",
   "execution_count": 32,
   "metadata": {},
   "outputs": [
    {
     "name": "stdout",
     "output_type": "stream",
     "text": [
      "[[ 6.  8.]\n",
      " [10. 12.]]\n",
      "[[ 6.  8.]\n",
      " [10. 12.]]\n"
     ]
    }
   ],
   "source": [
    "import numpy as np\n",
    "\n",
    "x = np.array([[1,2], [3,4]], dtype = np.float64)\n",
    "y = np.array([[5,6], [7,8]], dtype = np.float64)\n",
    "\n",
    "print(x + y)\n",
    "print(np.add(x, y))"
   ]
  },
  {
   "cell_type": "markdown",
   "metadata": {},
   "source": [
    "## dot과 *의 차이"
   ]
  },
  {
   "cell_type": "code",
   "execution_count": 35,
   "metadata": {},
   "outputs": [
    {
     "name": "stdout",
     "output_type": "stream",
     "text": [
      "219\n",
      "219\n",
      "[ 99 120]\n",
      "[[19 22]\n",
      " [43 50]]\n",
      "[[19 22]\n",
      " [43 50]]\n"
     ]
    }
   ],
   "source": [
    "x = np.array([[1, 2], [3, 4]])\n",
    "y = np.array([[5, 6], [7, 8]])\n",
    "v = np.array([9, 10])\n",
    "w = np.array([11, 12])\n",
    "\n",
    "print(v.dot(w))\n",
    "print(np.dot(v,w))\n",
    "print(v*w)\n",
    "\n",
    "print(x.dot(y))\n",
    "print(np.dot(x, y))"
   ]
  },
  {
   "cell_type": "markdown",
   "metadata": {},
   "source": [
    "# Sum"
   ]
  },
  {
   "cell_type": "code",
   "execution_count": 38,
   "metadata": {},
   "outputs": [
    {
     "name": "stdout",
     "output_type": "stream",
     "text": [
      "[3 7]\n"
     ]
    }
   ],
   "source": [
    "x = np.array([[1, 2],\n",
    "              [3, 4]])\n",
    "# print(x.shape)\n",
    "print(np.sum(x, axis = 0).shape)\n",
    "# print(np.sum(x, axis = 1).shape)\n",
    "print(np.sum(x, axis = 2))\n",
    "#axis 0이면 앞, 1이면 뒤를 없애는 방향으로 합이 일어난다"
   ]
  },
  {
   "cell_type": "code",
   "execution_count": 41,
   "metadata": {},
   "outputs": [
    {
     "name": "stdout",
     "output_type": "stream",
     "text": [
      "24.0\n",
      "[[2. 2. 2. 2.]\n",
      " [2. 2. 2. 2.]\n",
      " [2. 2. 2. 2.]]\n",
      "[[3. 3. 3. 3.]\n",
      " [3. 3. 3. 3.]]\n"
     ]
    }
   ],
   "source": [
    "a = np.ones([2,3,4])\n",
    "# print(a.shape)\n",
    "\n",
    "print(np.sum(a))\n",
    "print(np.sum(a, axis = 0)) \n",
    "# 2가 없어지고 3, 4가 남고 , 없어지는 애들의 합이 인자로 들어감\n",
    "print(np.sum(a, axis = 1))\n",
    "# print(np.sum(a, axis = 2))"
   ]
  },
  {
   "cell_type": "code",
   "execution_count": 45,
   "metadata": {},
   "outputs": [
    {
     "name": "stdout",
     "output_type": "stream",
     "text": [
      "[[1 2]\n",
      " [3 4]]\n",
      "[[1 3]\n",
      " [2 4]]\n",
      "(3,)\n",
      "(3,)\n"
     ]
    }
   ],
   "source": [
    "import numpy as np\n",
    "\n",
    "x = np.array([[1,2], [3, 4]])\n",
    "\n",
    "print(x)\n",
    "print(x.T)\n",
    "\n",
    "# 벡터의 경우 같다.\n",
    "v = np.array([1,2,3])\n",
    "print(v.shape)\n",
    "print(v.T.shape)"
   ]
  },
  {
   "cell_type": "markdown",
   "metadata": {},
   "source": [
    "# Broadcasting\n"
   ]
  },
  {
   "cell_type": "code",
   "execution_count": 48,
   "metadata": {},
   "outputs": [
    {
     "name": "stdout",
     "output_type": "stream",
     "text": [
      "[[ 2  2  4]\n",
      " [ 5  5  7]\n",
      " [ 8  8 10]\n",
      " [11 11 13]]\n"
     ]
    }
   ],
   "source": [
    "x = np.array([[1,2,3], \n",
    "              [4,5,6], \n",
    "              [7,8,9], \n",
    "              [10,11,12]])\n",
    "\n",
    "v = np.array([1,0,1])\n",
    "\n",
    "# Broadcasting이 없었다면? - 1\n",
    "# for는 연산속도에서 비효율적이다.\n",
    "\n",
    "y = np.empty_like(x)\n",
    "# shape은 tuple로 반환되므로\n",
    "for i in range(x.shape[0]):\n",
    "    y[i,:] = x[i,:] + v # y[i] = x[i] + y 도 됨\n",
    "print(y)"
   ]
  },
  {
   "cell_type": "code",
   "execution_count": 50,
   "metadata": {},
   "outputs": [
    {
     "name": "stdout",
     "output_type": "stream",
     "text": [
      "[[ 2  2  4]\n",
      " [ 5  5  7]\n",
      " [ 8  8 10]\n",
      " [11 11 13]]\n"
     ]
    }
   ],
   "source": [
    "#Broadcasting이 없었다면? - 2\n",
    "# 값복사로 인한 메모리 낭비가 있다.\n",
    "\n",
    "x = np.array([[1,2,3], \n",
    "              [4,5,6], \n",
    "              [7,8,9], \n",
    "              [10,11,12]])\n",
    "v = np.array([1,0,1])\n",
    "\n",
    "vv = np.tile(v, (4,1)) # shape의 제일 뒤 숫자인 1을 주면 그걸 자신이라 생각\n",
    "\n",
    "y = x+vv\n",
    "print(y)\n",
    "\n"
   ]
  },
  {
   "cell_type": "code",
   "execution_count": 53,
   "metadata": {},
   "outputs": [
    {
     "name": "stdout",
     "output_type": "stream",
     "text": [
      "[[ 2  2  4]\n",
      " [ 5  5  7]\n",
      " [ 8  8 10]\n",
      " [11 11 13]]\n",
      "(4, 3)\n",
      "(3,)\n"
     ]
    }
   ],
   "source": [
    "#Broadcasting을 활용한다면?\n",
    "\n",
    "y = x + v\n",
    "print(y)\n",
    "\n",
    "# 어떻게 알고 하는걸까?\n",
    "print(x.shape)\n",
    "print(v.shape)\n",
    "\n",
    "#둘다 3은 같고 4가 남으니? 복사해서 더하면 되겠다"
   ]
  },
  {
   "cell_type": "code",
   "execution_count": 55,
   "metadata": {},
   "outputs": [
    {
     "name": "stdout",
     "output_type": "stream",
     "text": [
      "(4, 3)\n",
      "(1, 3)\n",
      "[[ 2  2  4]\n",
      " [ 5  5  7]\n",
      " [ 8  8 10]\n",
      " [11 11 13]]\n"
     ]
    }
   ],
   "source": [
    "# 다른 예제\n",
    "\n",
    "v1 = np.array([[1,0,1]])\n",
    "y = x + v1\n",
    "\n",
    "print(x.shape)\n",
    "print(v1.shape)\n",
    "print(y)\n",
    "\n",
    "# 3은 중복이고 1을 반복하라는 소리구나? 라고 인식한다.\n",
    "# (3,)에서도 맞는 이유는 뒤로부터 검사하기 때문에\n",
    "# (4,3)과 (3,) 에서도 맞춰지는 것이다.\n",
    "\n",
    "# (3, 4)와 (3, ) 는 안됨! 뒤로부터 맞춰보기 때문에"
   ]
  },
  {
   "cell_type": "code",
   "execution_count": 56,
   "metadata": {},
   "outputs": [],
   "source": [
    "# 되는 경우\n",
    "# (4,3,2) (1,3,2)\n",
    "# (2,1,3) (1,1,1)\n",
    "# (3, 2, 1) (1, 2, 3)\n",
    "\n",
    "\n",
    "# 안되는경우\n",
    "# (4, 3) (2, 3) => 2니깐 2번 반복해라 이건 안됨\n",
    "# (4, 3) (3, 3) => 이것도 안됨\n",
    "\n",
    "\n"
   ]
  },
  {
   "cell_type": "code",
   "execution_count": 60,
   "metadata": {},
   "outputs": [
    {
     "name": "stdout",
     "output_type": "stream",
     "text": [
      "(3, 4)\n",
      "(3, 1)\n",
      "[[ 2  5  8 11]\n",
      " [ 2  5  8 11]\n",
      " [ 4  7 10 13]]\n"
     ]
    }
   ],
   "source": [
    "x1 = x.T\n",
    "v1 = np.array([1,0,1])\n",
    "#되게하는 방법 (3,1)로만들면됨\n",
    "# v1 = v1.reshape((3,1))\n",
    "v2 = v1[:,None]\n",
    "y = x1 + v2\n",
    "print(x1.shape)\n",
    "print(v2.shape)\n",
    "print(y)"
   ]
  },
  {
   "cell_type": "markdown",
   "metadata": {},
   "source": [
    " - 연산자가 겹치는 경우 왼쪽부터 대부분 들어가나 연산자에 따라 다름"
   ]
  },
  {
   "cell_type": "markdown",
   "metadata": {},
   "source": [
    "## 연습문제 2\n",
    " - 연립 2차 방정식 풀기\n",
    " - a+b=15 2a+b=25 a = 10, b = 5"
   ]
  },
  {
   "cell_type": "code",
   "execution_count": null,
   "metadata": {},
   "outputs": [],
   "source": [
    "s1 = list(map(int, input('1번째 식: ').split(' ')))\n",
    "s2 = list(map(int, input('2번째 식: ').split(' ')))\n",
    "\n",
    "p = np.array([s1[:-1], s2[:-1]])\n",
    "q = np.array([[s1[-1]], [s2[-1]]])\n",
    "\n",
    "t = 1/(p[0, 0]*p[1, 1] - p[0, 1]*p[1, 0])\n",
    "p1 = np.array([[p[1,1], p[0,1]*-1], [-1*p[1, 0], p[0,0]]])\n",
    "\n",
    "print((t*p1).dot(q))"
   ]
  },
  {
   "cell_type": "markdown",
   "metadata": {},
   "source": [
    "# pickle\n",
    "\n",
    "- 데이터를 타입 변경 없이, 파일로 저장 및 불러오기가 가능하도록 하는 모듈"
   ]
  }
 ],
 "metadata": {
  "kernelspec": {
   "display_name": "Python 3",
   "language": "python",
   "name": "python3"
  },
  "language_info": {
   "codemirror_mode": {
    "name": "ipython",
    "version": 3
   },
   "file_extension": ".py",
   "mimetype": "text/x-python",
   "name": "python",
   "nbconvert_exporter": "python",
   "pygments_lexer": "ipython3",
   "version": "3.7.4"
  }
 },
 "nbformat": 4,
 "nbformat_minor": 2
}
