{
 "cells": [
  {
   "cell_type": "markdown",
   "metadata": {},
   "source": [
    "# 문자열(''' 이용)\n",
    "\n",
    "주석으로도 쓴다.\n",
    "\n",
    "docstring을 부르는 건 Shift + tab"
   ]
  },
  {
   "cell_type": "code",
   "execution_count": 1,
   "metadata": {},
   "outputs": [],
   "source": [
    "a = '''Python\n",
    "is\n",
    "fun!\n",
    "'''"
   ]
  },
  {
   "cell_type": "code",
   "execution_count": 2,
   "metadata": {},
   "outputs": [
    {
     "data": {
      "text/plain": [
       "'Python\\nis\\nfun!\\n'"
      ]
     },
     "execution_count": 2,
     "metadata": {},
     "output_type": "execute_result"
    }
   ],
   "source": [
    "a"
   ]
  },
  {
   "cell_type": "markdown",
   "metadata": {},
   "source": [
    "# 문자열 인덱싱\n",
    "\n",
    "인덱스는 0부터 시작한다.\\\n",
    "역순으로 할때는 뒤에서 -1부터 시작한다\n",
    "\n",
    "Python\\\n",
    "012345\\\n",
    "654321(-)\n"
   ]
  },
  {
   "cell_type": "code",
   "execution_count": 3,
   "metadata": {},
   "outputs": [
    {
     "name": "stdout",
     "output_type": "stream",
     "text": [
      "P\n",
      "n\n"
     ]
    }
   ],
   "source": [
    "word = 'Python'\n",
    "print(word[0])\n",
    "print(word[-1])"
   ]
  },
  {
   "cell_type": "markdown",
   "metadata": {},
   "source": [
    "# 문자열 슬라이싱\n",
    "\n",
    "[시작:끝:스탭(range와 비슷)]\n"
   ]
  },
  {
   "cell_type": "code",
   "execution_count": 4,
   "metadata": {},
   "outputs": [
    {
     "name": "stdout",
     "output_type": "stream",
     "text": [
      "Py\n",
      "Py\n",
      "nohtyP\n"
     ]
    }
   ],
   "source": [
    "print(word[0:2])\n",
    "print(word[:2])\n",
    "print(word[::-1])"
   ]
  },
  {
   "cell_type": "markdown",
   "metadata": {},
   "source": [
    "# 문자열 관련 함수\n",
    "\n",
    "len() : 시퀀스 자료의 크기\\\n",
    "index(): 문자열 중 문자' '이 처음으로 나온 위치 반환\\\n",
    "count(): 문자열 중 문자' '의 개수를 반환\\\n",
    "join(): 문자열 합해줌(하나하나씩) \n"
   ]
  },
  {
   "cell_type": "code",
   "execution_count": 5,
   "metadata": {},
   "outputs": [
    {
     "name": "stdout",
     "output_type": "stream",
     "text": [
      "6\n",
      "2\n",
      "5\n",
      "1,2,3,4\n"
     ]
    }
   ],
   "source": [
    "s = 'Python is fun!'\n",
    "print(len(word))\n",
    "print(s.count('n'))\n",
    "print(s.index('n'))\n",
    "\n",
    "a = ','\n",
    "b = '1234'\n",
    "print(a.join(b))"
   ]
  },
  {
   "cell_type": "code",
   "execution_count": 6,
   "metadata": {},
   "outputs": [
    {
     "data": {
      "text/plain": [
       "'o'"
      ]
     },
     "execution_count": 6,
     "metadata": {},
     "output_type": "execute_result"
    }
   ],
   "source": [
    "word = 'Hello'\n",
    "word[len(word)-1]"
   ]
  },
  {
   "cell_type": "markdown",
   "metadata": {},
   "source": [
    "# 문자열 관련 함수\n",
    "\n",
    "split() : 문자열을 공백이나 다른 문자로 분리해서 리스트로 반환"
   ]
  },
  {
   "cell_type": "code",
   "execution_count": 7,
   "metadata": {},
   "outputs": [
    {
     "name": "stdout",
     "output_type": "stream",
     "text": [
      "['python', 'is', 'fun']\n"
     ]
    }
   ],
   "source": [
    "s1 = \"python is fun\"\n",
    "print(s1.split()) #공백으로 분리"
   ]
  },
  {
   "cell_type": "code",
   "execution_count": 8,
   "metadata": {},
   "outputs": [
    {
     "name": "stdout",
     "output_type": "stream",
     "text": [
      "['one', 'two', 'three']\n"
     ]
    }
   ],
   "source": [
    "s2 = \"one:two:three\"\n",
    "print(s2.split(':'))"
   ]
  },
  {
   "cell_type": "markdown",
   "metadata": {},
   "source": [
    "# List(리스트)\n",
    "\n",
    "여러 정보를 하나로 묶어서 저장하고 관리할 수 있게 함\\\n",
    "[]안에 쉼표(,)로 구분하여 정보를 적어줌\\\n",
    "\\\n",
    "empty_list = []"
   ]
  },
  {
   "cell_type": "markdown",
   "metadata": {},
   "source": [
    "# 리스트 인덱싱\n",
    "\n",
    "0번부터 시작"
   ]
  },
  {
   "cell_type": "code",
   "execution_count": 9,
   "metadata": {},
   "outputs": [
    {
     "data": {
      "text/plain": [
       "'summer'"
      ]
     },
     "execution_count": 9,
     "metadata": {},
     "output_type": "execute_result"
    }
   ],
   "source": [
    "season = ['spring', 'summer', 'fall', 'winter']\n",
    "season[1]"
   ]
  },
  {
   "cell_type": "markdown",
   "metadata": {},
   "source": [
    "# 리스트 더하기 및 반복\n",
    "+와 *를 활용"
   ]
  },
  {
   "cell_type": "code",
   "execution_count": 10,
   "metadata": {},
   "outputs": [
    {
     "data": {
      "text/plain": [
       "[1, 2, 3, 4, 5, 6]"
      ]
     },
     "execution_count": 10,
     "metadata": {},
     "output_type": "execute_result"
    }
   ],
   "source": [
    "a = [1,2,3]\n",
    "b = [4,5,6]\n",
    "\n",
    "a+b"
   ]
  },
  {
   "cell_type": "code",
   "execution_count": 11,
   "metadata": {},
   "outputs": [
    {
     "data": {
      "text/plain": [
       "[1, 2, 3, 1, 2, 3, 1, 2, 3]"
      ]
     },
     "execution_count": 11,
     "metadata": {},
     "output_type": "execute_result"
    }
   ],
   "source": [
    "a*3"
   ]
  },
  {
   "cell_type": "markdown",
   "metadata": {},
   "source": [
    "# 멤버확인 - 리스트\n",
    "\n",
    "'in' & 'not in'"
   ]
  },
  {
   "cell_type": "code",
   "execution_count": 12,
   "metadata": {},
   "outputs": [
    {
     "data": {
      "text/plain": [
       "True"
      ]
     },
     "execution_count": 12,
     "metadata": {},
     "output_type": "execute_result"
    }
   ],
   "source": [
    "fruit = ['banana', 'apple', 'orange']\n",
    "'apple' in fruit"
   ]
  },
  {
   "cell_type": "markdown",
   "metadata": {},
   "source": [
    "# 리스트 수정 및 삭제"
   ]
  },
  {
   "cell_type": "code",
   "execution_count": 13,
   "metadata": {},
   "outputs": [
    {
     "data": {
      "text/plain": [
       "[1, 'a', 'b', 'c', 3]"
      ]
     },
     "execution_count": 13,
     "metadata": {},
     "output_type": "execute_result"
    }
   ],
   "source": [
    "a = [1,2,3]\n",
    "a[1:2] = ['a', 'b', 'c']\n",
    "a"
   ]
  },
  {
   "cell_type": "markdown",
   "metadata": {},
   "source": [
    "# 리스트 패킹, 언패킹\n",
    "패킹 : 한 변수에 여러 개의 데이터를 넣는 것\\\n",
    "언패킹 : 한 변수의 데이터를 각각의 변수로 반환\n"
   ]
  },
  {
   "cell_type": "code",
   "execution_count": 14,
   "metadata": {},
   "outputs": [
    {
     "name": "stdout",
     "output_type": "stream",
     "text": [
      "1 2 3\n"
     ]
    }
   ],
   "source": [
    "t = [1,2,3] #패킹\n",
    "a, b, c = t #언패킹\n",
    "print(a,b,c)\n"
   ]
  },
  {
   "cell_type": "markdown",
   "metadata": {},
   "source": [
    "# 실습 문제 4\n",
    "\n",
    "아래의 실행예제를 참고하여 프로그램 작성\\\n",
    "날짜(연/월/일)입력 2020/01/13\\\n",
    "입력한 날짜의 10년 후는 2030년 01월 13일\\\n",
    "언패킹을 활용해서 해보자"
   ]
  },
  {
   "cell_type": "code",
   "execution_count": 15,
   "metadata": {},
   "outputs": [
    {
     "name": "stdout",
     "output_type": "stream",
     "text": [
      "날짜(연/월/일)입력: 2020/01/13\n",
      "입력한 날짜의 10년 후는 2030년 1월 13일\n"
     ]
    }
   ],
   "source": [
    "dateStr = input('날짜(연/월/일)입력: ')\n",
    "dateArr = dateStr.split('/')\n",
    "year, month, date = map(int,dateArr)\n",
    "print('입력한 날짜의 10년 후는 %d년 %s월 %s일' %((year+10), month, date))"
   ]
  },
  {
   "cell_type": "markdown",
   "metadata": {},
   "source": [
    "# bool 자료형\n",
    "\n",
    "bool은 True와 False의 두 가지 값을 나타내는 자료\n",
    "False로 인식하는 다른 경우\n",
    " - False, None, 숫자 0\n",
    " - 비어있는 순서열 (), []\n",
    " - 비어있는 딕셔너리 : {}\n",
    " "
   ]
  },
  {
   "cell_type": "code",
   "execution_count": 16,
   "metadata": {},
   "outputs": [
    {
     "name": "stdout",
     "output_type": "stream",
     "text": [
      "True\n"
     ]
    }
   ],
   "source": [
    "result = 3 > 2\n",
    "print(result)"
   ]
  },
  {
   "cell_type": "code",
   "execution_count": 17,
   "metadata": {},
   "outputs": [
    {
     "data": {
      "text/plain": [
       "bool"
      ]
     },
     "execution_count": 17,
     "metadata": {},
     "output_type": "execute_result"
    }
   ],
   "source": [
    "type(result)"
   ]
  },
  {
   "cell_type": "code",
   "execution_count": 18,
   "metadata": {},
   "outputs": [
    {
     "data": {
      "text/plain": [
       "False"
      ]
     },
     "execution_count": 18,
     "metadata": {},
     "output_type": "execute_result"
    }
   ],
   "source": [
    "bool(0.0)"
   ]
  },
  {
   "cell_type": "code",
   "execution_count": 19,
   "metadata": {},
   "outputs": [
    {
     "data": {
      "text/plain": [
       "True"
      ]
     },
     "execution_count": 19,
     "metadata": {},
     "output_type": "execute_result"
    }
   ],
   "source": [
    "bool([1,2,3])"
   ]
  },
  {
   "cell_type": "markdown",
   "metadata": {},
   "source": [
    "# 관계 연산자와 논리 연산자\n",
    "\n",
    "관계 연산자\n",
    " - <. >, ==, <=, >=, !=\n",
    " - = 는 대입\n"
   ]
  },
  {
   "cell_type": "code",
   "execution_count": 20,
   "metadata": {},
   "outputs": [
    {
     "data": {
      "text/plain": [
       "False"
      ]
     },
     "execution_count": 20,
     "metadata": {},
     "output_type": "execute_result"
    }
   ],
   "source": [
    "a = 99\n",
    "(a > 100) and (a < 200)"
   ]
  },
  {
   "cell_type": "code",
   "execution_count": 21,
   "metadata": {},
   "outputs": [
    {
     "data": {
      "text/plain": [
       "True"
      ]
     },
     "execution_count": 21,
     "metadata": {},
     "output_type": "execute_result"
    }
   ],
   "source": [
    "(a > 100) or (a < 200)"
   ]
  },
  {
   "cell_type": "code",
   "execution_count": 22,
   "metadata": {},
   "outputs": [
    {
     "data": {
      "text/plain": [
       "True"
      ]
     },
     "execution_count": 22,
     "metadata": {},
     "output_type": "execute_result"
    }
   ],
   "source": [
    "(80 <= a < 100)"
   ]
  },
  {
   "cell_type": "code",
   "execution_count": 23,
   "metadata": {},
   "outputs": [
    {
     "data": {
      "text/plain": [
       "True"
      ]
     },
     "execution_count": 23,
     "metadata": {},
     "output_type": "execute_result"
    }
   ],
   "source": [
    "not (a==100)"
   ]
  },
  {
   "cell_type": "markdown",
   "metadata": {},
   "source": [
    "# if 문\n",
    "\n",
    "조건문의 결과가 참(True)이면 A를 수행\\\n",
    "if 조건문:(들여쓰기 중요)\\\n",
    "----문장1\\\n",
    "----문장2\\\n",
    "----...\\\n",
    "----문장n\\\n",
    "\\\n",
    "블록\n",
    " - 여러 코드가 이루는 일정한 구역으로, 파이썬은 들여쓰기로 구역을 나눔\n",
    " - 들여쓰기는 4칸 권장\n"
   ]
  },
  {
   "cell_type": "markdown",
   "metadata": {},
   "source": [
    "# if-else\n",
    "\n",
    "조건의 결과가 True면 if문의 블록을 수행, False면 else문의 블록을 수행"
   ]
  },
  {
   "cell_type": "code",
   "execution_count": 24,
   "metadata": {},
   "outputs": [
    {
     "name": "stdout",
     "output_type": "stream",
     "text": [
      "거짓\n",
      "100보다 크거나 작다\n",
      "프로그램 끝\n"
     ]
    }
   ],
   "source": [
    "a = 200\n",
    "\n",
    "if a < 100:\n",
    "    print(\"참\")\n",
    "    print(\"100보다 작다\")\n",
    "else:\n",
    "    print(\"거짓\")\n",
    "    print(\"100보다 크거나 작다\")\n",
    "\n",
    "print(\"프로그램 끝\")"
   ]
  },
  {
   "cell_type": "markdown",
   "metadata": {},
   "source": [
    "# if-elif-else\n",
    "다중 조건 판단으로 if만족시 elif 검사 안함!"
   ]
  },
  {
   "cell_type": "code",
   "execution_count": 25,
   "metadata": {},
   "outputs": [
    {
     "name": "stdout",
     "output_type": "stream",
     "text": [
      "정수를 입력하시오: 5\n",
      "양수입니다.\n"
     ]
    }
   ],
   "source": [
    "num = int(input(\"정수를 입력하시오: \"))\n",
    "\n",
    "if num>0 :\n",
    "    print(\"양수입니다.\")\n",
    "elif num == 0:\n",
    "    print(\"0입니다.\")\n",
    "else:\n",
    "    print(\"음수입니다.\")"
   ]
  },
  {
   "cell_type": "markdown",
   "metadata": {},
   "source": [
    "# 중첩 if"
   ]
  },
  {
   "cell_type": "code",
   "execution_count": null,
   "metadata": {},
   "outputs": [],
   "source": []
  },
  {
   "cell_type": "markdown",
   "metadata": {},
   "source": [
    "# if문 응용"
   ]
  },
  {
   "cell_type": "code",
   "execution_count": null,
   "metadata": {},
   "outputs": [],
   "source": []
  },
  {
   "cell_type": "markdown",
   "metadata": {},
   "source": [
    "# 조건문 - 실습 1\n",
    "\n",
    "미만 판단을 먼저 파악하라"
   ]
  },
  {
   "cell_type": "code",
   "execution_count": 26,
   "metadata": {},
   "outputs": [
    {
     "name": "stdout",
     "output_type": "stream",
     "text": [
      "영어 점수 입력: 80\n",
      "수학 점수 입력: 30\n",
      "수학 점수 부족\n"
     ]
    }
   ],
   "source": [
    "engScore = int(input(\"영어 점수 입력: \"))\n",
    "mthScore = int(input(\"수학 점수 입력: \"))\n",
    "sumScore = engScore + mthScore\n",
    "if sumScore < 110:\n",
    "    print(\"총합 점수 부족\")\n",
    "elif mthScore < 40:\n",
    "    print(\"수학 점수 부족\")\n",
    "elif engScore < 40:\n",
    "    print(\"영어 점수 부족\")\n",
    "else :\n",
    "    print(\"합격\")"
   ]
  },
  {
   "cell_type": "markdown",
   "metadata": {},
   "source": [
    "# 조건문 - 실습2\n",
    "\n",
    "max나 min 쓰지말고 조건문을 활용하여 작성하시오"
   ]
  },
  {
   "cell_type": "code",
   "execution_count": 27,
   "metadata": {},
   "outputs": [
    {
     "name": "stdout",
     "output_type": "stream",
     "text": [
      "세 개의 수를 입력하시오.3 5 19\n",
      "가장 큰 수는 19입니다.\n"
     ]
    }
   ],
   "source": [
    "str = input(\"세 개의 수를 입력하시오.\")\n",
    "a, b, c = map(int,str.split())\n",
    "print(\"가장 큰 수는 \", end='')\n",
    "if a > b and a > c:\n",
    "    print(a, end='')\n",
    "elif b > a and b > c:\n",
    "    print(b, end='')\n",
    "else : \n",
    "    print(c, end='')\n",
    "    \n",
    "print(\"입니다.\")"
   ]
  },
  {
   "cell_type": "markdown",
   "metadata": {},
   "source": [
    "# while문\n",
    "\n",
    "조건이 참(True)인 동안 A를 반복 수행\\\n",
    "while 조건식:\\\n",
    "----반복할 문장\n"
   ]
  },
  {
   "cell_type": "code",
   "execution_count": 28,
   "metadata": {},
   "outputs": [
    {
     "name": "stdout",
     "output_type": "stream",
     "text": [
      "1 2 3 4 5 "
     ]
    }
   ],
   "source": [
    "number = 1\n",
    "while number <= 5:\n",
    "    print(number, end=' ')\n",
    "    number = number + 1"
   ]
  },
  {
   "cell_type": "code",
   "execution_count": 29,
   "metadata": {},
   "outputs": [
    {
     "name": "stdout",
     "output_type": "stream",
     "text": [
      "55\n"
     ]
    }
   ],
   "source": [
    "i = 1\n",
    "sumAll = 0\n",
    "while i in range(1,11):\n",
    "    sumAll += i\n",
    "    i += 1\n",
    "print(sumAll)"
   ]
  },
  {
   "cell_type": "markdown",
   "metadata": {},
   "source": [
    "# range() 함수\n",
    "\n",
    "range(start, stop, step)\\\n",
    "range(stop)\\\n",
    "range(start, stop)"
   ]
  },
  {
   "cell_type": "code",
   "execution_count": 30,
   "metadata": {},
   "outputs": [
    {
     "data": {
      "text/plain": [
       "[1, 2, 3, 4, 5, 6, 7, 8, 9, 10]"
      ]
     },
     "execution_count": 30,
     "metadata": {},
     "output_type": "execute_result"
    }
   ],
   "source": [
    "list(range(1,11))"
   ]
  },
  {
   "cell_type": "code",
   "execution_count": 31,
   "metadata": {},
   "outputs": [
    {
     "data": {
      "text/plain": [
       "[2, 4, 6, 8, 10]"
      ]
     },
     "execution_count": 31,
     "metadata": {},
     "output_type": "execute_result"
    }
   ],
   "source": [
    "list(range(2,11,2))"
   ]
  },
  {
   "cell_type": "code",
   "execution_count": 32,
   "metadata": {},
   "outputs": [
    {
     "name": "stdout",
     "output_type": "stream",
     "text": [
      "1 2 3 4 5 "
     ]
    }
   ],
   "source": [
    "for x in [1,2,3,4,5]:\n",
    "    print(x, end=' ')\n"
   ]
  },
  {
   "cell_type": "code",
   "execution_count": 33,
   "metadata": {},
   "outputs": [
    {
     "name": "stdout",
     "output_type": "stream",
     "text": [
      "H e l l o "
     ]
    }
   ],
   "source": [
    "for x in \"Hello\":\n",
    "    print(x, end=' ')"
   ]
  },
  {
   "cell_type": "code",
   "execution_count": 34,
   "metadata": {},
   "outputs": [
    {
     "name": "stdout",
     "output_type": "stream",
     "text": [
      "Hello\n",
      "Hello\n",
      "Hello\n",
      "Hello\n",
      "Hello\n"
     ]
    }
   ],
   "source": [
    "for x in range(5):\n",
    "    print(\"Hello\")"
   ]
  },
  {
   "cell_type": "markdown",
   "metadata": {},
   "source": [
    "# 중첩 반복문\n",
    "\n",
    "반복문 내부의 반복문\\\n",
    "while 조건1:\\\n",
    "----반복할 문장1\\\n",
    "----반복할 문장2\\\n",
    "----while 조건2:\\\n",
    "--------반복할 문장3\n"
   ]
  },
  {
   "cell_type": "code",
   "execution_count": null,
   "metadata": {},
   "outputs": [],
   "source": []
  },
  {
   "cell_type": "markdown",
   "metadata": {},
   "source": [
    "# break, continue\n",
    "\n",
    "break\n",
    " - 반복문 순회 도중 break문을 만나면 내부 블록 벗어남\n",
    "\n",
    "continue\n",
    " - 반복문 순회 도중 continue 문을 만나면 그 아래의 ㅁ누장은 해당 반복에 한해서 건너뛴다."
   ]
  },
  {
   "cell_type": "code",
   "execution_count": 35,
   "metadata": {},
   "outputs": [
    {
     "name": "stdout",
     "output_type": "stream",
     "text": [
      "1\n",
      "2\n",
      "3\n",
      "4\n",
      "5\n"
     ]
    }
   ],
   "source": [
    "for i in range(1, 11):\n",
    "    if i > 5:\n",
    "        break\n",
    "    print(i)"
   ]
  },
  {
   "cell_type": "code",
   "execution_count": 36,
   "metadata": {},
   "outputs": [
    {
     "name": "stdout",
     "output_type": "stream",
     "text": [
      "1\n",
      "3\n",
      "5\n",
      "7\n",
      "9\n"
     ]
    }
   ],
   "source": [
    "for i in range(1, 11):\n",
    "    if i % 2 == 0:\n",
    "        continue\n",
    "    print(i)"
   ]
  },
  {
   "cell_type": "markdown",
   "metadata": {},
   "source": [
    "# 반복문 실습1\n",
    "\n",
    "구구단 출력\n"
   ]
  },
  {
   "cell_type": "code",
   "execution_count": 37,
   "metadata": {},
   "outputs": [
    {
     "name": "stdout",
     "output_type": "stream",
     "text": [
      "출력하고 싶은 단을 입력하세요7\n",
      "7 * 1 = 7\n",
      "7 * 2 = 14\n",
      "7 * 3 = 21\n",
      "7 * 4 = 28\n",
      "7 * 5 = 35\n",
      "7 * 6 = 42\n",
      "7 * 7 = 49\n",
      "7 * 8 = 56\n",
      "7 * 9 = 63\n"
     ]
    }
   ],
   "source": [
    "num = int(input(\"출력하고 싶은 단을 입력하세요: \"))\n",
    "for i in range(1, 10):\n",
    "    print(\"%d * %d = %d\" % (num, i, (num*i)))"
   ]
  },
  {
   "cell_type": "markdown",
   "metadata": {},
   "source": [
    "# 반복문 실습 2\n",
    "\n",
    "별출력 프로그램"
   ]
  },
  {
   "cell_type": "code",
   "execution_count": 38,
   "metadata": {},
   "outputs": [
    {
     "name": "stdout",
     "output_type": "stream",
     "text": [
      "Input an integer: 3159\n",
      "***\n",
      "*\n",
      "*****\n",
      "*********\n"
     ]
    }
   ],
   "source": [
    "num = input(\"Input an integer: \")\n",
    "for x in num:\n",
    "    for i in range(int(x)):\n",
    "        print('*', end='')\n",
    "    print()"
   ]
  },
  {
   "cell_type": "markdown",
   "metadata": {},
   "source": [
    "# 리스트 관련 함수\n",
    "\n",
    "생성 방법 -> list()\\\n",
    "listname.append(x) : 리스트 끝에 x를 삽입\\\n",
    "listname.remove(x) : 리스트에서 첫번째로 나오는 x를 제거\n"
   ]
  },
  {
   "cell_type": "code",
   "execution_count": 39,
   "metadata": {},
   "outputs": [
    {
     "name": "stdout",
     "output_type": "stream",
     "text": [
      "['red']\n"
     ]
    }
   ],
   "source": [
    "colors = list()\n",
    "colors.append('red')\n",
    "print(colors)"
   ]
  },
  {
   "cell_type": "code",
   "execution_count": 40,
   "metadata": {},
   "outputs": [
    {
     "name": "stdout",
     "output_type": "stream",
     "text": [
      "['red', 'green', 'blue']\n"
     ]
    }
   ],
   "source": [
    "colors.append('green')\n",
    "colors.append('blue')\n",
    "print(colors)"
   ]
  },
  {
   "cell_type": "code",
   "execution_count": 41,
   "metadata": {},
   "outputs": [
    {
     "name": "stdout",
     "output_type": "stream",
     "text": [
      "['red', 'green', 'blue', 'red']\n"
     ]
    }
   ],
   "source": [
    "colors.append('red')\n",
    "print(colors)"
   ]
  },
  {
   "cell_type": "code",
   "execution_count": 42,
   "metadata": {},
   "outputs": [
    {
     "name": "stdout",
     "output_type": "stream",
     "text": [
      "['green', 'blue', 'red']\n"
     ]
    }
   ],
   "source": [
    "colors.remove('red')\n",
    "print(colors)\n",
    "\n",
    "#없는거 삭제시에는 에러가 뜸!"
   ]
  },
  {
   "cell_type": "markdown",
   "metadata": {},
   "source": [
    "# 리스트 관련 함수2\n",
    "\n",
    "리스트이름.sort() : 리스트의 항목을 오름차순으로 정렬\n",
    "sorted(리스트이름) : sort()는 리턴값이 없고, sorted()함수는 리턴값이 있다."
   ]
  },
  {
   "cell_type": "code",
   "execution_count": 43,
   "metadata": {},
   "outputs": [
    {
     "data": {
      "text/plain": [
       "[1, 2, 5, 7, 9]"
      ]
     },
     "execution_count": 43,
     "metadata": {},
     "output_type": "execute_result"
    }
   ],
   "source": [
    "a = [1,7,9,2,5]\n",
    "a.sort()\n",
    "a"
   ]
  },
  {
   "cell_type": "code",
   "execution_count": 44,
   "metadata": {},
   "outputs": [
    {
     "data": {
      "text/plain": [
       "['apple', 'banana', 'orange']"
      ]
     },
     "execution_count": 44,
     "metadata": {},
     "output_type": "execute_result"
    }
   ],
   "source": [
    "f = ['banana', 'apple', 'orange']\n",
    "f.sort()\n",
    "f"
   ]
  },
  {
   "cell_type": "code",
   "execution_count": 45,
   "metadata": {},
   "outputs": [],
   "source": [
    "a.sort(reverse = True) # 내림차순"
   ]
  },
  {
   "cell_type": "code",
   "execution_count": 46,
   "metadata": {},
   "outputs": [
    {
     "name": "stdout",
     "output_type": "stream",
     "text": [
      "None\n"
     ]
    }
   ],
   "source": [
    "f1 = f.sort()\n",
    "print(f1)"
   ]
  },
  {
   "cell_type": "code",
   "execution_count": 47,
   "metadata": {},
   "outputs": [
    {
     "name": "stdout",
     "output_type": "stream",
     "text": [
      "['apple', 'banana', 'orange']\n"
     ]
    }
   ],
   "source": [
    "f2 = sorted(f)\n",
    "print(f2)"
   ]
  },
  {
   "cell_type": "code",
   "execution_count": 48,
   "metadata": {},
   "outputs": [
    {
     "data": {
      "text/plain": [
       "[1, 2, 3, 4, 5, 6, 7, 8, 9, 10]"
      ]
     },
     "execution_count": 48,
     "metadata": {},
     "output_type": "execute_result"
    }
   ],
   "source": [
    "a = list(range(1,11))\n",
    "a"
   ]
  },
  {
   "cell_type": "code",
   "execution_count": 49,
   "metadata": {},
   "outputs": [
    {
     "data": {
      "text/plain": [
       "10"
      ]
     },
     "execution_count": 49,
     "metadata": {},
     "output_type": "execute_result"
    }
   ],
   "source": [
    "max(a)"
   ]
  },
  {
   "cell_type": "code",
   "execution_count": 50,
   "metadata": {},
   "outputs": [
    {
     "data": {
      "text/plain": [
       "1"
      ]
     },
     "execution_count": 50,
     "metadata": {},
     "output_type": "execute_result"
    }
   ],
   "source": [
    "min(a)"
   ]
  },
  {
   "cell_type": "code",
   "execution_count": 51,
   "metadata": {},
   "outputs": [
    {
     "data": {
      "text/plain": [
       "55"
      ]
     },
     "execution_count": 51,
     "metadata": {},
     "output_type": "execute_result"
    }
   ],
   "source": [
    "sum(a)"
   ]
  },
  {
   "cell_type": "markdown",
   "metadata": {},
   "source": [
    "# 리스트 - 실습1"
   ]
  },
  {
   "cell_type": "code",
   "execution_count": 3,
   "metadata": {},
   "outputs": [
    {
     "name": "stdout",
     "output_type": "stream",
     "text": [
      "Enter a number: 7\n",
      "Enter a number: 2\n",
      "Enter a number: 9\n",
      "Enter a number: 3\n",
      "Enter a number: 5\n",
      "Enter a number: done\n",
      "\n",
      "[7.0, 2.0, 9.0, 3.0, 5.0]\n",
      "Average: 5.2\n",
      "Maximum: 9.0\n",
      "Minimum: 2.0\n"
     ]
    }
   ],
   "source": [
    "arr = list()\n",
    "while True:\n",
    "    num = input('Enter a number: ')\n",
    "    if num == 'done':\n",
    "        break\n",
    "    arr.append(float(num))\n",
    "print()\n",
    "print(arr)\n",
    "print(\"Average: %.1f\" % (sum(arr)/len(arr)))\n",
    "print(\"Maximum: %.1f\" % max(arr))\n",
    "print(\"Minimum: %.1f\" % min(arr))"
   ]
  },
  {
   "cell_type": "code",
   "execution_count": null,
   "metadata": {},
   "outputs": [],
   "source": []
  }
 ],
 "metadata": {
  "kernelspec": {
   "display_name": "Python 3",
   "language": "python",
   "name": "python3"
  },
  "language_info": {
   "codemirror_mode": {
    "name": "ipython",
    "version": 3
   },
   "file_extension": ".py",
   "mimetype": "text/x-python",
   "name": "python",
   "nbconvert_exporter": "python",
   "pygments_lexer": "ipython3",
   "version": "3.7.4"
  }
 },
 "nbformat": 4,
 "nbformat_minor": 2
}
