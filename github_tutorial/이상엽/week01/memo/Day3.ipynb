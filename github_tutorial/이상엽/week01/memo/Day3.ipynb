{
 "cells": [
  {
   "cell_type": "markdown",
   "metadata": {},
   "source": [
    "# 튜플\n",
    "\n",
    "튜플이란?\n",
    " - 리스트와 유사하지만 값을 수정할 수 없으며, 읽기만 가능\n",
    " - 튜플은 괄호()로 생성\n",
    " - 대괄호[]는 리스트\n",
    " "
   ]
  },
  {
   "cell_type": "code",
   "execution_count": 1,
   "metadata": {},
   "outputs": [
    {
     "name": "stdout",
     "output_type": "stream",
     "text": [
      "(1,)\n"
     ]
    }
   ],
   "source": [
    "t1 = ()\n",
    "t2 = (1,)       #항목이 하나인 경우 주의\n",
    "t3 = (1,2,3)\n",
    "t4 = 1, 2, 3    #괄호 생략 가능\n"
   ]
  },
  {
   "cell_type": "code",
   "execution_count": 2,
   "metadata": {},
   "outputs": [],
   "source": [
    "#리스트\n",
    "ls = list() #or []\n",
    "#튜플\n",
    "t = tuple() #or ()"
   ]
  },
  {
   "cell_type": "code",
   "execution_count": 5,
   "metadata": {},
   "outputs": [
    {
     "name": "stdout",
     "output_type": "stream",
     "text": [
      "<class 'int'>\n",
      "<class 'tuple'>\n"
     ]
    }
   ],
   "source": [
    "#항목이 하나인 경우 주의할 점!\n",
    "t = (1)\n",
    "print(type(t))\n",
    "t = (1,)\n",
    "print(type(t))"
   ]
  },
  {
   "cell_type": "markdown",
   "metadata": {},
   "source": [
    "## 튜플 인덱싱, 슬라이싱\n"
   ]
  },
  {
   "cell_type": "code",
   "execution_count": 6,
   "metadata": {},
   "outputs": [
    {
     "data": {
      "text/plain": [
       "1"
      ]
     },
     "execution_count": 6,
     "metadata": {},
     "output_type": "execute_result"
    }
   ],
   "source": [
    "t = (1, 2, 3, 4, 5, 6)\n",
    "t[0]"
   ]
  },
  {
   "cell_type": "markdown",
   "metadata": {},
   "source": [
    "## 튜플 패킹, 언패킹"
   ]
  },
  {
   "cell_type": "code",
   "execution_count": 8,
   "metadata": {},
   "outputs": [
    {
     "data": {
      "text/plain": [
       "(1, 2, 3)"
      ]
     },
     "execution_count": 8,
     "metadata": {},
     "output_type": "execute_result"
    }
   ],
   "source": [
    "a = 1, 2, 3\n",
    "a"
   ]
  },
  {
   "cell_type": "code",
   "execution_count": 9,
   "metadata": {},
   "outputs": [
    {
     "name": "stdout",
     "output_type": "stream",
     "text": [
      "1 2 3\n"
     ]
    }
   ],
   "source": [
    "one, two, three = a\n",
    "print(one, two, three)"
   ]
  },
  {
   "cell_type": "markdown",
   "metadata": {},
   "source": [
    "## 튜플 관련 함수\n",
    "\n",
    "index(), count()"
   ]
  },
  {
   "cell_type": "code",
   "execution_count": 10,
   "metadata": {},
   "outputs": [
    {
     "data": {
      "text/plain": [
       "0"
      ]
     },
     "execution_count": 10,
     "metadata": {},
     "output_type": "execute_result"
    }
   ],
   "source": [
    "#값 1의 위치\n",
    "a.index(1)"
   ]
  },
  {
   "cell_type": "code",
   "execution_count": 12,
   "metadata": {},
   "outputs": [
    {
     "data": {
      "text/plain": [
       "1"
      ]
     },
     "execution_count": 12,
     "metadata": {},
     "output_type": "execute_result"
    }
   ],
   "source": [
    "#값 1과 일치하는 요수의 개수\n",
    "a.count(1)"
   ]
  },
  {
   "cell_type": "markdown",
   "metadata": {},
   "source": [
    "# 집합\n",
    "\n",
    " - 순서 없이 항목을 저장, 항목이 중복 될 수 없음\n",
    " "
   ]
  },
  {
   "cell_type": "code",
   "execution_count": 13,
   "metadata": {},
   "outputs": [],
   "source": [
    "s1 = {}"
   ]
  },
  {
   "cell_type": "code",
   "execution_count": 15,
   "metadata": {},
   "outputs": [
    {
     "name": "stdout",
     "output_type": "stream",
     "text": [
      "<class 'dict'>\n",
      "<class 'set'>\n"
     ]
    }
   ],
   "source": [
    "print(type(s1)) # 빈set(집합)은 {}로 생성할 수 없다.\n",
    "s1 = set() \n",
    "print(type(s1))"
   ]
  },
  {
   "cell_type": "code",
   "execution_count": 16,
   "metadata": {},
   "outputs": [
    {
     "data": {
      "text/plain": [
       "'HelloHello'"
      ]
     },
     "execution_count": 16,
     "metadata": {},
     "output_type": "execute_result"
    }
   ],
   "source": [
    "s1 = set([1,2,3])\n",
    "s2 = {3,4,5}\n",
    "\n",
    "word = \"Hello\" * 2\n",
    "word"
   ]
  },
  {
   "cell_type": "code",
   "execution_count": 17,
   "metadata": {},
   "outputs": [
    {
     "data": {
      "text/plain": [
       "['H', 'e', 'l', 'l', 'o', 'H', 'e', 'l', 'l', 'o']"
      ]
     },
     "execution_count": 17,
     "metadata": {},
     "output_type": "execute_result"
    }
   ],
   "source": [
    "word_list = list(word)\n",
    "word_list"
   ]
  },
  {
   "cell_type": "code",
   "execution_count": 19,
   "metadata": {},
   "outputs": [
    {
     "data": {
      "text/plain": [
       "{'H', 'e', 'l', 'o'}"
      ]
     },
     "execution_count": 19,
     "metadata": {},
     "output_type": "execute_result"
    }
   ],
   "source": [
    "s3 = set(word_list)\n",
    "s3"
   ]
  },
  {
   "cell_type": "code",
   "execution_count": 20,
   "metadata": {},
   "outputs": [
    {
     "data": {
      "text/plain": [
       "{'H', 'e', 'l', 'o'}"
      ]
     },
     "execution_count": 20,
     "metadata": {},
     "output_type": "execute_result"
    }
   ],
   "source": [
    "s4 = set(\"Hello\")\n",
    "s4"
   ]
  },
  {
   "cell_type": "code",
   "execution_count": 21,
   "metadata": {},
   "outputs": [
    {
     "data": {
      "text/plain": [
       "('e', 'l', 'o', 'H')"
      ]
     },
     "execution_count": 21,
     "metadata": {},
     "output_type": "execute_result"
    }
   ],
   "source": [
    "# 자료형의 중복을 제거하기 위한 필터로 종종 사용\n",
    "t = tuple(s4)\n",
    "t"
   ]
  },
  {
   "cell_type": "code",
   "execution_count": 26,
   "metadata": {},
   "outputs": [
    {
     "data": {
      "text/plain": [
       "{1, 2, 3, 4, 5}"
      ]
     },
     "execution_count": 26,
     "metadata": {},
     "output_type": "execute_result"
    }
   ],
   "source": [
    "s = {1, 2, 3, 4, 5, 3, 4}\n",
    "s"
   ]
  },
  {
   "cell_type": "code",
   "execution_count": 27,
   "metadata": {},
   "outputs": [
    {
     "data": {
      "text/plain": [
       "{1, 2, 3, 4, 5, 10}"
      ]
     },
     "execution_count": 27,
     "metadata": {},
     "output_type": "execute_result"
    }
   ],
   "source": [
    "s.add(10)\n",
    "s"
   ]
  },
  {
   "cell_type": "code",
   "execution_count": 28,
   "metadata": {},
   "outputs": [
    {
     "data": {
      "text/plain": [
       "{1, 3, 4, 5, 10}"
      ]
     },
     "execution_count": 28,
     "metadata": {},
     "output_type": "execute_result"
    }
   ],
   "source": [
    "s.remove(2)\n",
    "s"
   ]
  },
  {
   "cell_type": "code",
   "execution_count": 29,
   "metadata": {},
   "outputs": [
    {
     "data": {
      "text/plain": [
       "{1, 2, 3, 4, 5, 7, 9, 10}"
      ]
     },
     "execution_count": 29,
     "metadata": {},
     "output_type": "execute_result"
    }
   ],
   "source": [
    "s.update([1,2,3,7,9])\n",
    "s"
   ]
  },
  {
   "cell_type": "code",
   "execution_count": 30,
   "metadata": {},
   "outputs": [
    {
     "data": {
      "text/plain": [
       "{1, 2, 3, 4, 5, 9, 10}"
      ]
     },
     "execution_count": 30,
     "metadata": {},
     "output_type": "execute_result"
    }
   ],
   "source": [
    "s.discard(7)\n",
    "s\n",
    "\n",
    "#remove는 삭제에 목표되어 있지만 discard는 삭제되어 있음을 보장하는 데에 목표\n",
    "#remove는 해당 항목이 없으면 에러, discard는 에러 없음"
   ]
  },
  {
   "cell_type": "code",
   "execution_count": 31,
   "metadata": {},
   "outputs": [
    {
     "data": {
      "text/plain": [
       "set()"
      ]
     },
     "execution_count": 31,
     "metadata": {},
     "output_type": "execute_result"
    }
   ],
   "source": [
    "s.clear()\n",
    "s"
   ]
  },
  {
   "cell_type": "markdown",
   "metadata": {},
   "source": [
    "# 딕셔너리(dictionary)\n",
    " - 중괄호()로 묶여 있으며, key와 value의 쌍으로 이루어짐\n",
    " - key로 value를 관리\n",
    " - key는 중복 될 수 없음. 예) 학번, 주민번호\n",
    " - 항목들 사이에 순서가 없음."
   ]
  },
  {
   "cell_type": "code",
   "execution_count": 34,
   "metadata": {},
   "outputs": [],
   "source": [
    "d = {} # or dict()"
   ]
  },
  {
   "cell_type": "code",
   "execution_count": 35,
   "metadata": {},
   "outputs": [
    {
     "data": {
      "text/plain": [
       "{'kim': 1}"
      ]
     },
     "execution_count": 35,
     "metadata": {},
     "output_type": "execute_result"
    }
   ],
   "source": [
    "d['kim'] = 1\n",
    "d"
   ]
  },
  {
   "cell_type": "code",
   "execution_count": 36,
   "metadata": {},
   "outputs": [
    {
     "data": {
      "text/plain": [
       "{'kim': 1, 'park': 2}"
      ]
     },
     "execution_count": 36,
     "metadata": {},
     "output_type": "execute_result"
    }
   ],
   "source": [
    "d['park'] = 2\n",
    "d"
   ]
  },
  {
   "cell_type": "code",
   "execution_count": 37,
   "metadata": {},
   "outputs": [
    {
     "data": {
      "text/plain": [
       "1"
      ]
     },
     "execution_count": 37,
     "metadata": {},
     "output_type": "execute_result"
    }
   ],
   "source": [
    "d['kim']"
   ]
  },
  {
   "cell_type": "code",
   "execution_count": 38,
   "metadata": {},
   "outputs": [
    {
     "data": {
      "text/plain": [
       "{'kim': 3, 'park': 2}"
      ]
     },
     "execution_count": 38,
     "metadata": {},
     "output_type": "execute_result"
    }
   ],
   "source": [
    "d['kim'] = 3\n",
    "d"
   ]
  },
  {
   "cell_type": "code",
   "execution_count": 39,
   "metadata": {},
   "outputs": [
    {
     "data": {
      "text/plain": [
       "{'kim': 3, 'park': 2, 'youn': 1}"
      ]
     },
     "execution_count": 39,
     "metadata": {},
     "output_type": "execute_result"
    }
   ],
   "source": [
    "d['youn'] = 1\n",
    "d"
   ]
  },
  {
   "cell_type": "code",
   "execution_count": 40,
   "metadata": {},
   "outputs": [
    {
     "data": {
      "text/plain": [
       "{'kim': 3, 'park': 2, 'youn': 1}"
      ]
     },
     "execution_count": 40,
     "metadata": {},
     "output_type": "execute_result"
    }
   ],
   "source": [
    "d1 = {'kim': 3, 'park': 2, 'youn': 1}\n",
    "d1"
   ]
  },
  {
   "cell_type": "code",
   "execution_count": 41,
   "metadata": {},
   "outputs": [
    {
     "data": {
      "text/plain": [
       "dict_keys(['kim', 'park', 'youn'])"
      ]
     },
     "execution_count": 41,
     "metadata": {},
     "output_type": "execute_result"
    }
   ],
   "source": [
    "#키 값만 추출\n",
    "d.keys()"
   ]
  },
  {
   "cell_type": "code",
   "execution_count": 42,
   "metadata": {},
   "outputs": [
    {
     "data": {
      "text/plain": [
       "dict_values([3, 2, 1])"
      ]
     },
     "execution_count": 42,
     "metadata": {},
     "output_type": "execute_result"
    }
   ],
   "source": [
    "#value값만 추출\n",
    "d.values()"
   ]
  },
  {
   "cell_type": "code",
   "execution_count": 45,
   "metadata": {},
   "outputs": [
    {
     "data": {
      "text/plain": [
       "dict_items([('kim', 3), ('park', 2), ('youn', 1)])"
      ]
     },
     "execution_count": 45,
     "metadata": {},
     "output_type": "execute_result"
    }
   ],
   "source": [
    "#key:value쌍으로 들고오기\n",
    "d.items()"
   ]
  },
  {
   "cell_type": "code",
   "execution_count": 46,
   "metadata": {},
   "outputs": [
    {
     "data": {
      "text/plain": [
       "True"
      ]
     },
     "execution_count": 46,
     "metadata": {},
     "output_type": "execute_result"
    }
   ],
   "source": [
    "'kim' in d.keys()"
   ]
  },
  {
   "cell_type": "code",
   "execution_count": 47,
   "metadata": {},
   "outputs": [
    {
     "data": {
      "text/plain": [
       "True"
      ]
     },
     "execution_count": 47,
     "metadata": {},
     "output_type": "execute_result"
    }
   ],
   "source": [
    "#이것도 가능하다.(key)\n",
    "'kim' in d"
   ]
  },
  {
   "cell_type": "markdown",
   "metadata": {},
   "source": [
    "## 딕셔너리 - 실습 1\n",
    "\n",
    "중괄호{ }로 묶여 있으며, key와 value의 쌍으로 이루어짐. d = {key1:value1, key2:value2}\n",
    "\n",
    "실습1) for 문을 사용하여 딕셔너리 타입의 d의 모든 value를 출력해 보시오. "
   ]
  },
  {
   "cell_type": "code",
   "execution_count": 48,
   "metadata": {},
   "outputs": [
    {
     "name": "stdout",
     "output_type": "stream",
     "text": [
      "1 2 10 "
     ]
    }
   ],
   "source": [
    "d = {'youn': 1, 'park': 2, 'kim': 10}\n",
    "for v in d.values():\n",
    "    print(v, end= ' ')"
   ]
  },
  {
   "cell_type": "code",
   "execution_count": 49,
   "metadata": {},
   "outputs": [
    {
     "name": "stdout",
     "output_type": "stream",
     "text": [
      "1 2 10 "
     ]
    }
   ],
   "source": [
    "for k in d: #d.keys(0)\n",
    "    print(d[k], end= ' ')"
   ]
  },
  {
   "cell_type": "code",
   "execution_count": 51,
   "metadata": {},
   "outputs": [
    {
     "name": "stdout",
     "output_type": "stream",
     "text": [
      "1 2 10 "
     ]
    }
   ],
   "source": [
    "for k, v in d.items():\n",
    "    print(v, end=' ')"
   ]
  },
  {
   "cell_type": "markdown",
   "metadata": {},
   "source": [
    "실습2) 아래와 같은 딕셔너리가 있다. \\\n",
    "{'one':1, 'two':2, 'three':3, 'four':4, 'five':5} \\\n",
    "key의 알파벳을 기준으로 순서대로 아래와 같이 (key, value)로 출력하시오."
   ]
  },
  {
   "cell_type": "code",
   "execution_count": 61,
   "metadata": {},
   "outputs": [
    {
     "name": "stdout",
     "output_type": "stream",
     "text": [
      "five 5\n",
      "four 4\n",
      "one 1\n",
      "three 3\n",
      "two 2\n"
     ]
    }
   ],
   "source": [
    "d = {'one':1, 'two':2, 'three':3, 'four':4, 'five':5}\n",
    "for x in sorted(d.keys()):\n",
    "    print(x, d[x])\n",
    "    "
   ]
  },
  {
   "cell_type": "markdown",
   "metadata": {},
   "source": [
    "## 실습 3 -- PPT문제"
   ]
  },
  {
   "cell_type": "markdown",
   "metadata": {},
   "source": [
    "어떤 문장을 입력 받으면 해당 문장에서 각 알파벳이 몇 개씩 나오는지 저장하는 딕셔너리를 만든 후, 아래와 같이 출력하시오.\\\n",
    "Enter a sentence: Python is fun!\\\n",
    "{'!': 1, ' ': 2, 'f': 1, 'i': 1, 'h': 1, 'o': 1, 'n': 2, 'P': 1, 's': 1, 'u': 1, 't': 1, 'y': 1}"
   ]
  },
  {
   "cell_type": "code",
   "execution_count": 55,
   "metadata": {},
   "outputs": [
    {
     "name": "stdout",
     "output_type": "stream",
     "text": [
      "Enter a sentencePython is fun!\n",
      "{'P': 1, 'y': 1, 't': 1, 'h': 1, 'o': 1, 'n': 2, ' ': 2, 'i': 1, 's': 1, 'f': 1, 'u': 1, '!': 1}\n"
     ]
    }
   ],
   "source": [
    "sentence = input('Enter a sentence: ')\n",
    "dic = dict()\n",
    "for x in sentence:\n",
    "    if x in dic.keys():\n",
    "        dic[x] = dic[x] + 1\n",
    "    else:\n",
    "        dic[x] = 1\n",
    "        \n",
    "print(dic)"
   ]
  },
  {
   "cell_type": "code",
   "execution_count": 64,
   "metadata": {},
   "outputs": [
    {
     "name": "stdout",
     "output_type": "stream",
     "text": [
      "Enter a sentence: aaaaaaaa\n",
      "for\n",
      "{'a': 8}\n"
     ]
    }
   ],
   "source": [
    "# idea\n",
    "sentence = input('Enter a sentence: ')\n",
    "dic = dict()\n",
    "set_sen = set(sentence)\n",
    "\n",
    "for ch in set_sen:\n",
    "    dic[ch] = sentence.count(ch)\n",
    "    print(\"for\")\n",
    "\n",
    "print(dic)"
   ]
  },
  {
   "cell_type": "markdown",
   "metadata": {},
   "source": [
    "# 파일\n",
    "\n",
    "파일은 바이너리파일(exe)과 텍스트(txt)파일 두가지로 나눌 수 있음\\\n",
    "3단계를 거침\\\n",
    "파일을 연다. => 파일에서 데이터를 읽거나 쓴다. => 파일을 닫는다."
   ]
  },
  {
   "cell_type": "code",
   "execution_count": 66,
   "metadata": {},
   "outputs": [],
   "source": [
    "f = open(\"input.txt\", \"r\")\n",
    "\n",
    "f.close()\n",
    "\n",
    "# 닫아주지 않으면 write시 문제가 생긴다.\n",
    "# file을 켜둔상태로 이동시 문제가 생기는 것 처럼.\n"
   ]
  },
  {
   "cell_type": "markdown",
   "metadata": {},
   "source": [
    "파일포인터를 생각하자!\\\n",
    "커서와 같은 의미"
   ]
  },
  {
   "cell_type": "code",
   "execution_count": 69,
   "metadata": {},
   "outputs": [],
   "source": [
    "f = open(\"input.txt\", \"w\")\n",
    "for i in range(6,11):\n",
    "    data = \"%d line\\n\" % i\n",
    "    f.write(data)\n",
    "f.close()"
   ]
  },
  {
   "cell_type": "markdown",
   "metadata": {},
   "source": [
    "## readline()\n",
    "\n",
    "파일에서 한 줄 읽어옴\n",
    "더이상 없으면 빈 문자열을 반환"
   ]
  },
  {
   "cell_type": "code",
   "execution_count": 70,
   "metadata": {},
   "outputs": [
    {
     "name": "stdout",
     "output_type": "stream",
     "text": [
      "6 line\n",
      "\n"
     ]
    }
   ],
   "source": [
    "f = open(\"input.txt\", \"r\")\n",
    "line = f.readline()\n",
    "print(line)"
   ]
  },
  {
   "cell_type": "markdown",
   "metadata": {},
   "source": [
    "## tell()\n",
    "\n",
    "현재 파일 포인터의 위치를 반환하는 함수"
   ]
  },
  {
   "cell_type": "code",
   "execution_count": 72,
   "metadata": {},
   "outputs": [
    {
     "data": {
      "text/plain": [
       "7"
      ]
     },
     "execution_count": 72,
     "metadata": {},
     "output_type": "execute_result"
    }
   ],
   "source": [
    "f.tell()"
   ]
  },
  {
   "cell_type": "code",
   "execution_count": 73,
   "metadata": {},
   "outputs": [],
   "source": [
    "f.close()"
   ]
  },
  {
   "cell_type": "markdown",
   "metadata": {},
   "source": [
    "## readlines()\n",
    "\n",
    "파일에서 모든 라인을 한꺼번에 읽어서 각각의 줄을 요소로 갖는 리스트로 반환"
   ]
  },
  {
   "cell_type": "code",
   "execution_count": 75,
   "metadata": {},
   "outputs": [
    {
     "name": "stdout",
     "output_type": "stream",
     "text": [
      "['6 line\\n', '7 line\\n', '8 line\\n', '9 line\\n', '10 line\\n']\n"
     ]
    }
   ],
   "source": [
    "f = open(\"input.txt\", \"r\")\n",
    "lines = f.readlines()\n",
    "\n",
    "print(lines)\n",
    "f.close()"
   ]
  },
  {
   "cell_type": "markdown",
   "metadata": {},
   "source": [
    "## read()\n",
    "파일을 전부 읽은 문자열을 반환\n"
   ]
  },
  {
   "cell_type": "code",
   "execution_count": 76,
   "metadata": {},
   "outputs": [
    {
     "name": "stdout",
     "output_type": "stream",
     "text": [
      "6 line\n",
      "7 line\n",
      "8 line\n",
      "9 line\n",
      "10 line\n",
      "\n"
     ]
    }
   ],
   "source": [
    "f = open(\"input.txt\", \"r\")\n",
    "data = f.read()\n",
    "print(data)\n",
    "f.close()"
   ]
  },
  {
   "cell_type": "markdown",
   "metadata": {},
   "source": [
    "## 파일 - 실습 1\n",
    "\n",
    " - 파일에 있는 각각의 단어의 수 구하기\n",
    " - strip(), replace() 찾기!"
   ]
  },
  {
   "cell_type": "code",
   "execution_count": 1,
   "metadata": {},
   "outputs": [
    {
     "name": "stdout",
     "output_type": "stream",
     "text": [
      "third 1\n",
      "second 1\n",
      "first 1\n",
      "line 3\n"
     ]
    }
   ],
   "source": [
    "f = open(\"input.txt\", \"w\")\n",
    "data = \"first line\\nsecond line\\nthird line\"\n",
    "f.write(data)\n",
    "f.close()\n",
    "\n",
    "dic = dict()\n",
    "f = open(\"input.txt\", \"r\")\n",
    "lines = f.readlines()\n",
    "\n",
    "words = []\n",
    "for line in lines:\n",
    "    for word in line.split():\n",
    "        words.append(word)\n",
    "\n",
    "for word in set(words):\n",
    "    dic[word] = words.count(word)\n",
    "for k, v in dic.items():\n",
    "    print(k, v)"
   ]
  },
  {
   "cell_type": "markdown",
   "metadata": {},
   "source": [
    "## with open() as 사용\n",
    "\n",
    "with 블록을 벗어나는 순간 파일을 자동으로 닫아준다."
   ]
  },
  {
   "cell_type": "code",
   "execution_count": 88,
   "metadata": {},
   "outputs": [],
   "source": [
    "with open(\"input.txt\", \"r\") as f:\n",
    "    f.read()\n"
   ]
  },
  {
   "cell_type": "markdown",
   "metadata": {},
   "source": [
    "## 파일 - 실습2"
   ]
  },
  {
   "cell_type": "code",
   "execution_count": null,
   "metadata": {},
   "outputs": [],
   "source": []
  },
  {
   "cell_type": "markdown",
   "metadata": {},
   "source": [
    "# 모듈\n",
    "\n",
    "os 모듈 사용해보기\\\n",
    "os.path.exists(파일명): 파일이나 디렉토리가 존재하는지 검사\n"
   ]
  },
  {
   "cell_type": "code",
   "execution_count": 89,
   "metadata": {},
   "outputs": [
    {
     "data": {
      "text/plain": [
       "False"
      ]
     },
     "execution_count": 89,
     "metadata": {},
     "output_type": "execute_result"
    }
   ],
   "source": [
    "import os\n",
    "\n",
    "os.path.exists(\"1.txt\")\n"
   ]
  },
  {
   "cell_type": "code",
   "execution_count": 90,
   "metadata": {},
   "outputs": [
    {
     "data": {
      "text/plain": [
       "True"
      ]
     },
     "execution_count": 90,
     "metadata": {},
     "output_type": "execute_result"
    }
   ],
   "source": [
    "os.path.exists(\"input.txt\")"
   ]
  },
  {
   "cell_type": "markdown",
   "metadata": {},
   "source": [
    "추가내용)\n",
    "# 함수와 모듈\n"
   ]
  },
  {
   "cell_type": "markdown",
   "metadata": {},
   "source": [
    "## 함수 사용이유\n",
    " - 코드 재사용\n",
    " - 절차적 분해\n",
    " \n",
    " 함수는 정의와 호출로 나누어진다\n",
    "\n",
    " "
   ]
  },
  {
   "cell_type": "markdown",
   "metadata": {},
   "source": [
    "len() 구현하기"
   ]
  },
  {
   "cell_type": "code",
   "execution_count": 102,
   "metadata": {},
   "outputs": [
    {
     "name": "stdout",
     "output_type": "stream",
     "text": [
      "6 11\n",
      "6 11\n"
     ]
    }
   ],
   "source": [
    "def my_len(data):\n",
    "    length = 0\n",
    "    for x in data:\n",
    "        length += 1\n",
    "    return length\n",
    "    \n",
    "a = [5,5,6,7,8,3]\n",
    "b = 'I am a boy.'\n",
    "print(len(a), len(b))\n",
    "print(my_len(a), my_len(b))"
   ]
  },
  {
   "cell_type": "markdown",
   "metadata": {},
   "source": [
    "return 은 콤마를 통해 여러개 return 이 가능하다\\\n",
    "반환값이 없다면 None을 반환한다\\\n",
    "하지만 이건 내부적으로 tuple 형태로 반환하여 디패킹해주는 것이다"
   ]
  },
  {
   "cell_type": "code",
   "execution_count": 103,
   "metadata": {},
   "outputs": [
    {
     "name": "stdout",
     "output_type": "stream",
     "text": [
      "Hello\n",
      "None\n"
     ]
    }
   ],
   "source": [
    "def say():\n",
    "    print(\"Hello\")\n",
    "    \n",
    "a=say()\n",
    "print(a)"
   ]
  },
  {
   "cell_type": "markdown",
   "metadata": {},
   "source": [
    "## 매개변수 (Parameter)"
   ]
  },
  {
   "cell_type": "code",
   "execution_count": 104,
   "metadata": {},
   "outputs": [
    {
     "name": "stdout",
     "output_type": "stream",
     "text": [
      "3\n",
      "3\n"
     ]
    }
   ],
   "source": [
    "def add_1(a, b):\n",
    "    result = a + b\n",
    "    return result\n",
    "\n",
    "def add_2():\n",
    "    return 1+2\n",
    "print(add_1(1,2))\n",
    "print(add_2())\n"
   ]
  },
  {
   "cell_type": "markdown",
   "metadata": {},
   "source": [
    "## 연습문제 1\n",
    "add, sub, mul, div 함수 정의해보기\n",
    "\n",
    "python2 에서는 정수 나누기시에 정수로 나옴\\\n",
    "python3 에서는 정수 나누기해도 소수로 나옴"
   ]
  },
  {
   "cell_type": "code",
   "execution_count": 106,
   "metadata": {},
   "outputs": [
    {
     "name": "stdout",
     "output_type": "stream",
     "text": [
      "3 -1 2 0\n"
     ]
    }
   ],
   "source": [
    "def add(x, y):\n",
    "    return x + y\n",
    "\n",
    "def sub(x, y):\n",
    "    return x - y\n",
    "\n",
    "def mul(x, y):\n",
    "    return x * y\n",
    "\n",
    "def div(x, y):\n",
    "    return int(x / y)\n",
    "\n",
    "a=1\n",
    "b=2\n",
    "c=add(a, b)\n",
    "d=sub(a, b)\n",
    "e=mul(a, b)\n",
    "f=div(a, b)\n",
    "print(c, d, e, f)"
   ]
  },
  {
   "cell_type": "markdown",
   "metadata": {},
   "source": [
    "## 가변 매개변수\n",
    "\n",
    "입력 값(매개변수)이 몇 개인지 모를 경우\\\n",
    "가장 뒤에만 *을 써야함\\\n",
    "하지만 가변 매개변수는 많이 쓰이지 않는다\\\n",
    "리스트, 튜플로 대체가 가능하다"
   ]
  },
  {
   "cell_type": "code",
   "execution_count": 107,
   "metadata": {},
   "outputs": [],
   "source": [
    "def count_even(*n):\n",
    "    cnt = 0\n",
    "    for v in n:\n",
    "        if v%2 == 0:\n",
    "            cnt += 1\n",
    "    return cnt\n",
    "\n",
    "def f1(a, *b) # 정상\n",
    "def f2(a, *b, c) # 에러\n",
    "def f3(*a, *b) #에러"
   ]
  },
  {
   "cell_type": "code",
   "execution_count": 108,
   "metadata": {},
   "outputs": [
    {
     "name": "stdout",
     "output_type": "stream",
     "text": [
      "2\n",
      "2\n"
     ]
    }
   ],
   "source": [
    "def count_even_vv(*n):\n",
    "    cnt = 0\n",
    "    for v in n:\n",
    "        if v%2 == 0:\n",
    "            cnt+=1\n",
    "    return cnt\n",
    "\n",
    "def count_even_list(n):\n",
    "    cnt = 0\n",
    "    for v in n:\n",
    "        if v%2 == 0:\n",
    "            cnt += 1\n",
    "    return cnt\n",
    "\n",
    "cnt_even=count_even_vv(1,2,3,4)\n",
    "cnt_even2=count_even_list([1,2,3,4])\n",
    "print(cnt_even)\n",
    "print(cnt_even2)"
   ]
  },
  {
   "cell_type": "markdown",
   "metadata": {},
   "source": [
    "## 지역변수, 전역변수\n",
    "\n",
    "지역변수 : 함수 안에서 만들어져 함수 안에서만 사용하는 변수\\\n",
    "전역변수 : 함수 밖에서 만들어져 아무데서나 사용할 수 있는 변수(global, 함수 밖)"
   ]
  },
  {
   "cell_type": "code",
   "execution_count": 115,
   "metadata": {},
   "outputs": [
    {
     "name": "stdout",
     "output_type": "stream",
     "text": [
      "51\n"
     ]
    }
   ],
   "source": [
    "def add_value(a,b):\n",
    "    add_res = a + b\n",
    "    return add_res\n",
    "# print(add_res) 에러발생\n",
    "\n",
    "x=1\n",
    "def addX(_x):\n",
    "    return x+_x\n",
    "a=50\n",
    "a1 = addX(a)\n",
    "print(a1)"
   ]
  },
  {
   "cell_type": "markdown",
   "metadata": {},
   "source": [
    "## 인스턴스 변수와 클래스 변수\n",
    "\n",
    "보통 class 바로 밑에 변수자리는 보통 클래스 변수의 자리로 사용되며,\\\n",
    "인스턴스 변수는 생성자 내에 self.xxx를 통해 선언한다.\n",
    "하지만 아래와 같은 생성시, Car"
   ]
  },
  {
   "cell_type": "code",
   "execution_count": 127,
   "metadata": {},
   "outputs": [
    {
     "name": "stdout",
     "output_type": "stream",
     "text": [
      "30 0\n",
      "1\n",
      "30 0 0\n"
     ]
    }
   ],
   "source": [
    "class Car:\n",
    "    color=\"\"#인스턴스 변수\n",
    "    speed=0 #인스턴스 변수\n",
    "    count=0 #클래스 변수\n",
    "    \n",
    "    def __init__(self):\n",
    "        self.speed = 0\n",
    "        \n",
    "#변수 선언\n",
    "myCar1, myCar2 = Car(), Car()\n",
    "myCar1.speed=30\n",
    "myCar2.count += 1\n",
    "print(myCar1.speed, Car.count)\n",
    "print(myCar2.count)\n",
    "print(myCar1.speed, myCar1.count, Car.count)"
   ]
  },
  {
   "cell_type": "markdown",
   "metadata": {},
   "source": [
    "## 연습문제 2\n",
    "\n",
    "양의 정수 n을 입력받아 1부터 n까지 곱해주는 factorial 함수를 작성하시오"
   ]
  },
  {
   "cell_type": "code",
   "execution_count": 113,
   "metadata": {},
   "outputs": [
    {
     "data": {
      "text/plain": [
       "1"
      ]
     },
     "execution_count": 113,
     "metadata": {},
     "output_type": "execute_result"
    }
   ],
   "source": [
    "def factorial(n):\n",
    "    answer = 1\n",
    "    for i in range(1,n+1):\n",
    "        answer *= i\n",
    "    return answer\n",
    "\n",
    "factorial(1)"
   ]
  },
  {
   "cell_type": "code",
   "execution_count": null,
   "metadata": {},
   "outputs": [],
   "source": []
  }
 ],
 "metadata": {
  "kernelspec": {
   "display_name": "Python 3",
   "language": "python",
   "name": "python3"
  },
  "language_info": {
   "codemirror_mode": {
    "name": "ipython",
    "version": 3
   },
   "file_extension": ".py",
   "mimetype": "text/x-python",
   "name": "python",
   "nbconvert_exporter": "python",
   "pygments_lexer": "ipython3",
   "version": "3.7.4"
  }
 },
 "nbformat": 4,
 "nbformat_minor": 2
}
