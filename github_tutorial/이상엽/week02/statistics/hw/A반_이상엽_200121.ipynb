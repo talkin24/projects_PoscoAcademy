{
 "cells": [
  {
   "cell_type": "code",
   "execution_count": 1,
   "metadata": {},
   "outputs": [],
   "source": [
    "# 데이터 구성 패키지: Series, DataFrame\n",
    "import pandas as pd\n",
    "\n",
    "# 행렬 연산 패키지\n",
    "import numpy as np\n",
    "\n",
    "# 데이터 시각화 패키지\n",
    "import matplotlib\n",
    "import matplotlib.pyplot as plt\n",
    "\n",
    "# 데이터 시각화(추세 등) 패키지\n",
    "import seaborn as sns\n",
    "\n",
    "# 추검정 및 통계 분석 패키지\n",
    "from scipy import stats\n",
    "import scipy.stats\n",
    "import statsmodels.api as sm\n",
    "from statsmodels.stats.proportion import proportions_ztest\n",
    "\n",
    "# jupyter notebook 내 그래프를 바로 그리기 위한 설정\n",
    "%matplotlib inline"
   ]
  },
  {
   "cell_type": "code",
   "execution_count": 2,
   "metadata": {},
   "outputs": [],
   "source": [
    "# 한글 폰트(맑은 고딕) 적용\n",
    "matplotlib.rc('font', family='Malgun Gothic')"
   ]
  },
  {
   "cell_type": "markdown",
   "metadata": {},
   "source": [
    "## p.41[실습] 정규분포 그리기\n",
    "\n",
    " - 정규분포 이해하기\n",
    "  - Random Data 생성 : n = 100,000, x bar = 30, Standard Deviation = 2.5\n",
    " "
   ]
  },
  {
   "cell_type": "code",
   "execution_count": 3,
   "metadata": {},
   "outputs": [
    {
     "data": {
      "text/plain": [
       "<matplotlib.axes._subplots.AxesSubplot at 0x7f0f10aaac10>"
      ]
     },
     "execution_count": 3,
     "metadata": {},
     "output_type": "execute_result"
    },
    {
     "name": "stderr",
     "output_type": "stream",
     "text": [
      "findfont: Font family ['Malgun Gothic'] not found. Falling back to DejaVu Sans.\n"
     ]
    },
    {
     "data": {
      "image/png": "[encoded data removed]",
      "text/plain": [
       "<Figure size 432x288 with 1 Axes>"
      ]
     },
     "metadata": {
      "needs_background": "light"
     },
     "output_type": "display_data"
    }
   ],
   "source": [
    "# seed 선택을 하여 매번 실행 시 동일한 값이 나오도록 설정\n",
    "np.random.seed(seed = 1234)\n",
    "# 평균: 30, 표준편차: 2.5, 데이터 수: 100000의 정규분포를 따르는 데이터 생성\n",
    "normal = np.random.normal(30, 2.5, 100000)\n",
    "#histogram\n",
    "sns.distplot(normal)"
   ]
  },
  {
   "cell_type": "markdown",
   "metadata": {},
   "source": [
    "정규분포는 수집된 자료의 분포를 근사하는 데에 자주 사용됨.\\\n",
    "이는 중심극한정리에 의해 독립적인 확률변수들의 평균은 정규분포에 가까워지는 성질이 있기 때문이다."
   ]
  },
  {
   "cell_type": "markdown",
   "metadata": {},
   "source": [
    "## p.45[실습] 정규분포 확률계산\n",
    " - 대한민국 남성의 20~30대 키를 측정한 결과, 평균 175cm, 표준편차 5cm 이다.\n",
    " - 나의 키가 180cm 일 경우에 나는 몇 % 범위에 위치할까요?"
   ]
  },
  {
   "cell_type": "code",
   "execution_count": 5,
   "metadata": {},
   "outputs": [
    {
     "name": "stdout",
     "output_type": "stream",
     "text": [
      "키가 180 인 경우 15.9%에 위치합니다.\n"
     ]
    }
   ],
   "source": [
    "# 누적확률 값 계산\n",
    "mu = 175\n",
    "sigma = 5\n",
    "x = 180\n",
    "\n",
    "prob = stats.norm.cdf(x, mu, sigma)\n",
    "print('키가 {0} 인 경우 {1:.1f}%에 위치합니다.'.format(x, (1-prob)*100))"
   ]
  },
  {
   "cell_type": "markdown",
   "metadata": {},
   "source": [
    "- 누적분포함수를 통해 180 까지에 해당되는 범위를 구하고 이를 전체인 1에서 빼주면서 구한다."
   ]
  },
  {
   "cell_type": "markdown",
   "metadata": {},
   "source": [
    "## p.45[실습] 정규분포 확률계산\n",
    " - 어떤 자동차 1리터당 주행거리가 평균 12km, 표준편차가 3km인 정규분포를 이룬다.\n",
    "  - 1) 1리터를 가지고 9km이상 15km 이하를 달릴 확률은 얼마인가요?\n",
    "  - 2) 1리터를 가지고 15km 이상을 달릴 확률은 얼마인가요?\n",
    "  "
   ]
  },
  {
   "cell_type": "code",
   "execution_count": 11,
   "metadata": {},
   "outputs": [
    {
     "name": "stdout",
     "output_type": "stream",
     "text": [
      "1) 9km 이상 15km 이하를 달릴 확률은 68.3%에 해당합니다.\n",
      "2) 15km 이상을 달릴 확률은 15.9%에 해당합니다.\n"
     ]
    }
   ],
   "source": [
    "# 누적확률 값 계산\n",
    "mu = 12\n",
    "sigma = 3\n",
    "x1 = 15\n",
    "prob1 = stats.norm.cdf(x1, mu, sigma)\n",
    "print('1) {0}km 이상 {1}km 이하를 달릴 확률은 {2:.1f}%에 해당합니다.'.format('9', x1, (prob1-0.5)*200))\n",
    "print('2) {0}km 이상을 달릴 확률은 {1:.1f}%에 해당합니다.'.format(x1, (1-prob1)*100))"
   ]
  },
  {
   "cell_type": "markdown",
   "metadata": {},
   "source": [
    "1번의 경우 12km가 평균이므로 한쪽 범위를 구해 2배를 곱하여 구함.\\\n",
    "2번의 경우 15km 이상이므로 15km 까지의 범위를 구해 전체 1에서 빼줌."
   ]
  },
  {
   "cell_type": "markdown",
   "metadata": {},
   "source": [
    "## p.54[실습] 표준정규분포 그리기\n",
    " - Random Data 생성 : n = 100,000, x bar = 0, Standard Deviation = 1\n",
    " "
   ]
  },
  {
   "cell_type": "code",
   "execution_count": 13,
   "metadata": {},
   "outputs": [
    {
     "data": {
      "text/plain": [
       "array([ 0.471, -1.191,  1.433, ...,  0.029, -1.221,  0.384])"
      ]
     },
     "execution_count": 13,
     "metadata": {},
     "output_type": "execute_result"
    },
    {
     "data": {
      "image/png": "[encoded data removed]",
      "text/plain": [
       "<Figure size 432x288 with 1 Axes>"
      ]
     },
     "metadata": {
      "needs_background": "light"
     },
     "output_type": "display_data"
    }
   ],
   "source": [
    "np.random.seed(1234)\n",
    "\n",
    "# 평균:0, 표준편차: 1, 데이터수: 100000\n",
    "normal = np.random.normal(0,1,100000)\n",
    "\n",
    "#histogram\n",
    "sns.distplot(normal)\n",
    "\n",
    "# 데이터 확인\n",
    "normal.round(3)"
   ]
  },
  {
   "cell_type": "markdown",
   "metadata": {},
   "source": [
    "평균이 0이고 표준편차가 1인 정규분포를 표준정규분포라고 하며 정규분포를 Z로 정규화한 것."
   ]
  },
  {
   "cell_type": "markdown",
   "metadata": {},
   "source": [
    "## p.58 [실습] t분포 그리기 연습\n",
    " - Random Data 생성 : n=10,000, degree of freedom = 5\n",
    " - Random Data 생성 : n=10,000, degree of freedom = 50\n"
   ]
  },
  {
   "cell_type": "code",
   "execution_count": 15,
   "metadata": {},
   "outputs": [
    {
     "data": {
      "text/plain": [
       "<matplotlib.axes._subplots.AxesSubplot at 0x7f0f0d032d10>"
      ]
     },
     "execution_count": 15,
     "metadata": {},
     "output_type": "execute_result"
    },
    {
     "data": {
      "image/png": "[encoded data removed]",
      "text/plain": [
       "<Figure size 432x288 with 1 Axes>"
      ]
     },
     "metadata": {
      "needs_background": "light"
     },
     "output_type": "display_data"
    }
   ],
   "source": [
    "np.random.seed(1234)\n",
    "\n",
    "# 자유도: 5, 데이터수 : 10000개의 t 분포를 따르는 데이터 생성\n",
    "t_df05 = np.random.standard_t(df=5, size=10000)\n",
    "sns.distplot(t_df05, fit = stats.norm, kde = False)\n",
    "\n"
   ]
  },
  {
   "cell_type": "code",
   "execution_count": 16,
   "metadata": {},
   "outputs": [
    {
     "data": {
      "text/plain": [
       "<matplotlib.axes._subplots.AxesSubplot at 0x7f0f0bf57ed0>"
      ]
     },
     "execution_count": 16,
     "metadata": {},
     "output_type": "execute_result"
    },
    {
     "data": {
      "image/png": "[encoded data removed]",
      "text/plain": [
       "<Figure size 432x288 with 1 Axes>"
      ]
     },
     "metadata": {
      "needs_background": "light"
     },
     "output_type": "display_data"
    }
   ],
   "source": [
    "# 자유도: 50, 데이터수 : 10000개의 t 분포를 따르는 데이터 생성\n",
    "t_df50 = np.random.standard_t(df=50, size=10000)\n",
    "sns.distplot(t_df50, fit=stats.norm, kde = False)"
   ]
  },
  {
   "cell_type": "markdown",
   "metadata": {},
   "source": [
    " - t-분포는 모평균의 추,검정에서 모표준편차를 모를 때 정규분포 대신 사용됨\n",
    " - t 분포는 정규분포보다 더 넓고 꼬리 부분이 더 평평하지만, 대칭형이며 종모양이라는 점에서 정규분포와 형태가 비슷함.\n",
    " - 표본 크기가 더 적으면 적을수록 분포의 꼬리는 더 평평해 짐"
   ]
  },
  {
   "cell_type": "markdown",
   "metadata": {},
   "source": [
    "## p.60 [실습] t분포\n",
    " - 확률변수 t는 자유도가 100인 t-분포를 따른다.\n",
    " - t 값이 2.0일 때, P(T<=t)을 계산하시오.\n"
   ]
  },
  {
   "cell_type": "code",
   "execution_count": 17,
   "metadata": {},
   "outputs": [
    {
     "name": "stdout",
     "output_type": "stream",
     "text": [
      "P(T<=F):0.976\n"
     ]
    }
   ],
   "source": [
    "t = 2.0\n",
    "df = 100\n",
    "prob = stats.t.cdf(t,df)\n",
    "print(\"P(T<=F):{:.3f}\".format(prob))"
   ]
  },
  {
   "cell_type": "markdown",
   "metadata": {},
   "source": [
    "확률변수 T가 2.0보다 작고 자유도가 100인 t-분포에서 누적분포함수를 이용하여 구할 수 있다."
   ]
  },
  {
   "cell_type": "markdown",
   "metadata": {},
   "source": [
    "## p.64 [실습] 카이제곱 분포\n",
    " - 카이제곱 분포 그리기 연습(자유도 변화에 따른 분포 변화 이해하기)\n",
    " - Random Data 생성 : n = 1000, degree of freedom = 3\n",
    " - Random Data 생성 : n = 1000, degree of freedom = 50"
   ]
  },
  {
   "cell_type": "code",
   "execution_count": 20,
   "metadata": {},
   "outputs": [
    {
     "data": {
      "text/plain": [
       "<matplotlib.axes._subplots.AxesSubplot at 0x7f0f0bd2c6d0>"
      ]
     },
     "execution_count": 20,
     "metadata": {},
     "output_type": "execute_result"
    },
    {
     "data": {
      "image/png": "[encoded data removed]",
      "text/plain": [
       "<Figure size 432x288 with 1 Axes>"
      ]
     },
     "metadata": {
      "needs_background": "light"
     },
     "output_type": "display_data"
    }
   ],
   "source": [
    "# seed 선택을 하여 매번 실행시 동일한 값이 나오도록 설정\n",
    "np.random.seed(seed = 1234)\n",
    "\n",
    "# 자유도: 10, 데이터 수: 1000개의 X^2 분포를 따르는 데이터 생성\n",
    "chisq_df10 = np.random.chisquare(df=10, size=1000)\n",
    "\n",
    "# histogram, fit: 정규분포 선 생성, kde: X^2 분포의 kde 생성 안함\n",
    "sns.distplot(chisq_df10, fit = stats.norm, kde = False)"
   ]
  },
  {
   "cell_type": "code",
   "execution_count": 21,
   "metadata": {},
   "outputs": [
    {
     "data": {
      "text/plain": [
       "<matplotlib.axes._subplots.AxesSubplot at 0x7f0f0be04250>"
      ]
     },
     "execution_count": 21,
     "metadata": {},
     "output_type": "execute_result"
    },
    {
     "data": {
      "image/png": "[encoded data removed]",
      "text/plain": [
       "<Figure size 432x288 with 1 Axes>"
      ]
     },
     "metadata": {
      "needs_background": "light"
     },
     "output_type": "display_data"
    }
   ],
   "source": [
    "# seed 선택을 하여 매번 실행시 동일한 값이 나오도록 설정\n",
    "np.random.seed(seed = 1234)\n",
    "\n",
    "# 자유도: 40, 데이터 수: 1000개의 X^2 분포를 따르는 데이터 생성\n",
    "chisq_df10 = np.random.chisquare(df=40, size=1000)\n",
    "\n",
    "# histogram, fit: 정규분포 선 생성, kde: X^2 분포의 kde 생성 안함\n",
    "sns.distplot(chisq_df10, fit = stats.norm, kde = False)"
   ]
  },
  {
   "cell_type": "markdown",
   "metadata": {},
   "source": [
    "- 카이제곱 분포란 정규분포를 따르는 모집단에서 크기가 n인 표본을 무작위로 반복하여 추출하였을 때, 각 표본에 대해 구한 표본분산들은 카이제곱 분포를 따름.\n",
    "- 한 집단만을 하여 0이하는 없다.\n",
    "- 모집단의 분산 추정\n",
    "- 빈도기반의 분포 또는 형태 적합도 검정에 사용된다."
   ]
  },
  {
   "cell_type": "markdown",
   "metadata": {},
   "source": [
    "## p.66 [실습] 카이제곱 분포\n",
    " - 확률변수 카이제곱은 자유도가 8인 카이제곱분포를 따른다\n",
    " - 카이제곱 값이 3.0일때, P(X<= 카이제곱)을 계산하시오."
   ]
  },
  {
   "cell_type": "code",
   "execution_count": 22,
   "metadata": {},
   "outputs": [
    {
     "name": "stdout",
     "output_type": "stream",
     "text": [
      "P(X<=3.0) : 0.0656\n"
     ]
    }
   ],
   "source": [
    "chisq = 3.0\n",
    "df = 8\n",
    "# 누적확률 값 계산\n",
    "prob = stats.chi2.cdf(chisq, df)\n",
    "print(\"P(X<={0}) : {1:.4f}\".format(chisq, prob))"
   ]
  },
  {
   "cell_type": "markdown",
   "metadata": {},
   "source": [
    "확률변수 X가 카이제곱 값 3.0 보다 작은 경우를 구하기 위해 누적 분포 함수를 활용하여 구한다."
   ]
  },
  {
   "cell_type": "markdown",
   "metadata": {},
   "source": [
    "## p.71[실습] F-분포\n",
    " - F분포 그리기 연습(자유도 변화에 따른 분포 변화 이해하기)\n",
    "  - Random Data 생성 : n=100, numerator degree of freedom = 10, denominator degree of freedom = 10\n",
    "  - Random Data 생성 : n=100, numerator degree of freedom = 10, denominator degree of freedom = 50\n",
    "  "
   ]
  },
  {
   "cell_type": "code",
   "execution_count": 24,
   "metadata": {},
   "outputs": [
    {
     "data": {
      "text/plain": [
       "<matplotlib.axes._subplots.AxesSubplot at 0x7f0f0ba8de50>"
      ]
     },
     "execution_count": 24,
     "metadata": {},
     "output_type": "execute_result"
    },
    {
     "data": {
      "image/png": "[encoded data removed]",
      "text/plain": [
       "<Figure size 432x288 with 1 Axes>"
      ]
     },
     "metadata": {
      "needs_background": "light"
     },
     "output_type": "display_data"
    }
   ],
   "source": [
    "# seed 선택을 하여 매번 실행 시 동일한 값이 나오도록 설정\n",
    "np.random.seed(seed = 1234)\n",
    "\n",
    "# 분자 자유도 10, 분모 자유도: 10\n",
    "# 데이터 수: 100개의 F 분포를 따르는 데이터 생성\n",
    "F_df10_10 = np.random.f(dfnum=10, dfden=10, size=100)\n",
    "\n",
    "# histogram, fit: 정규분포 선 생성, kde: F 분포의 kde 생성 안함\n",
    "sns.distplot(F_df10_10, fit = stats.norm, kde = False)"
   ]
  },
  {
   "cell_type": "code",
   "execution_count": 25,
   "metadata": {},
   "outputs": [
    {
     "data": {
      "text/plain": [
       "<matplotlib.axes._subplots.AxesSubplot at 0x7f0f0ba45350>"
      ]
     },
     "execution_count": 25,
     "metadata": {},
     "output_type": "execute_result"
    },
    {
     "data": {
      "image/png": "[encoded data removed]",
      "text/plain": [
       "<Figure size 432x288 with 1 Axes>"
      ]
     },
     "metadata": {
      "needs_background": "light"
     },
     "output_type": "display_data"
    }
   ],
   "source": [
    "# seed 선택을 하여 매번 실행 시 동일한 값이 나오도록 설정\n",
    "np.random.seed(seed = 1234)\n",
    "\n",
    "# 분자 자유도 10, 분모 자유도: 50\n",
    "# 데이터 수: 1000개의 F 분포를 따르는 데이터 생성\n",
    "F_df10_10 = np.random.f(dfnum=10, dfden=50, size=100)\n",
    "\n",
    "# histogram, fit: 정규분포 선 생성, kde: F 분포의 kde 생성 안함\n",
    "sns.distplot(F_df10_10, fit = stats.norm, kde = False)"
   ]
  },
  {
   "cell_type": "markdown",
   "metadata": {},
   "source": [
    "- 로널드 퓌셔\n",
    "- 분산이 같은 두 정규모집단으로부터 확률표본을 반복하여 독립적으로 추출하여 구한 두 표본분산의 비율들의 표본분포\n",
    "- 두 분포의 분산을 비교하는데 활용\n",
    "- 분산의 비로 구한다."
   ]
  },
  {
   "cell_type": "markdown",
   "metadata": {},
   "source": [
    "## p.73[실습] F-분포\n",
    " - 확률변수 F는 각각 자유도가 10, 100인 F-분포를 따른다.\n",
    " - F 값이 1.5일 때, P( X<= F)을 계산하시오.\n"
   ]
  },
  {
   "cell_type": "code",
   "execution_count": 26,
   "metadata": {},
   "outputs": [
    {
     "name": "stdout",
     "output_type": "stream",
     "text": [
      "P(X<=F): 0.850\n"
     ]
    }
   ],
   "source": [
    "f = 1.5\n",
    "dfnum = 10\n",
    "dfden = 100\n",
    "\n",
    "# 누적확률 값 계산\n",
    "prob = stats.f.cdf(x=f, dfn = dfnum, dfd = dfden)\n",
    "print(\"P(X<=F): {:.3f}\".format(prob))"
   ]
  },
  {
   "cell_type": "markdown",
   "metadata": {},
   "source": [
    "확률변수 X를 1.5이하로 구하기 위해 누적분포함수인 cdf를 활용하여 범위를 구한다."
   ]
  },
  {
   "cell_type": "markdown",
   "metadata": {},
   "source": [
    "## p.77[실습] Weibull 분포\n",
    " - 어떤 제품의 수명시간x 가 형상모수 5.2, 척도모수 2,200 인 와이블 분포를 따른다고 할 때, 이 제품이 적어도 2,500시간 이상 작동할 확률을 구하라.\n",
    " "
   ]
  },
  {
   "cell_type": "code",
   "execution_count": 29,
   "metadata": {},
   "outputs": [
    {
     "name": "stdout",
     "output_type": "stream",
     "text": [
      "P(X<=x): 0.143\n"
     ]
    }
   ],
   "source": [
    "x = 2500X\n",
    "alpha = 5.2\n",
    "beta = 2200\n",
    "\n",
    "# 누적 확률 값 계산\n",
    "prob = stats.weibull_min.cdf(x, alpha, scale=beta)\n",
    "print(\"P(X>=x): {:.3f}\".format(1 - prob))"
   ]
  },
  {
   "cell_type": "markdown",
   "metadata": {},
   "source": [
    " - 와이블분포란? 시간 또는 수명등과 같이 신뢰성과 수명시험 문제에 적용되는 분포도로 지수분포를 보다 일반화시켜, 다양한 확률분포 형태를 모두 나타낼 수 있도록 고안\n",
    "\n",
    "\n",
    " - 확률변수 X를 2500시간 이상의 값으로 구하기 위해 누적분포함수를 활용해 전체인 1에서 뺀다."
   ]
  },
  {
   "cell_type": "markdown",
   "metadata": {},
   "source": [
    "## p.77[실습] 이항분포\n",
    " - 도장공정에서 광택도 불량이 30%나 된다고 함\n",
    " - 5대의 차량을 임의로 선택했을 때 불량대수가 각각 0, 1, 2, 3, 4, 5 대가 나올 확률은 얼마인가요?\n",
    " "
   ]
  },
  {
   "cell_type": "code",
   "execution_count": 30,
   "metadata": {},
   "outputs": [
    {
     "name": "stdout",
     "output_type": "stream",
     "text": [
      "P(X=0) = 0.168\n",
      "P(X=1) = 0.360\n",
      "P(X=2) = 0.309\n",
      "P(X=3) = 0.132\n",
      "P(X=4) = 0.028\n",
      "P(X=5) = 0.002\n"
     ]
    }
   ],
   "source": [
    "n = 5\n",
    "for i in range(n+1):\n",
    "    # 이항분포 Probability Mass Function\n",
    "    prob = stats.binom.pmf(k=i, n=n, p=0.3)\n",
    "    print(\"P(X={0}) = {1:.3f}\".format(i,prob))"
   ]
  },
  {
   "cell_type": "markdown",
   "metadata": {},
   "source": [
    " - 이항분포, 베르누이 실험을 여러 번 시행해 특정한 횟수의 성공/실패, 양품/불량품을 알고자 할때 사용되는 분포\n",
    " - 베르누이 : 상호배타적인 원소로 구성된 실험의 시행\n",
    " \n",
    " - 각각의 경우에 따라 확률변수를 구하기 위해 확률 질량 함수를 이용한다. "
   ]
  },
  {
   "cell_type": "markdown",
   "metadata": {},
   "source": [
    "## p.87[실습] 포아송분포\n",
    " - 한 상점에는 평균 1시간에 3명씩 포아송분포로 손님이 도착한다.\n",
    " - 이 때 10시에서 11시 사이에 다음이 발생할 확률을 구하시오.\n",
    "  - 1) 2명의 손님이 도착\n",
    "  - 2) 1명 이하의 손님이 도착\n",
    "  - 3) 3명 이상의 손님이 도착\n",
    "  "
   ]
  },
  {
   "cell_type": "code",
   "execution_count": 32,
   "metadata": {},
   "outputs": [
    {
     "name": "stdout",
     "output_type": "stream",
     "text": [
      "1) 2명의 손님이 도착하는 확률 : 22.4\n",
      "2) 1명 이하의 손님이 도착하는 확률 : 19.9\n",
      "3) 3명 이상의 손님이 도착하는 확률 : 57.7\n"
     ]
    }
   ],
   "source": [
    "# 평균\n",
    "mu = 3\n",
    "# 시간당 2명의 손님이 도착하는 경우\n",
    "prob = stats.poisson.pmf(2,mu)\n",
    "# 시간당 1명 이하의 손님이 도착하는 경우\n",
    "cdf_prob = stats.poisson.cdf(1,mu)\n",
    "# 시간당 3명 이상의 손님이 도착하는 경우\n",
    "cdf2_prob = 1 - stats.poisson.cdf(2,mu)\n",
    "\n",
    "print('1) {0}명의 손님이 도착하는 확률 : {1:.1f}'.format(2, prob*100))\n",
    "print('2) {0}명 이하의 손님이 도착하는 확률 : {1:.1f}'.format(1, cdf_prob*100))\n",
    "print('3) {0}명 이상의 손님이 도착하는 확률 : {1:.1f}'.format(3, cdf2_prob*100))"
   ]
  },
  {
   "cell_type": "markdown",
   "metadata": {},
   "source": [
    " - 포아송분포란? 일정한 시간 또는 일정한 공간에서 발생하는 성공횟수에 대한 이산확률분포이며 일정 시간/공간에서의 사건 발생 확률을 예측하는데 쓰인다.\n",
    " \n",
    " - 2명이라고 정해진 경우 확률 질량 함수를 이용하여 접근하여 구한다.\n",
    " - 1명 이하, 3명 이상의 손님이 도착하는 경우는 누적 분포 함수를 활용하여 범위를 구하여 구한다."
   ]
  },
  {
   "cell_type": "code",
   "execution_count": null,
   "metadata": {},
   "outputs": [],
   "source": []
  }
 ],
 "metadata": {
  "kernelspec": {
   "display_name": "Python 3",
   "language": "python",
   "name": "python3"
  },
  "language_info": {
   "codemirror_mode": {
    "name": "ipython",
    "version": 3
   },
   "file_extension": ".py",
   "mimetype": "text/x-python",
   "name": "python",
   "nbconvert_exporter": "python",
   "pygments_lexer": "ipython3",
   "version": "3.7.4"
  }
 },
 "nbformat": 4,
 "nbformat_minor": 2
}
